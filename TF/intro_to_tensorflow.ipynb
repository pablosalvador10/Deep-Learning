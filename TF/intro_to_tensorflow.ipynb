{
  "nbformat": 4,
  "nbformat_minor": 0,
  "metadata": {
    "kernelspec": {
      "display_name": "Python 3",
      "language": "python",
      "name": "python3"
    },
    "language_info": {
      "codemirror_mode": {
        "name": "ipython",
        "version": 3
      },
      "file_extension": ".py",
      "mimetype": "text/x-python",
      "name": "python",
      "nbconvert_exporter": "python",
      "pygments_lexer": "ipython3",
      "version": "3.6.5"
    },
    "colab": {
      "name": "intro_to_tensorflow.ipynb",
      "provenance": [],
      "include_colab_link": true
    }
  },
  "cells": [
    {
      "cell_type": "markdown",
      "metadata": {
        "id": "view-in-github",
        "colab_type": "text"
      },
      "source": [
        "<a href=\"https://colab.research.google.com/github/pablosalvador10/Deep-Learning/blob/master/TF/intro_to_tensorflow.ipynb\" target=\"_parent\"><img src=\"https://colab.research.google.com/assets/colab-badge.svg\" alt=\"Open In Colab\"/></a>"
      ]
    },
    {
      "cell_type": "code",
      "metadata": {
        "id": "KyguBHIIgCW4",
        "colab_type": "code",
        "colab": {
          "base_uri": "https://localhost:8080/",
          "height": 35
        },
        "outputId": "e46b8469-4543-4a80-adee-2db024cae4aa"
      },
      "source": [
        "# set tf 1.x for colab\n",
        "%tensorflow_version 1.x"
      ],
      "execution_count": 1,
      "outputs": [
        {
          "output_type": "stream",
          "text": [
            "TensorFlow 1.x selected.\n"
          ],
          "name": "stdout"
        }
      ]
    },
    {
      "cell_type": "code",
      "metadata": {
        "id": "NEex4gMliu4n",
        "colab_type": "code",
        "colab": {
          "base_uri": "https://localhost:8080/",
          "height": 235
        },
        "outputId": "64b91cc1-440a-4329-f1e0-a98ff76f6599"
      },
      "source": [
        "! shred -u setup_google_colab.py\n",
        "! wget https://raw.githubusercontent.com/hse-aml/intro-to-dl/master/setup_google_colab.py -O setup_google_colab.py\n",
        "import setup_google_colab"
      ],
      "execution_count": 3,
      "outputs": [
        {
          "output_type": "stream",
          "text": [
            "shred: setup_google_colab.py: failed to open for writing: No such file or directory\n",
            "--2020-07-02 17:27:17--  https://raw.githubusercontent.com/hse-aml/intro-to-dl/master/setup_google_colab.py\n",
            "Resolving raw.githubusercontent.com (raw.githubusercontent.com)... 151.101.0.133, 151.101.64.133, 151.101.128.133, ...\n",
            "Connecting to raw.githubusercontent.com (raw.githubusercontent.com)|151.101.0.133|:443... connected.\n",
            "HTTP request sent, awaiting response... 200 OK\n",
            "Length: 3636 (3.6K) [text/plain]\n",
            "Saving to: ‘setup_google_colab.py’\n",
            "\n",
            "setup_google_colab. 100%[===================>]   3.55K  --.-KB/s    in 0s      \n",
            "\n",
            "2020-07-02 17:27:17 (49.3 MB/s) - ‘setup_google_colab.py’ saved [3636/3636]\n",
            "\n"
          ],
          "name": "stdout"
        }
      ]
    },
    {
      "cell_type": "code",
      "metadata": {
        "id": "18Q3n5MUkYNV",
        "colab_type": "code",
        "colab": {
          "base_uri": "https://localhost:8080/",
          "height": 126
        },
        "outputId": "85524ba3-16d7-400a-e481-2164a4532f60"
      },
      "source": [
        "setup_google_colab.setup_week2()"
      ],
      "execution_count": 4,
      "outputs": [
        {
          "output_type": "stream",
          "text": [
            "**************************************************\n",
            "inception_v3_weights_tf_dim_ordering_tf_kernels_notop.h5\n",
            "**************************************************\n",
            "cifar-10-batches-py.tar.gz\n",
            "**************************************************\n",
            "mnist.npz\n"
          ],
          "name": "stdout"
        }
      ]
    },
    {
      "cell_type": "code",
      "metadata": {
        "id": "d53V5noskeGj",
        "colab_type": "code",
        "colab": {
          "base_uri": "https://localhost:8080/",
          "height": 54
        },
        "outputId": "0544864a-6f7a-4579-be25-295967c1f2d3"
      },
      "source": [
        "! nvidia-smi"
      ],
      "execution_count": 6,
      "outputs": [
        {
          "output_type": "stream",
          "text": [
            "NVIDIA-SMI has failed because it couldn't communicate with the NVIDIA driver. Make sure that the latest NVIDIA driver is installed and running.\n",
            "\n"
          ],
          "name": "stdout"
        }
      ]
    },
    {
      "cell_type": "markdown",
      "metadata": {
        "id": "f46JajR7gCW-",
        "colab_type": "text"
      },
      "source": [
        "# Intro to TensorFlow\n",
        "\n",
        "This notebook covers the basics of TF and shows you an animation with gradient descent trajectory.\n",
        "<img src=\"images/gradient_descent.png\" style=\"width:50%\">"
      ]
    },
    {
      "cell_type": "markdown",
      "metadata": {
        "id": "zrnVOgHcgCW_",
        "colab_type": "text"
      },
      "source": [
        "# TensorBoard"
      ]
    },
    {
      "cell_type": "markdown",
      "metadata": {
        "id": "qW5w0jmCgCXA",
        "colab_type": "text"
      },
      "source": [
        "**Plase note that if you are running on the Coursera platform, you won't be able to access the tensorboard instance due to the network setup there.**\n",
        "\n",
        "Run `tensorboard --logdir=./tensorboard_logs --port=7007` in bash.\n",
        "\n",
        "If you run the notebook locally, you should be able to access TensorBoard on http://127.0.0.1:7007/"
      ]
    },
    {
      "cell_type": "code",
      "metadata": {
        "id": "wahFw09ygCXB",
        "colab_type": "code",
        "colab": {
          "base_uri": "https://localhost:8080/",
          "height": 272
        },
        "outputId": "f31da79a-561b-4fc8-e79a-253a95224dcd"
      },
      "source": [
        "import tensorflow as tf\n",
        "import sys\n",
        "sys.path.append(\"../..\")\n",
        "from keras_utils import reset_tf_session\n",
        "s = reset_tf_session()\n",
        "print(\"We're using TF\", tf.__version__)"
      ],
      "execution_count": 7,
      "outputs": [
        {
          "output_type": "stream",
          "text": [
            "WARNING:tensorflow:From /content/keras_utils.py:68: The name tf.get_default_session is deprecated. Please use tf.compat.v1.get_default_session instead.\n",
            "\n",
            "WARNING:tensorflow:From /usr/local/lib/python3.6/dist-packages/keras/backend/tensorflow_backend.py:79: The name tf.reset_default_graph is deprecated. Please use tf.compat.v1.reset_default_graph instead.\n",
            "\n",
            "WARNING:tensorflow:From /usr/local/lib/python3.6/dist-packages/keras/backend/tensorflow_backend.py:82: The name tf.placeholder is deprecated. Please use tf.compat.v1.placeholder instead.\n",
            "\n",
            "WARNING:tensorflow:From /usr/local/lib/python3.6/dist-packages/keras/backend/tensorflow_backend.py:84: The name tf.get_default_graph is deprecated. Please use tf.compat.v1.get_default_graph instead.\n",
            "\n",
            "WARNING:tensorflow:From /content/keras_utils.py:75: The name tf.ConfigProto is deprecated. Please use tf.compat.v1.ConfigProto instead.\n",
            "\n",
            "WARNING:tensorflow:From /content/keras_utils.py:77: The name tf.InteractiveSession is deprecated. Please use tf.compat.v1.InteractiveSession instead.\n",
            "\n"
          ],
          "name": "stdout"
        },
        {
          "output_type": "stream",
          "text": [
            "Using TensorFlow backend.\n"
          ],
          "name": "stderr"
        },
        {
          "output_type": "stream",
          "text": [
            "We're using TF 1.15.2\n"
          ],
          "name": "stdout"
        }
      ]
    },
    {
      "cell_type": "markdown",
      "metadata": {
        "id": "ckS4OaY7gCXH",
        "colab_type": "text"
      },
      "source": [
        "# Warming up\n",
        "For starters, let's implement a python function that computes the sum of squares of numbers from 0 to N-1."
      ]
    },
    {
      "cell_type": "code",
      "metadata": {
        "id": "H5mF9lopgCXI",
        "colab_type": "code",
        "colab": {}
      },
      "source": [
        "import numpy as np\n",
        "\n",
        "def sum_python(N):\n",
        "    return np.sum(np.arange(N)**2)"
      ],
      "execution_count": 8,
      "outputs": []
    },
    {
      "cell_type": "code",
      "metadata": {
        "id": "Y_1CP9NYgCXL",
        "colab_type": "code",
        "colab": {
          "base_uri": "https://localhost:8080/",
          "height": 72
        },
        "outputId": "85b2bb8b-f283-4b62-d721-8f9d2b6a2c38"
      },
      "source": [
        "%%time\n",
        "sum_python(10**5)"
      ],
      "execution_count": 9,
      "outputs": [
        {
          "output_type": "stream",
          "text": [
            "CPU times: user 1.36 ms, sys: 800 µs, total: 2.16 ms\n",
            "Wall time: 6.38 ms\n"
          ],
          "name": "stdout"
        },
        {
          "output_type": "execute_result",
          "data": {
            "text/plain": [
              "333328333350000"
            ]
          },
          "metadata": {
            "tags": []
          },
          "execution_count": 9
        }
      ]
    },
    {
      "cell_type": "markdown",
      "metadata": {
        "id": "8AAbWgswgCXQ",
        "colab_type": "text"
      },
      "source": [
        "# Tensoflow teaser\n",
        "\n",
        "Doing the very same thing"
      ]
    },
    {
      "cell_type": "code",
      "metadata": {
        "id": "WFJCPCH_gCXR",
        "colab_type": "code",
        "colab": {}
      },
      "source": [
        "# An integer parameter\n",
        "N = tf.placeholder('int64', name=\"input_to_your_function\")\n",
        "\n",
        "# A recipe on how to produce the same result\n",
        "result = tf.reduce_sum(tf.range(N)**2)"
      ],
      "execution_count": 10,
      "outputs": []
    },
    {
      "cell_type": "code",
      "metadata": {
        "id": "imLZeN5fgCXY",
        "colab_type": "code",
        "colab": {
          "base_uri": "https://localhost:8080/",
          "height": 35
        },
        "outputId": "8e02478b-46af-4567-85f2-dbd06125ba48"
      },
      "source": [
        "# just a graph definition\n",
        "result"
      ],
      "execution_count": 11,
      "outputs": [
        {
          "output_type": "execute_result",
          "data": {
            "text/plain": [
              "<tf.Tensor 'Sum:0' shape=() dtype=int64>"
            ]
          },
          "metadata": {
            "tags": []
          },
          "execution_count": 11
        }
      ]
    },
    {
      "cell_type": "code",
      "metadata": {
        "id": "Y6JUPZ6KgCXf",
        "colab_type": "code",
        "colab": {
          "base_uri": "https://localhost:8080/",
          "height": 72
        },
        "outputId": "b7120adb-5ccf-4ebc-bce5-6a653853b5ce"
      },
      "source": [
        "%%time\n",
        "# actually executing\n",
        "result.eval({N: 10**5})"
      ],
      "execution_count": 12,
      "outputs": [
        {
          "output_type": "stream",
          "text": [
            "CPU times: user 8.06 ms, sys: 3.03 ms, total: 11.1 ms\n",
            "Wall time: 96.3 ms\n"
          ],
          "name": "stdout"
        },
        {
          "output_type": "execute_result",
          "data": {
            "text/plain": [
              "333328333350000"
            ]
          },
          "metadata": {
            "tags": []
          },
          "execution_count": 12
        }
      ]
    },
    {
      "cell_type": "code",
      "metadata": {
        "id": "X0FXyiS6gCXl",
        "colab_type": "code",
        "colab": {}
      },
      "source": [
        "# logger for tensorboard\n",
        "writer = tf.summary.FileWriter(\"tensorboard_logs\", graph=s.graph)"
      ],
      "execution_count": 13,
      "outputs": []
    },
    {
      "cell_type": "markdown",
      "metadata": {
        "id": "Gz8cvqnqgCXo",
        "colab_type": "text"
      },
      "source": [
        "# How does it work?\n",
        "1. Define placeholders where you'll send inputs\n",
        "2. Make a symbolic graph: a recipe for mathematical transformation of those placeholders\n",
        "3. Compute outputs of your graph with particular values for each placeholder\n",
        "  * `output.eval({placeholder: value})`\n",
        "  * `s.run(output, {placeholder: value})`\n",
        "\n",
        "So far there are two main entities: \"placeholder\" and \"transformation\" (operation output)\n",
        "* Both can be numbers, vectors, matrices, tensors, etc.\n",
        "* Both can be int32/64, floats, booleans (uint8) of various size.\n",
        "\n",
        "* You can define new transformations as an arbitrary operation on placeholders and other transformations\n",
        " * `tf.reduce_sum(tf.arange(N)**2)` are 3 sequential transformations of placeholder `N`\n",
        " * There's a tensorflow symbolic version for every numpy function\n",
        "   * `a+b, a/b, a**b, ...` behave just like in numpy\n",
        "   * `np.mean` -> `tf.reduce_mean`\n",
        "   * `np.arange` -> `tf.range`\n",
        "   * `np.cumsum` -> `tf.cumsum`\n",
        "   * If you can't find the operation you need, see the [docs](https://www.tensorflow.org/versions/r1.3/api_docs/python).\n",
        "   \n",
        "`tf.contrib` has many high-level features, may be worth a look."
      ]
    },
    {
      "cell_type": "code",
      "metadata": {
        "id": "iaNX08RLgCXp",
        "colab_type": "code",
        "colab": {}
      },
      "source": [
        "with tf.name_scope(\"Placeholders_examples\"):\n",
        "    # Default placeholder that can be arbitrary float32\n",
        "    # scalar, vertor, matrix, etc.\n",
        "    arbitrary_input = tf.placeholder('float32')\n",
        "\n",
        "    # Input vector of arbitrary length\n",
        "    input_vector = tf.placeholder('float32', shape=(None,))\n",
        "\n",
        "    # Input vector that _must_ have 10 elements and integer type\n",
        "    fixed_vector = tf.placeholder('int32', shape=(10,))\n",
        "\n",
        "    # Matrix of arbitrary n_rows and 15 columns\n",
        "    # (e.g. a minibatch of your data table)\n",
        "    input_matrix = tf.placeholder('float32', shape=(None, 15))\n",
        "    \n",
        "    # You can generally use None whenever you don't need a specific shape\n",
        "    input1 = tf.placeholder('float64', shape=(None, 100, None))\n",
        "    input2 = tf.placeholder('int32', shape=(None, None, 3, 224, 224))\n",
        "\n",
        "    # elementwise multiplication\n",
        "    double_the_vector = input_vector*2\n",
        "\n",
        "    # elementwise cosine\n",
        "    elementwise_cosine = tf.cos(input_vector)\n",
        "\n",
        "    # difference between squared vector and vector itself plus one\n",
        "    vector_squares = input_vector**2 - input_vector + 1"
      ],
      "execution_count": 14,
      "outputs": []
    },
    {
      "cell_type": "code",
      "metadata": {
        "id": "L_xllx0zgCXv",
        "colab_type": "code",
        "colab": {}
      },
      "source": [
        "my_vector =  tf.placeholder('float32', shape=(None,), name=\"VECTOR_1\")\n",
        "my_vector2 = tf.placeholder('float32', shape=(None,))\n",
        "my_transformation = my_vector * my_vector2 / (tf.sin(my_vector) + 1)"
      ],
      "execution_count": 15,
      "outputs": []
    },
    {
      "cell_type": "code",
      "metadata": {
        "id": "d5IJcTzygCX0",
        "colab_type": "code",
        "colab": {
          "base_uri": "https://localhost:8080/",
          "height": 35
        },
        "outputId": "18865039-73cd-4177-b576-d1f86d3ef659"
      },
      "source": [
        "print(my_transformation)"
      ],
      "execution_count": 16,
      "outputs": [
        {
          "output_type": "stream",
          "text": [
            "Tensor(\"truediv:0\", shape=(?,), dtype=float32)\n"
          ],
          "name": "stdout"
        }
      ]
    },
    {
      "cell_type": "code",
      "metadata": {
        "id": "Bp6rbW4TgCX6",
        "colab_type": "code",
        "colab": {
          "base_uri": "https://localhost:8080/",
          "height": 72
        },
        "outputId": "c572d91d-3e54-454d-a53d-db92a55f6a51"
      },
      "source": [
        "dummy = np.arange(5).astype('float32')\n",
        "print(dummy)\n",
        "my_transformation.eval({my_vector: dummy, my_vector2: dummy[::-1]})"
      ],
      "execution_count": 17,
      "outputs": [
        {
          "output_type": "stream",
          "text": [
            "[0. 1. 2. 3. 4.]\n"
          ],
          "name": "stdout"
        },
        {
          "output_type": "execute_result",
          "data": {
            "text/plain": [
              "array([0.       , 1.6291324, 2.0950115, 2.6289961, 0.       ],\n",
              "      dtype=float32)"
            ]
          },
          "metadata": {
            "tags": []
          },
          "execution_count": 17
        }
      ]
    },
    {
      "cell_type": "code",
      "metadata": {
        "id": "GQ60kz0FgCX9",
        "colab_type": "code",
        "colab": {}
      },
      "source": [
        "writer.add_graph(my_transformation.graph)\n",
        "writer.flush()"
      ],
      "execution_count": 18,
      "outputs": []
    },
    {
      "cell_type": "markdown",
      "metadata": {
        "id": "4bvY-33YgCYA",
        "colab_type": "text"
      },
      "source": [
        "TensorBoard allows writing scalars, images, audio, histogram. You can read more on tensorboard usage [here](https://www.tensorflow.org/get_started/graph_viz)."
      ]
    },
    {
      "cell_type": "markdown",
      "metadata": {
        "id": "l8RyfS66gCYB",
        "colab_type": "text"
      },
      "source": [
        "# Summary\n",
        "* Tensorflow is based on computation graphs\n",
        "* A graph consists of placeholders and transformations"
      ]
    },
    {
      "cell_type": "markdown",
      "metadata": {
        "id": "1XOk6MlygCYB",
        "colab_type": "text"
      },
      "source": [
        "# Loss function: Mean Squared Error\n",
        "\n",
        "Loss function must be a part of the graph as well, so that we can do backpropagation."
      ]
    },
    {
      "cell_type": "code",
      "metadata": {
        "id": "pGLIjImkgCYC",
        "colab_type": "code",
        "colab": {}
      },
      "source": [
        "with tf.name_scope(\"MSE\"):\n",
        "    y_true = tf.placeholder(\"float32\", shape=(None,), name=\"y_true\")\n",
        "    y_predicted = tf.placeholder(\"float32\", shape=(None,), name=\"y_predicted\")\n",
        "    # Implement MSE(y_true, y_predicted), use tf.reduce_mean(...)\n",
        "    mse = tf.reduce_mean(tf.squared_difference(y_true, y_predicted))\n",
        "\n",
        "def compute_mse(vector1, vector2):\n",
        "    return mse.eval({y_true: vector1, y_predicted: vector2})"
      ],
      "execution_count": 22,
      "outputs": []
    },
    {
      "cell_type": "code",
      "metadata": {
        "id": "LUNjDkY2gCYG",
        "colab_type": "code",
        "colab": {}
      },
      "source": [
        "writer.add_graph(mse.graph)\n",
        "writer.flush()"
      ],
      "execution_count": 23,
      "outputs": []
    },
    {
      "cell_type": "code",
      "metadata": {
        "id": "cApPbIxhgCYK",
        "colab_type": "code",
        "colab": {}
      },
      "source": [
        "# Rigorous local testing of MSE implementation\n",
        "import sklearn.metrics\n",
        "for n in [1, 5, 10, 10**3]:\n",
        "    elems = [np.arange(n), np.arange(n, 0, -1), np.zeros(n),\n",
        "             np.ones(n), np.random.random(n), np.random.randint(100, size=n)]\n",
        "    for el in elems:\n",
        "        for el_2 in elems:\n",
        "            true_mse = np.array(sklearn.metrics.mean_squared_error(el, el_2))\n",
        "            my_mse = compute_mse(el, el_2)\n",
        "            if not np.allclose(true_mse, my_mse):\n",
        "                print('mse(%s,%s)' % (el, el_2))\n",
        "                print(\"should be: %f, but your function returned %f\" % (true_mse, my_mse))\n",
        "                raise ValueError('Wrong result')"
      ],
      "execution_count": 25,
      "outputs": []
    },
    {
      "cell_type": "markdown",
      "metadata": {
        "id": "UjPQO4dYgCYQ",
        "colab_type": "text"
      },
      "source": [
        "# Variables\n",
        "\n",
        "Placeholder and transformation values are not stored in the graph once the execution is finished. This isn't too comfortable if you want your model to have parameters (e.g. network weights) that are always present, but can change their value over time.\n",
        "\n",
        "Tensorflow solves this with `tf.Variable` objects.\n",
        "* You can assign variable a value at any time in your graph\n",
        "* Unlike placeholders, there's no need to explicitly pass values to variables when `s.run(...)`-ing\n",
        "* You can use variables the same way you use transformations \n",
        " "
      ]
    },
    {
      "cell_type": "code",
      "metadata": {
        "id": "Fj-XOkMugCYR",
        "colab_type": "code",
        "colab": {}
      },
      "source": [
        "# Creating a shared variable\n",
        "shared_vector_1 = tf.Variable(initial_value=np.ones(5),\n",
        "                              name=\"example_variable\")"
      ],
      "execution_count": 26,
      "outputs": []
    },
    {
      "cell_type": "code",
      "metadata": {
        "id": "GWcseZ6ngCYU",
        "colab_type": "code",
        "colab": {
          "base_uri": "https://localhost:8080/",
          "height": 35
        },
        "outputId": "55df466c-1349-4678-c798-455d69b411c8"
      },
      "source": [
        "# Initialize variable(s) with initial values\n",
        "s.run(tf.global_variables_initializer())\n",
        "\n",
        "# Evaluating the shared variable\n",
        "print(\"Initial value\", s.run(shared_vector_1))"
      ],
      "execution_count": 27,
      "outputs": [
        {
          "output_type": "stream",
          "text": [
            "Initial value [1. 1. 1. 1. 1.]\n"
          ],
          "name": "stdout"
        }
      ]
    },
    {
      "cell_type": "code",
      "metadata": {
        "id": "UIimJbIXgCYY",
        "colab_type": "code",
        "colab": {
          "base_uri": "https://localhost:8080/",
          "height": 35
        },
        "outputId": "c407f012-6df9-448b-ffd1-a1a2418dc122"
      },
      "source": [
        "# Setting a new value\n",
        "s.run(shared_vector_1.assign(np.arange(5)))\n",
        "\n",
        "# Getting that new value\n",
        "print(\"New value\", s.run(shared_vector_1))"
      ],
      "execution_count": 28,
      "outputs": [
        {
          "output_type": "stream",
          "text": [
            "New value [0. 1. 2. 3. 4.]\n"
          ],
          "name": "stdout"
        }
      ]
    },
    {
      "cell_type": "markdown",
      "metadata": {
        "id": "OaL4fNf4gCYb",
        "colab_type": "text"
      },
      "source": [
        "# tf.gradients - why graphs matter\n",
        "* Tensorflow can compute derivatives and gradients automatically using the computation graph\n",
        "* True to its name it can manage matrix derivatives\n",
        "* Gradients are computed as a product of elementary derivatives via the chain rule:\n",
        "\n",
        "$$ {\\partial f(g(x)) \\over \\partial x} = {\\partial f(g(x)) \\over \\partial g(x)}\\cdot {\\partial g(x) \\over \\partial x} $$\n",
        "\n",
        "It can get you the derivative of any graph as long as it knows how to differentiate elementary operations"
      ]
    },
    {
      "cell_type": "code",
      "metadata": {
        "id": "0STrEBMSgCYb",
        "colab_type": "code",
        "colab": {
          "base_uri": "https://localhost:8080/",
          "height": 72
        },
        "outputId": "a7151897-6fde-42a2-b46f-cdc25e624b51"
      },
      "source": [
        "my_scalar = tf.placeholder('float32')\n",
        "\n",
        "scalar_squared = my_scalar**2\n",
        "\n",
        "# A derivative of scalar_squared by my_scalar\n",
        "derivative = tf.gradients(scalar_squared, [my_scalar, ])"
      ],
      "execution_count": 29,
      "outputs": [
        {
          "output_type": "stream",
          "text": [
            "WARNING:tensorflow:From /tensorflow-1.15.2/python3.6/tensorflow_core/python/ops/math_grad.py:1375: where (from tensorflow.python.ops.array_ops) is deprecated and will be removed in a future version.\n",
            "Instructions for updating:\n",
            "Use tf.where in 2.0, which has the same broadcast rule as np.where\n"
          ],
          "name": "stdout"
        }
      ]
    },
    {
      "cell_type": "code",
      "metadata": {
        "id": "F_bU0W5GgCYh",
        "colab_type": "code",
        "colab": {
          "base_uri": "https://localhost:8080/",
          "height": 35
        },
        "outputId": "0191b8ac-8e66-4c0f-a02f-db8e8f2793e1"
      },
      "source": [
        "derivative"
      ],
      "execution_count": 30,
      "outputs": [
        {
          "output_type": "execute_result",
          "data": {
            "text/plain": [
              "[<tf.Tensor 'gradients/pow_1_grad/Reshape:0' shape=<unknown> dtype=float32>]"
            ]
          },
          "metadata": {
            "tags": []
          },
          "execution_count": 30
        }
      ]
    },
    {
      "cell_type": "code",
      "metadata": {
        "id": "D3BmDv-ZgCYk",
        "colab_type": "code",
        "colab": {
          "base_uri": "https://localhost:8080/",
          "height": 265
        },
        "outputId": "cdc0c594-8a21-4892-ddb1-10d0dee34061"
      },
      "source": [
        "import matplotlib.pyplot as plt\n",
        "%matplotlib inline\n",
        "\n",
        "x = np.linspace(-3, 3)\n",
        "x_squared, x_squared_der = s.run([scalar_squared, derivative[0]],\n",
        "                                 {my_scalar:x})\n",
        "\n",
        "plt.plot(x, x_squared,label=\"$x^2$\")\n",
        "plt.plot(x, x_squared_der, label=r\"$\\frac{dx^2}{dx}$\")\n",
        "plt.legend();"
      ],
      "execution_count": 31,
      "outputs": [
        {
          "output_type": "display_data",
          "data": {
            "image/png": "[encoded data removed]",
            "text/plain": [
              "<Figure size 432x288 with 1 Axes>"
            ]
          },
          "metadata": {
            "tags": [],
            "needs_background": "light"
          }
        }
      ]
    },
    {
      "cell_type": "markdown",
      "metadata": {
        "id": "Bj2L-jn5gCYp",
        "colab_type": "text"
      },
      "source": [
        "# Why that rocks"
      ]
    },
    {
      "cell_type": "code",
      "metadata": {
        "id": "WK5vFjFOgCYq",
        "colab_type": "code",
        "colab": {}
      },
      "source": [
        "my_vector = tf.placeholder('float32', [None])\n",
        "# Compute the gradient of the next weird function over my_scalar and my_vector\n",
        "# Warning! Trying to understand the meaning of that function may result in permanent brain damage\n",
        "weird_psychotic_function = tf.reduce_mean(\n",
        "    (my_vector+my_scalar)**(1+tf.nn.moments(my_vector,[0])[1]) + \n",
        "    1./ tf.atan(my_scalar))/(my_scalar**2 + 1) + 0.01*tf.sin(\n",
        "    2*my_scalar**1.5)*(tf.reduce_sum(my_vector)* my_scalar**2\n",
        "                      )*tf.exp((my_scalar-4)**2)/(\n",
        "    1+tf.exp((my_scalar-4)**2))*(1.-(tf.exp(-(my_scalar-4)**2)\n",
        "                                    )/(1+tf.exp(-(my_scalar-4)**2)))**2\n",
        "\n",
        "der_by_scalar = tf.gradients(weird_psychotic_function, my_scalar)\n",
        "der_by_vector = tf.gradients(weird_psychotic_function, my_vector)"
      ],
      "execution_count": 32,
      "outputs": []
    },
    {
      "cell_type": "code",
      "metadata": {
        "id": "d6dyvHbkgCYw",
        "colab_type": "code",
        "colab": {
          "base_uri": "https://localhost:8080/",
          "height": 265
        },
        "outputId": "77265160-4215-49b3-8276-e97aba2c0437"
      },
      "source": [
        "# Plotting the derivative\n",
        "scalar_space = np.linspace(1, 7, 100)\n",
        "\n",
        "y = [s.run(weird_psychotic_function, {my_scalar:x, my_vector:[1, 2, 3]})\n",
        "     for x in scalar_space]\n",
        "\n",
        "plt.plot(scalar_space, y, label='function')\n",
        "\n",
        "y_der_by_scalar = [s.run(der_by_scalar,\n",
        "                         {my_scalar:x, my_vector:[1, 2, 3]})\n",
        "                   for x in scalar_space]\n",
        "\n",
        "plt.plot(scalar_space, y_der_by_scalar, label='derivative')\n",
        "plt.grid()\n",
        "plt.legend();"
      ],
      "execution_count": 33,
      "outputs": [
        {
          "output_type": "display_data",
          "data": {
            "image/png": "[encoded data removed]",
            "text/plain": [
              "<Figure size 432x288 with 1 Axes>"
            ]
          },
          "metadata": {
            "tags": [],
            "needs_background": "light"
          }
        }
      ]
    },
    {
      "cell_type": "markdown",
      "metadata": {
        "id": "URotbv-qgCY1",
        "colab_type": "text"
      },
      "source": [
        "# Almost done - optimizers\n",
        "\n",
        "While you can perform gradient descent by hand with automatic gradients from above, tensorflow also has some optimization methods implemented for you. Recall momentum & rmsprop?"
      ]
    },
    {
      "cell_type": "code",
      "metadata": {
        "id": "2JgkL5WmgCY1",
        "colab_type": "code",
        "colab": {}
      },
      "source": [
        "y_guess = tf.Variable(np.zeros(2, dtype='float32'))\n",
        "y_true = tf.range(1, 3, dtype='float32')\n",
        "\n",
        "loss = tf.reduce_mean((y_guess - y_true + 0.5*tf.random_normal([2]))**2) \n",
        "\n",
        "step = tf.train.MomentumOptimizer(0.03, 0.5).minimize(loss, var_list=y_guess)"
      ],
      "execution_count": 34,
      "outputs": []
    },
    {
      "cell_type": "markdown",
      "metadata": {
        "id": "Lauk1lNzgCY7",
        "colab_type": "text"
      },
      "source": [
        "Let's draw a trajectory of a gradient descent in 2D"
      ]
    },
    {
      "cell_type": "code",
      "metadata": {
        "id": "RweV_i7agCY8",
        "colab_type": "code",
        "colab": {
          "base_uri": "https://localhost:8080/",
          "height": 269
        },
        "outputId": "3fe27289-2970-492e-cf3e-da180beea7d3"
      },
      "source": [
        "from matplotlib import animation, rc\n",
        "import matplotlib_utils\n",
        "from IPython.display import HTML, display_html\n",
        "\n",
        "# nice figure settings\n",
        "fig, ax = plt.subplots()\n",
        "y_true_value = s.run(y_true)\n",
        "level_x = np.arange(0, 2, 0.02)\n",
        "level_y = np.arange(0, 3, 0.02)\n",
        "X, Y = np.meshgrid(level_x, level_y)\n",
        "Z = (X - y_true_value[0])**2 + (Y - y_true_value[1])**2\n",
        "ax.set_xlim(-0.02, 2)\n",
        "ax.set_ylim(-0.02, 3)\n",
        "s.run(tf.global_variables_initializer())\n",
        "ax.scatter(*s.run(y_true), c='red')\n",
        "contour = ax.contour(X, Y, Z, 10)\n",
        "ax.clabel(contour, inline=1, fontsize=10)\n",
        "line, = ax.plot([], [], lw=2)\n",
        "\n",
        "# start animation with empty trajectory\n",
        "def init():\n",
        "    line.set_data([], [])\n",
        "    return (line,)\n",
        "\n",
        "trajectory = [s.run(y_guess)]\n",
        "\n",
        "# one animation step (make one GD step)\n",
        "def animate(i):\n",
        "    s.run(step)\n",
        "    trajectory.append(s.run(y_guess))\n",
        "    line.set_data(*zip(*trajectory))\n",
        "    return (line,)\n",
        "\n",
        "anim = animation.FuncAnimation(fig, animate, init_func=init,\n",
        "                               frames=100, interval=20, blit=True)"
      ],
      "execution_count": 35,
      "outputs": [
        {
          "output_type": "display_data",
          "data": {
            "image/png": "[encoded data removed]",
            "text/plain": [
              "<Figure size 432x288 with 1 Axes>"
            ]
          },
          "metadata": {
            "tags": [],
            "needs_background": "light"
          }
        }
      ]
    },
    {
      "cell_type": "code",
      "metadata": {
        "id": "KjYpDmWSgCZA",
        "colab_type": "code",
        "colab": {
          "base_uri": "https://localhost:8080/",
          "height": 308
        },
        "outputId": "d14b4188-8ffc-462f-c708-bc4e787eb3a1"
      },
      "source": [
        "try:\n",
        "    display_html(HTML(anim.to_html5_video()))\n",
        "except (RuntimeError, KeyError):\n",
        "    # In case the build-in renderers are unaviable, fall back to\n",
        "    # a custom one, that doesn't require external libraries\n",
        "    anim.save(None, writer=matplotlib_utils.SimpleMovieWriter(0.001))"
      ],
      "execution_count": 36,
      "outputs": [
        {
          "output_type": "display_data",
          "data": {
            "text/html": [
              "<video width=\"432\" height=\"288\" controls autoplay loop>\n",
              "  <source type=\"video/mp4\" src=\"data:video/mp4;base64,AAAAHGZ0eXBNNFYgAAACAGlzb21pc28yYXZjMQAAAAhmcmVlAABOwm1kYXQAAAKuBgX//6rcRem9\n",
              "5tlIt5Ys2CDZI+7veDI2NCAtIGNvcmUgMTUyIHIyODU0IGU5YTU5MDMgLSBILjI2NC9NUEVHLTQg\n",
              "QVZDIGNvZGVjIC0gQ29weWxlZnQgMjAwMy0yMDE3IC0gaHR0cDovL3d3dy52aWRlb2xhbi5vcmcv\n",
              "eDI2NC5odG1sIC0gb3B0aW9uczogY2FiYWM9MSByZWY9MyBkZWJsb2NrPTE6MDowIGFuYWx5c2U9\n",
              "MHgzOjB4MTEzIG1lPWhleCBzdWJtZT03IHBzeT0xIHBzeV9yZD0xLjAwOjAuMDAgbWl4ZWRfcmVm\n",
              "PTEgbWVfcmFuZ2U9MTYgY2hyb21hX21lPTEgdHJlbGxpcz0xIDh4OGRjdD0xIGNxbT0wIGRlYWR6\n",
              "b25lPTIxLDExIGZhc3RfcHNraXA9MSBjaHJvbWFfcXBfb2Zmc2V0PS0yIHRocmVhZHM9MyBsb29r\n",
              "YWhlYWRfdGhyZWFkcz0xIHNsaWNlZF90aHJlYWRzPTAgbnI9MCBkZWNpbWF0ZT0xIGludGVybGFj\n",
              "ZWQ9MCBibHVyYXlfY29tcGF0PTAgY29uc3RyYWluZWRfaW50cmE9MCBiZnJhbWVzPTMgYl9weXJh\n",
              "bWlkPTIgYl9hZGFwdD0xIGJfYmlhcz0wIGRpcmVjdD0xIHdlaWdodGI9MSBvcGVuX2dvcD0wIHdl\n",
              "aWdodHA9MiBrZXlpbnQ9MjUwIGtleWludF9taW49MjUgc2NlbmVjdXQ9NDAgaW50cmFfcmVmcmVz\n",
              "aD0wIHJjX2xvb2thaGVhZD00MCByYz1jcmYgbWJ0cmVlPTEgY3JmPTIzLjAgcWNvbXA9MC42MCBx\n",
              "cG1pbj0wIHFwbWF4PTY5IHFwc3RlcD00IGlwX3JhdGlvPTEuNDAgYXE9MToxLjAwAIAAADH/ZYiE\n",
              "ACv//vZzfAprRzOVLgV292aj5dCS5fsQYPrQAAADAAGq1jzipe3VQKREMzn+ud2GzbOJ43BPcMYj\n",
              "i93Y+Em0ioSb+61aEWEM7dcbRaivTOm4o+VA8ddAAAAFKlUSisUnKcUIhincww6T5PkKpaK19RDU\n",
              "XBPH/pmpmIqHtCYyZf8TZNeLqtLPBRS0zroJvm/0WhHZqHT4sVJ1A0QYyaRH3tm9j8pH6isGYwLm\n",
              "p80b8MFL5upDVMndNVIe0lPtZtq21Dpj84mws4mZKNEZVvfHjNmlvtN2GMNO5l4ylcOc33zCq1wk\n",
              "LPnp9m84I6D4NP3kYl7Qq59cuOH75TPx64OS7N4Z0DPeUwuOKqaVoPrXKk4mlhXQrU6jhfvC6QjJ\n",
              "cQhID7TroGsiNeMxdj8GZGCcPPTtxLa0QEWdQjVZEBd4+mMYwV/aOk2fsfT57cp18uVynvzjd/Eh\n",
              "E81ZKCMtDSiVmpEUsM143oeaGZxPgU5d+UImDim3Kf9X6RiArcbric5Rhm+DjNnncfDklslLzSH4\n",
              "o5ikhdkEjH491aNhpc96SiUcMErPRih5z+TUfhvZSoCJFl+5eJCYjlJ4Gru7LQf7d3M4lHcjjcZP\n",
              "magiNyPja5G+MwpcF5+QwdE1XnMUcOLtFxgWuJbuPlXjjh/48o6kKsls5by4V8xeDWf6a89zSK0n\n",
              "YT4qUZhw1ppSO/Z0rdcf+Pj5fvJI1Qx3b72qFnH9ANCQ5JgTOxcCgR69zhsBlnSI2YRrVse2RzDK\n",
              "btG61oFziQCzb1Zv2CyGFe1F6K7laxnL1rBTNbgIbAIPamqn1dqWqA5U+O9UpQKI6l+RcdvbKlhU\n",
              "N5SLOZj5tAsL75sLJpSiG14HVL+be/bM3Bz2u2iWUKY28dLQkHLejAn9Wp+4N+WDEOrJv6g3S0zJ\n",
              "vJhy227JUNMVISDm58faibtO8S8avxs3/VA65hFNo9zbKnY/cVNd9bsRIDAZE8kGOKzOVJwS423k\n",
              "nkjdG1V17N2S2TBrpNHpQMSqZ40y1lEXepbWzdgHDFA7zrDbDg2dIbp2jo+MbeWlOwYn2e47my8A\n",
              "dv2A8sY/kc1BXtGx+5sWlQs8x6dZZjnamqjjd8JPYNeB59WIQUJRYqYakVfilNBrJaYHEXHrmU4e\n",
              "wCi37Aw6vt0BP0ZxDboAvcGkebH1nDHsFLr2weQOSSQyBn+5xj8oxi7tFAe13LCVZ+5coBc/PWsr\n",
              "QcbmO7B4S5dd3vxBL3baZDsEJligYDRbM1gZO930T2U0v/kYJ3ztOjRw9XrcA7YjNn1kPYJr/bxP\n",
              "amVkcN1B0uYgxMET6367rDt2jeO7ggdQ/aVMQUFSUuWHnVRwufJ9qeskqzufbmIrgUMEQeokz1u5\n",
              "Ac3xCC1wK0m+i6hz9jjDUgm7SseFnjM/skXKVMLodvUQcRABO5KZWFPAhwsm7KqsJfqVIF/Mt+Uu\n",
              "w/8ZwUn23OdZOJiaZLtTCsJWROe4tJdSvHaAJ8R44K/IZWIh/zkUGaKcKsAhwlvaMyhzzJnjyQqE\n",
              "49Xl9si8bEANZ43iJgr6dupi9ZemmXAwnL+I6A0sUQ1i2E7+i1lgjHwhEfT0sN2WkKZpv/ABtR2O\n",
              "0lg5Hm7cl+LPq2IGf3p6su5C0y061d4hXiB0Sz/dsbR8od8n/Ocy0vd9DdOemY+4Ts3IG269/y0o\n",
              "aMSBsXo0m7F2BWfaKOT5AsvR4y5HzM1Fn3PTlRb1MJvtvRWlwyywnLO0FR6Q9dqnFfzbK+LqwtPg\n",
              "g2kAOWpFpyZqquzdxZ5gt8iTwYHIZvSVQF/owfFgP03+Wz4KrIWcvAs8JUj4wDO4L8FVucx/YDSC\n",
              "pC27a837HYaNioOzt1timLBjYBJIsQGiXvOR5Urh88HlVCDxAcB0Kql80DBfeFwLixMwToED/Syi\n",
              "1kDudVLbfPUhItNw2AwaTFgu35tSwEiGA1SFWhZNNCSEsBbHFMTV9BUeclTw0bDkAgu2STlpLgMJ\n",
              "wCH3m1RdBTagkqHvS/ZoxdRdiLr7OS9dxZbCXpPNGmooaB23CrrtXzYrUazlsDRZSh/RrLIyDfBi\n",
              "8vF6quaEq9Yz/pWwoMH/BqB/iS73KwTn15v503d4sIqh1dE8OVfyN4aDoldjWrwKB76T40DaLKVh\n",
              "XDtMmLAgKX1VZ21aYuCw/QQ5ZzTWD8nCHMumHcV94pj9IPXpkgtesLUjcHiZBaNELbPkc2O+qyu/\n",
              "//7KwW1t5MXPsZRWeGLzRm9QomEl5tu7t3JUADTESttZNo+zcqFCVXz29xqr3aXvF/RVelHPYGF/\n",
              "+8DxzBklvrYmAKnaeJbKuizzjZKCfWtWRzkjgYNCX8+1nKwgvDV1FykaUG76ieUggZXft/SgXDts\n",
              "rYNlnO642XSr7IisX3j2tnvpXLPl0SfPCpGVUy+5RkHmjkiEIoQC4pcxTx0lq1Al+GuTPO2+p1PJ\n",
              "hhDB796j4Zo/MfNmt/8tQvIB/QHC7PV0AwegtbaGmWTCMijLaTok5VQFERylQoXt4UhABKirRWZT\n",
              "dLWs83EzNywETwtE2msOsWBXKW1XeuCYccIuNUvKZxCEBoZRL+4DyiWGDoOjP0Wcq5xzfvl2WQVu\n",
              "iBBKosalAJMjgcyg9tRaRvzvd+49SuqyVqaJOECq5L37lIbJbAvenFJbdg/CdFqadUZ0uVBzF2Pl\n",
              "vrXmEij2F8FkE2pqlUqQaEmwo9uOs1miNhjtJoXugV9onVCIAYuZFOg/Ps+W4RvnnmV3kc95AWsl\n",
              "Q+PpENUH2VI70x4b0yLzMR/a0YmWoYvVXPQLHO2ARF5ykoIRTuYzQqfLSArzOnW0AdqeVrsHp43Q\n",
              "2dsataI/v+7ZJALZHyLVWMH/y7r5Ie4PfbbvZEU9hMtBtccoIlHAqj59OB1FrtpHDa+qZ12kI36v\n",
              "pEiYv/SO2FLZv7hZhAOcqzasFjIRP2l7nBxPqiCo0SWbEI1wYSyuzjO5K/NfFsX274XPUSiXrbqO\n",
              "OEavzRnmbUKOIpgxNiKSnhUVzudKW7vxv/D9L+afe7UfQCk3OqDXdRa9qPddZcoZ2fdOmihDD3CB\n",
              "O1IetGbE/Xa/YZ7usqymz63YjGldABtiq0aCIszeu1GtgCGkfajgpAkeSJS3vi0tSQDVL5Lbjc0/\n",
              "s6fusOjN/0g7NtsRyC1xnc70ytGbwUWq5aFGYW6DUbwQCM78ZRN4et4txHxjAmfGgMqcTdGhKiSO\n",
              "GsQmK4gqewaGgtAQYdNLGqhgFp1Gv7rbzC/GB/IchNLw68qA5wP9IerzkiP5ez98zMG9Po4CfAJj\n",
              "7gxnH4b1aoPns+dkErDErL6n5ebvqZwofTNaYmwTllLI08bswjKiWpikuoF8bTDiqeeaye3rDUmS\n",
              "D85Z0ZK81quqfTVt4H7N9Y9Xi0YzecyMYImJmMqfSSFI/PQqUQb6aTl7W9lwCn+j7SfW9L1AXFPS\n",
              "EDvlWEW4o/fiYSHZpoY6MjcG+4B3pjmI5vUfde9UES4MBTKINS8tGjbQ2sVhNjEc9DGC7hv9Vzc4\n",
              "3/PvL1vT1NL9a2do7hyieOPKb181ZLgmLYKbutE5ceXvhYauvp6Y8D1iXisk0Icc4cG+pD4T1Tz0\n",
              "RU2VITijr1wDy+t1oMOD6tpBTicOzrQ9WOV8XcTqjL3bhhu5zwrvOrnVd1onQ66RsuFdYjbNZtmu\n",
              "BH8v15L2F0H+bwX+czeyq0M1h9kVeveCGdnvjqE1PbcsQOnYeLxbA0Z1IoTqwV3hGGJk4emrVqJT\n",
              "Mt9LsyywvucTPiEX81r4RxOJwkCvsaU8SKCjNDcoxsT3iMYf7rpDhq85xPQhHfFMQmzVmanR+uiS\n",
              "Z1qSbevtysks1CJ2MMezVpRlhmHKC6+vLwOvIDrh9njG3IR7gy63RZxRiKeLfi5fZJXvOWvMZw75\n",
              "w5hcYZ/iinxm+7znJsEmOlr+t1g07hD1Q2N/+WcLYOuBETrvmv0TF1A5Zvh8uOiwlWcv2jqE/0/0\n",
              "bWSJ76x9HPaE0Hl0GdHX2TEIrQ//ww5P2oQYSmqINOZqJjxbt9P6NnlvrjFfvn+kvgGNdrjn6QF9\n",
              "yaaNoa0ha8A4eAc2ONCAZah2OI8nOPpaAiyTbthphwk5RzaJlBWk76ajfwTr5HFXLUBbjh2ePeVr\n",
              "Q+tKa+AyS9K6/ZtCJ5jofC3xAhd8BVOBR3cFJOrXGDPoaphHoNRYf8rG/N/ceCQs/+yLrebz4CNK\n",
              "Ix4R6YohVWCqZvjkdcVGP1QIsV2jlaAy3TyxkXHb8ynXO/rMW3O2z5yZJJeaGSUgfJeSAW49/7Sn\n",
              "aqCevLiajTo+TFvd7EBhoHLXROxcYf//1Bzi8cJJFQ9Yjy+7wEwjvOuzFJCfqAgckaCg3uqFyhfp\n",
              "T0K5L+sQp4Oi4mXMyua8PWsBg6hBZcaghWYeNeJ2DxUEah8zaZOYdlISC74tYdJROti9mukJgaEu\n",
              "ayp9oRzMhZSG0Sm1u4SGSnlLMhHT+zG165JUUiBDKoP9qtZIzXOfyA5cLoHYWDJlJ6npV87AnF3S\n",
              "GBWt+rU5CToQSqtze232dKkpyKIH6hsiPMQcpoTylPXTfhChJn/9N38yGJqnMyIu1+0Xh21ulrFf\n",
              "sskSWUyVgnoB1fotgpnoxWVelZfLlhpfk6RDbDeci+OwVFKlkGMX9+620JKhOjb9gSHend+fyE20\n",
              "XU8N09ZxDSjRG3kP3bXqnFTkSpRhKfsuxDGoWfgH9ClbIaQ9KLIYHPDBm6GIEATz09rgEJjfb/nl\n",
              "mNWiM1vS62sp9QGwq+TClgl9DdCQTf/6oMPsCdxq4x0ck4FoVXtrjYO6CzNApZeOVb2Jd1QziEI/\n",
              "lm1VR/92W5Xg1uROzKKQCoCIWAfOw9kp9sNP6+MHxB7IXWE+E/08Aa5K6pTVTWB2Gw65QvlgH97S\n",
              "xpOQj+U/6LwiPtjp/69ny0EUZ378hN6iRbOZebF09pomFWCbKm49DhIqJWPjWzZcGYdsRAHPTcfj\n",
              "t4uNaGI5THsv8faj27caZilWywAFgtN/gB1tVDrU+L0mCc+PBaiErnny/t7WsMohsZO3jMon+V2y\n",
              "BRGac4tEse9AAzmxr5R0pD+6sxVB9h55N1KG8PTp9i5bgDq201JHPuTUmOabHWWb/n5fujdWXazO\n",
              "9l9JLqe3HsuFrYJKICwE9r/exN6ix2HdUd1CZHqeNnGrUFAMIWrRaW/Lv6fVYXwxIGPV1kxQLqls\n",
              "8eyKb2Dap+nMyE9HvNHIPgFw/XYDM0xi8mMuPnmysw2XkVjTcjXaQDfSs938IUS4LIbLPsYGKrgr\n",
              "Wmn6F05XjulLr6CxSdd2ElrZ3F4aHusE3gtFzFG/TwDOr6EiYa0YuZ5j1Y6cDNBlv87WQ0oRb2GZ\n",
              "UtNXB8CKPH/+AAFEN62P5J39yzynSqneK4+0JuFjkRk5lA//iN0e7EuZiPJgYd+odQWZEjhX9Q4i\n",
              "21On4usbI5X8I8Hh6YKz9+xldz/Syfoo9i45ZCiOHmJkhmFtO7R4iJDj3nVG/rib+QEyNmUjT5kW\n",
              "XGc4/aALrrdOPVkgIRlQrVJK+mW1XxJCmHdSCGx2e8kcV65fuM0UAyrAgFkUnQ6ZxWrrcDATH0pY\n",
              "6f73WBoTZjFoB6M0SYMC0QVoMoLaPwxbnGcLsMe1Smw/LrQ9NgyUqOHF2MJUAdRI6amvuRrMn1de\n",
              "frZphrrKpmJIqJyQL1+oGn08DjxMZDQRy+IuH7qeKzuS1wcoEhHnKykU/dUtUDbrNaRgPNM1gIjr\n",
              "Gnxr3Dp+TF8iu8FtkdT6BJR7LWQUBMtA8g4MP/M+jFhYRE5HQR2qtmwqapANT7IfEA5MweLPNEHL\n",
              "gJowiNSQzbJmgZXQPd/Xr1tCZJMTnQosf6DMjyVhqIwC5QTM2I1V4a1mfk3f3FQZah8RVWNINv/t\n",
              "hzp8/VxFZB8KjxSH1wmNt7hmGWGZy4hnqBGTbTC1jjBqhFGC7D+yJwyuXeD6woXSOQ3CF5+a/MTM\n",
              "dpqyiyKhVtYDBs4XTV5UaWfFz1Sl7d0Jwt4cb6Y/mZmZknnE1OENbaeOxZCoKuybMQMo7dWdD3I8\n",
              "II5mamKHIfkhLUZsAXzKF5+/N10we9b/DmXCW9sDHEbjk1r5CZoQmc/mefOHxxDQOLC6nlyNqHgG\n",
              "BRGr9NDtmkg+bEkR7Y/ELAC3/l9X1ayKfUq35GIAX4zJyEkr9TDJfqx94MvTLolk5BABciUsf7hV\n",
              "eif64UCmm2pWrhT9lXMKfoXMcePTEYJcJgIlxHJo9GktslCR4UiUvr0HkBWLZslnF58f7KLpC8Wg\n",
              "u+w3ce0qsnMo9ArH5Pa00tFN19aOdZvp4wuD1I/Kv9CWWNdpgUurT883rgk6aCTLZCz/15g6mJcw\n",
              "LjpxiqccG6rPn7I3wltjHomzy/bPVKk2IwrmznO0Fe/C0aNAwuJBJACSYnSKUSjErmvz/AEzHFXL\n",
              "aWmsjDVFnpGqzgBjVJiPij9HRYn8wnV77JJh1pE40OuI79lToY3iUeLOx1c77unJK6b7ytsDAUUU\n",
              "Hjt1P3deHpIXGIBaisbOF+68JlDwVx+f8hDMBtmWjjHuuuYywFzGMn3M7cvAOaB5DvEV/F+cd+Yf\n",
              "3ELdcngkz8CIbFy8UH9HbJDxDX1Ju6OJJWcXtfghgqOe6/xL+VAjiqetzf2LXBVP/D1afCcrdRC1\n",
              "b23pYUL4vrhsZdn/1DxvrNOER28zqwd70lkMBOcWqKG3IOUkxulhmExgG6Nf2jUkfXyS4FdIuQ9h\n",
              "o8DiqfsiSlkXfGMzm0KH37GJCxefA4RnOQ/PryV4iEZhZR47TNUpuTe4vxD8kBFsiVutbJ6Y4C1N\n",
              "Yzu+Qq+pGSliZT3yGEx3WNXhMQHJFr7Guira0ErOpPwcSqXtg0asr5K4M3Ero73gRk0fJRjrtqLB\n",
              "guhl3bH68h57c8qlbxgd+voT/NQA6L6HETz7fvKT+IwCEp5DUaybsOSrdH3r+GyAnpdYyLfthpe9\n",
              "Oee4CEsPRKDMKDi/hVBqpQRVLroxW/AC+PhOLYZGHs1bAejhREVPNg7PzVUnwRJ4HOcXafuohUKv\n",
              "Cb3TGKfyHUWhUkGMw+Q0ozypqHMpsS+1ojINgjRCC/O72dJQWBa+oSTspJ4RlyjrVy5ImjIQRwfw\n",
              "IF5XcAtOosfSWvnWG3dDQTfkpPja3zyKzZMFaJ0zMXvjw88P5Ew/ylgdnp+F0ec7TUCyfWNP/yHi\n",
              "7+gl59MBzucRTctr8Hqp/mrfI98E43F4f6Sb+Z3PgRYIZRDm7vYQlmklkLeDJWBUoQOJxAd9Q0aq\n",
              "X1CO9NS3hE7vVzBTPQfKq47u0dUk6eTx4GyQm3NBOkkV+5QwmMLYNU4i97Dbrsdve1ml1jA1U3ay\n",
              "S30gAMhIHoEmwNOdQXibISXT5EdLlARoMk/Pwx2Vq6IGmf3KDoRQPxFvzPnYX/5oRkA6FoYX+G4f\n",
              "HkP9EnucO6qe1dMSUwALkbB5SgHsTCSlmrFYciBtyGO4mUbXzSMsmyhIn1u18abHPMeeD87+ELc7\n",
              "Sm5YGLjVhDeSrtdJzT0YsiAdN9Xt7rB+0opQIZBkTU27qWIAcr1JQ7lqo/wYEMw0OGrcxkClJiaV\n",
              "dmloLjm6/zTqmT+NgeOLCZeUebvL8v9z10OVZ+M3zYgSZu5MGz5eKvrMlMjf34kzsEYu6nhBFVJW\n",
              "cDrztMtTdudLBfhyO2EMzcGSo+znk1rHBF5rU61AXiwNbUUEexGPyDK6vxGwpNHBkwQv7Lvny+7z\n",
              "4HpP1R7Wsm9MwSp2WXXbS+avQKvJHyn5kofkjfNZNmgZej7hQoADtdWLBazw1wJbNQHiaj4ZQF7U\n",
              "8dfrwY2mLpr8w0mC+kMYLTaki7BkBD6ZFDeymHOww42N6fGGSi6Q9r53njQsYhVWwx77/XMDMGgr\n",
              "snu6H9WdA8cIoSksyy7KIMYJJCwpO6UnVK/oqtpISd6exPK+oIL3Jw/OAtF7wmYyOUrd0+U6izWn\n",
              "1IZL2f7ABRrXqZAHmTCjFKN25+Sxo8l1eXkzzG69+Ct24p6RcOt7PnPkADY5KLF/6JHLksMaJxSC\n",
              "nHP8evSbs98iH4uEnUNQ7c20HyRKzqftO7N+tH2wTLCuc2CwQgrb7jt2mEaQ4g1zPSn4zY9jN125\n",
              "U/b7mVyHXkIqtSivfrmgrS7B9bG1qZIb9WeB4WE+AC4fN/wcfIntSXCF5SPUPAiMjeVFOgEHoQPV\n",
              "VNRzjDFu23710e6XlIeVJ+d3ItEb73jlOoNsjcebe85vpsD8eBaqvnTRyuXFoRCS3ch8sEvfjsy0\n",
              "HajzDJyYnB3zot29WshAwos7Ok9EozCTL3lF4AIg6bAojLF5JpbaqL1KdcKTD/QEV9mBMNZO12jU\n",
              "/mLcAXfjHH7PQ2vCRXrpGU8CQksn1qw8yxyWoyV49avXJ40OQBbNqU2YDa+HK99N4WaPqBR0TWei\n",
              "+xgNOR+RkV4jAJc+/Rhm1/tAt6A+7CULIKUh53J+mBSk4rrq9ti2Z55cQ4EOSy1nywT63Xctk7zp\n",
              "6Zv5pcpBDC5Lg69ySv5p4qQIGvxeQJnvTBn6s1yhrY1l1ixIzdtoyGjUaQpixtX/wa/ROIXPliL8\n",
              "VWtywdHVXPl8/alSh4KVHUnqRJpeEorqIFu66oXN73VD5L6tSAXLyACfSh/s8fqLR8mCtev+k+bG\n",
              "iIMn8i0Xw9jLKMf+tZDjilnbw09u2WuvFFNA8rLXDPbo1Mi3iHIMMHqSYR6r6kHihznpgqnk/x2w\n",
              "Ym5PfrCuKP/p10jfaQ8zmQVp3VYBFl3ByVwI8JEopakyXLufq+IjzHgEw2IILi3kB+T4y7AE83W0\n",
              "tBmzit+oXahP7vH+ZgBD8Ebd19bmKIzpz4ZD+PlwGduzdUxfH6X4ig0GoVPXxrDtXUtLAFG03+uD\n",
              "7X2IXtOynxj9UDQll5OwcfMYG7FlW5LHUZlqvbfsGlJvjV3oxW8rgsXosxpBSd88VOMiJ/9f9YKG\n",
              "0wVFFm/b99WwUMTgG0YDRPVsBO4oFEkTSqJMl+HmyFWogb93UKVQ2PnlGiOFASRGW5AKMXzsm1sD\n",
              "ba5BcvguSpHGwbrSV7MU8qzZ3htnlC5WLEcNhYTh36Yb7/gW8fx925vCr69kLeGAAIfMl0QU29a5\n",
              "Rdmnsd54ee9SczPuhvSO0t5Yl+6i2FO3r172SM2lF0Cmocxt5eoA1Z/a2lg+h4WLPGfGwGsUQ0PC\n",
              "syp9X4fngwHXKea1oDHtB3PaMW4lFHjap65oG2S2fd1xaoEcXjhV+rErqviGRlfJKM25+rBCFZzo\n",
              "sXcHTeUfNRwVXQmNSvZefCjgw749w0XtRgvEeo2+//TKpXaH9FcG7EQM7L+Dn5ufHr729ZJ0WI/t\n",
              "YZvt0Qjz3JCa/DiUZ9OOyW/B0E73le/Xk9DAKsyqDmQYbjQ2MJjlnyl/uOzGZXaKm+7srD97ApOb\n",
              "yrU08+fC8rh+To/5hsX/YuLmV9mcVWk86gPEscoGiE+MUmaluugTqvWrf9dacLtmJbwqZsYFlGqG\n",
              "vXlIQ4LKXILs0BL6ZLy8sA1FWAKgO7qPVEDloecDG7Ma2e+TPNTekAV7OAZgK5QjQsiGitTXjpkW\n",
              "aQgZlbfsTaHMNC/sUEOZqTMs3syZBSas4vKoM/QBcDpgYs7eFaP6gh6esFMs/DXhTesqC8JhB2fT\n",
              "+kEkpmgLzu0MhRx0Sv/hcpLRXyr5I3GC2moutkEJ4+Gs+2hRzy/boItzVzPb4PUKeWFqd+lMYpqN\n",
              "wZ/05nQn1+wlXxycD/3/YLdGBZagLD+7IYtFFkyytcjyRuU1a2KRiE941edIG/FDI4U3xvkfR8Jm\n",
              "FzZJwFBQaWG6VqdzWnpSlQnQOVriByp2GO3L0RDBIIYjECOn22h0ApaLDKU9t+lwdhGn1R+EQv+S\n",
              "sNdYNiU3HPlo6PzufdMC47eY7xNurpYsLGJc4rCl1ih0TDGCjp4UmYhgfN+E4KOA6+S/zRq25UW3\n",
              "suL9p/lMxRPgBtsbswATdmVhXVIMEoQr8daLnnQ9kF0iJkOT1U+bnwQOY2t7I8jYgQBI42LktsqI\n",
              "R9C6AJsBVv8QQNBTNPMUJurLk38GbK48Iu6nhYHcd2xHucetHHCGnB1DfRIgb2OAgQsT0fX+Enxn\n",
              "QSDRd++DCRiTTe5sT7Eqy/aM/t+kyRmGWdp4icAF17PBWcecvGVv0YIZ+X+iBKgc+i+wPTPARKPK\n",
              "NB711v5C/KHl5ULpRqNYJFdN0BPZebrSkB4QOQ/7mGa/rCQd1D1yitcxttcMeADEREFigifmXa0R\n",
              "ZFZEB+9qLXG4O8nBvt9f0pTOoVE7LlbKo+QrALAhyaUeSn6tG9EV/A9YvBrYR//pJjPdE4GoEJx9\n",
              "bz0qpj0DMzlFiAmZr4ctTaKs5gbLmiHcQ+WyuLE/cksqvPr1BWLK+4SM7s2BBLPATIR8F0AefpHg\n",
              "+b/tjuDQNMiyjzw4xY3F0Nn9oCSUv+Z6KEefGzVJ03i8u+IJhTa0R0jLQK7se5ov/X3oKPm3Auxs\n",
              "8J207L8llnwVm5eWXrQSwQrWCgSxdEHrKFggzuQpA9nG+aI/EVzv/0IIW8oVV3vgLgy/EpraFcPX\n",
              "CnTJmowurElbJarwmNJO7bnsyD4tpcBXBe8Db7GC+pDB7x8B2A8/9YZR5c8E3i7xlM2pDw5O8TKj\n",
              "J+jr/m9LwV8Py0lxw4sVZXZSbEL+Q7t8N/n8yUPHP/JonZ9oH5ufthoscipblwvPOHgMx4+0xKP3\n",
              "kJLGSFA51aOUiRNU5jtaGDZQSwh5L+340Ig+6xTheOD+GNr6Nbxrnbf6HAuBZBZ6SLAdgqZEn51E\n",
              "E4l50BUSrYfi0+8USsuB+3Z8y94cmtKpWt+UEss+DGnA5US3cRTLPOOltiUm52FECnd6wwKcf8Hm\n",
              "S/sustGBIqojX2yNcNNNaoTxCwOdo/VPwPbPJ5MxNnbE7YfXqP+k820FpYdMCLSemzBo3m0YtYsD\n",
              "QSwsgCMV5K4RxTMI2HwI3Ufr+vhMSeS9h9egds4c6y+IMLda1qY9701nrOzUVHbuwS2ioPKzf5RI\n",
              "Be8gTvTu5GJgXCMQ4v4E5uAKrlVG9aRT3fVT1zrrMSMNzreSN4Z6NsJNOEZ55bKQ1ZJcI2bA8bJI\n",
              "lbj28cMv7LnVrkuk8/lLwprKJuwoU3C4uuw71BLltWG19Bnfq3mCE6sxLzdksF1n7GVEQZi8LHoA\n",
              "HVZ8pLzcMG7cIKNvv21tuOXEErStJ/OWvZF8tdTKLQdSAHlConptnpQN9NzeooJAYpsW7YsZqvXc\n",
              "kFcxvxJkRQSMkv+PhS+ZbnbwNMy5PkSZ54hDl9TyebPObGBd32CIhv3Djw/yKNTQX3+2fjrD/csS\n",
              "LjxYrjpD+ylDbU/cve+Mq13ZZdC7isPArnsnuUZF+bwBet6mPUP6AT+LCvc8k31rgl1fvnaqrxiQ\n",
              "LNYevg9eWAILAxwWONwkQR7zjkmZ0wk1Cgc+oEvWHEwBNtWGqqAIYmw6re0q+KoNpSgWoGOVefii\n",
              "QGjTyDTH2Q6+OcoO1bbIUvEK10fk8Jm5B0sLBxw1qFHLqjOmuuKAHe7QCyRxFVpjaNaSwfamhJJD\n",
              "abOLjO3URVEwHLiIoiLEf02CO6tPrJg9e/27vFRUNOZsNkLQOg6cDdYOKv6cA0eYPCKSRiSkOUrN\n",
              "hbGpdwzzs2ZWmSnWwpAV320Zso1xMMORVlTh3ByihaPBPARGkeLPZsYp8AVeCBoyKDeB9InjCQUi\n",
              "aIhnE17wT7cvA+cjblvYSe93l2jdM9IUoLHXXOVZbflkqzenLr5j25HDPoOusY7O8krpYMWVPE7k\n",
              "6QzpcGD99eQWFyBNV7lKeX9Gf3WIvBwN5p6dW0sp4No8j/7jmOGLQnGHEbuIV+iV7eNAFCxfJF4l\n",
              "QfO6n0sR3P8HrGqjFXaeGlUGzLLqxRWzlQZRJ5jEbeMxjKpD70yGGvMpQBQUEVxShs2qquys39As\n",
              "ddq4D6/euyZBPtGIhtdQMVQBRUTPShyE4IPQuhg9HlAry/YT9YUiRDZvF11wjiJcS1054pwBokpS\n",
              "hQdnGvtxRvLR9EGyfK0ZaPatqFpYTgFe6/sIdHO/NZV05xvFOcNB0JePjf4sT2nV6/mBKRVxueKW\n",
              "Eyl9tcGrxCei6t6n9xzT1kIT+LelAD2SLRg1Pc2poyMKRUmAzsGs7sbUGb9gDZMN0YmaNEdhcjA/\n",
              "iwXyemUyJn/vtu7uo6DX/R/MXQNsX8T4LIKTiar3cGbZUpdTxCCHoIPjmCMPvDz3lGusEiv1tObV\n",
              "ZOGRnWUw+kIqZ1xXWhomaMcQk9mLDXbEefpfhvp8SsAG+gZuZzt5WOVeP1JhYQ4yiNIyrL8mSSrl\n",
              "X+ibs+RGOvewhR5+fJwxtL1yZGqqen9NnpN3QWXp4F31RRLD+d14YFOlkpZ5QoAHVM8yrWDNUvk9\n",
              "SgtVhrzb82gxuT/Azy9HkPniD1mTAq8UaKyft3+eugm1TQ98KzuUA0REWIHhnbVn3e0rQG2KDqOq\n",
              "B2LdP9IQb3JE0Qwlhpe6ej15FN3hLEz+rNOwk9yoq5P/wzXRHZAS0i9fgsTPq5BMu0eHWz2rSmzS\n",
              "2GKHJAsevqrGDBGiik6Bpt5roJ0w+gvKb1ASe/Vd2t/rsvVWzwCDWUyqDOc0po6m3VG7T9klkE5m\n",
              "zDswrwyIwSkv2VOG1BiBq70tdCOqbiWdJu185X/9FQbbQCit5HEBqw02ixTPIo5cz38X/KQgUixH\n",
              "A5zmPAF/OB1GtAA6WC7uyLYoDraXC4HD+fayN36p/ldIv7pA9GGS7xjN7rK1V/LVZT9eUsNHG3U3\n",
              "i/Dea4dxCjfXmo08Hy2mmmfiypueXYq0TP3pAOkWoOfmb56oqGhcNYABOa3520jxMsaRnqKfwaeZ\n",
              "jHPnkBtDGwAq2TdObcuQE/w90TGDHcgnmTwpkdvCxg8OUouWstfcY+sskdOb8Npg6QXryvTgQqeC\n",
              "SheEplYeY02kGTNJonMwZPQXOHjG32gVBagIlD2XFs83lca5pnuQDAgNP/gDLI92W7Ce+mH3Qms4\n",
              "ezrdKOm3kmKPcImfox3eJ54qkN9uNT8NiHgc63LaGEchhykI6/lym1jtUqhkBR7Lo1u1mBNh8hDd\n",
              "z9Rt7G6Ff3QrJL4oRfu1M0jzd0DEBgAooS6eYJ+yiLG78qapGmLWBVZy2sfHcTvO0RskG5be2ZrJ\n",
              "JIP+jHboepzOyQv8yPsFKRuxbK2wyhmaMHyyRl8hItW1vAD0Xpftu2Qalt5v5qFiu8QTJXFUdKOj\n",
              "rMXRWX7SGwgzJV3eUDsfVZlS20E0H+97DFQQr+KYARApxGI6a9LB83QB/dWaa/UU00k/myrzP7Os\n",
              "eVgIk4jK7z8oGSE6U1F7IdFCBnx7dEyyG8mjgydb7hfoMXJkQIcHN9KNq7l7uEu4a9ZTpTYe6jNw\n",
              "AcWRTvhdA9Ao3k6gaMjzvAieeugFWo4S+0SWucBKQLgByyt+Pb6ckRd9XJrCIwInsAcYNhqdhBym\n",
              "os9tEXL4G2gSa45w8u10dDdSMhtoNdw8iz3TSHrSSP72bi+19oDPX1yV6FipL0Ha28eJIU8NXyKF\n",
              "59aPjUjOAvjgCqGv8SAUx9sTvfj3dHYsi0Hs18jSmagf+7GO4eMsD3TLCg8/SNPIUd4CELD48Aax\n",
              "FqIs3b4gpYJAaiAd9/98czabczbtJggkShI3iMOzbNZ7QXyPJ4yglG+E0J/kVzARF/DmP5cDmUCG\n",
              "f1LtmpKxSFlhxa0c2p/xdy7ZeQcH+14sm/ombhDC/6jaThYiql6YjYj7Nmqfh/317nlW07d0sjW7\n",
              "gT3EWAXktUWx6J9/77OWSQmIvaEzgQhAWI7kEQDeXYcUHRC8M4oyGO1kqlRwep42shw0mDuCqAiw\n",
              "2zVdywVGD44j3XVjEXYggJnQxE2K6BsVULf6ob0g+opjoAqO0R+OKCHY/BbBZhujbl5jWzcvJkiM\n",
              "EFhMcP1ktzuaQTdfBxb3gpCYja1lxJUckg6GJyMHE2WiIVskR1e8FXDKWjxfZRQD2g2+X/vC73wK\n",
              "3jR+4xkV/mBOBWtExvJetxBhAN9jzR9sEjTLVucxj3h5gMbS8llEeqSvEbgX1D+PtxCIOZ9Wrw1q\n",
              "n4yKO6DNCp4AeB7uolNYMso2t3fe01oHrNIR5CVw1jtnOgQmX5KBUgipRMumideTCVMJkfWSzWmB\n",
              "qA+5Xmfid0COA+t//gBgkhpOr9Kz0YF/kKLfyYTUDENjqUX3tCXhawJynn19aB3ZXKlsbNTNYb2Q\n",
              "4LPcbDhqu2A71knZRJYfymtUP1NkBBfhPuUbgAcu8N8Vxfe5NjU67mvesVnb6J/XzOoxdAZggENT\n",
              "2kCgCQhRjI1YjcJYVQuPih5V4JRJPbQQjAF+ZR6tJXTW1Som712UCVwrwo8834Y+J0t00WtAcgB1\n",
              "Q4lYklKBhMtnVQt1ab5seQ+FoDfYuUhb1Jghu/7af9Nwg0MuWfPOpbVOf/2q3pOItazE85Gh+D7i\n",
              "6AMaCDxTDqGCjF8tGRzorOy4B3mtT1xSlWaXHKSjnkF19kYk+qy4pnqIlniGPHXk3Ri1sVnloOPq\n",
              "7tdG1KsPhh89jv5QHTui5zKhqkmt0Z+/Phf0cDq4FGxRDrHvbTDimd1FtXKlwMkVvYyRMNbtUv53\n",
              "MSsn0Zglf1ddn1v2vT7HPA+8SMdYGCwpcdMP/6A8CtSCX/CdIz2rzt9MiddyKmWo7hoTimTa2i/Y\n",
              "i2jrnGfGfuj/9tw59NGk0CM3pfi5Z9834RtG4vhvXmiCzeroM6UzKgKxlRIq7MD6G9jM5pLRnvqi\n",
              "Eihq+7Zpx4A4Gveo0rRIJHSveJQlh11vC///4L/Bvd6a1feSkElmf36GD8hMmdPUkhPJ3PUHxM5G\n",
              "P7of/9QtszKRbxH79Urh4ZNnw/n9FQ1sTRrhTOBgJDFAYTGOYKrUA/XoYYJ8K2A+8PgUDMpsdITx\n",
              "vf2c84qozhxseXrhx8qSTSUcUDVgTmwmTSU22zgoAu8IbFdfaO4chCNriB60WA6/82NUDsoQn89p\n",
              "7toliHwVx+wUNd1UrtvzSTtPfCvt3+Qz0a0Vw5StIwDjOPdst88xMpul3M3IifDiUD/Q0w7t3h6W\n",
              "fX8RQPLkQ1olskE0FUqtY0go9NthwkWFcMiJZiuHvySrkJDLeIMjUayQrP5jd1TVLMn4Vunx8Tnd\n",
              "HW7u4Hd3jDB+t5U1+ps065xQVEN7+H9umFUi8TkFBT+7TroLl5p1Ni/13JSEHGdHQcIGyaR2W0OX\n",
              "PqVj4QRu1LWsyXFn2nCdNUDfy6pd9A8A26syZtYEj6/Hs2VJrApZSTdYYEPKGftPdYkbBioks51Q\n",
              "xRpgZuO7PCSASmjXzxyxWU+wR7URZIM9O98bkoY8m4BxpVg/KBvdi6101mdHGtS6NqzOhBC3M17d\n",
              "0Ad///6ov/3fnHMyLLPO1h6XqtuW89z/woa1+zQjrI94wWF/MkwvKAIm1Tr6wACYRKKXySsaUt6N\n",
              "NEVUMni08Z2LfVORKB0KnEr3B5j7eAFHdn3Ex2TGZ4NWSwRL3KRrKabPBS2ShFmCj1zPpcpyLibL\n",
              "8dKMwRabpN3Y6eTisCk4TRfmTYoFcHaQaQAwfZnk6szztOZqisXs41lHWtDCtIDrtwc3FSZo9X4S\n",
              "OFKbCp9FeBTixth59KPsdpAI2fV6AfY1tQUOVBpJ/8CQWCnWEYVpmGRVQAD1B+wzYbh9owtJ7Vz1\n",
              "W6/vPJzqY7K7mAORAPVBPhRxnUwuRxpLLdqJhDr6/UL7NKm5QGcwtRNeKioRBqG95uUj8L5KbJzK\n",
              "Do1IrXu6EwycWaOq88fEJEJc9YKV/rlpQ6MXOZEx0mwKZoUAEHZ2CzxEuGMaMVfssZaQJCH48ck0\n",
              "75uem/K1uce1ivyisaIYNU02jSgRQi1oXyrI765VDfY6MDQNrH6nCL0aJYIeTYoHThZ6qQPCxz4w\n",
              "gbBNjuIXlZq7BWvJHA9CF89oIU45NJgxGJX7Bld5kiGGGrqIdMZuHjr3PVcekke7wnXrtzVraEdO\n",
              "xqqfR3Vh90Ni2hzoTc0BOnx7Khy/qQX0idP4D42ceIFGn618CfTUyhrB025tx4LZiDpVfGD9gjii\n",
              "e2NsGGVraAMb4YdVmzFJ72aK3OjeiacpiioluHBmRPtGYzlWjsr1QjflJ1//lMLM3oOfjN1ZofM9\n",
              "lGToxyVZ+rJkfa/H6xQEtf/CymgUdmZ+uXbQM2A2VulxZzQUONH8XtFH6aJZF8J+41vL1IThW40C\n",
              "D14KXProu7e9K9QizlZF4CaaO9d9aaURcNvfgdKPgQ6RQKZit26exAfbXBQCnL0rfVx8ZO4tTr2T\n",
              "L3od0Sk1RnOWk6Q35t/q2LPMjTaUIAzIC+fbZXGFtrOegjB9l1V7vGgtnnbEFtjd9pHfYG0emd2o\n",
              "hyhV4mVV7VmpeoQawy7rx3DohYe43KYQvsuiCl9eGWeooCUn3CsIoU72yZRgA7wxhlBL6D6jvZZV\n",
              "dml0hX1TGzqTtnS+34Chp4tgW3iT8OPCfoJ4soKg8MS/R2FG0Ua48rPZtF/UwH0zbuMd4U76ckpe\n",
              "eol7qbwNneSMAKrEjPLiqza0iHsfDIFVA1iTbrHQrY4rljHPZwhrvnGCYzYcJMWT7IgEdXBDhWdy\n",
              "h6uorBXrzf590G9E7tA8LWsBBSFtSYm1B4GWf1bfMGHN6kt5P9PK2PCAE0PiHlnkb4m/KMBSiptB\n",
              "p1RaWoF+zMU+OKS6aqBnY2SLXqA2SHcqhLMees3tLb5wVl2k+jdTcDwQ/hXtvOB19Z1eqWyMOIFX\n",
              "hKmJ1sazJco2o5qcEO8GR0tSD24NM8yzVoRw2xamPmpvpegokcg1w6hciav1i7T8At6Zord7iNQC\n",
              "t4I22LkCv/Qp9B5M5ubHnuiWalLT7wLCnJTTXuArKsNJAN+ic6vqadoE/i93XHW6QzLcUXIzX/s+\n",
              "wo9JfrLcPSz5NV9TijufcD0g+sCdojjgaMkamPQWJyusw9GZMXSmxvC/YQBVZCJ26Tpf8Hup8K4Q\n",
              "KmGSSQFEH636/AaYTHU29oo85bRldDxebgAs55h0Z/r/UvYHpzNzCgmCS9DRN/CLXuEFN2tIEXUo\n",
              "iUVSDV1zA/Uv4ltQ6OHzaqopPZpwmg+2QdpH+oO1BgXLMzoyiEYAuMaRUyzCpaY+lc4Hj3LY2Akf\n",
              "NHY7/o7Yy+l89ZbHf4VrgAYtrCgzAAADAwwBlQAAAshBmiFsQr/+OEBx8EOJzn2D+5l5b+ATQ6pA\n",
              "4CGo780KrTV5BkAQv+x6C/p11AIb7W53qnKtXAcOkXfVFDBP6q81Nl1YNut/q3s26v0WhdPPRQYn\n",
              "sB4mYxf/bueERTOWrl3A6xNpAONeFTJ4PRnMbTXtnQ5lAX9ySJZuGP6HuDko1jax+l+OTQOvqdux\n",
              "iTdbh4BO4irhQq8JC2+CxyCDRTAkzhgOlzHejTff2i9no+oIRrZkJ8epxjqDwWS1YXiNLG6QoGDy\n",
              "2ef/5M1AhFF6HCFrJVtxAXy15fJD91AtsN7bfp9A0h4VRjskA/gtNpyoXLme06+5QfH2BlgcZ9Co\n",
              "8PRSPE8OP6CDY1GMgCAs+fCEiVvC8S///CkrBZk2sWTn9VLRXhaJ2R93dfYvQrZ/favUN0LqiQNt\n",
              "fhWk2gx7lxLobichDwVMvlspETUQXE10VKU1DC44wmOT+Fv8Gp1KYYx2sOqNiwHV6lCoOTk58lm6\n",
              "PIBX7YfiH6UwQcc1iNG2ZtRNd8j2llyTG5973nhr7VPhH2WHyCH7U+jsRsWUwO5NefODim4epNOr\n",
              "4bki/1gncn4F0QqR0ukHmxTzwMebj89q56IjtIuR19CM1DI3a8Q5PhQQC5iQ9qgunXZb9hYWQUGZ\n",
              "pkgQvOxhXVs48VjC9+s0HqzqsP5UpOhEBpQAhxo2X2/O7tL1TqDG+x8PrNSDPJnw24HiXlYqU0rE\n",
              "QtC/i7XArFvWHXPOKzRAIdxVBiIzkO9hry23Wc8rQpyfH244ZP8ZzJmZ7UyA0hYGUo3oRW8dSN8i\n",
              "fnSP8uMKCplhMQDXzf2249hKvN91xcFu9mT/gk8kXl/a6bNofFMdQdUJjP5kOwIHQGbFEDwJ/KSt\n",
              "lGZ145HNloO3E1cQ4LlY7fBs7JpWZnXEez4V+qH7o4O70VSbrKfB6orfU2dd8BQv5vZsk5MKMCX6\n",
              "4AR0AAAAvkGaQjwhkymEL//+jLCE4nJznwS/PP4zAZdqM+bPuDvEAJWYX6h5M2WsPJX/s2nLwAg3\n",
              "+LCQwHkA7EJHTOA7yVdr/ylShJd0C7fM3XFwDs+f/aC7R2aN7K03p38pOJUsNPcvHFMdfdmzMt3D\n",
              "F58Uppg/MyBTUS7n+0CKjO/TfZy0IKUEqd1LXi6PWO3Ip6MY7ceHS1+xYAcLWm613qwkGHt4IbNZ\n",
              "H/Jh+oP+3ECQgxsasotFlfH/x0CVQp9XDekAAADMQZpkSeEPJlMFPC///oywAnCOBs7oee0ALTGL\n",
              "n58QjMWUz0rIFD2zZJ21P/v1uuAdOfcWk+XkD5g3lYdsSnogcsttXhCBEtoKU9B+4rPclgm4iHp/\n",
              "cFep7l1c0fgVahLJOLhTUbin8N2zI1OO71OENhqZv2lw5KkKBtdOAaUa7BgrpZMRZAiOKclLFtry\n",
              "1ei5hsp9l/T2gLzHOwr8ERBHBBFJW33fTrY2+pxc64oJ0tIy5tfdxVqwspP/K1NnL24sbLz8x5z1\n",
              "i7l/gZbOAAAAIgGeg2pH/wBxQniPsZ316/WMqADiwauHZDuniY50I/Bk7IEAAAEWQZqISeEPJlMC\n",
              "F//+jLAAAxipKFwADURALiwdg4MSfaqHHTOIq4HEhIUnuputUMlMZVM7aH5CrJ83LEMv5dd5JtTv\n",
              "dlU8cG61OpXBjw/p9S59uDkGdLNySVZ07PRebtN8syP8LDt8NzxumZaFibQ5GvU0nGpEOI3vgqRs\n",
              "rl01cnPLqWmwCjGgP16sr16H6+9hKraErsnBuw0I8ITgqtN8XiPz5yOpe3syYEd7jrNqBa+4nO0d\n",
              "233mRD0E/cfdzfBECymju/H+uJ6I3SZBw/6sQ69LAaDw8kQhVLEjTKipiagsoYPXsg0OOiB31jCQ\n",
              "vrKGFDgJ+9ENJObi5hxS1K4Ba8WotQn81XLQjO60qpzNOvPoOuVCyLUAAAApQZ6mRRE8I/8DCAt8\n",
              "EJbAw9ozTxZkULbV9zKgu6QtBdyOxGjw7bFYEYEAAAAeAZ7FdEf/BNGIBGKoiFPOACWRCIzHJOoe\n",
              "JSWmF29hAAAAGwGex2pH/wTT48Vi4NYKHTNJAAmab7MCmHoPDAAAAEZBmslJqEFomUwIX//+jLAA\n",
              "AwSsYzsAco0MUHGMFUMkAazUjbFPKDmDdh4ZO6MXSPaCic4+zJppyUsYa9nTwWA0ain7OM+6AAAB\n",
              "PEGa7UnhClJlMCF//oywAAtuO2wDUrARnxMVm6/YenYW7qGCyYG0K4jsDgz9KPbJGXlbEdkc3rFo\n",
              "zsVn/OHNh5rPNdHTD7UWV6/NaQEFW+r4Fs3SWNhdlYluqksDUXRF3oH2tkOhoUfbkzGMnjt91X+G\n",
              "G7KLrAqnvDjcylRH1SqsmVI0NHxUD4rdQznRawx1ll9derQdrUgPaTcxgIfoDlODhWBQ5DhDTI7m\n",
              "rWEkHPX3K2YV05Z+OLmXpwO4qWnAs3ojvBGLreJwKsiOaB2mb7Ad8Y/sedLIpBwnUWQhiJNVWwgt\n",
              "RExCo1NdJSHtFPuT14Hfzv8fQLlPgqq4M53PGEODVzmeLi+IlMyV48V4qzTkvqjmd6mM9+rBx9D/\n",
              "VDcs1se73HTqVxk50jUALQuXlpNhK/waxhcanzQb8I0AAAAxQZ8LRTRMI/8DE22oQCQhkXmJ3bKC\n",
              "nRBbz0dm62gBMsSVGkeujjqrPGU9eFK9MncJSAAAACABnyp0R/8E0YgFVAKsAEsiFhK72IztDY90\n",
              "lesY2zTgkAAAACUBnyxqR/8E0+PGbsKs8DSsdACt/JOb5ll4QHO/eTBRyezpL5eBAAAAt0GbL0mo\n",
              "QWiZTBTwv/6MsAAqn+Qs7s33v5qgyIA+eJVzswnDfsDjy86Bs5TMtqjy5HDHIoq/6xNEe/paSh81\n",
              "AMKvlmId9pLL+fgRcdJiQxQf4+1H+SQSUibpIt0oNIbB/uvmAWPPKVU9at+VCsLnT9Vyj4nLRstJ\n",
              "zBiW3YdrRvEKODAiVxxptw4Z/yjWzPEPzbxloyz9GP0CopOnCE3GRvXs0fbIHCmtSLNo5750CU+P\n",
              "ez/7+C1zfQAAACUBn05qR/8E1PkNX/ZsvrcFEq/cABMtDbV7UldrAEAG9LCK0tGBAAAAiEGbUknh\n",
              "ClJlMCF//oywABVOmgAEmfSzxtEb939gha1Uo2jPqz5CmIDZbvz6bJLPpoUtRHSJe8FjQgYusGui\n",
              "yCamqZ0NfPwhkwe7P4FoDlXgrhZ3/Wmh+/kDr38kZb16YQ5etW2ofBVnZFk+7s4knU9L47hTqvWC\n",
              "wUoaIoL9rt+6ubTQfRHJbUAAAAAuQZ9wRTRMI/8DE22oQCQhkXmJ3bKSOh4hHcAGxbxPNskdVpU0\n",
              "hdAR/82x6aWBvgAAACUBn5FqR/8E0+PHulQ99cS5KMAAmauxuNZr7R3SXVbh4uBWZZlBAAAATkGb\n",
              "lkmoQWiZTAhX//44QABUfa1mvGi1QLsAsgBKzFu3KgNGMm+chRx3AU1LzUR2e1P9qFRMbCnKB0cq\n",
              "2zlOOMjvwnzVHI0ap0hFJofVLwAAACJBn7RFESwj/wMTuRCASER18xPydWhuVuLJrbOJ3UTdNW2x\n",
              "AAAAEgGf03RH/wTRiAid2sT0B1VikwAAABkBn9VqR/8E0+PHp5jeAG5jm7yQjGMyVo6qAAAAOkGb\n",
              "10moQWyZTAhf//6MsAAVLKdABrt3C6HDEv9hnphOqf59zMKFFPscPi0jblzzOZ5O0HMpPwnUGsEA\n",
              "AABJQZv4SeEKUmUwIZ/+nhAAKfh3LZ9vR/4SoRoHf9/FpeAeqF7smTjcx15DiFX1hHh8Wku8Y3P8\n",
              "PHpM/i8MBqA3n5ve8HdgUBxDwQAAAF5BmhxJ4Q6JlMCF//6MsAAVOyzHwAoNtO4Vrwzo5JZZXEXN\n",
              "odb5oti1mqJmyMxPIQCx/LfylSpa431XzL5o4lLTiVcu3lc5b/lRYoZe6paVUOfH/IecDVfTpnv9\n",
              "GjK+AAAAMEGeOkURPCP/AxNtqEAkIZF5id2ykbPLZ1VbcAFroA+IDwrgB15elpKs+V74U0aNMQAA\n",
              "ABcBnll0R/8E0YgIkoEU9qUWETMm2DppgAAAAB0BnltqR/8E0+PHqa64ALigc/zbmFjLg8rMpXxK\n",
              "SwAAAFBBmkBJqEFomUwIX//+jLAAKmGvEKFP63zwpCumIakUwhLiHw+bA7feIThpf++JUumC9xzx\n",
              "Uch+Mp5tnlOeVrYKl/DeQ0NtcCzmboevfCsOqQAAACpBnn5FESwj/wMTuRCASER18xPydgwGPxcA\n",
              "BWpElg9dmgY9rJeadLJq1joAAAAhAZ6ddEf/BNGIDQjv8HTSACBOB/suB8olTnruvOa8/CXAAAAA\n",
              "HAGen2pH/wTT48oqT7WAFhthcXwutf3pW1VW6EEAAACdQZqESahBbJlMCF///oywACqHTp0lOAGt\n",
              "U/VWCUvh5THYNeXD+ZphfTAtLtILCoC1DRkzj+7IXVeZMqMPPQNKbSvWq1J3fiot5k/6F8s8at9y\n",
              "vVCJFRCNuriJ9es+JM2VLcdT+OCNX9LNWWCOk/T9nZ/qHgFXdFqhgA2UUcL5Ij8wQK946QHPpRLm\n",
              "HqDKM3T1/a1cj+m+4Jlhs1i1tAAAADFBnqJFFSwj/wMTuRCASER18xPydhUkbGmIgAcOkn3yA1Kd\n",
              "Fpm1zDPSy19u3de+PCvBAAAAHwGewXRH/wTRiA1N0QAHDJAmnO8llW6QoBXnlJ7Dj1cAAAAeAZ7D\n",
              "akf/BNPjykx1CEABxXLOr6fKkN0x+UYSvmHPAAAASkGax0moQWyZTAhf//6MsAApSyHYrNgAVwUb\n",
              "UzBmMKsI0gddukMzlWPr+z2v4tpOI8QFrbh35vNM71hxaXxbpWjszRjWz2h/KGGfAAAAKUGe5UUV\n",
              "LCP/AxO5EIBIRHXzE/J2CMZygAWukViQ3R3mlS55qvWhDExxAAAAGAGfBmpH/wTT48okwNX1KnIK\n",
              "BZHC8v9PVQAAAEBBmwhJqEFsmUwIX//+jLAAKTm8MAcw8iKj+lU85LOsp1NXN4iCaTJO4/f6YFYP\n",
              "fV8sa8w8eT1EWOXNq7SkaMWcAAAAUUGbLEnhClJlMCF//oywACkuSDyCuUIAr2bs3o2cL0h8WClf\n",
              "8zmd/Hn4pjLabRyprvrn+jzk7hCZOH1rNSnvnUgxuOthBj7zLBmIrbCD7j4JWAAAACxBn0pFNEwj\n",
              "/wMTbahAJCGReYndsvu6ucC72/AAfxTjow6PcavXc06WOSsbQQAAABcBn2l0R/8E0YgM/FNmGmgo\n",
              "ZJNZUBfCKAAAABIBn2tqR/8E0+PFNw1thWp5ZTEAAABIQZtuSahBaJlMFPDP/p4QACjaqpwArnEZ\n",
              "EIJdZnEIcBSZELfC9XnbOTrc9cAANqGBgpyN62N5EdH5IXcm3ByHy6KqDDXeFhxxAAAAHAGfjWpH\n",
              "/wTU+Q1f9my+twX1/k3RSAIaSNzt+cEAAABdQZuSSeEKUmUwIZ/+nhAAUbJ0YArfrAOSp1ufhs1d\n",
              "MDgZBMSAhdDt+lfmiXqhUwyWPO7q/oagqNCrc+wTikQmJc2ZZm7SjSrBJnHTdmZm+8XExlEzE5It\n",
              "6IJo1AHHAAAAKkGfsEU0TCP/AxNtqEAkIZF5ihxW3mpZ9M7gBHex0UqzSGa2PrSBFUCm9AAAABwB\n",
              "n890R/8E0YgNArhAAJktdBVuiVk726bBQjmAAAAAHQGf0WpH/wTT489ZbH4AW4IuIFFotHMOxeG/\n",
              "pIvBAAAAZ0Gb1kmoQWiZTAhn//6eEABRsr44A5RqNvMDAM4hmCz6Z4cDeYd5jUSh/D9iB1+csKR/\n",
              "KZVud2E/wOJz2vtnvFF8z6sYn3IpYP3/9W0OI+DR4yngdJmF2/YeHKA5oRwDckQpCqkI34AAAAAp\n",
              "QZ/0RREsI/8DE7kQgEhEdfMUUmh2U0eimgAIbqm8poYaCfTXDqkyRDQAAAATAZ4TdEf/BNGIDQjx\n",
              "3WwM9RNRewAAAB0BnhVqR/8E0+PKTvz+GgAloaSoO8qHA2oO6aA/gAAAAFBBmhpJqEFsmUwIX//+\n",
              "jLAAVLGZAAtaASqpuz74PEHiE6tMdpH1nxlAyahLn9qm54LK/Fc8me5Lu5VBexvlQHoVNKeBg04I\n",
              "rOGNI8Co2qdRGwAAAC1BnjhFFSwj/wMTuRCASER18xRsxEcqDVQAFdGSInMXtJWOMsQWoyc1g3TV\n",
              "WasAAAAeAZ5XdEf/BNGIDUK4QAC1FeMrRUwYUkl29umwUI5gAAAAHgGeWWpH/wTT48pNDqgAsji2\n",
              "K34IT5a9fvXjSnt8IQAAAEZBml5JqEFsmUwIX//+jLAAVLKdAAcHFDwObVdKcZt2dMPg2YZI46Db\n",
              "OOb28hlaG02A2qkhj3Zi7mpz33kdG+SMLPMnKojYAAAALEGefEUVLCP/AxO5EIBIRHXzFHCLkAEQ\n",
              "bkz0Mi2kms+1/w25+sr3rS4yAjhPAAAAHgGem3RH/wTRiBaSo/ACaYarSueM5Y5B5+ATdbnnuQAA\n",
              "ABYBnp1qR/8E0+PPmR2BJa6MpUPtoNmQAAAAdEGagkmoQWyZTAhf//6MsACMI4JQdDPIAbWgztKw\n",
              "wYgdN6M3mdaXgN8j8ztdEHgsOKP/eByNsZS0v6ku8l3vRDL4v+lUEGExdZFhTv7syGovusAhC9sV\n",
              "DJKuoyp3KTWEe0woyoQst1XmDgziwRwNy+l7cUJ2AAAAL0GeoEUVLCP/AxO5EIBIRHXzFGqZ+gBu\n",
              "u8bycBeI0hKxW4reKkSQuB45p1ie/08xAAAAIAGe33RH/wTRiBab6wACZr3t6pLVMPQe/IV/vfOA\n",
              "D40IAAAAFwGewWpH/wTT48+d+Ih7vFXA5H5XzhuzAAAAMUGaxEmoQWyZTBRML//+jLAAVLHbYAiQ\n",
              "0G/hV+wDJjKIqNmi507yv2XKXUo22uhsSMAAAAAcAZ7jakf/BNT5DV/2bL+UwHEEeog+4FQztxMr\n",
              "YQAAAFpBmudJ4QpSZTAhf/6MsABXd8fBV2gAIJSg2/lxre9GE+YO6j2THthf8Pc6+jn61U2XuTn8\n",
              "Hl8wR4sTAsLNkrNZipv6WG9JHfcTb6sAHzTMGle2OLtlTywqIfMAAAAwQZ8FRTRMI/8DE22oQCQh\n",
              "kXmKO7364ABLVAl8yyEfCISdfRYV0bGqZqyc1/mEqqyRAAAAJQGfJmpH/wTT48/lkDQAbWYtqI+W\n",
              "/EfZ44lgrif68HfyKiK4f7kAAABVQZspSahBaJlMFPC//oywAFdN2WjQCknptGzzcp/R7OYQPIcV\n",
              "kU0pqtK3wODDr/gm7J7GMKe5g29HUJYKVa+SwecOzqprHGgJ5kaOepCRjnN0jtBZQAAAACgBn0hq\n",
              "R/8E1PkNX/Zsv7zmCbuAAfuYOlcXWk7zRLaoAItLxQV+oHzgAAAAQkGbTEnhClJlMCFf/jhAAUbE\n",
              "c6AFh86RhNH2/gTYxH8Dr1o2aIJqj9q3P8wBWdwn2IfWePGQOr1G+BuPkJrSSCgwIQAAACVBn2pF\n",
              "NEwj/wMTbahAJCGReYo6uqvAVgqS+QruyFUpEI6d3EcgAAAAGQGfi2pH/wTT48+muuACIOAgcZ7o\n",
              "XyYTFLgAAAA2QZuNSahBaJlMCF///oywAFSx22AIR5QiuEbKAXLx9lAB+8oo9a/LmWWuRclKGw5m\n",
              "4I7+dA6ZAAAAKkGbrknhClJlMCF//oywAFS0L9gBYaYzG36YeS4sk7tdi18DNcPdYHyCpwAAAG1B\n",
              "m9JJ4Q6JlMCF//6MsABXd8ZsSPX7PYArfqUJFthX9DbaKnlvTlRBYo/kA2rUGVjWeLR+Fy5XlKtc\n",
              "CE68YbzEPJJaU1zgUmOVN0RTolQHtYPruwkNdQR/4bnl3Z7lk/Z1T2KHM7B2fukMUHTBAAAAIkGf\n",
              "8EURPCP/AxNtqEAkIZF5ijbv0pyrDa2+BiLaaO48KvoAAAAaAZ4PdEf/BNGIFxQvfpAAS8xNJaar\n",
              "M8ZGa7gAAAAdAZ4Rakf/BNPjz9fMMgAHFbkCgQqCLR2V8vaJ96EAAAA3QZoWSahBaJlMCF///oyw\n",
              "AFbgqTugbjy+ADjl+jTABLr+nm7J7HhjCnuqHv8/7P5E0Cho+fIKSAAAACJBnjRFESwj/wMTuRCA\n",
              "SER18xR1VxOl4y67RwTj3j3+rhdlAAAAFAGeU3RH/wTRiBb3BQVjKe53tu9BAAAAEgGeVWpH/wTT\n",
              "483HjnXXSXdg5AAAACxBmldJqEFsmUwIX//+jLAAVw8QbYAhHgQWJWU9xAfqlRV5TSnl33r5viDC\n",
              "JwAAAE9BmntJ4QpSZTAhf/6MsABZuY6aUAAaCT/yJfLFVPR9/pqC5fVpH/9sNcdRiSUtCI8fv9VG\n",
              "BsH+QN2IUtQkwCGGwFpPJrIuhD1xaQ5M0HHBAAAAKkGemUU0TCP/AxNtqEAkIZF5ikoCqVhT5oAi\n",
              "Sd5EKcw5NbQ/k3/CC8byyAAAABsBnrh0R/8E0YgrI7qF8xbrjBVtqDTGkF2FOWEAAAAeAZ66akf/\n",
              "BNPj22Kn41UAG2V3CzaKYi00GJ10pTt1AAAAP0Gav0moQWiZTAhX//44QAFYvNuIAf0joZyCuI6z\n",
              "9TWclpL3tnJA8DuCeffG7M+6og75PU6UbPXjAVvCJpoOOQAAACtBnt1FESwj/wMTuRCASER3HD3D\n",
              "DMk/KwAWH2VXcGBuqj/uMa1ebC/bb+NpAAAAFwGe/HRH/wTRiCojwrKphVo60ItJlVSgAAAAFgGe\n",
              "/mpH/wTT49rSqsGoW+F4yx1nk+4AAAAsQZrjSahBbJlMCP/8hAAT2apUAEqu65bAco2rXXBD+iiL\n",
              "fAQXhZunZ4InwXcAAAAvQZ8BRRUsI/8DE7kQgEhEdxt5hhUbHxxACw3aotBPG/ChIu6NDSWGXe1i\n",
              "MfNLR8IAAAAZAZ8gdEf/BNGIKhdycBNyqMnxsnWZ6ZerYQAAACcBnyJqR/8E0+PaweOt9pQAAH7o\n",
              "XHXxee4vc8mux0k0SZ09eiPJ+rUAAAeebW9vdgAAAGxtdmhkAAAAAAAAAAAAAAAAAAAD6AAAB9AA\n",
              "AQAAAQAAAAAAAAAAAAAAAAEAAAAAAAAAAAAAAAAAAAABAAAAAAAAAAAAAAAAAABAAAAAAAAAAAAA\n",
              "AAAAAAAAAAAAAAAAAAAAAAAAAAAAAgAABsh0cmFrAAAAXHRraGQAAAADAAAAAAAAAAAAAAABAAAA\n",
              "AAAAB9AAAAAAAAAAAAAAAAAAAAAAAAEAAAAAAAAAAAAAAAAAAAABAAAAAAAAAAAAAAAAAABAAAAA\n",
              "AbAAAAEgAAAAAAAkZWR0cwAAABxlbHN0AAAAAAAAAAEAAAfQAAACAAABAAAAAAZAbWRpYQAAACBt\n",
              "ZGhkAAAAAAAAAAAAAAAAAAAyAAAAZABVxAAAAAAALWhkbHIAAAAAAAAAAHZpZGUAAAAAAAAAAAAA\n",
              "AABWaWRlb0hhbmRsZXIAAAAF621pbmYAAAAUdm1oZAAAAAEAAAAAAAAAAAAAACRkaW5mAAAAHGRy\n",
              "ZWYAAAAAAAAAAQAAAAx1cmwgAAAAAQAABatzdGJsAAAAs3N0c2QAAAAAAAAAAQAAAKNhdmMxAAAA\n",
              "AAAAAAEAAAAAAAAAAAAAAAAAAAAAAbABIABIAAAASAAAAAAAAAABAAAAAAAAAAAAAAAAAAAAAAAA\n",
              "AAAAAAAAAAAAAAAAAAAAGP//AAAAMWF2Y0MBZAAe/+EAGGdkAB6s2UGwloQAAAMABAAAAwGQPFi2\n",
              "WAEABmjr48siwAAAABx1dWlka2hA8l8kT8W6OaUbzwMj8wAAAAAAAAAYc3R0cwAAAAAAAAABAAAA\n",
              "ZAAAAQAAAAAUc3RzcwAAAAAAAAABAAAAAQAAAvBjdHRzAAAAAAAAAFwAAAADAAACAAAAAAEAAAMA\n",
              "AAAAAQAAAQAAAAABAAAFAAAAAAEAAAIAAAAAAQAAAAAAAAABAAABAAAAAAEAAAIAAAAAAQAABQAA\n",
              "AAABAAACAAAAAAEAAAAAAAAAAQAAAQAAAAABAAADAAAAAAEAAAEAAAAAAQAABAAAAAACAAABAAAA\n",
              "AAEAAAUAAAAAAQAAAgAAAAABAAAAAAAAAAEAAAEAAAAAAgAAAgAAAAABAAAFAAAAAAEAAAIAAAAA\n",
              "AQAAAAAAAAABAAABAAAAAAEAAAUAAAAAAQAAAgAAAAABAAAAAAAAAAEAAAEAAAAAAQAABQAAAAAB\n",
              "AAACAAAAAAEAAAAAAAAAAQAAAQAAAAABAAAEAAAAAAIAAAEAAAAAAQAAAgAAAAABAAAFAAAAAAEA\n",
              "AAIAAAAAAQAAAAAAAAABAAABAAAAAAEAAAMAAAAAAQAAAQAAAAABAAAFAAAAAAEAAAIAAAAAAQAA\n",
              "AAAAAAABAAABAAAAAAEAAAUAAAAAAQAAAgAAAAABAAAAAAAAAAEAAAEAAAAAAQAABQAAAAABAAAC\n",
              "AAAAAAEAAAAAAAAAAQAAAQAAAAABAAAFAAAAAAEAAAIAAAAAAQAAAAAAAAABAAABAAAAAAEAAAUA\n",
              "AAAAAQAAAgAAAAABAAAAAAAAAAEAAAEAAAAAAQAAAwAAAAABAAABAAAAAAEAAAQAAAAAAgAAAQAA\n",
              "AAABAAADAAAAAAEAAAEAAAAAAQAABAAAAAACAAABAAAAAAIAAAIAAAAAAQAABQAAAAABAAACAAAA\n",
              "AAEAAAAAAAAAAQAAAQAAAAABAAAFAAAAAAEAAAIAAAAAAQAAAAAAAAABAAABAAAAAAEAAAIAAAAA\n",
              "AQAABQAAAAABAAACAAAAAAEAAAAAAAAAAQAAAQAAAAABAAAFAAAAAAEAAAIAAAAAAQAAAAAAAAAB\n",
              "AAABAAAAAAEAAAUAAAAAAQAAAgAAAAABAAAAAAAAAAEAAAEAAAAAHHN0c2MAAAAAAAAAAQAAAAEA\n",
              "AABkAAAAAQAAAaRzdHN6AAAAAAAAAAAAAABkAAA0tQAAAswAAADCAAAA0AAAACYAAAEaAAAALQAA\n",
              "ACIAAAAfAAAASgAAAUAAAAA1AAAAJAAAACkAAAC7AAAAKQAAAIwAAAAyAAAAKQAAAFIAAAAmAAAA\n",
              "FgAAAB0AAAA+AAAATQAAAGIAAAA0AAAAGwAAACEAAABUAAAALgAAACUAAAAgAAAAoQAAADUAAAAj\n",
              "AAAAIgAAAE4AAAAtAAAAHAAAAEQAAABVAAAAMAAAABsAAAAWAAAATAAAACAAAABhAAAALgAAACAA\n",
              "AAAhAAAAawAAAC0AAAAXAAAAIQAAAFQAAAAxAAAAIgAAACIAAABKAAAAMAAAACIAAAAaAAAAeAAA\n",
              "ADMAAAAkAAAAGwAAADUAAAAgAAAAXgAAADQAAAApAAAAWQAAACwAAABGAAAAKQAAAB0AAAA6AAAA\n",
              "LgAAAHEAAAAmAAAAHgAAACEAAAA7AAAAJgAAABgAAAAWAAAAMAAAAFMAAAAuAAAAHwAAACIAAABD\n",
              "AAAALwAAABsAAAAaAAAAMAAAADMAAAAdAAAAKwAAABRzdGNvAAAAAAAAAAEAAAAsAAAAYnVkdGEA\n",
              "AABabWV0YQAAAAAAAAAhaGRscgAAAAAAAAAAbWRpcmFwcGwAAAAAAAAAAAAAAAAtaWxzdAAAACWp\n",
              "dG9vAAAAHWRhdGEAAAABAAAAAExhdmY1Ny44My4xMDA=\n",
              "\">\n",
              "  Your browser does not support the video tag.\n",
              "</video>"
            ]
          },
          "metadata": {
            "tags": []
          }
        }
      ]
    }
  ]
}