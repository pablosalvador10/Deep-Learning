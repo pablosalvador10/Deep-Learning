{
  "nbformat": 4,
  "nbformat_minor": 0,
  "metadata": {
    "kernelspec": {
      "display_name": "Python 3",
      "language": "python",
      "name": "python3"
    },
    "language_info": {
      "codemirror_mode": {
        "name": "ipython",
        "version": 3
      },
      "file_extension": ".py",
      "mimetype": "text/x-python",
      "name": "python",
      "nbconvert_exporter": "python",
      "pygments_lexer": "ipython3",
      "version": "3.6.5"
    },
    "colab": {
      "name": "mnist_with_keras.ipynb",
      "provenance": [],
      "include_colab_link": true
    }
  },
  "cells": [
    {
      "cell_type": "markdown",
      "metadata": {
        "id": "view-in-github",
        "colab_type": "text"
      },
      "source": [
        "<a href=\"https://colab.research.google.com/github/pablosalvador10/Deep-Learning/blob/master/TF/mnist_with_keras.ipynb\" target=\"_parent\"><img src=\"https://colab.research.google.com/assets/colab-badge.svg\" alt=\"Open In Colab\"/></a>"
      ]
    },
    {
      "cell_type": "code",
      "metadata": {
        "id": "3BWazXe_66ta",
        "colab_type": "code",
        "colab": {
          "base_uri": "https://localhost:8080/",
          "height": 35
        },
        "outputId": "2c6350b1-1bca-497f-bf42-835c0dced9cb"
      },
      "source": [
        "# set tf 1.x for colab\n",
        "%tensorflow_version 1.x"
      ],
      "execution_count": 1,
      "outputs": [
        {
          "output_type": "stream",
          "text": [
            "TensorFlow 1.x selected.\n"
          ],
          "name": "stdout"
        }
      ]
    },
    {
      "cell_type": "markdown",
      "metadata": {
        "id": "-KQeMLGg66tg",
        "colab_type": "text"
      },
      "source": [
        "# MNIST digits classification with Keras\n",
        "\n",
        "We don't expect you to code anything here because you've already solved it with TensorFlow.\n",
        "\n",
        "But you can appreciate how simpler it is with Keras.\n",
        "\n",
        "We'll be happy if you play around with the architecture though, there're some tips at the end."
      ]
    },
    {
      "cell_type": "code",
      "metadata": {
        "id": "8ki8Mcbr7Ded",
        "colab_type": "code",
        "colab": {
          "base_uri": "https://localhost:8080/",
          "height": 235
        },
        "outputId": "b1db4896-3194-4785-bf92-7d66d03ca7c9"
      },
      "source": [
        "! shred -u setup_google_colab.py\n",
        "! wget https://raw.githubusercontent.com/hse-aml/intro-to-dl/master/setup_google_colab.py -O setup_google_colab.py\n",
        "import setup_google_colab"
      ],
      "execution_count": 3,
      "outputs": [
        {
          "output_type": "stream",
          "text": [
            "shred: setup_google_colab.py: failed to open for writing: No such file or directory\n",
            "--2020-07-07 15:36:59--  https://raw.githubusercontent.com/hse-aml/intro-to-dl/master/setup_google_colab.py\n",
            "Resolving raw.githubusercontent.com (raw.githubusercontent.com)... 151.101.0.133, 151.101.64.133, 151.101.128.133, ...\n",
            "Connecting to raw.githubusercontent.com (raw.githubusercontent.com)|151.101.0.133|:443... connected.\n",
            "HTTP request sent, awaiting response... 200 OK\n",
            "Length: 3636 (3.6K) [text/plain]\n",
            "Saving to: ‘setup_google_colab.py’\n",
            "\n",
            "setup_google_colab. 100%[===================>]   3.55K  --.-KB/s    in 0s      \n",
            "\n",
            "2020-07-07 15:37:00 (27.1 MB/s) - ‘setup_google_colab.py’ saved [3636/3636]\n",
            "\n"
          ],
          "name": "stdout"
        }
      ]
    },
    {
      "cell_type": "code",
      "metadata": {
        "id": "iT6DdtHs7EHj",
        "colab_type": "code",
        "colab": {
          "base_uri": "https://localhost:8080/",
          "height": 126
        },
        "outputId": "73519301-7978-4844-ce13-09bc2010cf50"
      },
      "source": [
        "setup_google_colab.setup_week2()"
      ],
      "execution_count": 4,
      "outputs": [
        {
          "output_type": "stream",
          "text": [
            "**************************************************\n",
            "inception_v3_weights_tf_dim_ordering_tf_kernels_notop.h5\n",
            "**************************************************\n",
            "cifar-10-batches-py.tar.gz\n",
            "**************************************************\n",
            "mnist.npz\n"
          ],
          "name": "stdout"
        }
      ]
    },
    {
      "cell_type": "markdown",
      "metadata": {
        "id": "ZUZ0bxEw66tg",
        "colab_type": "text"
      },
      "source": [
        "<img src=\"images/mnist_sample.png\" style=\"width:30%\">"
      ]
    },
    {
      "cell_type": "code",
      "metadata": {
        "id": "_DwPlcav66th",
        "colab_type": "code",
        "colab": {
          "base_uri": "https://localhost:8080/",
          "height": 54
        },
        "outputId": "9c38f0c0-1d68-4dc3-cb30-a3d3e143f450"
      },
      "source": [
        "import numpy as np\n",
        "from sklearn.metrics import accuracy_score\n",
        "from matplotlib import pyplot as plt\n",
        "%matplotlib inline\n",
        "import tensorflow as tf\n",
        "print(\"We're using TF\", tf.__version__)\n",
        "import keras\n",
        "print(\"We are using Keras\", keras.__version__)\n",
        "\n",
        "import sys\n",
        "sys.path.append(\"../..\")\n",
        "import keras_utils\n",
        "from keras_utils import reset_tf_session"
      ],
      "execution_count": 5,
      "outputs": [
        {
          "output_type": "stream",
          "text": [
            "We're using TF 1.15.2\n",
            "We are using Keras 2.3.1\n"
          ],
          "name": "stdout"
        }
      ]
    },
    {
      "cell_type": "markdown",
      "metadata": {
        "id": "tR54fchF66tl",
        "colab_type": "text"
      },
      "source": [
        "# Look at the data\n",
        "\n",
        "In this task we have 50000 28x28 images of digits from 0 to 9.\n",
        "We will train a classifier on this data."
      ]
    },
    {
      "cell_type": "code",
      "metadata": {
        "id": "7TKaQrDH66tm",
        "colab_type": "code",
        "colab": {}
      },
      "source": [
        "import preprocessed_mnist\n",
        "X_train, y_train, X_val, y_val, X_test, y_test = preprocessed_mnist.load_dataset()"
      ],
      "execution_count": 18,
      "outputs": []
    },
    {
      "cell_type": "code",
      "metadata": {
        "id": "xcRwT24_66tp",
        "colab_type": "code",
        "colab": {
          "base_uri": "https://localhost:8080/",
          "height": 695
        },
        "outputId": "5979420f-a981-4145-dc50-8dd7be5ba95c"
      },
      "source": [
        "# X contains rgb values divided by 255\n",
        "print(\"X_train [shape %s] sample patch:\\n\" % (str(X_train.shape)), X_train[1, 15:20, 5:10])\n",
        "print(\"A closeup of a sample patch:\")\n",
        "plt.imshow(X_train[1, 15:20, 5:10], cmap=\"Greys\")\n",
        "plt.show()\n",
        "print(\"And the whole sample:\")\n",
        "plt.imshow(X_train[1], cmap=\"Greys\")\n",
        "plt.show()\n",
        "print(\"y_train [shape %s] 10 samples:\\n\" % (str(y_train.shape)), y_train[:10])"
      ],
      "execution_count": 19,
      "outputs": [
        {
          "output_type": "stream",
          "text": [
            "X_train [shape (50000, 28, 28)] sample patch:\n",
            " [[0.         0.29803922 0.96470588 0.98823529 0.43921569]\n",
            " [0.         0.33333333 0.98823529 0.90196078 0.09803922]\n",
            " [0.         0.33333333 0.98823529 0.8745098  0.        ]\n",
            " [0.         0.33333333 0.98823529 0.56862745 0.        ]\n",
            " [0.         0.3372549  0.99215686 0.88235294 0.        ]]\n",
            "A closeup of a sample patch:\n"
          ],
          "name": "stdout"
        },
        {
          "output_type": "display_data",
          "data": {
            "image/png": "[encoded data removed]",
            "text/plain": [
              "<Figure size 432x288 with 1 Axes>"
            ]
          },
          "metadata": {
            "tags": [],
            "needs_background": "light"
          }
        },
        {
          "output_type": "stream",
          "text": [
            "And the whole sample:\n"
          ],
          "name": "stdout"
        },
        {
          "output_type": "display_data",
          "data": {
            "image/png": "[encoded data removed]",
            "text/plain": [
              "<Figure size 432x288 with 1 Axes>"
            ]
          },
          "metadata": {
            "tags": [],
            "needs_background": "light"
          }
        },
        {
          "output_type": "stream",
          "text": [
            "y_train [shape (50000,)] 10 samples:\n",
            " [5 0 4 1 9 2 1 3 1 4]\n"
          ],
          "name": "stdout"
        }
      ]
    },
    {
      "cell_type": "code",
      "metadata": {
        "id": "D_Isc25s66ts",
        "colab_type": "code",
        "colab": {
          "base_uri": "https://localhost:8080/",
          "height": 54
        },
        "outputId": "b7b72227-05c3-4c6b-e717-9d6409468090"
      },
      "source": [
        "# flatten images\n",
        "X_train_flat = X_train.reshape((X_train.shape[0], -1))\n",
        "print(X_train_flat.shape)\n",
        "\n",
        "X_val_flat = X_val.reshape((X_val.shape[0], -1))\n",
        "print(X_val_flat.shape)"
      ],
      "execution_count": 20,
      "outputs": [
        {
          "output_type": "stream",
          "text": [
            "(50000, 784)\n",
            "(10000, 784)\n"
          ],
          "name": "stdout"
        }
      ]
    },
    {
      "cell_type": "code",
      "metadata": {
        "id": "R3Ri1n7666tx",
        "colab_type": "code",
        "colab": {
          "base_uri": "https://localhost:8080/",
          "height": 90
        },
        "outputId": "a32f9bdc-7047-4c7e-eeab-f7e99208cc63"
      },
      "source": [
        "# one-hot encode the target\n",
        "y_train_oh = keras.utils.to_categorical(y_train, 10)\n",
        "y_val_oh = keras.utils.to_categorical(y_val, 10)\n",
        "\n",
        "print(y_train_oh.shape)\n",
        "print(y_train_oh[:3], y_train[:3])"
      ],
      "execution_count": 21,
      "outputs": [
        {
          "output_type": "stream",
          "text": [
            "(50000, 10)\n",
            "[[0. 0. 0. 0. 0. 1. 0. 0. 0. 0.]\n",
            " [1. 0. 0. 0. 0. 0. 0. 0. 0. 0.]\n",
            " [0. 0. 0. 0. 1. 0. 0. 0. 0. 0.]] [5 0 4]\n"
          ],
          "name": "stdout"
        }
      ]
    },
    {
      "cell_type": "code",
      "metadata": {
        "id": "JvPr8tNu66t0",
        "colab_type": "code",
        "colab": {}
      },
      "source": [
        "# building a model with keras\n",
        "from keras.layers import Dense, Activation\n",
        "from keras.models import Sequential\n",
        "\n",
        "# we still need to clear a graph though\n",
        "s = reset_tf_session()\n",
        "\n",
        "model = Sequential()  # it is a feed-forward network without loops like in RNN\n",
        "model.add(Dense(256, input_shape=(784,)))  # the first layer must specify the input shape (replacing placeholders)\n",
        "model.add(Activation('sigmoid'))\n",
        "model.add(Dense(256))\n",
        "model.add(Activation('sigmoid'))\n",
        "model.add(Dense(10))\n",
        "model.add(Activation('softmax'))"
      ],
      "execution_count": 22,
      "outputs": []
    },
    {
      "cell_type": "code",
      "metadata": {
        "id": "Y6eg9QS066t5",
        "colab_type": "code",
        "colab": {
          "base_uri": "https://localhost:8080/",
          "height": 381
        },
        "outputId": "f3aa1304-6369-41db-a2f3-0e5f3e4e3c4e"
      },
      "source": [
        "# you can look at all layers and parameter count\n",
        "model.summary()"
      ],
      "execution_count": 11,
      "outputs": [
        {
          "output_type": "stream",
          "text": [
            "Model: \"sequential_1\"\n",
            "_________________________________________________________________\n",
            "Layer (type)                 Output Shape              Param #   \n",
            "=================================================================\n",
            "dense_1 (Dense)              (None, 256)               200960    \n",
            "_________________________________________________________________\n",
            "activation_1 (Activation)    (None, 256)               0         \n",
            "_________________________________________________________________\n",
            "dense_2 (Dense)              (None, 256)               65792     \n",
            "_________________________________________________________________\n",
            "activation_2 (Activation)    (None, 256)               0         \n",
            "_________________________________________________________________\n",
            "dense_3 (Dense)              (None, 10)                2570      \n",
            "_________________________________________________________________\n",
            "activation_3 (Activation)    (None, 10)                0         \n",
            "=================================================================\n",
            "Total params: 269,322\n",
            "Trainable params: 269,322\n",
            "Non-trainable params: 0\n",
            "_________________________________________________________________\n"
          ],
          "name": "stdout"
        }
      ]
    },
    {
      "cell_type": "code",
      "metadata": {
        "id": "B3nlVJc166t8",
        "colab_type": "code",
        "colab": {}
      },
      "source": [
        "# now we \"compile\" the model specifying the loss and optimizer\n",
        "model.compile(\n",
        "    loss='categorical_crossentropy', # this is our cross-entropy\n",
        "    optimizer='adam',\n",
        "    metrics=['accuracy']  # report accuracy during training\n",
        ")"
      ],
      "execution_count": 23,
      "outputs": []
    },
    {
      "cell_type": "code",
      "metadata": {
        "id": "bYPbmT1m8liI",
        "colab_type": "code",
        "colab": {}
      },
      "source": [
        "callback = tf.keras.callbacks.EarlyStopping(monitor='loss', patience=3)"
      ],
      "execution_count": 25,
      "outputs": []
    },
    {
      "cell_type": "code",
      "metadata": {
        "id": "7Cz9MZnG66t_",
        "colab_type": "code",
        "colab": {
          "base_uri": "https://localhost:8080/",
          "height": 1000
        },
        "outputId": "3cfd204e-82da-4eec-e9c9-f2f9152120cf"
      },
      "source": [
        "# and now we can fit the model with model.fit()\n",
        "# and we don't have to write loops and batching manually as in TensorFlow\n",
        "model.fit(\n",
        "    X_train_flat, \n",
        "    y_train_oh,\n",
        "    batch_size=512, \n",
        "    epochs=40,\n",
        "    validation_data=(X_val_flat, y_val_oh),\n",
        "    callbacks=[callback], \n",
        "    verbose = 1\n",
        ")"
      ],
      "execution_count": 26,
      "outputs": [
        {
          "output_type": "stream",
          "text": [
            "Train on 50000 samples, validate on 10000 samples\n",
            "Epoch 1/40\n",
            "50000/50000 [==============================] - 3s 50us/step - loss: 1.2345 - accuracy: 0.6960 - val_loss: 0.4762 - val_accuracy: 0.8875\n",
            "Epoch 2/40\n",
            "50000/50000 [==============================] - 2s 45us/step - loss: 0.3905 - accuracy: 0.8958 - val_loss: 0.2961 - val_accuracy: 0.9188\n",
            "Epoch 3/40\n",
            "50000/50000 [==============================] - 2s 45us/step - loss: 0.2920 - accuracy: 0.9165 - val_loss: 0.2461 - val_accuracy: 0.9289\n",
            "Epoch 4/40\n",
            "50000/50000 [==============================] - 2s 45us/step - loss: 0.2501 - accuracy: 0.9275 - val_loss: 0.2199 - val_accuracy: 0.9367\n",
            "Epoch 5/40\n",
            "50000/50000 [==============================] - 2s 45us/step - loss: 0.2191 - accuracy: 0.9353 - val_loss: 0.1954 - val_accuracy: 0.9452\n",
            "Epoch 6/40\n",
            "50000/50000 [==============================] - 2s 44us/step - loss: 0.1958 - accuracy: 0.9428 - val_loss: 0.1778 - val_accuracy: 0.9510\n",
            "Epoch 7/40\n",
            "50000/50000 [==============================] - 2s 43us/step - loss: 0.1744 - accuracy: 0.9487 - val_loss: 0.1647 - val_accuracy: 0.9536\n",
            "Epoch 8/40\n",
            "50000/50000 [==============================] - 2s 43us/step - loss: 0.1573 - accuracy: 0.9534 - val_loss: 0.1556 - val_accuracy: 0.9554\n",
            "Epoch 9/40\n",
            "50000/50000 [==============================] - 2s 44us/step - loss: 0.1422 - accuracy: 0.9586 - val_loss: 0.1424 - val_accuracy: 0.9598\n",
            "Epoch 10/40\n",
            "50000/50000 [==============================] - 2s 44us/step - loss: 0.1300 - accuracy: 0.9622 - val_loss: 0.1322 - val_accuracy: 0.9617\n",
            "Epoch 11/40\n",
            "50000/50000 [==============================] - 2s 44us/step - loss: 0.1167 - accuracy: 0.9661 - val_loss: 0.1217 - val_accuracy: 0.9648\n",
            "Epoch 12/40\n",
            "50000/50000 [==============================] - 2s 44us/step - loss: 0.1063 - accuracy: 0.9687 - val_loss: 0.1152 - val_accuracy: 0.9657\n",
            "Epoch 13/40\n",
            "50000/50000 [==============================] - 2s 44us/step - loss: 0.0965 - accuracy: 0.9726 - val_loss: 0.1097 - val_accuracy: 0.9678\n",
            "Epoch 14/40\n",
            "50000/50000 [==============================] - 2s 45us/step - loss: 0.0878 - accuracy: 0.9747 - val_loss: 0.1032 - val_accuracy: 0.9700\n",
            "Epoch 15/40\n",
            "50000/50000 [==============================] - 2s 45us/step - loss: 0.0799 - accuracy: 0.9772 - val_loss: 0.1022 - val_accuracy: 0.9711\n",
            "Epoch 16/40\n",
            "50000/50000 [==============================] - 2s 45us/step - loss: 0.0736 - accuracy: 0.9794 - val_loss: 0.0978 - val_accuracy: 0.9709\n",
            "Epoch 17/40\n",
            "50000/50000 [==============================] - 2s 45us/step - loss: 0.0666 - accuracy: 0.9811 - val_loss: 0.0937 - val_accuracy: 0.9721\n",
            "Epoch 18/40\n",
            "50000/50000 [==============================] - 2s 46us/step - loss: 0.0604 - accuracy: 0.9833 - val_loss: 0.0920 - val_accuracy: 0.9735\n",
            "Epoch 19/40\n",
            "50000/50000 [==============================] - 2s 45us/step - loss: 0.0550 - accuracy: 0.9849 - val_loss: 0.0866 - val_accuracy: 0.9745\n",
            "Epoch 20/40\n",
            "50000/50000 [==============================] - 2s 44us/step - loss: 0.0502 - accuracy: 0.9860 - val_loss: 0.0837 - val_accuracy: 0.9748\n",
            "Epoch 21/40\n",
            "50000/50000 [==============================] - 2s 44us/step - loss: 0.0448 - accuracy: 0.9884 - val_loss: 0.0818 - val_accuracy: 0.9762\n",
            "Epoch 22/40\n",
            "50000/50000 [==============================] - 2s 44us/step - loss: 0.0410 - accuracy: 0.9894 - val_loss: 0.0800 - val_accuracy: 0.9755\n",
            "Epoch 23/40\n",
            "50000/50000 [==============================] - 2s 44us/step - loss: 0.0374 - accuracy: 0.9905 - val_loss: 0.0798 - val_accuracy: 0.9769\n",
            "Epoch 24/40\n",
            "50000/50000 [==============================] - 2s 44us/step - loss: 0.0343 - accuracy: 0.9914 - val_loss: 0.0807 - val_accuracy: 0.9755\n",
            "Epoch 25/40\n",
            "50000/50000 [==============================] - 2s 44us/step - loss: 0.0303 - accuracy: 0.9929 - val_loss: 0.0755 - val_accuracy: 0.9769\n",
            "Epoch 26/40\n",
            "50000/50000 [==============================] - 2s 44us/step - loss: 0.0270 - accuracy: 0.9938 - val_loss: 0.0756 - val_accuracy: 0.9767\n",
            "Epoch 27/40\n",
            "50000/50000 [==============================] - 2s 44us/step - loss: 0.0241 - accuracy: 0.9952 - val_loss: 0.0738 - val_accuracy: 0.9781\n",
            "Epoch 28/40\n",
            "50000/50000 [==============================] - 2s 45us/step - loss: 0.0224 - accuracy: 0.9956 - val_loss: 0.0772 - val_accuracy: 0.9773\n",
            "Epoch 29/40\n",
            "50000/50000 [==============================] - 2s 44us/step - loss: 0.0198 - accuracy: 0.9962 - val_loss: 0.0769 - val_accuracy: 0.9783\n",
            "Epoch 30/40\n",
            "50000/50000 [==============================] - 2s 45us/step - loss: 0.0178 - accuracy: 0.9971 - val_loss: 0.0729 - val_accuracy: 0.9787\n",
            "Epoch 31/40\n",
            "50000/50000 [==============================] - 2s 46us/step - loss: 0.0158 - accuracy: 0.9976 - val_loss: 0.0738 - val_accuracy: 0.9783\n",
            "Epoch 32/40\n",
            "50000/50000 [==============================] - 2s 47us/step - loss: 0.0149 - accuracy: 0.9977 - val_loss: 0.0749 - val_accuracy: 0.9790\n",
            "Epoch 33/40\n",
            "50000/50000 [==============================] - 2s 44us/step - loss: 0.0134 - accuracy: 0.9979 - val_loss: 0.0742 - val_accuracy: 0.9777\n",
            "Epoch 34/40\n",
            "50000/50000 [==============================] - 2s 43us/step - loss: 0.0117 - accuracy: 0.9984 - val_loss: 0.0713 - val_accuracy: 0.9794\n",
            "Epoch 35/40\n",
            "50000/50000 [==============================] - 2s 44us/step - loss: 0.0102 - accuracy: 0.9987 - val_loss: 0.0724 - val_accuracy: 0.9799\n",
            "Epoch 36/40\n",
            "50000/50000 [==============================] - 2s 43us/step - loss: 0.0092 - accuracy: 0.9990 - val_loss: 0.0727 - val_accuracy: 0.9795\n",
            "Epoch 37/40\n",
            "50000/50000 [==============================] - 2s 45us/step - loss: 0.0082 - accuracy: 0.9991 - val_loss: 0.0748 - val_accuracy: 0.9784\n",
            "Epoch 38/40\n",
            "50000/50000 [==============================] - 2s 45us/step - loss: 0.0073 - accuracy: 0.9994 - val_loss: 0.0717 - val_accuracy: 0.9788\n",
            "Epoch 39/40\n",
            "50000/50000 [==============================] - 2s 44us/step - loss: 0.0067 - accuracy: 0.9994 - val_loss: 0.0719 - val_accuracy: 0.9804\n",
            "Epoch 40/40\n",
            "50000/50000 [==============================] - 2s 44us/step - loss: 0.0058 - accuracy: 0.9996 - val_loss: 0.0741 - val_accuracy: 0.9791\n"
          ],
          "name": "stdout"
        },
        {
          "output_type": "execute_result",
          "data": {
            "text/plain": [
              "<keras.callbacks.callbacks.History at 0x7f6cc7961da0>"
            ]
          },
          "metadata": {
            "tags": []
          },
          "execution_count": 26
        }
      ]
    },
    {
      "cell_type": "markdown",
      "metadata": {
        "id": "byFAcRNN66uE",
        "colab_type": "text"
      },
      "source": [
        "# Here're the notes for those who want to play around here\n",
        "\n",
        "Here are some tips on what you could do:\n",
        "\n",
        " * __Network size__\n",
        "   * More neurons, \n",
        "   * More layers, ([docs](https://keras.io/))\n",
        "\n",
        "   * Other nonlinearities in the hidden layers\n",
        "     * tanh, relu, leaky relu, etc\n",
        "   * Larger networks may take more epochs to train, so don't discard your net just because it could didn't beat the baseline in 5 epochs.\n",
        "\n",
        "\n",
        " * __Early Stopping__\n",
        "   * Training for 100 epochs regardless of anything is probably a bad idea.\n",
        "   * Some networks converge over 5 epochs, others - over 500.\n",
        "   * Way to go: stop when validation score is 10 iterations past maximum\n",
        "     \n",
        "\n",
        " * __Faster optimization__\n",
        "   * rmsprop, nesterov_momentum, adam, adagrad and so on.\n",
        "     * Converge faster and sometimes reach better optima\n",
        "     * It might make sense to tweak learning rate/momentum, other learning parameters, batch size and number of epochs\n",
        "\n",
        "\n",
        " * __Regularize__ to prevent overfitting\n",
        "   * Add some L2 weight norm to the loss function, theano will do the rest\n",
        "     * Can be done manually or via - https://keras.io/regularizers/\n",
        "   \n",
        "   \n",
        " * __Data augmemntation__ - getting 5x as large dataset for free is a great deal\n",
        "   * https://keras.io/preprocessing/image/\n",
        "   * Zoom-in+slice = move\n",
        "   * Rotate+zoom(to remove black stripes)\n",
        "   * any other perturbations\n",
        "   * Simple way to do that (if you have PIL/Image): \n",
        "     * ```from scipy.misc import imrotate,imresize```\n",
        "     * and a few slicing\n",
        "   * Stay realistic. There's usually no point in flipping dogs upside down as that is not the way you usually see them."
      ]
    },
    {
      "cell_type": "code",
      "metadata": {
        "id": "TGhzbcSo66uG",
        "colab_type": "code",
        "colab": {}
      },
      "source": [
        ""
      ],
      "execution_count": null,
      "outputs": []
    }
  ]
}