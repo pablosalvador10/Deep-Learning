{
  "nbformat": 4,
  "nbformat_minor": 0,
  "metadata": {
    "kernelspec": {
      "display_name": "Python 3",
      "language": "python",
      "name": "python3"
    },
    "language_info": {
      "codemirror_mode": {
        "name": "ipython",
        "version": 3
      },
      "file_extension": ".py",
      "mimetype": "text/x-python",
      "name": "python",
      "nbconvert_exporter": "python",
      "pygments_lexer": "ipython3",
      "version": "3.6.5"
    },
    "colab": {
      "name": "digits_classification.ipynb",
      "provenance": [],
      "include_colab_link": true
    }
  },
  "cells": [
    {
      "cell_type": "markdown",
      "metadata": {
        "id": "view-in-github",
        "colab_type": "text"
      },
      "source": [
        "<a href=\"https://colab.research.google.com/github/pablosalvador10/Deep-Learning/blob/master/TF/digits_classification.ipynb\" target=\"_parent\"><img src=\"https://colab.research.google.com/assets/colab-badge.svg\" alt=\"Open In Colab\"/></a>"
      ]
    },
    {
      "cell_type": "code",
      "metadata": {
        "id": "JNdoIV18mlZd",
        "colab_type": "code",
        "colab": {}
      },
      "source": [
        "# set tf 1.x for colab\n",
        "%tensorflow_version 1.x"
      ],
      "execution_count": 26,
      "outputs": []
    },
    {
      "cell_type": "markdown",
      "metadata": {
        "id": "KOtN2x8-mlZo",
        "colab_type": "text"
      },
      "source": [
        "# MNIST digits classification with TensorFlow"
      ]
    },
    {
      "cell_type": "code",
      "metadata": {
        "id": "zgqQEUJrmvJp",
        "colab_type": "code",
        "colab": {
          "base_uri": "https://localhost:8080/",
          "height": 217
        },
        "outputId": "90944131-eaa5-49e2-9eb2-266f37eb72e0"
      },
      "source": [
        "! shred -u setup_google_colab.py\n",
        "! wget https://raw.githubusercontent.com/hse-aml/intro-to-dl/master/setup_google_colab.py -O setup_google_colab.py\n",
        "import setup_google_colab"
      ],
      "execution_count": 27,
      "outputs": [
        {
          "output_type": "stream",
          "text": [
            "--2020-07-07 15:15:26--  https://raw.githubusercontent.com/hse-aml/intro-to-dl/master/setup_google_colab.py\n",
            "Resolving raw.githubusercontent.com (raw.githubusercontent.com)... 151.101.0.133, 151.101.64.133, 151.101.128.133, ...\n",
            "Connecting to raw.githubusercontent.com (raw.githubusercontent.com)|151.101.0.133|:443... connected.\n",
            "HTTP request sent, awaiting response... 200 OK\n",
            "Length: 3636 (3.6K) [text/plain]\n",
            "Saving to: ‘setup_google_colab.py’\n",
            "\n",
            "\rsetup_google_colab.   0%[                    ]       0  --.-KB/s               \rsetup_google_colab. 100%[===================>]   3.55K  --.-KB/s    in 0s      \n",
            "\n",
            "2020-07-07 15:15:26 (34.4 MB/s) - ‘setup_google_colab.py’ saved [3636/3636]\n",
            "\n"
          ],
          "name": "stdout"
        }
      ]
    },
    {
      "cell_type": "code",
      "metadata": {
        "id": "eQdkF4rmmvwq",
        "colab_type": "code",
        "colab": {
          "base_uri": "https://localhost:8080/",
          "height": 126
        },
        "outputId": "e968a41e-f15f-4694-af1c-4b85cdad3ee5"
      },
      "source": [
        "setup_google_colab.setup_week2()"
      ],
      "execution_count": 28,
      "outputs": [
        {
          "output_type": "stream",
          "text": [
            "**************************************************\n",
            "inception_v3_weights_tf_dim_ordering_tf_kernels_notop.h5\n",
            "**************************************************\n",
            "cifar-10-batches-py.tar.gz\n",
            "**************************************************\n",
            "mnist.npz\n"
          ],
          "name": "stdout"
        }
      ]
    },
    {
      "cell_type": "markdown",
      "metadata": {
        "id": "5dglRsHUmlZq",
        "colab_type": "text"
      },
      "source": [
        "<img src=\"images/mnist_sample.png\" style=\"width:30%\">"
      ]
    },
    {
      "cell_type": "code",
      "metadata": {
        "id": "R4AX19f0mlZr",
        "colab_type": "code",
        "colab": {
          "base_uri": "https://localhost:8080/",
          "height": 35
        },
        "outputId": "427f7241-58e6-4824-e5a9-fdfd41031698"
      },
      "source": [
        "import numpy as np\n",
        "from sklearn.metrics import accuracy_score\n",
        "from matplotlib import pyplot as plt\n",
        "%matplotlib inline\n",
        "import tensorflow as tf\n",
        "print(\"We're using TF\", tf.__version__)\n",
        "\n",
        "import sys\n",
        "sys.path.append(\"../..\")\n",
        "import grading\n",
        "\n",
        "import matplotlib_utils\n",
        "from importlib import reload\n",
        "reload(matplotlib_utils)\n",
        "\n",
        "import grading_utils\n",
        "reload(grading_utils)\n",
        "\n",
        "import keras_utils\n",
        "from keras_utils import reset_tf_session"
      ],
      "execution_count": 29,
      "outputs": [
        {
          "output_type": "stream",
          "text": [
            "We're using TF 1.15.2\n"
          ],
          "name": "stdout"
        }
      ]
    },
    {
      "cell_type": "markdown",
      "metadata": {
        "id": "2EszMG5hmlZw",
        "colab_type": "text"
      },
      "source": [
        "# Fill in your Coursera token and email\n",
        "To successfully submit your answers to our grader, please fill in your Coursera submission token and email"
      ]
    },
    {
      "cell_type": "code",
      "metadata": {
        "id": "Y9I6kndQmlZx",
        "colab_type": "code",
        "colab": {}
      },
      "source": [
        "grader = grading.Grader(assignment_key=\"XtD7ho3TEeiHQBLWejjYAA\", \n",
        "                        all_parts=[\"9XaAS\", \"vmogZ\", \"RMv95\", \"i8bgs\", \"rE763\"])"
      ],
      "execution_count": 30,
      "outputs": []
    },
    {
      "cell_type": "code",
      "metadata": {
        "id": "CjrnWRFWmlZ3",
        "colab_type": "code",
        "colab": {}
      },
      "source": [
        "# token expires every 30 min\n",
        "COURSERA_TOKEN = \"pablosalvadorlopez11@gmail.com\"\n",
        "COURSERA_EMAIL = \"I4KpYvCGMGIybnyB\""
      ],
      "execution_count": 31,
      "outputs": []
    },
    {
      "cell_type": "markdown",
      "metadata": {
        "id": "BlYS1RiemlZ9",
        "colab_type": "text"
      },
      "source": [
        "# Look at the data\n",
        "\n",
        "In this task we have 50000 28x28 images of digits from 0 to 9.\n",
        "We will train a classifier on this data."
      ]
    },
    {
      "cell_type": "code",
      "metadata": {
        "id": "JArxze69mlZ_",
        "colab_type": "code",
        "colab": {}
      },
      "source": [
        "import preprocessed_mnist\n",
        "X_train, y_train, X_val, y_val, X_test, y_test = preprocessed_mnist.load_dataset()"
      ],
      "execution_count": 32,
      "outputs": []
    },
    {
      "cell_type": "code",
      "metadata": {
        "id": "yKsjKcLmmlaF",
        "colab_type": "code",
        "colab": {
          "base_uri": "https://localhost:8080/",
          "height": 695
        },
        "outputId": "22d08424-21d3-456d-a98e-0dc51d3ba607"
      },
      "source": [
        "# X contains rgb values divided by 255\n",
        "print(\"X_train [shape %s] sample patch:\\n\" % (str(X_train.shape)), X_train[1, 15:20, 5:10])\n",
        "print(\"A closeup of a sample patch:\")\n",
        "plt.imshow(X_train[1, 15:20, 5:10], cmap=\"Greys\")\n",
        "plt.show()\n",
        "print(\"And the whole sample:\")\n",
        "plt.imshow(X_train[1], cmap=\"Greys\")\n",
        "plt.show()\n",
        "print(\"y_train [shape %s] 10 samples:\\n\" % (str(y_train.shape)), y_train[:10])"
      ],
      "execution_count": 33,
      "outputs": [
        {
          "output_type": "stream",
          "text": [
            "X_train [shape (50000, 28, 28)] sample patch:\n",
            " [[0.         0.29803922 0.96470588 0.98823529 0.43921569]\n",
            " [0.         0.33333333 0.98823529 0.90196078 0.09803922]\n",
            " [0.         0.33333333 0.98823529 0.8745098  0.        ]\n",
            " [0.         0.33333333 0.98823529 0.56862745 0.        ]\n",
            " [0.         0.3372549  0.99215686 0.88235294 0.        ]]\n",
            "A closeup of a sample patch:\n"
          ],
          "name": "stdout"
        },
        {
          "output_type": "display_data",
          "data": {
            "image/png": "[encoded data removed]",
            "text/plain": [
              "<Figure size 432x288 with 1 Axes>"
            ]
          },
          "metadata": {
            "tags": [],
            "needs_background": "light"
          }
        },
        {
          "output_type": "stream",
          "text": [
            "And the whole sample:\n"
          ],
          "name": "stdout"
        },
        {
          "output_type": "display_data",
          "data": {
            "image/png": "[encoded data removed]",
            "text/plain": [
              "<Figure size 432x288 with 1 Axes>"
            ]
          },
          "metadata": {
            "tags": [],
            "needs_background": "light"
          }
        },
        {
          "output_type": "stream",
          "text": [
            "y_train [shape (50000,)] 10 samples:\n",
            " [5 0 4 1 9 2 1 3 1 4]\n"
          ],
          "name": "stdout"
        }
      ]
    },
    {
      "cell_type": "markdown",
      "metadata": {
        "id": "RNX3YZPUmlaM",
        "colab_type": "text"
      },
      "source": [
        "# Linear model\n",
        "\n",
        "Your task is to train a linear classifier $\\vec{x} \\rightarrow y$ with SGD using TensorFlow.\n",
        "\n",
        "You will need to calculate a logit (a linear transformation) $z_k$ for each class: \n",
        "$$z_k = \\vec{x} \\cdot \\vec{w_k} + b_k \\quad k = 0..9$$\n",
        "\n",
        "And transform logits $z_k$ to valid probabilities $p_k$ with softmax: \n",
        "$$p_k = \\frac{e^{z_k}}{\\sum_{i=0}^{9}{e^{z_i}}} \\quad k = 0..9$$\n",
        "\n",
        "We will use a cross-entropy loss to train our multi-class classifier:\n",
        "$$\\text{cross-entropy}(y, p) = -\\sum_{k=0}^{9}{\\log(p_k)[y = k]}$$ \n",
        "\n",
        "where \n",
        "$$\n",
        "[x]=\\begin{cases}\n",
        "       1, \\quad \\text{if $x$ is true} \\\\\n",
        "       0, \\quad \\text{otherwise}\n",
        "    \\end{cases}\n",
        "$$\n",
        "\n",
        "Cross-entropy minimization pushes $p_k$ close to 1 when $y = k$, which is what we want.\n",
        "\n",
        "Here's the plan:\n",
        "* Flatten the images (28x28 -> 784) with `X_train.reshape((X_train.shape[0], -1))` to simplify our linear model implementation\n",
        "* Use a matrix placeholder for flattened `X_train`\n",
        "* Convert `y_train` to one-hot encoded vectors that are needed for cross-entropy\n",
        "* Use a shared variable `W` for all weights (a column $\\vec{w_k}$ per class) and `b` for all biases.\n",
        "* Aim for ~0.93 validation accuracy"
      ]
    },
    {
      "cell_type": "code",
      "metadata": {
        "id": "9LYdUsf_mlaN",
        "colab_type": "code",
        "colab": {
          "base_uri": "https://localhost:8080/",
          "height": 54
        },
        "outputId": "e4a315a0-652e-465b-ab14-f3d152f39279"
      },
      "source": [
        "X_train_flat = X_train.reshape((X_train.shape[0], -1))\n",
        "print(X_train_flat.shape)\n",
        "\n",
        "X_val_flat = X_val.reshape((X_val.shape[0], -1))\n",
        "print(X_val_flat.shape)"
      ],
      "execution_count": 34,
      "outputs": [
        {
          "output_type": "stream",
          "text": [
            "(50000, 784)\n",
            "(10000, 784)\n"
          ],
          "name": "stdout"
        }
      ]
    },
    {
      "cell_type": "code",
      "metadata": {
        "id": "FT3KN9iFmlaU",
        "colab_type": "code",
        "colab": {
          "base_uri": "https://localhost:8080/",
          "height": 90
        },
        "outputId": "c54ed3ff-0143-4adc-8b90-49d832af0c43"
      },
      "source": [
        "import keras\n",
        "\n",
        "y_train_oh = keras.utils.to_categorical(y_train, 10)\n",
        "y_val_oh = keras.utils.to_categorical(y_val, 10)\n",
        "\n",
        "print(y_train_oh.shape)\n",
        "print(y_train_oh[:3], y_train[:3])"
      ],
      "execution_count": 35,
      "outputs": [
        {
          "output_type": "stream",
          "text": [
            "(50000, 10)\n",
            "[[0. 0. 0. 0. 0. 1. 0. 0. 0. 0.]\n",
            " [1. 0. 0. 0. 0. 0. 0. 0. 0. 0.]\n",
            " [0. 0. 0. 0. 1. 0. 0. 0. 0. 0.]] [5 0 4]\n"
          ],
          "name": "stdout"
        }
      ]
    },
    {
      "cell_type": "code",
      "metadata": {
        "id": "C1mfdmpLmlaa",
        "colab_type": "code",
        "colab": {
          "base_uri": "https://localhost:8080/",
          "height": 235
        },
        "outputId": "42724743-d8d2-48f0-add5-9dfb31ff5204"
      },
      "source": [
        "# run this again if you remake your graph\n",
        "s = reset_tf_session()"
      ],
      "execution_count": 11,
      "outputs": [
        {
          "output_type": "stream",
          "text": [
            "WARNING:tensorflow:From /content/keras_utils.py:68: The name tf.get_default_session is deprecated. Please use tf.compat.v1.get_default_session instead.\n",
            "\n",
            "WARNING:tensorflow:From /usr/local/lib/python3.6/dist-packages/keras/backend/tensorflow_backend.py:79: The name tf.reset_default_graph is deprecated. Please use tf.compat.v1.reset_default_graph instead.\n",
            "\n",
            "WARNING:tensorflow:From /usr/local/lib/python3.6/dist-packages/keras/backend/tensorflow_backend.py:82: The name tf.placeholder is deprecated. Please use tf.compat.v1.placeholder instead.\n",
            "\n",
            "WARNING:tensorflow:From /usr/local/lib/python3.6/dist-packages/keras/backend/tensorflow_backend.py:84: The name tf.get_default_graph is deprecated. Please use tf.compat.v1.get_default_graph instead.\n",
            "\n",
            "WARNING:tensorflow:From /content/keras_utils.py:75: The name tf.ConfigProto is deprecated. Please use tf.compat.v1.ConfigProto instead.\n",
            "\n",
            "WARNING:tensorflow:From /content/keras_utils.py:77: The name tf.InteractiveSession is deprecated. Please use tf.compat.v1.InteractiveSession instead.\n",
            "\n"
          ],
          "name": "stdout"
        }
      ]
    },
    {
      "cell_type": "code",
      "metadata": {
        "id": "DrP0NTn8mlaf",
        "colab_type": "code",
        "colab": {
          "base_uri": "https://localhost:8080/",
          "height": 560
        },
        "outputId": "a6889d26-458b-4a1e-f0a7-dd4850471ed5"
      },
      "source": [
        "W = tf.get_variable(\"W\", shape=(784, 10), dtype=tf.float32, trainable=True) ### tf.get_variable(...) with shape[0] = 784\n",
        "b = tf.get_variable(\"b\", shape=(10,), dtype=tf.float32) ### tf.get_variable(...)"
      ],
      "execution_count": 37,
      "outputs": [
        {
          "output_type": "error",
          "ename": "ValueError",
          "evalue": "ignored",
          "traceback": [
            "\u001b[0;31m---------------------------------------------------------------------------\u001b[0m",
            "\u001b[0;31mValueError\u001b[0m                                Traceback (most recent call last)",
            "\u001b[0;32m<ipython-input-37-7d371a250e6e>\u001b[0m in \u001b[0;36m<module>\u001b[0;34m()\u001b[0m\n\u001b[0;32m----> 1\u001b[0;31m \u001b[0mW\u001b[0m \u001b[0;34m=\u001b[0m \u001b[0mtf\u001b[0m\u001b[0;34m.\u001b[0m\u001b[0mget_variable\u001b[0m\u001b[0;34m(\u001b[0m\u001b[0;34m\"W\"\u001b[0m\u001b[0;34m,\u001b[0m \u001b[0mshape\u001b[0m\u001b[0;34m=\u001b[0m\u001b[0;34m(\u001b[0m\u001b[0;36m784\u001b[0m\u001b[0;34m,\u001b[0m \u001b[0;36m10\u001b[0m\u001b[0;34m)\u001b[0m\u001b[0;34m,\u001b[0m \u001b[0mdtype\u001b[0m\u001b[0;34m=\u001b[0m\u001b[0mtf\u001b[0m\u001b[0;34m.\u001b[0m\u001b[0mfloat32\u001b[0m\u001b[0;34m,\u001b[0m \u001b[0mtrainable\u001b[0m\u001b[0;34m=\u001b[0m\u001b[0;32mTrue\u001b[0m\u001b[0;34m)\u001b[0m \u001b[0;31m### tf.get_variable(...) with shape[0] = 784\u001b[0m\u001b[0;34m\u001b[0m\u001b[0;34m\u001b[0m\u001b[0m\n\u001b[0m\u001b[1;32m      2\u001b[0m \u001b[0mb\u001b[0m \u001b[0;34m=\u001b[0m \u001b[0mtf\u001b[0m\u001b[0;34m.\u001b[0m\u001b[0mget_variable\u001b[0m\u001b[0;34m(\u001b[0m\u001b[0;34m\"b\"\u001b[0m\u001b[0;34m,\u001b[0m \u001b[0mshape\u001b[0m\u001b[0;34m=\u001b[0m\u001b[0;34m(\u001b[0m\u001b[0;36m10\u001b[0m\u001b[0;34m,\u001b[0m\u001b[0;34m)\u001b[0m\u001b[0;34m,\u001b[0m \u001b[0mdtype\u001b[0m\u001b[0;34m=\u001b[0m\u001b[0mtf\u001b[0m\u001b[0;34m.\u001b[0m\u001b[0mfloat32\u001b[0m\u001b[0;34m)\u001b[0m \u001b[0;31m### tf.get_variable(...)\u001b[0m\u001b[0;34m\u001b[0m\u001b[0;34m\u001b[0m\u001b[0m\n",
            "\u001b[0;32m/tensorflow-1.15.2/python3.6/tensorflow_core/python/ops/variable_scope.py\u001b[0m in \u001b[0;36mget_variable\u001b[0;34m(name, shape, dtype, initializer, regularizer, trainable, collections, caching_device, partitioner, validate_shape, use_resource, custom_getter, constraint, synchronization, aggregation)\u001b[0m\n\u001b[1;32m   1498\u001b[0m       \u001b[0mconstraint\u001b[0m\u001b[0;34m=\u001b[0m\u001b[0mconstraint\u001b[0m\u001b[0;34m,\u001b[0m\u001b[0;34m\u001b[0m\u001b[0;34m\u001b[0m\u001b[0m\n\u001b[1;32m   1499\u001b[0m       \u001b[0msynchronization\u001b[0m\u001b[0;34m=\u001b[0m\u001b[0msynchronization\u001b[0m\u001b[0;34m,\u001b[0m\u001b[0;34m\u001b[0m\u001b[0;34m\u001b[0m\u001b[0m\n\u001b[0;32m-> 1500\u001b[0;31m       aggregation=aggregation)\n\u001b[0m\u001b[1;32m   1501\u001b[0m \u001b[0;34m\u001b[0m\u001b[0m\n\u001b[1;32m   1502\u001b[0m \u001b[0;34m\u001b[0m\u001b[0m\n",
            "\u001b[0;32m/tensorflow-1.15.2/python3.6/tensorflow_core/python/ops/variable_scope.py\u001b[0m in \u001b[0;36mget_variable\u001b[0;34m(self, var_store, name, shape, dtype, initializer, regularizer, reuse, trainable, collections, caching_device, partitioner, validate_shape, use_resource, custom_getter, constraint, synchronization, aggregation)\u001b[0m\n\u001b[1;32m   1241\u001b[0m           \u001b[0mconstraint\u001b[0m\u001b[0;34m=\u001b[0m\u001b[0mconstraint\u001b[0m\u001b[0;34m,\u001b[0m\u001b[0;34m\u001b[0m\u001b[0;34m\u001b[0m\u001b[0m\n\u001b[1;32m   1242\u001b[0m           \u001b[0msynchronization\u001b[0m\u001b[0;34m=\u001b[0m\u001b[0msynchronization\u001b[0m\u001b[0;34m,\u001b[0m\u001b[0;34m\u001b[0m\u001b[0;34m\u001b[0m\u001b[0m\n\u001b[0;32m-> 1243\u001b[0;31m           aggregation=aggregation)\n\u001b[0m\u001b[1;32m   1244\u001b[0m \u001b[0;34m\u001b[0m\u001b[0m\n\u001b[1;32m   1245\u001b[0m   def _get_partitioned_variable(self,\n",
            "\u001b[0;32m/tensorflow-1.15.2/python3.6/tensorflow_core/python/ops/variable_scope.py\u001b[0m in \u001b[0;36mget_variable\u001b[0;34m(self, name, shape, dtype, initializer, regularizer, reuse, trainable, collections, caching_device, partitioner, validate_shape, use_resource, custom_getter, constraint, synchronization, aggregation)\u001b[0m\n\u001b[1;32m    565\u001b[0m           \u001b[0mconstraint\u001b[0m\u001b[0;34m=\u001b[0m\u001b[0mconstraint\u001b[0m\u001b[0;34m,\u001b[0m\u001b[0;34m\u001b[0m\u001b[0;34m\u001b[0m\u001b[0m\n\u001b[1;32m    566\u001b[0m           \u001b[0msynchronization\u001b[0m\u001b[0;34m=\u001b[0m\u001b[0msynchronization\u001b[0m\u001b[0;34m,\u001b[0m\u001b[0;34m\u001b[0m\u001b[0;34m\u001b[0m\u001b[0m\n\u001b[0;32m--> 567\u001b[0;31m           aggregation=aggregation)\n\u001b[0m\u001b[1;32m    568\u001b[0m \u001b[0;34m\u001b[0m\u001b[0m\n\u001b[1;32m    569\u001b[0m   def _get_partitioned_variable(self,\n",
            "\u001b[0;32m/tensorflow-1.15.2/python3.6/tensorflow_core/python/ops/variable_scope.py\u001b[0m in \u001b[0;36m_true_getter\u001b[0;34m(name, shape, dtype, initializer, regularizer, reuse, trainable, collections, caching_device, partitioner, validate_shape, use_resource, constraint, synchronization, aggregation)\u001b[0m\n\u001b[1;32m    517\u001b[0m           \u001b[0mconstraint\u001b[0m\u001b[0;34m=\u001b[0m\u001b[0mconstraint\u001b[0m\u001b[0;34m,\u001b[0m\u001b[0;34m\u001b[0m\u001b[0;34m\u001b[0m\u001b[0m\n\u001b[1;32m    518\u001b[0m           \u001b[0msynchronization\u001b[0m\u001b[0;34m=\u001b[0m\u001b[0msynchronization\u001b[0m\u001b[0;34m,\u001b[0m\u001b[0;34m\u001b[0m\u001b[0;34m\u001b[0m\u001b[0m\n\u001b[0;32m--> 519\u001b[0;31m           aggregation=aggregation)\n\u001b[0m\u001b[1;32m    520\u001b[0m \u001b[0;34m\u001b[0m\u001b[0m\n\u001b[1;32m    521\u001b[0m     synchronization, aggregation, trainable = (\n",
            "\u001b[0;32m/tensorflow-1.15.2/python3.6/tensorflow_core/python/ops/variable_scope.py\u001b[0m in \u001b[0;36m_get_single_variable\u001b[0;34m(self, name, shape, dtype, initializer, regularizer, partition_info, reuse, trainable, collections, caching_device, validate_shape, use_resource, constraint, synchronization, aggregation)\u001b[0m\n\u001b[1;32m    866\u001b[0m         \u001b[0mtb\u001b[0m \u001b[0;34m=\u001b[0m \u001b[0;34m[\u001b[0m\u001b[0mx\u001b[0m \u001b[0;32mfor\u001b[0m \u001b[0mx\u001b[0m \u001b[0;32min\u001b[0m \u001b[0mtb\u001b[0m \u001b[0;32mif\u001b[0m \u001b[0;34m\"tensorflow/python\"\u001b[0m \u001b[0;32mnot\u001b[0m \u001b[0;32min\u001b[0m \u001b[0mx\u001b[0m\u001b[0;34m[\u001b[0m\u001b[0;36m0\u001b[0m\u001b[0;34m]\u001b[0m\u001b[0;34m]\u001b[0m\u001b[0;34m[\u001b[0m\u001b[0;34m:\u001b[0m\u001b[0;36m5\u001b[0m\u001b[0;34m]\u001b[0m\u001b[0;34m\u001b[0m\u001b[0;34m\u001b[0m\u001b[0m\n\u001b[1;32m    867\u001b[0m         raise ValueError(\"%s Originally defined at:\\n\\n%s\" %\n\u001b[0;32m--> 868\u001b[0;31m                          (err_msg, \"\".join(traceback.format_list(tb))))\n\u001b[0m\u001b[1;32m    869\u001b[0m       \u001b[0mfound_var\u001b[0m \u001b[0;34m=\u001b[0m \u001b[0mself\u001b[0m\u001b[0;34m.\u001b[0m\u001b[0m_vars\u001b[0m\u001b[0;34m[\u001b[0m\u001b[0mname\u001b[0m\u001b[0;34m]\u001b[0m\u001b[0;34m\u001b[0m\u001b[0;34m\u001b[0m\u001b[0m\n\u001b[1;32m    870\u001b[0m       \u001b[0;32mif\u001b[0m \u001b[0;32mnot\u001b[0m \u001b[0mshape\u001b[0m\u001b[0;34m.\u001b[0m\u001b[0mis_compatible_with\u001b[0m\u001b[0;34m(\u001b[0m\u001b[0mfound_var\u001b[0m\u001b[0;34m.\u001b[0m\u001b[0mget_shape\u001b[0m\u001b[0;34m(\u001b[0m\u001b[0;34m)\u001b[0m\u001b[0;34m)\u001b[0m\u001b[0;34m:\u001b[0m\u001b[0;34m\u001b[0m\u001b[0;34m\u001b[0m\u001b[0m\n",
            "\u001b[0;31mValueError\u001b[0m: Variable W already exists, disallowed. Did you mean to set reuse=True or reuse=tf.AUTO_REUSE in VarScope? Originally defined at:\n\n  File \"/tensorflow-1.15.2/python3.6/tensorflow_core/python/framework/ops.py\", line 1748, in __init__\n    self._traceback = tf_stack.extract_stack()\n  File \"/tensorflow-1.15.2/python3.6/tensorflow_core/python/framework/ops.py\", line 3426, in _create_op_internal\n    op_def=op_def)\n  File \"/tensorflow-1.15.2/python3.6/tensorflow_core/python/framework/ops.py\", line 3357, in create_op\n    attrs, op_def, compute_device)\n  File \"/tensorflow-1.15.2/python3.6/tensorflow_core/python/util/deprecation.py\", line 507, in new_func\n    return func(*args, **kwargs)\n  File \"/tensorflow-1.15.2/python3.6/tensorflow_core/python/framework/op_def_library.py\", line 794, in _apply_op_helper\n    op_def=op_def)\n"
          ]
        }
      ]
    },
    {
      "cell_type": "code",
      "metadata": {
        "id": "BGjwegAgmlak",
        "colab_type": "code",
        "colab": {}
      },
      "source": [
        "# Placeholders for the input data\n",
        "input_X = tf.placeholder(tf.float32, shape=(None, 784)) ### tf.placeholder(...) for flat X with shape[0] = None for any batch size\n",
        "input_y = tf.placeholder(tf.float32, shape=(None, 10))###  tf.placeholder(...) for one-hot encoded true labels"
      ],
      "execution_count": 38,
      "outputs": []
    },
    {
      "cell_type": "code",
      "metadata": {
        "id": "v7ewdd8Xmlas",
        "colab_type": "code",
        "colab": {}
      },
      "source": [
        "# Compute predictions\n",
        "logits = input_X @ W + b ### logits for input_X, resulting shape should be [input_X.shape[0], 10]\n",
        "probas = tf.nn.softmax(logits) ### apply tf.nn.softmax to logits\n",
        "classes = tf.argmax(probas,1) ### apply tf.argmax to find a class index with highest probability\n",
        "\n",
        "# Loss should be a scalar number: average loss over all the objects with tf.reduce_mean().\n",
        "# Use tf.nn.softmax_cross_entropy_with_logits on top of one-hot encoded input_y and logits.\n",
        "# It is identical to calculating cross-entropy on top of probas, but is more numerically friendly (read the docs).\n",
        "loss = tf.reduce_mean(tf.nn.softmax_cross_entropy_with_logits(labels=input_y, logits=logits))### YOUR CODE HERE ### cross-entropy loss\n",
        "\n",
        "# Use a default tf.train.AdamOptimizer to get an SGD step\n",
        "step = tf.train.AdamOptimizer().minimize(loss) ### optimizer step that minimizes the loss"
      ],
      "execution_count": 39,
      "outputs": []
    },
    {
      "cell_type": "code",
      "metadata": {
        "scrolled": false,
        "id": "w9NuihRGmlav",
        "colab_type": "code",
        "colab": {
          "base_uri": "https://localhost:8080/",
          "height": 308
        },
        "outputId": "23dafd7b-c196-4dc7-b8c3-ea38333c8b10"
      },
      "source": [
        "s.run(tf.global_variables_initializer())\n",
        "\n",
        "BATCH_SIZE = 512\n",
        "EPOCHS = 40\n",
        "\n",
        "# for logging the progress right here in Jupyter (for those who don't have TensorBoard)\n",
        "simpleTrainingCurves = matplotlib_utils.SimpleTrainingCurves(\"cross-entropy\", \"accuracy\")\n",
        "\n",
        "for epoch in range(EPOCHS):  # we finish an epoch when we've looked at all training samples\n",
        "    \n",
        "    batch_losses = []\n",
        "    for batch_start in range(0, X_train_flat.shape[0], BATCH_SIZE):  # data is already shuffled\n",
        "        _, batch_loss = s.run([step, loss], {input_X: X_train_flat[batch_start:batch_start+BATCH_SIZE], \n",
        "                                             input_y: y_train_oh[batch_start:batch_start+BATCH_SIZE]})\n",
        "        # collect batch losses, this is almost free as we need a forward pass for backprop anyway\n",
        "        batch_losses.append(batch_loss)\n",
        "\n",
        "    train_loss = np.mean(batch_losses)\n",
        "    val_loss = s.run(loss, {input_X: X_val_flat, input_y: y_val_oh})  # this part is usually small\n",
        "    train_accuracy = accuracy_score(y_train, s.run(classes, {input_X: X_train_flat}))  # this is slow and usually skipped\n",
        "    valid_accuracy = accuracy_score(y_val, s.run(classes, {input_X: X_val_flat}))  \n",
        "    simpleTrainingCurves.add(train_loss, val_loss, train_accuracy, valid_accuracy)"
      ],
      "execution_count": 40,
      "outputs": [
        {
          "output_type": "display_data",
          "data": {
            "text/html": [
              "<img src=\"data:image/jpeg;base64,/9j/4AAQSkZJRgABAQEASABIAAD/2wBDAAIBAQEBAQIBAQECAgICAgQDAgICAgUEBAMEBgUGBgYFBgYGBwkIBgcJBwYGCAsICQoKCgoKBggLDAsKDAkKCgr/2wBDAQICAgICAgUDAwUKBwYHCgoKCgoKCgoKCgoKCgoKCgoKCgoKCgoKCgoKCgoKCgoKCgoKCgoKCgoKCgoKCgoKCgr/wAARCAEgA2ADASIAAhEBAxEB/8QAHwAAAQUBAQEBAQEAAAAAAAAAAAECAwQFBgcICQoL/8QAtRAAAgEDAwIEAwUFBAQAAAF9AQIDAAQRBRIhMUEGE1FhByJxFDKBkaEII0KxwRVS0fAkM2JyggkKFhcYGRolJicoKSo0NTY3ODk6Q0RFRkdISUpTVFVWV1hZWmNkZWZnaGlqc3R1dnd4eXqDhIWGh4iJipKTlJWWl5iZmqKjpKWmp6ipqrKztLW2t7i5usLDxMXGx8jJytLT1NXW19jZ2uHi4%2BTl5ufo6erx8vP09fb3%2BPn6/8QAHwEAAwEBAQEBAQEBAQAAAAAAAAECAwQFBgcICQoL/8QAtREAAgECBAQDBAcFBAQAAQJ3AAECAxEEBSExBhJBUQdhcRMiMoEIFEKRobHBCSMzUvAVYnLRChYkNOEl8RcYGRomJygpKjU2Nzg5OkNERUZHSElKU1RVVldYWVpjZGVmZ2hpanN0dXZ3eHl6goOEhYaHiImKkpOUlZaXmJmaoqOkpaanqKmqsrO0tba3uLm6wsPExcbHyMnK0tPU1dbX2Nna4uPk5ebn6Onq8vP09fb3%2BPn6/9oADAMBAAIRAxEAPwD9/KKKKACiiigAooooAKKKKACiiigAooooAKKKKACiiigAooooAKKKKACiiigAooooAKKKKACiiigAooooAKKKKACiiigAooooAKKKKACiiigAooooAKKKKACiiigAooooAKKKKACiiigAooooAKKKKACiiigAooooAKKKKACiiigAooooAKKKKACiiigAooooAKKKKACiiigAooooAKKKKACiiigAooooAKKKKACiiigAooooAKKKKACiiigAooooAKKKKACiiigAooooAKKKKACiiigAooooAKKKKACiiigAooooAKKKKACiiigAooooAKKKKACiiigAooooAKKKKACiiigAooooAKKKKACuN%2BOP7QHwm/Zx8JW/jT4veJ5dPtL7U4dN0u2stLub%2B91K9lDGO1tLO0jluLudlR2EUMbvtR2xhWI7KvFv2u/gP8VPiX4h%2BGfxl%2BBd14fl8X/CrxjPrWmaJ4tu57bTdYhudLvdMubaW4ghmktH8q9aSOdYZtrR7TGyu2ACjpH/AAUr/Y71rxm3w8tvHviCDW7fSodU1bTtR%2BHOvWkmi2EhuAt3qXn2SDTIAbWcNLdmFEKYYqWUGbwn/wAFH/2NfGfg/wAQ%2BOtM%2BLFza6f4Y0e11fVBrnhPVdMuJNPuXMdreWtvd2sU19bzyAxwy2ySpM5CRlmIB86vP2GPjP8AHW0/aRP7Qt74V8My/tB/CPTvBskfgrWLrUzo7RWusWsr%2BbcWtqZ1VNRiZDsXeyygogxuy9Y/Y2/at%2BM%2Btaz8UP2lPh38G9X1e0%2BE6eBtB8E6d4n1QaRrSy6jaXt5fXd2bBJ9PYmyg%2BzxQw3BtnDP50hIwAeyX/7fP7N2k%2BAbH4h6tdeOLSHVPED6Jpeh3Xwj8SR67e3yW5uXjh0dtPGoShYAZTIluUCKzFsA49P8JeOfDfjbwTY/EPRbi5i0rULBbyCTVNPnsZY4iu7MsFykcsDAfeSRVZSCGAIIr41tv2Gf2tJfgpJ4W8feGPCnjS%2Bh%2BIcut%2BC9B1n9ofxXb3fgOxOmxWoi0/xbHp7atcSGUXcreZDGBHeGENsjGfUvB/7Bmq%2BKfgJo3hb9pz46%2BOPEfj5PhtdeFtf8Q6T8Q9at9Muhc2tzbyTPpa3SWN5MiXTBbq4tmmdoopWKuibADc8Mf8FJP2MvF/h7xJ4s0b4tXK6Z4W8GXni6/vr7wlqtpFe6BaruuNU09p7VBqtogK5nsvPQmSMAkyIG4n40f8FdP2YfAf7M/wATf2gfhW%2Bs%2BM7v4b%2BDYfEjeGW8L6xps2r2Nw7R2t3avNYFrixlkRh9vgjmtkVWdnCqSPHfC/8AwSh%2BNC/BPxf8LPFnh3w9J4h/4UL4j8A%2BC/Hmo/tD%2BNvECSXGpWEdp5h0jVUkttGtpDDE8scEl0yeVGqFggz6P%2B1L/wAE5vih%2B0BYeKtE0Pxj4d0q2179le%2B%2BGlrLM87GDVpLiOWGdo1iANqNhBIbzBnhO9AHqkv/AAUU/ZZt/E3hrwJeav41tvEni7TpdQ0HwpefCTxLDq8tnFd/Y5LmSwk08XNvCkxG6SaNEVGWUkRsrmXwN/wUT/Y7%2BJGqarpXhD4tyXB0rQ9Q1lbufw1qVvaapp1iwS8u9NuZrdYdVhhYqHeyedVLqCfmGcXwR8APjz4x/apsf2oPjn4f8HeH5JPg5f8Ag/VNE8J%2BK7vVTBcy6tHcpJDcz6fZl4mgiUsTGjJIdoV1USHwGb9hz9pf4bfs8%2BF/Cnxo1rwIPCP7N3wP8SaB4L1PwrfXcmpeKd2hHTLe4vbeW2ii04JZozSQxS3QknZXDxqgQgH0D4U/4Kl/sL%2BNPBus/ELQ/jLdrouheDj4tutRv/BmsWcdzoIKB9Vs/PtEN/ZxmRBJPbCWOLcPMZc167a/GD4c3vxcuPgVZ%2BIxN4qtPDUGv3emRWsrCHTp55beGd5QnlL5ksE6ohfe3kyEKQjEfFX7I/7P3xC8WfBL4Q/Hb9t/Uvhlovww%2BG/7L9z4fgk07W5wmr6bqmnaWby%2B1X7VBDDpkEVppyq0CS3CZleRplWNVrsP%2BCK3wr8d6P8As76n8evit4tbxFrHjW%2Bg03w54hlgaOS%2B8I6JF/ZWiXBD8/6VDDNqhPd9WcgKCFAB9lUUUUAFFFFABRRRQAUUUUAFFFFABRRRQAUUUUAFFFFABRRRQAUUUUAFFFFABRRRQAUUUUAFFFFABRRRQAUUUUAFFFFABRRRQAV4jpH/AAUY/Y91K716z1P4pXnh5vDnhy58QahJ418I6roMc2k27pHPf2smpWsC31ujyRK0tsZUBljGcuufab2K5ms5YbO6EEzxMsUxj3%2BWxHDbT1wecd6/MTV/%2BCOX7cvxf1bwvrnxu%2BOOhvrfhrwfqFnqHijUPit4m8TjxDrf2zSr611E6XfRQ2Wk20lzpi%2BfYWQCiOTassgVAoB9sv8At/8A7MNr8NG%2BLGseIPFWlaW2uQaNY2eufDLX7DVNTv5kMkMFlptxYpe37SIGdfs8MgZUdgSEYjovAf7VnwP%2BI%2Bv2XhPw54h1SHV7/wAKT%2BJIdI1rwrqWmXaabDd/ZJZZYby3ikgdZ/kMMirL32bea8m%2BJ3wc/bd%2BMTfD342654N%2BFWh/EP4UeOptY8P%2BGbXxxqV/ouuWdxpN3plzHcXz6VDNYzFL2SSN0tbgRmIKfMEjYq/En4Dftwa/8ZfDv7TXgfRvhXaeLL74Yar4L8Y6FqXivUpLDSFuL%2BG6tb%2ByuE04SagYhG6yW8sVoJS4xLFjkA7jSf8Ago3%2ByB4j17wL4W8K/EbVdZ1P4k%2BDdK8W%2BDdO0TwPrN7PeaHqL7LXUZEgtGa1t92PMknEa24ZTN5QYE7Hw1/bc/Zu%2BK/xGufhP4Z8X6tZ6/b6Xc6nDZeJ/BmraIt/Y28iRz3dlLqNrBHfwRvLEHltmkRfMQkgMpPlH7Cn7CXxY/Zh1/4caz488QeGrs%2BDv2UvCPwxv30i5nlZtW0t5muZovMgj3Wrb02MxV22/NGmBXjXw0/4JV/tjeJ/ij4X8TftTfGGz1SLT/AHivwv408TQfF/xJrV54il1exS2/tO10y%2Bhj0/QjlSxtLRSi5UCZxGq0AfUvhP/gov%2ByP410WPxVoPjvXP7DuNV0vT9P8AEt78P9btdK1GXUr2OyspLS%2Bns0tryCW5mijFxBI8IMqFnCsCfS/C3xd%2BHnjX4geKfhd4X8Q/a9c8FyWcfie0S0mC2Ml1B9ogjMrII3doSshRGZkWSMsFEibvmHxx4E%2BIvhX/AIJ7eNPgR/wUM8T/AAq8EeAtB%2BGkWgW3xM8O%2BLbsM06RpbWupPaXVnAmmzLMLeSGCO4umM5REcnaG7X/AIJX/D74seG/2RNK%2BKv7RVglv8TvixfS%2BOviJCtu0X2e/v1jMNpsb5k%2By2MdlZ7TkgWuDQB9G0UUUAFFFFABRRRQAUUUUAFFFFABRRRQAUUUUAFFFFABRRRQAUUUUAFFFFABRRRQAUUUUAFFFFABRRRQAUUUUAFFFFABRRRQAUUUUAFeL/Hrx/8AtF/8NF%2BBfgR8BfGfgrw%2Bmv8AgrxLr2r6n4v8F3etEnTrvQ7eGGGO31Kx8sN/akrMzM%2BfLQALyT7RXhXxF1pLL/gpV8IdFkUYvfgn8Q2Rs87o9W8GnH5Mx/Ck2luXCEqjtHs392rL/wDwg/8AwUL/AOjoPgz/AOGH1b/5qKP%2BEH/4KF/9HQfBn/ww%2Brf/ADUV7NRTIPGf%2BEH/AOChf/R0HwZ/8MPq3/zUUf8ACD/8FC/%2BjoPgz/4YfVv/AJqK9mooA8Z/4Qf/AIKF/wDR0HwZ/wDDD6t/81FH/CD/APBQv/o6D4M/%2BGH1b/5qK9mooA8Z/wCEH/4KF/8AR0HwZ/8ADD6t/wDNRR/wg/8AwUL/AOjoPgz/AOGH1b/5qK9mooA8Z/4Qf/goX/0dB8Gf/DD6t/8ANRR/wg//AAUL/wCjoPgz/wCGH1b/AOaivZqKAPGf%2BEH/AOChf/R0HwZ/8MPq3/zUUf8ACD/8FC/%2BjoPgz/4YfVv/AJqK9mooA8Z/4Qf/AIKF/wDR0HwZ/wDDD6t/81FH/CD/APBQv/o6D4M/%2BGH1b/5qK9mooA8Z/wCEH/4KF/8AR0HwZ/8ADD6t/wDNRR/wg/8AwUL/AOjoPgz/AOGH1b/5qKta/wDG/wDZE%2BFNppGk/HT4w/Dnw5rmoaLBqBtvF3iGwtLu4jkyPP23Dq7IzpIA3TKMM8EDN/4a/wD%2BCcH/AEdF8Ef/AAttH/8Ajtc08Zg6cnGdWKa6OUU/uckz2sPw3xJi6Ea1DA15wkrqUaNaUWu6lGjKLWj1Ta03LH/CD/8ABQv/AKOg%2BDP/AIYfVv8A5qKP%2BEH/AOChf/R0HwZ/8MPq3/zUVX/4a/8A%2BCcH/R0XwR/8LbR//jtenaBovws8V6FZeKfC2k%2BH9S0zUrSO607UdPggmguoJFDxyxyICroykMrKSCCCDg1dLE4eu2qc4yt2kn%2BTZz47Js5yuEZ43C1aSk7J1KdSmm97JzpwTdtbJt21tbU85/4Qf/goX/0dB8Gf/DD6t/8ANRR/wg//AAUL/wCjoPgz/wCGH1b/AOaivPPh9/wUa/Yv8X%2BB7Pxh4h%2BHvifQZ9U8ca14W0TRrn4Pa3Peate6dcX8ci2kUOns90TDp887LErmEAxybJFZR2XxC/ao/Za8C2Xj20vNEi0/WPAXhDWvEN5beLPAmraTZ3dnpi/6XPb3UmnOL23iZohJLZJdFRNGwR96K%2Bx5po/8IP8A8FC/%2BjoPgz/4YfVv/moo/wCEH/4KF/8AR0HwZ/8ADD6t/wDNRVWw/as/Yw1D4zyfs/Q3lv8A8JRb%2BII9Buo/%2BEGvxYQ6q%2BnR6lHYtqDWgtFne0lSZIzKGcHCgsCo2fjX8Vfgr8JP2edd/aH0fwjo3ijTtLsGk0230NbaQardNKIILWKYAoGkuGSHcTtVmJboaAKH/CD/APBQv/o6D4M/%2BGH1b/5qKP8AhB/%2BChf/AEdB8Gf/AAw%2Brf8AzUU/9nD4gW3xcvPGXgf4o/Arw34V8YeA/EEOma/pWj6iuq2Miz2Nte29zbXUlpbPLG8VyqnfBGyyxSrhlCu/knxM/bR8Q/Abwz8T5fjl%2ByH4I07xB4A%2BFg8d2Wm6F46F9Z3VkZ54BBeXUmlwNYTb4G5WG4jZVkKO/lMKAPWP%2BEH/AOChf/R0HwZ/8MPq3/zUUf8ACD/8FC/%2BjoPgz/4YfVv/AJqK808aftt/Dr4ffs%2BeFvi54h8L/A271Dxv4rk0Tw1d6J8WYJ/Cn7u2uLqW5utdk02IW8aQ2lwG220h83yol3NIMUfjD%2B3Z4f8Ag3aXOs6z8APh7e6T4R%2BF2l%2BP/iZrdl46ja0s9Hvbq7t0fRnOn/8AE5ZfsNxJh/sYKtbgHfOqgA9Z/wCEH/4KF/8AR0HwZ/8ADD6t/wDNRR/wg/8AwUL/AOjoPgz/AOGH1b/5qKp2PxX%2Byftd6z%2Bzl41/Z%2B8L6ZoFt4FfxNoXi%2BDWVuJ72GKeCCdJ7I2aLbBXmO1hPKWEZJVMivE9R/4KRaf4b%2BB%2Bq/Gjxv8Asi%2BF9GivfhlY%2BP8A4e2174vjWLVdDubyC2zqMx08f2XcQi7s5Zo1W6jVbgBZXKOAAe8f8IP/AMFC/wDo6D4M/wDhh9W/%2Baij/hB/%2BChf/R0HwZ/8MPq3/wA1FcDeftS3l34R%2BHUfgH4I/B3xV4o%2BJV7qg0V9A%2BKIn8MfZLCB55pRrC6SXllKqAIUtDyJCXCxM9VdR/bJs7v4H%2BAP2tfAf7MnhPVvhV4y07w3Pd6rceKY4Natp9XvYbNLa2sEsZYbx4pLiHd/pcXmEssQchdwB6R/wg//AAUL/wCjoPgz/wCGH1b/AOaij/hB/wDgoX/0dB8Gf/DD6t/81FcxN%2B0bpOj/ALZth%2ByPrvwe%2BHF1caza3t1pw8MeNF1DW9PtYLczJearpbafF/Z9rKR5KTieYGaWFMHzCVn%2BB3xX%2BJvxt%2BFXjXVLT9lH4f6V498HeOLjw5J4XvPG8j6XcNCttI0p1GPSTIn7q4J2i0cb027treYADoP%2BEH/4KF/9HQfBn/ww%2Brf/ADUUf8IP/wAFC/8Ao6D4M/8Ahh9W/wDmorwC8/4KNy6R8MfAfjfxb%2Bzj8GvDE/j34heJPDWm33i/4v8A9m6F5OkvcxC9TUZNF3yC6ktZPJjNum5HjcMd4FdX8fP27PB3wJ/aO8O/s8aj8BfBF1favB4cY21x4ujttU1h9V1CSycaDYtYt/bK2flma5Yy23lRMGI5oA9U/wCEH/4KF/8AR0HwZ/8ADD6t/wDNRR/wg/8AwUL/AOjoPgz/AOGH1b/5qKzfBHxU8ReJP2hvit%2Bz5rv7MHhaxu/AvhLRvEXhO8tPESXH/CQ2upXOtW0Czo1lGNPk8zRnyA9wNtwh3AqVqz%2Bzv8Tbr4nfETxv8Gvi7%2Bz94S8NeKfAyaXPqC%2BGdcGt6dNBfxSyQhbmWxs5FnXyHMkLQjarwuGZZRgAs/8ACD/8FC/%2BjoPgz/4YfVv/AJqKoeB/HH7Vng79qzw58Efjd8R/h74m0bxN8PfEOuQzeFfh5faLdWl1pt9oluis9xq98ksbpqkpKhEYNEhDYyD6h4s8J%2BFtN8LalqWm%2BHLG2ubaxllt7i3tER43VCysrKAQQQK8%2B8cf8pC/hf8A9kZ8ef8Ap28IUAezUUUUAFFFFABRRRQAV84/CbxV%2B3f8ddH17x34X%2BN/wk0DS7f4heKtD0vSr/4P6pf3EVrpevX%2BmQtLcJ4igWWR47NXZlijXc5AUACvo6vGf2D/APkiGuf9lm%2BI/wD6mut0AH/CD/8ABQv/AKOg%2BDP/AIYfVv8A5qKP%2BEH/AOChf/R0HwZ/8MPq3/zUV7NRQB4z/wAIP/wUL/6Og%2BDP/hh9W/8Amoo/4Qf/AIKF/wDR0HwZ/wDDD6t/81FezUUAeM/8IP8A8FC/%2BjoPgz/4YfVv/moo/wCEH/4KF/8AR0HwZ/8ADD6t/wDNRXs1FAHjP/CD/wDBQv8A6Og%2BDP8A4YfVv/moo/4Qf/goX/0dB8Gf/DD6t/8ANRXs1FAHjP8Awg//AAUL/wCjoPgz/wCGH1b/AOaij/hB/wDgoX/0dB8Gf/DD6t/81FezUUAeM/8ACD/8FC/%2BjoPgz/4YfVv/AJqKP%2BEH/wCChf8A0dB8Gf8Aww%2Brf/NRXs1FAHjP/CD/APBQv/o6D4M/%2BGH1b/5qKP8AhB/%2BChf/AEdB8Gf/AAw%2Brf8AzUV7NRQB4z/wg/8AwUL/AOjoPgz/AOGH1b/5qKP%2BEH/4KF/9HQfBn/ww%2Brf/ADUV7NRQB4z/AMIP/wAFC/8Ao6D4M/8Ahh9W/wDmoo/4Qf8A4KF/9HQfBn/ww%2Brf/NRXs1FAHjP/AAg//BQv/o6D4M/%2BGH1b/wCaij/hB/8AgoX/ANHQfBn/AMMPq3/zUV7NRQB4z/wg/wDwUL/6Og%2BDP/hh9W/%2Baij/AIQf/goX/wBHQfBn/wAMPq3/AM1FezUUAeM/8IP/AMFC/wDo6D4M/wDhh9W/%2Baij/hB/%2BChf/R0HwZ/8MPq3/wA1FezUUAeM/wDCD/8ABQv/AKOg%2BDP/AIYfVv8A5qKP%2BEH/AOChf/R0HwZ/8MPq3/zUV7KZI1cIzgM3QE8mo7y9s9Pt2u7%2B7igiQZeWaQKq/UngUbBdI8e/4Qf/AIKF/wDR0HwZ/wDDD6t/81FH/CD/APBQv/o6D4M/%2BGH1b/5qK6jxT%2B1Z%2By74G3f8Jr%2B0j4C0jZ94an4wsoCP%2B%2B5RXES/8FOv%2BCe0N%2BdOf9sXwAZF6sviGJo/%2B%2Bwdp/OuSpj8DSdp1Yp%2Bcor/ANuOKrmeW0XapXhF%2Bc4L85F//hB/%2BChf/R0HwZ/8MPq3/wA1FH/CD/8ABQv/AKOg%2BDP/AIYfVv8A5qKUf8FE/wBghoBcD9s74YbT2PjixDf98%2Bbn9Ky9Y/4Khf8ABPPQ4jLe/th%2BBHA7WeuR3B/KLcal5ll0Vd14f%2BBx/wDkjOWb5TFXeIp/%2BBw/%2BTNP/hB/%2BChf/R0HwZ/8MPq3/wA1FH/CD/8ABQv/AKOg%2BDP/AIYfVv8A5qK881n/AILY/wDBMnR5fsw/aahvZicJDpnhjVLkufQGO1K/rXKeK/8AgvL%2BxN4ftmutC8MfEvxCqjOdH8DyID%2BN08Irmnn2SU1riYfKSf5XM6WeZPiKvs6FeNST6QvUl8o041JP5Jnt3/CD/wDBQv8A6Og%2BDP8A4YfVv/moo/4Qf/goX/0dB8Gf/DD6t/8ANRXyjqP/AAcJ%2BANS3f8ACvP2bZrr%2B4nij4n6Fo7/APAleeQqa5rWf%2BDg34g6Epur39lPwDJGeRb2f7QWmXEij0JigYE/SuKfFmQQ/wCX1/SMn%2Bh9Fh8n4lxj/wBmyrG1P8OBxjX3/Von2n/wg/8AwUL/AOjoPgz/AOGH1b/5qKP%2BEH/4KF/9HQfBn/ww%2Brf/ADUV8Dz/APBzD4iu7v8AszTf2M9Ogn7FviO94p%2Bn2fTz/OtCy/4LwftieKhu8B/sNWuplvuJZQ61cn6fLZKDWK4y4ek7QqOXpCb/AEPRnwfx5TjzTyPHRXeWDrwX31FTX4n3R/wg/wDwUL/6Og%2BDP/hh9W/%2Bairf7K3xG%2BNPjDWPih4E%2BOmv%2BF9W1TwD8QotDs9V8J%2BGrnSbe6tZdB0fU1Z7e4vbxlkWTUZULCXaVjQ7VOc/Fnhr/gq7/wAFaPEcg%2Bw/8EntbmjY/JLJo2rWqMPUNNEB%2BNfRH/BLr4ifF74r23xw8f8Ax5%2BEreBfFmofGWI6r4Ve4802Ozwn4cji%2BY9d8SRye3mY7V6eX5zg8yqOFFTulf3oTivvkkvkeTicDmuBny4zC1aP%2BOKS9LqrU18tD6mooor1jnCiiigAooooAKKKKACiiigAooooAKKKKACiiigAooooAKKKKACiua%2BMUnxNh%2BGWsT/BzWtB07xLFa79MvfE2lTX1jEVYFzLBBPbySjyw%2BFWWP5iuWxmuK%2BAnxR%2BMH7Q37Efw/8AjX4fufDWj%2BNfHHw40TXGlvNKuLjS7O8vLKC4lP2ZbhJpIlMj7Y/PViAoMnVqAPWq%2BXf2hda/sv8A4K0fszWO/H9pfDH4mW2PXEnhibH/AJC/SvQf2NPjd8Rfjb4U8XyfEW68P6pL4V8fX3h3T/FvhPTZ7PTPEcVtFAZbq3gnnuHiEVzJc2Tr58oM1hKVbBCj5x/ak%2BOHwt8R/wDBbX9kvwP4K%2BJ3h/V9X0HRfiVYeKtI0rWoLi60iSbT9KaGO6ijcvAztEdokCk7GxnBrlxk/Z0Obzj%2BMor9T3eHMN9bzT2XenWf/gNCtL/20%2B76KKK6jwgooooAKKKKACiiigAooooAKKKKACiiigDzPUv2ZP2bfjRo%2Bg%2BKfjF%2Bz34H8Wanb%2BH7W1g1HxL4Ts7%2BeOBVLrEsk8bMEDO7BQcAuxxkmqX/AAwP%2Bwr/ANGWfCX/AMNzpn/xiuT%2BL3/BSD9i/wDY%2Bl8OfDT9ov4y/wDCO63feFLPU7Wy/wCEd1G732r74lk32tvIgy8Mo2lg3y5xggnkP%2BH5v/BLL/o6L/yydc/%2BQq8XEYvh2nXlGvOkpp683s7387q9/U0XiHiMqX1SOcTpKnpyLE1IKPWyiq8VHfZRW%2B2p63/wwP8AsK/9GWfCX/w3Omf/ABivTtA0DQvCmhWXhbwtotppumabaR2unadp9ssMFrBGoSOKONAFRFUBVVQAAAAMCvlb/h%2Bb/wAEsv8Ao6L/AMsnXP8A5Cr6e8A%2BOvCvxQ8CaL8S/AuqfbtE8RaRbano975DxfaLW4iWWKTZIqum5HU7WUMM4IB4rowOIyetOSwcqbaWvJy3t58qWl%2B4pcXVeJP3U8xlieTWzrzq8t9L2lVqWvtdJX2v0PCfhh%2Bwv4r8AePPCmtan8Z9N1DQfA/xQ8VeL/DWlw%2BEJILsLrv9rPPaXFyb10lMUuqsUlSGL93CEZCzGQeR61/wRhl17xT498SXnx28OxXHjLwF4/8AC/8AbVr8L0TW7mPxNIri41XUTfF9Uey2iOFAtunljbtTAYe7WH7fnwj1fTrGbSfCniOa%2ButF8W6ld6TL9gt5dLTw5erYajHdyT3aQQMLt0gRml8tiSxdY1d14Twb/wAFPvA/x2m%2BHGo/ASCzlsdd%2BM%2Bo%2BBvG8F/fWOpS6ebfwbq/iFDbXOlX1xZyuxtLA70nmQJNNGwSVT5XpEHXSfsMB/EOq6%2BPihg6n8ddJ%2BI5iGif6v7FpGn6b9gz5/zb/sHmedgbfN2%2BW23c3efGv4Hah%2B0B%2BzzrvwS8f%2BMYre/1qwaNPEGh6WYBZXSSia1uooJZZctDKkL7WdldoznAbA%2BePFv/AAVWlf4IeFPGvwi%2BFOv%2BI73VIPh7J4j8Uy%2BH4LfRtFbxJd6cqQXMA1JrmO4a1vfNVIDdRQNNB5szKSW%2BkPjD8ePD/wAJPgF48%2BPt1o2pXNj4C8P6xql9ZXGnzWktwNOhlllWMTopZW8lgkqho3BDIzKQSAc78Bf2f/ih8KdX8ReO/Gvxa0PxD4q8ceLYtW8aajZeD5rC0ktYNMisLeysbdr6ZrTZ9nglMkstyWZrgbVEqeTxf7OP7Jf7U/wP0Xxxf%2BLP2mPh/wCLPGPjW7Oo3fjO5%2BEV7BPNfBwIRcxnXZFls4IALeG0hNuI1AYOXaRn2/2WvjZ8fvEPxU8TfAb9pUeEbnxFo3grw74rtdS8F6Vc2VoLXVZNSgNk0dzc3DvLbz6XNmcOiypNGRFGQy1zXjL9on9qj4ZfHjX/AIR31z4G8aSyfC/xF4u0fSvC/hS/t73w8bSaGPTIb9mvpxei8Mk0aGNLV2eym8tHVXMQBXT/AIJ5%2BLw4%2BKM3xm8Ny/FOL4wv8RbXxDJ8PH/sKDUX0AeH3hXShqAmERsBuLfbfNNyfOMhH7qsfxt/wSq0Tx98EPCP7OPijxT4G1TwxpOnXtr4j1HWvhVFda5Kt9dSXGoJpF6bwJosU6zSQbFgnaOEqqOGRXGRp/7b/wC01f8A7Id/8Q9B17RNe%2BJmn%2BKPC1l4j8N2n7PHim0u/ClnqN5Zx3ktxoEl%2B%2BpX3k28t1PHLE0SSCAlQwRqpftH/wDBRv4sfC74SeBPF3wr8b%2BFPFH9u%2BFfFeq6x4q034Qa9fxSXujy20Y046LbXxvdJBeaeK4vbuV4bKWz8ucI06KoB7drX7NXxt1r9tVP2krj40eEG8GjwbN4Zk8Dy/Dy6bUJLKZoppCdTGqiPzDcxBgfse0RMYypb99XK/BH9hX4wfA%2BwtrnTP2jtC1fWPCPw9svA/wtvNY%2BHsr2%2Bj6Lb3MUrHUIU1JW1K7lS3tY3njktEzbI6xKS%2B7b0X9oD49XH7Vvwy8Caw/goeCPiN8MNU11bHTbWa51Gy1Cy/sott1FLr7NcWzf2i4XZbgkRq4kIbbXmXg7/gor8RfA3gz4z/En9pnU9Is7n4baF408QaX8M1%2BFms%2BHtSu9H0XUbmKC8h1PUrt7bVYpbaO0Z5bWERxvfRFmUFVYA6/UP2A/GGofCHX/AAXqvjj4X%2BINe8ZfEafxh4ru/GvwXGraILuS1jtl/s/Sn1JfsciLBC4lknuC0hndw5mO2sn/AAT4%2BJnhLxd8IrT4W/H7w4ngH4O%2BF7Sw8PeCvGfw9uNVaTVIw0UutvcW2qWaNeNATHGXgdIGlnkRS0g2cjqf7f3xm0X4Cy%2BLLb4jeDPEHih/HGiaPqUWk/BfxJby%2BG7W/RmWYaJPef2lrwcpiCS08kTozyqhWGQVR8V/8FOPjTB%2ByB4U%2BJXgPwj4V1Lx/qd7c3XiFLiyuo9P03QbTXm0t76a0M4uLO6uT5UcdhPL51tPJcJL5hsLhCAe%2B6r%2Bzr8X/HP7RfhX4vfE/wCNOgXfh7wDr2o6r4P8P6D4HlsL4SXVhc2Aivr%2BS/nW6hSC7lPlx29uHljgkbmIA4HwH/Zb/ai%2BFPg/4t6R4o/ae8H3%2Bs/EbVL7WdC1vw78LrrTR4e1W5tVgM7RT6zdfa4kMUDrFuhbKODId42O%2BLXxV/am8E/tk/DP4QeE/HPgDUfDPjvU9SutR8Pz%2BAr5dV0vQdPsN91ef2gureTI/wBun063X/Q1UC/XOSmX%2Bf8AwV/wVW%2BP3jHwD4stPDWmeCvE3xJl%2BAmu%2BP8Aw78PfDPhfUZr7wlq%2BnSWkL%2BGtYhW7eW%2BvVl1C2QrCLSRjDLiJRLExAPpy8/Zo%2BIPgH9nrwh%2Bzj%2BzF8RPCXhrRvDHhWPw7M3jPwDL4g%2B1WUdrHbptRNQtFWTCEuZPOWQsdyHnPl1z/wAEuL7S9L0v4beB/wBoEweB18K%2BCdB8QWGv%2BF/7Q1m4g8MyiSzey1EXUS2Ty7VMhe3nxIXli8p3LV0Wj/tH/FbxV%2BzHrXxJ8IfH/wANahr/AIX8Sm08S3Fp%2BzZ4pmubCPyo2%2Bwv4ZTUv7VS7/f2828vjyJA/k7GElcd46/a2/bJ1n9kT4VftKfCfX/hjpOtfEQeHNLt/BeteDL3V/turanexwtJDd22sWwt4I4He5eNopZIktpdzsVIAB6ZYfs2ftNaV%2B1d8Qv2kdN/aK8ExWXjLwHp3hnS9CPwuu2uNKXTZtXuNPuJLo6zsuWWbWJzMogiEqRRqnkHc7aH7Ef7NHxT/Ze8Aal4N%2BKfxd8OeN7/AFPUTqeo%2BJ9K8E3Ok6hq%2Boyg/ar7UHm1K8FzLJiJVEYhjhjiWKNBEkaR%2BUf8PF/Feg/tmW3wN8ca54Ls7DUvijc%2BDbbwAmmXX/CT2dsmkzX1v4hlmNyY3sbiSARKotUQC4TFw8iNEYf2Uf8Agp5pfxf%2BEmo/tE/Efx7oY0rUPBtp4n8MfDzSPh7q1hrCWt3KsdpBDfXtx9n16WSWa3tN9lDHEt3KsQZt6EgH1n45/wCRJ1j/ALBVx/6LavLfHH/KQv4X/wDZGfHn/p28IVlfslfG/wCM3x9/Zc8T%2BLfj/wCHvD%2Bk%2BKtM8TeKtB1LT/DHnGzg/s/ULq0RFeV2aVgkKhpflEjAuqRhgi6vjj/lIX8L/wDsjPjz/wBO3hCgD2aiiigAoorjvjx8bPDX7P3w6l%2BInibSNT1TdqVjpmmaLokMcl7qmoXt1FaWlpAsskcfmSTzRrukdI0BLu6IrMADsaK8dh/bY%2BGS/s76r%2B0Lq3hPxLp66Jr7eH9V8H3VnbtrEGt/2gmnR6ZsineBppbqWGON1mMDieOQS%2BW2%2BoNM/bHvPEfhLUNW8F/ss/ErW/EOg%2BJpNC8WeBLBtDXVNBu1tIb0faZJtUjsmV7a6tJkMNzKXW6jwM7goB7TXjP7B/8AyRDXP%2ByzfEf/ANTXW69C%2BDnxY8GfHj4S%2BGfjZ8Or2a40DxboNpq%2BjTXFu0Uj21xEssZeNvmRtrDKnkHIPSvPf2D/APkiGuf9lm%2BI/wD6mut0AezUUUUAFFFFABRRRQAUUUUAFFee/Fn9rP8AZh%2BBAdfjH8f/AAh4cmj62eq6/BFcN7LCW8xj7BTXiOsf8FqP2CftUuk/Dfxr4l8e6lGONM8EeCdQu5ZG7KrPEkZJ6D58e9cNfM8twsuWrWjF9nJX%2B5Nv8DzcTnOUYOfJXxEIy7OSv9ybf4H1hRXx6nxW/wCCqv7WDgfB34P6H%2Bz/AOFJj8niT4ioup%2BIJY%2Bzxacn7qBvWO49OGqdP%2BCSPhn4nML79sz9qz4p/F2V%2BZ9J1HxG%2BlaNnuUsrMr5f4SenpXOsyxFf/daEpL%2BaX7uPy5k5v5QRyrNsVif9yw0pL%2BabVKPy5k5tekEfS3in4z/AAe8Dbv%2BE2%2BK/hrR9n3/AO1ddt7fb9fMcYrznxD/AMFIP2BfC84ttW/bF%2BHJk3bStp4strnaffyXbb%2BNc14W/wCCQv8AwTZ8H7f7J/ZJ8NzbOn9qy3N9%2Bf2mWTP416Fo37HP7GvgaxdtE/Zd%2BGulwJGfOkh8GWEQ29yzeUM/UmnzZ5LpSj86kvyUUUnxLUdlGjH51Zv8FFGfpP8AwUD/AGFNbgNxp37ZPwvKqu5hL46sImA9SryggfhWTrv/AAU4/wCCe/h1iuofti/D%2BTHX7B4ihuv/AESXzXF/FTS/%2BCLvgyZ5/ivoH7OVpdRNlobzTdENySP%2BmaqZG%2BmDXnMH7dv/AARh8L3raH8E/g7oPirUIuP7O%2BHXwXad89grC1jjOfZq4K2aYqg%2BWpiMPF%2Bs2/8AwG7Z9ZlvAHi9nMOfBZa5x/mVDE8tu7lNU4JebnbzPT9a/wCCzn/BMvQo2e7/AGq9Ll2/w2Ojahcs3sBFbtmsdv8AgsZ8B/EY8r4J/AL40/ESV%2BLceE/hpdNHIexLzmPavqSOB2rI0r9tr4v%2BISsf7K3/AASH%2BIXnucWd7430%2Bx8KwLn/AJaEyFztA54wSOOM1qxfCL/gr78b3/tD4hftU%2BAfg3ZPzHo3w%2B8IjW7or/cmuL8hVf8A2osjisP7RzSvpQnz/wCCjJL/AMCqzhH8Gep/xDHjHDLmzvNcFgI9pSjVqfKlRqYqf3qK897OT9r3/gpp4%2Bb7b8Lf%2BCYQ0jThyl149%2BJNnaXEw9Ps0al4j/vEinH45/8ABYW6/cQfsJ/De1Zuk9z8Tg6L9VRMn8KX/h2V8W/E37z4n/8ABUH9oC9c/fHhjxHBoqN/wGKJ8D2ob/gjj%2BzxrA8v4jfHD41eMIW/11v4l%2BKF3Kkv%2B8IhGT%2BBFHsc%2Bn/z8%2BdSjH8I0pW%2B9i/1I4Mpf7zxXWm%2BvscFUt8nUdNfl5nLeNPj9/wVY8Psbfx144/ZI%2BG8Z/1knibxXqL3EQ9gXVCfrxXl/iz9rD4z6Wr3/jT/AILzfBjQZE%2B9Y%2BCPhzY63EPYN5jufyr6f8Ff8EjP%2BCb/AICVRo37Jvhu6IOS%2BuNcakWPqftckma9S8JfssfsxeAGR/Av7OfgTRmj%2B42leEbK3I/GOIGj%2Byc5q/HVt61ar/8ASI0kH9geEtD%2BLis1xT/x4bDxfyj7SS%2B9n5pzftzfF/xVIdM8Gf8ABX/x344h3FZIvh3%2ByhF57nptSSUR7T7imf2b8dvil%2B91zQf%2BCgPjKB/vW95cW3hSxufrEpfKHtyK/WmKKKCNYYI1RFGFRFwAPQCnUf6t16n8bEt%2BVpNf%2BT1X%2BQcnhTQ0p5HVrf8AYRmOKn98aMaMfxPyWT9g0%2BLVLw/8EMPFGu3cv%2Bs17x7%2B0q9vP9WVJ1J%2BgAqS1/4I/wDxt8S3CyaF/wAE7vgf4WUHMcfjL4u%2BJ9Uji99lpdYY/XIr9ZaKP9UMtl8bb9I04/lTb/Fgsx4Goa4XhXLovvOnXrP5%2B1xNn80fmn4W/wCCJ3x6cL9u8S/s9%2BEfUaH8Fotf2fQ6uzFvxruIf%2BCJOr6lYiy8X/tkXsqfxQeH/hboWlwf8BijhZV/CvvSiuunwvksFbkb9ZS/TlR20%2BN8fhFy4HBYHDrtSy/BR/GVCrJ/OTPz9T/g3c/Ze1O7F74v%2BO3xFu3zknTDpdjuPuY7Ikj8a6zQf%2BCB37Bmioq3Evj6/I6vd%2BM5ULfXyVSvtaitIcM5BB3WGj803%2BciZ8fcWSaca8YW/koYSnb/AMF4OD/E%2BS7L/gh9/wAE1YnWXV/gVf6s6cq2p%2BNdWkwfot0oP5V1vh7/AIJN/wDBOPwwVbTf2RvCcu3p/aMEt5%2Bfnu%2Ba%2Bh6K6YZLk9N3jhqa/wC3I/qma1fEnxDrUvZTzfFcvZV6sUvRRlBL5JHlulfsN/sV6GippH7Ifwxt9vQxeA9PB/Pycmuj0f8AZ7%2BAfh1g3h/4H%2BELEjobPw1axY/75jFdfRXXHCYSHw04r0jFflE8GvxBxBir%2B3xlad/5q1WX/pVVkFhpmm6VD9n0zT4LaMdI4Igi/kBU9FFdCSWx5MpSk7t3YV4z%2By//AMlv/aO/7LNY/wDqFeF69mrxn9l//kt/7R3/AGWax/8AUK8L0CPZqKKKACiiigAooooAKKKKACiiigAooooAKKKKACiiigAooooAKKKKAML4meDtU%2BIPgPU/BejfEHWfCtxqNv5KeIPD8NnJeWYJBZolvbe4tySAVPmQuMMcAHBHkvhL9hqfwZ%2ByWn7Hmk/tb/FddBtfBCeFdK1%2BGfRLbWNNsY0SKJ4Li20uNVmSBBCspQnaS5zLiUe70UAcJ%2Bzl8DY/2cvhbY/CPT/iPrXiTTNJVINFbWtN0m0OnWaRRxRWcMelWVnAsKBMrmMvl2y5AVV%2BR/8Agpdqn9h/8FV/2INU3YzqnjG1z/13GhxY/HdX3nX51/8ABY69l0j/AIKDfsS6%2Bhwln481E3Df3Yn1Tw3Gx/8AH68zOJcmWzl25X/5PTPuPDegsTxphaD%2B2q8fvwuL/wAkfopRRRXpnw4UUUUAFFFFABRRRQAUUUUAFFFFABRRRQBleBv%2BRJ0f/sF2/wD6LWtWsoeDNDTKwNfQpkkRW%2BrXMaL7KqyBVHsABS/8IfpP/P3qv/g8u/8A47QBqUVl/wDCH6T/AM/eq/8Ag8u//jtH/CH6T/z96r/4PLv/AOO0AeH%2BIP8Agmn%2Bz54l8R/GbxLqGr%2BJhL8bdOtrPXLdNRh8nRBEpLSaahhIgaaci5mEvmpLMqllK/IX%2BCv%2BCd3w58LeLo/iF4g%2BMXj7xT4gPxOk8d3mseIL3T/Mu9TbwrP4X8tktbKGJLcWE5ZY4kjxMiNnZujb23/hD9J/5%2B9V/wDB5d//AB2j/hD9J/5%2B9V/8Hl3/APHaAPnL/h1J8GLPwvoHgHw58Z/iRpHh3SLHwhDqmg6dqeniDxBN4aa1OmXd4z2LSibbZWyS/Z3gjlSJQyfKuPoHWPh1pHi3wPrvw6%2BIV9c%2BI9J8RQ31tqVrqkcKhrK6Dq9mPIjjBiWNzGpbMhUDe7tljc/4Q/Sf%2BfvVf/B5d/8Ax2j/AIQ/Sf8An71X/wAHl3/8doA8z%2BB37Hul/AuTUtZ0745%2BO/EGv6pDotjdeKPE0%2Bmz3x0jSpJXtNJHl2UcX2YfaLsM5jNyxvJnM/mFZFzvhL%2BxNcfB7x34/wDH%2Bg/tV/Eu%2BuviLqF7f6zHq0Hh%2BU291MvlwSQzrpK3G20iCRW0MsskMaIA0b859d/4Q/Sf%2BfvVf/B5d/8Ax2j/AIQ/Sf8An71X/wAHl3/8doA8q8Ofsc6h4XXxP4j0/wDaq%2BJT%2BNvFradHqvxFni0FtTFnY%2Bd9mso4P7K/s9IFNzctj7JvLXDsXztK87ef8E2fh1FoWk2vg345/Efw1rdlZeIrTV/F%2Bj6hpz6jr0WuXqX2qC7%2B02MsAM11GkqvbwwtARthMSEpXu//AAh%2Bk/8AP3qv/g8u/wD47R/wh%2Bk/8/eq/wDg8u//AI7QB5FP%2Bw3odp8Zfhz8V/BPx78eeGtP%2BF3hk%2BH/AAx4G0iLRX0j%2BzXFqs1vK11ps14wlSytUZluVZRF%2B7aMsxZ2r/sKeBviB4j1zXvj58VvGXxJg1jwdrXhS30fxW%2BmxWmmaRqxiF/bQLp1las/mpbwR%2BbcNNKqRYVwXkL%2Bt/8ACH6T/wA/eq/%2BDy7/APjtH/CH6T/z96r/AODy7/8AjtAHhcv/AATo8H380ni3Xv2h/iXqXjxNZ0vUdL%2BJd5d6T/a%2BmnTre9trWGKNNPWyaJYdS1FGEtrIZPt0xdmbYy0fG/8AwST/AGIPil8Gl%2BEvxY%2BEel%2BLL77Rc3M3j7xLoGmXviGS4utVm1a7k%2B1S2pWLzry4uZGjiRIlFw6oiKQB9Bf8IfpP/P3qv/g8u/8A47R/wh%2Bk/wDP3qv/AIPLv/47QBzei/s%2B%2BAtA%2BN7fHfT/ALUuoxeCLXwrpOlr5SWGk6fFcyXDi1iSMNG0zNAsmWZStlbBVTYxfmNG/ZIm07xRrvxG1X9pH4hav4t1LQ5NG0LxXqS6N9q8MWDzrcPBYRRaclth5I4Wd7mG4kk%2Bzwh2cIor0v8A4Q/Sf%2BfvVf8AweXf/wAdo/4Q/Sf%2BfvVf/B5d/wDx2gDyjQP2Nb/wj4e1qHwf%2B1b8TNM8T%2BKPFC674q8exR6DLqerzJZRWMcMkU%2BlPYxQJBb26qkFrEQYQ24s8hfQ8JfsX/CTwZZ/CvS9J1DXJLP4RXd7feHLS8v0lW71G6tbi1l1C7LR7pbjZeXpDKyKGu5TtPyBfR/%2BEP0n/n71X/weXf8A8do/4Q/Sf%2BfvVf8AweXf/wAdoA4jVf2aLPxP8c9M%2BNXjn4u%2BLddt/D2oPqPhTwVfnT00fRL57OSza6hEFnHdTSeTNcgC5uJkQ3MhRVITZw3gX/gmd%2BzZ4bto/Dvj%2B0vPiL4X03wqvhfwn4J%2BIdhpuoaP4c0Nbq2uk0%2B2t1tE82NZbKxKvdG4lUWUGJBtOfcP%2BEP0n/n71X/weXf/AMdo/wCEP0n/AJ%2B9V/8AB5d//HaAPMfgl%2ByD8BP2M/gz4y8Cfs%2B%2BA9O0DTNe1fWfEF7bafpdraoLi8eSUxqttFEvlRKywxKQSkUUabjtzUfjj/lIX8L/APsjPjz/ANO3hCvUT4M0N8LO19MmQTFcatcyI3sytIVYexBFeXeOP%2BUhfwv/AOyM%2BPP/AE7eEKAPZqKKKACvL/2t/g34z%2BM/wwsLH4a3mmReJvDXjDRfEugR63PJFZXVxp9/Dcm1nkijkeJJo0kh81Y5DEZBIEk2bG9QooA%2BbfB37MHxXX4E/EXwP8XPhn4C8T6n8Rtc1DxNquijxnf2%2BnpqM9wnkWKXSaf58UcFvb2hXUEjE32hGkW3iwuPNrb9hv8AbA%2BGfwC8U%2BB/gVP4RsNb%2BLXxPOv/ABQhvPirrZmstI/sy009rHT9cn0%2B6vJ7uaLT7cSX08KSJ9ouGiEbCFo/tuigDi/C/wALdNuPgLpXwe13wlB4Ss4PD1tpr6F4C8UXltDpMUUaotvZX1utpcJHGqBEkRYW2qPlXpXn/wDwTp8PWHhL9m6%2B8LaVcX0ttp3xb%2BIdtby6nqk97cuieM9aUGW4uHeadyBzJI7OxyWYkk17pXjP7B//ACRDXP8Ass3xH/8AU11ugD2aiiigAooooAKCQBkmvl79pH/goFrMHxJm/ZR/Ye8EQfEj4tEbdS/ekaL4TTODcalcKcAqf%2BWCneSNpKsVV8Ef8E2Pjn8eU%2B1/t2/t1%2BM/FltMM3HgrwHt8PaJg9YZBCPMukHOGYo3rXlTzN1KkqeEpuq1o2mowT7OT3a6qKk11s9DxamcOrVlSwNJ1pRdm01GEX2c3e7XVQUmtnZ6Gv8AGj/gpNFqnj%2B5/Z2/YQ%2BHLfGD4iwNs1KWwuNmgeHckgyX98Ds%2BUg/uo23EqyblfAOOv7AP7WP7SBF/wDt5ftsavNps3M3w7%2BEaNoukAd4pbkj7Rdxn0cKwwMNX0p8FfgV8IP2dPAVr8Mvgj8PtN8N6HaDMdlp0O3e2ADJI5y8shwMyOWY45JrO%2BP/AO0/8AP2WvCR8bfH74qaT4asSD9nF9Pme6I6rDAgMs7f7MasaxqYL2lN1szq3it4puNNLz1Tl5ubs%2BkehvgOGc04hxcMPWU8RVqO0aNJT5b/AMqhD36j7uTs/wCVI4X4S/8ABMX9gT4JtHP4E/ZY8KG5iOUvtasTqlwrf3hLeGV1PuCK9t07S9G8O6cLHSdOtbG0hXKw20KxRxgeygACvkcftw/tn/tSn7F%2Bwh%2ByJPpOhT8R/E34yl9NsGQ/8tLexjzcXKkZKuDjI%2BZe1Sxf8EvfGXx0lXVf%2BCgP7X/jP4mq7b5fBuhzf2D4eXvsa2tSHm29BIWRiM5HNZ0MVQjHlyzDXX81lTh/4E4py/7di/U/TsN4bZTw1C2e4yhgbb0aUVXxPo6VB8lN%2BVfERa6wWqPQ/jT/AMFO/wBhX4D3jaL4z/aI0S81bf5aaH4aZ9WvGl6CMxWiyFGPo%2B2uAP8AwUb/AGjviwPJ/ZP/AOCbHxK1yOXiDW/iFLb%2BGbEj/nqhnLtMnfA2k9ODXvPwV/ZS/Zr/AGdLRbT4H/A7wz4ZYJsa60zSY0uZR0/eTkGWT6sxr0Cun6vm9f8Ai11TXaEbv/wKd/wib/2z4d5XpgcrqYqS%2B3iqzjF%2BfsMKoK3lKu/N7nyKPg5/wV0%2BOp8z4oftTeA/hBpcvLaT8NPDLapfGP8AuPdXxAjf/biyPQVNa/8ABHL9m/xZcpqn7TPxM%2BJ3xgvA28nx947ungR/%2BmcNsYgijspLAV9aUUf2JgJ6106r/vycv/JW1H/yUT8TuLMOuXK5U8DHthaNOg//AAZGM679XXv%2BR414C/4J4fsLfDMpJ4O/ZL8BQSxf6u6uvDcF1Ov0lnV3H5165pOjaPoFiml6FpNtZW0YxHb2kCxxr9FUACrNFd9HDYbDK1KEY%2BiS/JI%2BSzLO86zmfPmGKq1n3qVKk/8A0ucrfJIKKKK3PLCiiigAooooAKKKKACiiigAooooAKKKKACiiigAooooAKKKKACvGf2X/wDkt/7R3/ZZrH/1CvC9ezV4z%2By//wAlv/aO/wCyzWP/AKhXhegD2aiiigAooooAKKKKACiiigAooooAKKKKACiiigAooooAKKKKACiiigAooooAK/OX/guZ/oHxw%2BAvi/p/wj0Oq6ju/u7fEXg9M/8AkSv0ar86f%2BC%2BdrM/h3TtXtFzPpXwk8RXsHsU8W%2BBMn/vktXlZ7/yJsQ%2B0G/us/0Pv/Clr/iJeTxe08RTh/4Mcqf/ALkP0WoqOzuob60ivbdsxzRq8Z9VIyKkr1dz4Fpp2YUUUUCCiiigAooooAKKKKACiiigAooooAKKKKACiiigAooooAKKKKACiiigAooooAKKKKACiiigAooooAKKKKACiiigArxnxx/ykL%2BF/wD2Rnx5/wCnbwhXs1eM%2BOP%2BUhfwv/7Iz48/9O3hCgD2aiiigAooooAKKKKACvGf2D/%2BSIa5/wBlm%2BI//qa63Xs1eM/sH/8AJENc/wCyzfEf/wBTXW6APZqKKKACvjv9pf8AaL%2BLH7W/xd1D9g39hvxK%2BnGwIi%2BL3xYtMtD4XtmJDWNo4IEl%2B4DL8pzHggEMrvDtft5/tG/EzxD400v9gH9kTVNnxP8AG9oZde8QQ5ZPBehE7ZtQlKn5ZmB2xLkNlgQQxj3e0/sw/szfCr9kn4PaZ8F/hFoottPsE33d3Lg3Go3TAebd3D9ZJXIyT0AAVQFVVHjYidTMq8sLRdqcdKklu3/z7i%2Bjt8clrFPlXvNuPz%2BKqVs3xMsFQk40oaVZrRt/8%2BoPo7fxJLWKairSk3FP2af2XPgp%2ByR8NLf4WfA/wdDplhHh726b57rUZ8Ya4uZj80srep4A%2BVQqgKNr4xfGr4Vfs/eAL34pfGfx1p/h3QdPXNzqGoS7V3HoiKMtJI2MKiAsx4AJrzX9sb9uPwX%2Byvbab4J0Lw5d%2BNPiX4pbyfBXw60Nt17qMhyBLJgH7PbqQS0rDGFbAO1seefBr9gDx58XvH9h%2B05/wUk8U2fjbxhat5/hvwBZqf8AhG/CWcELFAxIupxxmaTcMgffKJJTnilSl9Sy%2BCco2T6QprpzNdeqhH3nu%2BVO7/V8g4My3A5RSzTPJvC4F3VKEEvb4jldmqEHaMaafuyxFS1KLuo%2B2qJxWT/w1J%2B3J%2B3Mf7O/Yh%2BF5%2BGXgO54b4wfEnTf9Ku4j/y00zTDzJnqskuUYHB2MK7/APZ//wCCZP7P3we8XD4w/Ea41X4pfEeQq9x48%2BId19vuo3HI%2BzRPmO1VSTs2DeoON5FfRgAAwBgDoKKullVN1FVxUnVmtU5fDF/3YfCvX3pf3jbH8e42GEnl%2BRUY4DCyVpRpNurUX/T/ABDtWqX6wTpUe1JoKKKK9U%2BCCiiigAooooAKKKKACiiigAooooAKKKKACiiigAooooAKKKKACiiigAooooAKKKKACiiigArxn9l//kt/7R3/AGWax/8AUK8L17NXjP7L/wDyW/8AaO/7LNY/%2BoV4XoA9mooooAKKKKACiiigAooooAKKKKACiiigAooooAKKKKACiiigAooooA5b42%2BCLH4jfCjXfBupa/r2lwXdiS994Z1%2B60u%2Bj2ESDyrq0kjmhJKBS0bqxUsMjNfMz/F74n6b/wAEUfh/8V0%2BIurQ%2BIdW%2BEfgv%2B3vGc180l/axX0enQ6jqjXEhLedHBPcXBmYkhk3k8E19U/EH4dfD74teDr74d/FTwJo3ibw/qkax6loXiDS4r2zu0DBwssMyskgDKrAMDyoPUVz3gL9l39mb4V%2BF5fA/wAMP2dfAnhvRZ9Nm0%2BfR9B8I2VnayWkzFprdooolQxOxJZCNrEkkGgDz79ii41bQ/Gvxq%2BDcHjHXte8N%2BBPiZb6b4WvPEviG61a8toZvD%2BkX89m97eSS3FyI7m7nYNLI7IJhFnEaqPmn/grzrfiTx9rHijwfq/wg8Q6JZ6L%2Bzr45msNe1W5057TWhHrng2YvbLbXcs6BPKG77RFAfmG0N82PvP4a/Cv4YfBjwhb/D74PfDjQfCegWju1pofhrR4LCzhZ2LuUhgVUUsxLEgckknmvlr/AIKcaL/wkHiLU9KCbmf9kv4sNGvq6XHhZ1/8eUVw5nD2mWV494T/APSZH1PA2J%2Bp8b5XX/lxOHf/AJXpf5n0z8C9a/4SP4JeDvEO/d9v8K6fc7vXfbRtn9a6qvKP2Eda/wCEh/Yj%2BD%2BtM%2B5rj4Y6E0h/2/7PhDf%2BPA16vW2En7TCU594xf3xi/1PN4gw31LP8Zh/5K1aP/gNWrH/ANtCiiiug8gKKKKACiiigAooooAKKKKACiiigAooooAKKKKACiiigAooooAKKKKACiiigAooooAKKKKACiiigAooooAKKKKACvGfHH/KQv4X/wDZGfHn/p28IV7NXjPjj/lIX8L/APsjPjz/ANO3hCgD2aiiigArz/8AaX%2BONz8AfhrF4s0XwiviDWtV8Q6XoPhvQ5NR%2Bxx3uo6hexWkCyz%2BXIYIVaXzJZBHIyxRuVSRgqN6BXn37S/wOuvj98NYvCei%2BL18P61pXiHS9e8N65Jp32yOz1HT72K7gaW38yMzws0XlSxiSNmikcK8bFXUA8%2Buf26LrQv2XvFPxu8W/CmO08T%2BDvGJ8I634St/EQktI9YfUoLCDGoPAmLKQ3VrcG5aBWjglLPEGRo6wrL/AIKA%2BPfEF83wd8H/AAQ8N6l8XLX4k3ng7VvC6fEORdEs57bRYdalujqo05pmhFpdWiY%2BxCQXNx5TKqo8q9b8P/2VviN4I%2BEfjHwDqnxM8H%2BIdU8dXWpar4ivte%2BHck%2Bn3eq3szGQyWJ1HD2C2whtltDL5myHc9y7MTXCeB/%2BCaeo/CHw5pXiP4JfE3wj4W%2BIen%2BPbzxRLqunfDMReHHa50mPSJLCLRYL6JoLVbO3tNird7xNarK7yb5EcA96/Z3%2BNGj/ALRPwP8AC/xt0PR7nTYPEmkRXb6XesrTWExGJbaQrlWeKQPGxUlSUJBIINcZ%2Bwf/AMkQ1z/ss3xH/wDU11uug%2BFP7MXw1%2BHf7M2ifsteJtKtfGHh7TdBj07VY/E2nQ3Eest96aa4gZTExllLSsm3aC2AAAK5H/gnT4Y8NeCv2br7wf4N8PWOkaRpfxb%2BIdppml6ZaJb21pBH4z1pY4ookAWNFUBQqgAAAAUAe6V5H%2B29%2B1Ro37H37PerfFm40/8AtLWZHTTvCGgxgtJq%2Brz5S2tkVfmbLZZgvIRHIyQBXrnTrXxX8G8/8FFv257z9pe/H2n4SfBC/n0f4axNzBrniHgXeqgdHjh4SJuRkI6kEOK83MsRVp040aD/AHtR2j5fzTflFa%2Bb5V1PIzfF1qVKOHwz/fVXyx/u9ZTflCOvnJwj1PVP%2BCf37I%2Brfs6eANQ%2BIfxg1Q658WviHcLq/wASPEc5Vne6YZWyiI4W3twfLVV%2BXIJAAKqsv7eH7X%2Bpfs2%2BEdJ8AfCLQE8SfFnx/dnTPh14VX5vNuCPnvJxkbbaAHe7EgHABKjc6%2BiftHfH74f/ALL3wT8Q/Hb4nX/k6R4esGnlRCPMuZCQsVvGD1kkkKoo6ZYZwMmvDf2Bf2dPiLr/AIo1L9v79rOwB%2BKHj2yVdG0WQEx%2BDdCPzQadCrDKSlSGlbAbcSCAxkL8tVPDwhluC0k1dy3cI31m%2B85O/LfeTcnpE/S%2BB%2BHcmybKHnuaU%2BbB4eXJTpNu%2BKxFudU29G6cb%2B1xU078rVNNTrLl6z9jL9hjQ/2b5L/4ufE3xRN45%2BL3iqMSeMvH%2BqjdLIxAJtbQEAW9qhAVUUDcEXIAVET32iivUw2FoYOiqVFWS/F9W3u23q27ts8HPM8zXiPMp4/MKjnUlZdEoxStGEIpKMIQjaMIRUYxikkt2yiiiug8kKKKKACiiigAooooAKKKKACiiigAooooAKKKKACiiigAooooAKKKKACiiigAooooAKKKKACiiigArxn9l/8A5Lf%2B0d/2Wax/9QrwvXs1eM/sv/8AJb/2jv8Ass1j/wCoV4XoA9mooooAKKKKACiiigAooooAKKKKACiiigAooooAKKKKACiiigAooooAKKKKACvmj9r/AEX/AISP9ovSPD2zd9v/AGaPifbbfXfeeFFx%2BtfS9eI/E7T4dX/b2%2BHGlXH%2Bruvgj4/if6NqnhEH%2BdRVh7SlKHdNfemv1OrA4h4PHUsQvsTjL/wGUZf%2B2mV/wSl1n%2B3v%2BCdHwhvt%2B7y/B8Nvn/rizw4/8cr6Dr5T/wCCJOozX3/BMr4bW91/r7H%2B17Sdf7pj1a8UD/vkLX1ZXBk0/aZPh5d6cP8A0lf5H1niXh1hPEbOaK%2BzisQv/K1R/wDtwUUUV6R8SFFFFABRRRQAUUUUAFFFFABRRRQAUUUUAFFFFABRRRQAUUUUAFFFFABRRRQAUUUUAFFFFABRRRQAUUUUAFFFFABXjPjj/lIX8L/%2ByM%2BPP/Tt4Qr2avGfHH/KQv4X/wDZGfHn/p28IUAezUUUUAFFFFABRRRQAV4z%2Bwf/AMkQ1z/ss3xH/wDU11uvZq8Z/YP/AOSIa5/2Wb4j/wDqa63QBS/4KUfHO4/Z3/Yg%2BIfxF0qZ11Z9CfTNBEOTIb%2B8YWsBQDlmV5g%2BB2Q11H7G/wACbT9mb9lrwH8C7e3jjl8O%2BG7aDUTEBtkvWXzLmTj%2B9O8rf8Crw39vX/i%2B/wC2X%2Bz1%2Bx1b/vrCPxJP8QPGEI6LZ6Wh%2ByLIP4o5bh3jIPGVFd7/AMFKf2i/En7Pn7M15bfDEPN4%2B8c6hB4V%2BH1nA2JZNUvSY0kT0MSb5QTxuRQfvV4MsTTp43E4yp8NGKgvX45W823CPrZGPC2S4zi3jb6nhbc8nChBvSKcv3lWUn0jBWc30jTk3seVa1/xsq/bkHhWP/Svgp8AdaEurMPmt/E/i5R8kHpJDaAksOhckEMsikfatea/sh/s2%2BFv2Sv2dvDHwI8KpG40bT1Gp3yLhr%2B%2Bf57m5YnkmSUs3PRdq9FFelV25bhalGk6tb%2BLUfNLy7RXlBe6vPmfU%2B541zzBZnjqeByy6wOEi6VBPRyV7zrSX/PzEVL1Zdk6dPamgooor0T4wKKKKACiiigAooooAKKKKACiiigAooooAKKKKACiiigAooooAKKKKACiiigAooooAKKKKACiiigAooooAK8Z/Zf/AOS3/tHf9lmsf/UK8L17NXjP7L//ACW/9o7/ALLNY/8AqFeF6APZqKKKACiiigAooooAKKKKACiiigAooooAKKKKACiiigAooooAKKKKAI729s9Os5dQ1C7igt4ImknnmkCpGijLMzHgAAEknpXPfDL4zfB/41eEP%2BFg/Bv4reGvFugCaSI654Z123v7PzI/vp50Dsm5cjIzkd64f9vv4feNPit%2BxR8U/hx8PNGl1PWdZ8Daja2WkQOFfUy0DbrNSxCgzruhG4hf3nJAya8U8OXGufEWy/aW8a%2BAfgD4rk034k%2BFxaeC/CXirwhqmgHxDf2Xh/7PcGdZ4YZLBJjJa2KyTeS0n2NjFuRFcgH078KPjt8EPjxpl3rXwO%2BMnhTxnZ6fdfZr%2B78KeIrbUYrabaG8uRrd3CPtIO0kHBBrhPHH/KQv4X/9kZ8ef%2BnbwhXj3/BL/wAC%2BMvDfxJ8c%2BINVufiNrukT/D/AMF6VZ%2BMfir4Dfw3qr3VkuqrPpEVobS0WS0tFmgkSfyWZpL%2BZGubnyx5XoF/pvxXtP8Agpt4LvPG3jTw9qGhXHwe8cHw1p2leGJ7O7sEGreEvMW5uZL2ZLsnKYKQ24Xachtw2gHJf8EY/wDQP2S9Y8IdP%2BEe%2BKXiXTtv93bfu%2BP/ACJX1pXyX/wSc/4ltj%2B0H4Qbj%2ByP2nPFcUKekLm2dD%2BOWr60ryci0yiiuya%2B6U1%2Bh%2BgeKvveImZVP55xn/4Mo4ep/wC5GFFFFesfn4UUUUAFFFFABRRRQAUUUUAFFFFABRRRQAUUUUAFFFFABRRRQAUUUUAFFFFABRRRQAUUUUAFFFFABRRRQAUUUUAFeM%2BOP%2BUhfwv/AOyM%2BPP/AE7eEK9mrxnxx/ykL%2BF//ZGfHn/p28IUAezUUUUAFFFeYftbfGTxl8GPhhYX3w1s9Ml8S%2BJPGGi%2BGtAk1uCSWytbjUL%2BG2N1PHFJG8scMckk3lLJGZTEIw8e/eoB6fRXzBqv7ZPxm8Kfsa/FD4p654f8OX/j34W%2BJtQ8P6k9hZTxaZeyw3EIjvorVrh52BtbmGf7Es7yvKGt45XZkc%2BW3H/BSr9oj/hWVpexx6Il6/xc1LwpP4og%2BCniO7u/sttoi6kkj%2BDYrsa1bTvIzQlJJDshjS8ZRDcR4APvGvGf2D/%2BSIa5/wBlm%2BI//qa63Wv8DP2i9L8Yfsg%2BDf2ovjXrHhrwnBrXgfTtd8RXZ8QwNpWmvcW0ckgF4z%2BUYldyofeQRj5j1PAfsYfFXwlafsV%2BLPjb4Z8Q2Gr6HB8QfibrVjqunXaT2t3ar4u1ydZY5UJWSNkAYMpIIIINTKShFyey1JnKMIOUtlr92v6HIfsW/wDF/P8AgoB%2B0D%2B1lP8AvtO8OXtr8NPCM/UJFYgTaiFPdWumjYEccnrVbwF/xmv/AMFOda%2BJ8p%2B0%2BAf2c4JdA8O55hvPFVyo%2B3Tjsxt4gIiDyr7HU81j/sNeLv8AhlH/AIIqQ/HnVpc6svg7WfFl3dT8ve39zNcTQM5PVn3W6A/SvYf%2BCYPwW/4UZ%2Bw18P8Aw7f27LrGsaKmveI55iTNPqF%2BPtMrSseWdfMWMk9owO1fK4GEsUsNRl9pPET83KV4R/8AAmn/ANw0fW%2BHSfD/AIb4ziKWmIxT%2Br0n/K8RB18TNeccP7OhFrb2stdj32iiivrD5QKKKKACiiigAooooAKKKKACiiigAooooAKKKKACiiigAooooAKKKKACiiigAooooAKKKKACiiigAooooAKKKKACvGf2X/8Akt/7R3/ZZrH/ANQrwvXs1eM/sv8A/Jb/ANo7/ss1j/6hXhegD2aiiigAooooAKKKKACiiigAooooAKKKKACiiigAooooAKKKKACiiigAooooAK8Z8cf8pC/hf/2Rnx5/6dvCFezV82fHH4jQeDf%2BCqP7PHhK5kAHi34VfEnToEJ6yxXPha8BHuEtpPzNROcacby8vxdvzZFSpClHmltdL72kvxaOe/4J0H%2Byf2l/2qvCHTyPjEuo7f8Ar7s0fP47K%2BtK%2BS/2Ov8AiTf8FNf2t/DJ4Sa48F6jbj%2B95ukyCQ/99ACvrSvMyXTA8vadRfdUn/mfofib73FSrf8APzD4Of8A4FgsN/8AIhRRRXrH5%2BFFFFABRRRQAUUUUAFFFFABRRRQAUUUUAFFFFABRRRQAUUUUAFFFFABRRRQAUUUUAFFFFABRRRQAUUUUAFFFFABXjPjj/lIX8L/APsjPjz/ANO3hCvZq8Z8cf8AKQv4X/8AZGfHn/p28IUAezUUUUAFcb8ePgl4a/aB%2BHUvw78Taxqel7dSsdT0vWtEmjjvdL1Cyuoru0u4Gljkj3xzwxttkR43AKOjozKeyooA8Oj/AGDvAMnwW1j4I6v8VfGt/aa9qf8AbWp61c3Ngmoy6%2BNTXU01oSxWiKt0lzHAUjCC1RLaKNbcIpU5Sf8ABOzwpa3a%2BN9K/aK%2BJNn8QW8VXevXnxOgm0dtWvJ7jTbbTJYZIH01tP8AI%2ByWVnGI0tF2m1RwRIXdvoaigDmPgv8ACPwb8BPhN4d%2BC/w%2BguE0XwzpMOn6d9suTNM8cahd8kjcvIxyzMerMT3r5G%2BKnjn/AIV3/wAEhvj34iE3ltL4v%2BKWno%2BcENeeNNatFx75nGPevuCvzj/awY%2BIP%2BCbj/BhTk/Ej9rjxF4ZEQ6yeb8Q9Yn2%2B/8Ax7/pXm5xUlSymvKO/JJL1a5V%2BMkeRn9WVHI8TKO/JJL1kuVfjJHVftseDrjSv2APgB%2BwTpu%2BO7%2BImteEPCF/DEdrpY20UM95Mcc4X7Om7v8AOfevu%2B2trezt47S0hWOKJAkcaLhVUDAAHYAV8kePlHxt/wCCxfgTwcg83TPgt8L9Q8Q3GPuR6nqkgs44mH94QKJFz07c19dVz5XTi8TXqLaLjTXpTik//JpP7j9U4npRybhDIskhpy0ZYma/vYmdqd/NYfD0/lL7yiiivaPggooooAKKKKACiiigAooooAKKKKACiiigAooooAKKKKACiiigAooooAKKKKACiiigAooooAKKKKACiiigAooooAK8Z/Zf/wCS3/tHf9lmsf8A1CvC9ezV4z%2By/wD8lv8A2jv%2ByzWP/qFeF6APZqKKKACiiigAooooAKKKKACiiigAooooAKKKKACiiigAooooAKKKKACiud%2BLnxS8G/A/4W%2BIvjH8Q797XQvC2i3OqatPFC0si28ETSPsRctI5CkKigszEAAkiuS%2BD/7VPhD4oaH4tv8AxV4L8QfD/UfAcqjxfoHjj7FHdaZC9ol5Hcu9nc3Fu8LwPuDpMwBSRG2vG6qAen1%2BfP8AwVp8X3nwx/4KMfsZfFaDKW%2Bj634jt9VnBwILO9u/D1lM59sTgH619jfs%2B/Hi9/aA8OP4xj%2BB/jTwjpFxbW91oN94vi0%2BI6zaTqzx3EMNtdzzQDaFYx3UcEy%2BYoMYO4L8if8ABbb4f3nxBtoY9J3Jf6F8BfG2v2NxGPmgew1/wXds6%2Bh8uKQfQmvNzhT/ALLrShvGPMvWLUv/AG38TyM/VT%2Bxa8qfxRjzL1g1P8eRr5no/wAFv%2BJJ/wAFi/jXpfT%2B3Phd4c1HH97yWe3z%2BuK%2BtK%2BIrz4iW3h7/goj8Af2sbVlXw/8f/hG3hq7kB/dQXapHqlm2f70vmeUo74P1r7drHJ5xcK0F0qSfynyzi/mpXP1XjyUcZTyjMqbvTr4HDWfd0VUoTXrGUIr0cX1QUUUV7B8CFFFFABRRRQAUUUUAFFFFABRRRQAUUUUAFFFFABRRRQAUUUUAFFFFABRRRQAUUUUAFFFFABRRRQAUUUUAFFFFABXjPjj/lIX8L/%2ByM%2BPP/Tt4Qr2avGfHH/KQv4X/wDZGfHn/p28IUAezUUUUAFFFFABRRRQAV%2Bcesf8Vp8UP2bPgv8AfF5%2B1p8VfEzRf9gjxPrk4Y/QynFfo5X5kfBXxQkv7eqam7BofhT4Z%2BMvitmP3Ypbjx9rlqR7EomceleRncksHGD%2B1OmvlzKT/CDPIzijUxdGjhKavKtWo00u/NVi7f8Akp79/wAE0T/wtn4z/tFftdz/ALyPxd8UG8PaFcHkS6Zo0ItoZE9Fcu/TqU5r65r5k/4I4eFW8I/8E1/hbaTIfOvtLutRnkb70jXV7cXAZj3O2ReT2Ar6bq8ki1lVKUt5LnfrNub/APSrfI/U/E%2BtTqcfZhRpP93Qn9Xh/wBe8NGGHh96ouXrJhRRRXqHwYUUUUAFFFFABRRRQAUUUUAFFFFABRRRQAUUUUAFFFFABRRRQAUUUUAFFFFABRRRQAUUUUAFFFFABRRRQAUUUUAFeM/sv/8AJb/2jv8Ass1j/wCoV4Xr2avGf2X/APkt/wC0d/2Wax/9QrwvQB7NRRRQAUUUUAFFFFABRRRQAUUUUAFFFFABRRRQAUUUUAFFFFABRRRQB5/%2B1X8Fbr9oz9m7xt8DtO16PSrzxP4curHTtTmhMsdpdMhMEzoCC6LKEZkBBZQRkZzXlfhT9mD45/EKH4u3n7RWmeEdKufjToJ0HWrbwd4nu76PQ9Oh0w2cHkyXFhbm8lklub2VyywCJWhQCYqzn6UooA%2BZP2AP2OfiN%2BzD4g17WvFnhrwP4Xsb/wAJaDoq%2BHfh/qt1d2uqX9gbz7Tr90bi2tyl7drcwo67ZX22qeZcznb5cHxZ/Z78F61%2B3hpemf2l4gmPxB%2BAfxCsdZh1bxbqN/ZxJJqHhSIi2tLmeSCyUiVty26RhsDcDtXH1FXjPjj/AJSF/C//ALIz48/9O3hCplGM4uMtnp95M4RqQcZK6aafo9H%2BZ8T6dD4v%2BJn/AAQs8HfErRYT/wAJz%2Bz7rserWcZJJtbjQtRlidSRyALLcxHsPrX6R/DXx7oPxU%2BHeg/E7wrP5umeItGtdT0%2BTOd0E8SyoeP9lhXyn/wT/wDDOi6d8U/2r/2PPE9ms2m23xRuNXbT36DTtfsxKIgP7m1HA/3jW1/wSA8S61p37NGrfs0%2BMr1pte%2BC/jfVPB988vDywQzmS2lA/uGKVUU9CIq%2BWyaUqFaipfbpuD/x0JOP3uH5H1fDc5Z34L06cnerldflff2OI5qUvlHE4aD8nV8z6tooor6s%2BWCiiigAooooAKKKKACiiigAooooAKKKKACiiigAooooAKKKKACiiigAooooAKKKKACiiigAooooAKKKKACiiigArxnxx/ykL%2BF//ZGfHn/p28IV7NXjPjj/AJSF/C//ALIz48/9O3hCgD2aiiigAryH9tf4kePvh58J9Isvhl4lbQtY8WeP/DvhiHxElpDO%2Bkxahqdvbz3Mcc6PE0wheQReYjxiVoy6OoKN69XO/Fj4T%2BAfjf4Cvfhn8TdDbUNHv3gkmhivZraWOWGZJ4J4Z4HSWCaKaKOWOWJ1kjkjR0ZWUEAHzJrf7SP7QHhL9iL4t38HxG/tbxz8PviBd%2BENB8V3emWiXets1/axWmyCOFbQ6i8d7Haxjykt3vFQtGkbMi%2BYWf7ZX7XZs7D9n25vfie/i3UvjZqnh%2BVYNB8Kv410vSrTw5baultOcL4eF1M06zLcKXg%2BwukfN2Tt%2BubX9i79nK0%2BFN78Ev8AhC9Qn8MalbyJf6de%2BKtTuDcTSXr3z3ryy3DStfG6czm%2BLfavMCt5uUXFNf2E/wBmiPwL/wAIDD4X1%2BOI%2BJ28RtrsXj7Wl11tWa1%2BxtenWBef2gZTaf6KWNxk24EP%2BrASgDW%2BEHxz8F%2BIP2XPD3x1tPEnijxLpEvhuC5l1KXwtLPrN6yqEkaXT9Ot9xufMDCSG3gAVw4VAoAH5e/s2/EGDxLof7ffx%2BtLe/trXQ9M8WeH9CfVNMnsrhBqOva/dbXguESaCRZJY90UiK6scMoIIr9cvh38PfBfwm8C6R8M/hz4dt9J0HQtPistJ021B2W8EahVUEkk8DliSSckkkk1%2BS19ot94d/4JzftueJraPbqXjn9r3xLoWnf9NYk8UpEB/wCP3Ax7V89xJzLBqa%2Bzzy%2B6lNL8ZI9rg3LP7Y8SuHsI/heNot9rRaevkrN/Jn6Z/sTeE/8AhBf2OPhT4QaLZJp/w60WGcY/5aCyi3n8W3H8a9PqpoOj2nh7Q7LQLBcQWNpHbwjHREUKP0FW69zD0lRoQpr7KS%2B5JfocubY6WZ5tiMZLerUqT/8AA5zn/wC3hRRRWp54UUUUAFFFFABRRRQAUUUUAFFFFABRRRQAUUUUAFFFFABRRRQAUUUUAFFFFABRRRQAUUUUAFFFFABRRRQAUUUUAFeM/sv/APJb/wBo7/ss1j/6hXhevZq8Z/Zf/wCS3/tHf9lmsf8A1CvC9AHs1FFFABRRRQAUUUUAFFFFABRRRQAUUUUAFFFFABRRRQAUUUUAFFFFABRRRQAV4z44/wCUhfwv/wCyM%2BPP/Tt4Qr2avGfHH/KQv4X/APZGfHn/AKdvCFAHkXxD1J/2Tf8Agq9ovxV8RRCPwd8f/DFv4Wn1LO1LPxHZMWtFlPTE0J8qPuWJ7Kar%2BN9Xl/YQ/wCCks3xa8SwrD8M/wBomPT9I1TVgdsWi%2BKLSNo7UzdkjuIiV3cZfczYCEn3H9uD9mDTP2vP2a/EPwZmuxZarNEt74X1cMVfTdVgPmWtwrD5lxIArFedjuB1ry74Da54R/4Kl/sBal8K/wBoXRjb%2BIoln8MfEXTjGq3Gka/ZsFa4ReiOJFjuEHIG7acgMK%2BYxGGq08VKhTdpNutSb25tqkH5O9/Sbf2T0eAM9wXC/E%2BIy3M4uWBx8JRqW%2BJQnKDqOHepQqxp4mmvtJTg9JNr6ror5d/4J1/tH%2BNdRi1v9ir9pvWIx8W/hXItleyzS4bxJpIA%2ByatDu%2BaQPGUEh5IYqzYMm0fUVe7g8XTxuHjVhpfdPdNaOL807p/5NHZxJw/jeGM5qZfiWpctnGcdYVKckpU6sH1hUg4yi/Np2lGSRRRRXUeEFFFFABRRRQAUUUUAFFFFABRRRQAUUUUAFFFFABRRRQAUUUUAFFFFABRRRQAUUUUAFFFFABRRRQAUUUUAFeM%2BOP%2BUhfwv/7Iz48/9O3hCvZq8Z8cf8pC/hf/ANkZ8ef%2BnbwhQB7NRRRQAUUUUAFFFFABX5pfF/wrplr%2By/4F%2BGmlhmf4h/8ABQDxEupKxGWU%2BN9eeRuP4VWCMfgK/S2vzkb/AIqj47fs0fDAfMLj9p34x666en9neJNalDH6GQ4ryM8Sll0o/wAzjH/wKcF%2BVz7/AML4xhxxh8U/%2BXEMRW9PZYXEzv8Afyv5H6N0UUV658AFFFFABRRRQAUUUUAFFFFABRRRQAUUUUAFFFFABRRRQAUUUUAFFFFABRRRQAUUUUAFFFFABRRRQAUUUUAFFFFABRRRQAV4z%2By//wAlv/aO/wCyzWP/AKhXhevZq8Z/Zf8A%2BS3/ALR3/ZZrH/1CvC9AHs1FFFABRRRQAUUUUAFFFFABRRRQAUUUUAFFFFABRRRQAUUUUAFFFFAHn/7Vfxquf2c/2b/G3xx0/QU1W88MeHLq%2B0/TJZjFHd3SofIhdwCURpSis4BKqScHGK474HftC/EDSdW%2BKPgD9q/xN4QXUPhdDZanqfi7w5pk%2Bl6XNpN1Ym5E7wXN1cvbtC8N2j5mdWSJJPk3mNPT/i58LPBvxw%2BFniL4N/EOwkutC8U6Lc6Vq0EMzRSNbzxNG%2Bx1w0bgMSrqQVYAgggVwHw3/Yz8H%2BDLPxLa%2BOviP4k%2BIp8cCSPx63j%2Bz0m6TxLbmzisorW6hgsIYRbxQRlViiSNHM8zSiVpGagDD/Ye/ad%2BMP7SGu/FKL4seArDw3B4Z8YWcHhTSorWaK%2Bi0m70ex1G2/tASyMBeFbvMiIqLET5WHMZkerf/Fz4UeOf%2BCm3gvwF4J%2BJ3h7WNd8MfB7xxF4l0XStaguLvSXk1bwl5a3MMbl4C2x8BwpO046Gur/Zv/Ya/Zf/AGSfG3jjx1%2Bzz8ItA8KT%2BPr%2BzudXtNB0CysbeAW1pFbRwQJbQRlIf3bTFGLfvp5nBG/Aq%2BOP%2BUhfwv8A%2ByM%2BPP8A07eEKAPZq%2BNf2l/AXxe/YU/aA139v79nnwxP4m8FeKIrf/hd3w9sYh9p2wKVXWrEcAyxoSZY%2BNw3MfvF4vsqggEYIyD1BrjxuDjjKaXM4yi7xkt4vv5ro09Gm0%2BjXBmGAjj6KSk4Ti%2BaElvGSur9mmm1KL0lFtPo18y/Gr4A/A7/AIKQ/Czwv%2B0x%2Bzx8URonjHTbf7b8Ofil4e4ubKQZzbXC8GSHduSW3k5UlxgEsGofs1f8FCrm18ax/sqft36XZ/Dz4u2biC1luGMej%2BLI%2BAl3p1wwCHfx%2B5JDBjtAJDImN49/Yu/aG/ZP%2BIOtfHr/AIJra7pgsNcvDf8Ai34H%2BICItI1SfGHmsJQR9guGA6cRk4yQirHT9K/aj/YR/wCCiGgXH7MP7Wfw%2Bt/C3jSKXydR%2BGvxIjFlqNndEY32M7bPMJGSkkDLIy8lVBwfBdStRxXM7Ua70ad/ZVrbNPpLttNbSU4pM%2Bw4e8QMvq5dT4c4zpSdKN1Rqwa9pRbd28POfu1KUn708JVlG0rypOnO8p/X9FfG1n8Bv%2BCjH7EEZt/2W/iLY/Gv4e2pza/D74i3/wBm1ywhHSCz1P7kgAGFEwCquFVT1rpPh5/wVw/Zjvtfj%2BHX7Rdpr3wW8Y52zeH/AImaW9jEWHBaK8I8h4skYdmTcDkDFepDN6EJKGLToy/vfC/8M/gf3xfkfQYnw6zbE0pYrh%2BpHMaC1vQu6sV/09wz/wBoptdWoVYX2qNWv9S0VT8P%2BIvD/izR4PEPhbXbPU9Puk3219p90k0My/3ldCVYe4NXK9VNNXR8BOE6c3Caaa0aaaafZp2afk0mFFFFMkKKKKACiiigAooooAKKKKACiiigAooooAKKKKACiiigAooooAKKKKACiiigAooooAKKKKACvGfHH/KQv4X/APZGfHn/AKdvCFezV4z44/5SF/C//sjPjz/07eEKAPZqKKKACiivEP2/vEniLQvgno2kaJ4r1LQLTxJ8S/Cvh/X9c0fUJLO6s9OvtatLa4EVzEyvbPMsn2YTIyvH9o3IyOFYAHt9FfEPiP4mfEbwr/wT5%2BM2jeGvi7r5l8MfFW%2B8HeAvFWoa9cT31xDJrNraQ2kupSSGdAlxcy6c1%2BztNbpEZmZ5ISx8l%2BIf7Q37Qfwp/Zd%2BLvwA1TUfifpmsWfxC1vTtX8ReCrjxJ45PgbTYPDemamlna67HbPfyPcteQ7bu7S2a1N5ehGUWMBkAP04r83/ANnW/tNb/wCCj/gbTL6YLF4Mf4ya85IJ8v7X4%2B1ixBAHOSQFGOSeK%2BzP2f8A4qax4g/Y38E/FrSvCfinxVqF14F027/sp7YWeralMbaPfldVktgsjNubdO8Yb7245BPwt/wTM1a/%2BJv7fHxW8ear4YvtHufDcmt6RcaTqckD3OnPe/ErV79reVreWWEupBB8uR0JB2swwT5Obe99Xp/zVYf%2BS80v/bUfoHh/%2B5ebYv8A59YDE29ansaC%2B/2skfpR/wAJhpP/AD6ap/4I7v8A%2BNUv/CYaT/z6ar/4I7v/AONV87ePv%2BCyP/BN74X%2BO9a%2BGnjn9o37Drfh3VrnTNYsv%2BEQ1iX7PdW8rRSx747Rkfa6MNykqcZBI5rJ/wCH5f8AwS0/6Oh/8snW/wD5CqpZ5ksJOMsTTTX9%2BP8AmZ0fC3xMxFGNWlkmLlGSTTWHqtNNJppqFmmmmn1TT6n0/wD8JhpP/Ppqv/gju/8A41R/wmGk/wDPpqv/AII7v/41Xzt4B/4LI/8ABN74oeO9F%2BGngb9o37drfiLVrbTNHsv%2BEQ1iL7RdXEqxRR75LRUTc7qNzEKM5JA5rvv2/vjB8TP2ff2Jvin8cfg3aabN4n8JeB9Q1XR11eZkt1lghaTe%2B2OTdtUMwTbh2UIWQMXXrwuNweNi5YepGaW/K07etj5/POGeJOGK0KWcYKrhpTTcVVpzpuSTs2lNJtJ6Nrroel/8JhpP/Ppqv/gju/8A41R/wmGk/wDPpqv/AII7v/41Xz3qf7bnxt8K/EPxz4L%2BIXwK8CaFp/wy%2BHlp4m8c%2BJ7v4qXRsbd7uLVGt7a2xo4lnUPp8YlldIiiXBaOOZ0EUnM/Db/gpVq/xV1TwzoerfCfV/C%2BtxfGiXwd4h0hZby2hkQ%2BD9Q1%2BGfbrGj2l68LpDEm37PaSCVAyyyQqVuOk8M%2Bqv8AhMNJ/wCfTVf/AAR3f/xqj/hMNJ/59NV/8Ed3/wDGq%2Bef2Sv2%2BfiT%2B0Pp%2BiXHjn9mD/hH7vxZ8JtF%2BIPhPS/D3jWHVZ7rTr5gjwTm4gsore4hLxMVDyI6PkOGUx11P7Vfiz4q6l8Wvhf%2Bzx8LfivqHgRvG11rF1q3ivRtNsbq9it7CyEi20C39vcW6tJNNCzM8TnyoJVXazCRAD13/hMNJ/59NV/8Ed3/APGqP%2BEw0n/n01X/AMEd3/8AGq%2BcoP2hP2kfif8A8EyPCHx/%2BH1pc/8ACc67pHh2bxDd%2BFdDW9uLe0lv7SLWNQ06ykWQTypZm8ubeArLuZY12TnEb8D4V/aX%2BIPjX9mX4heN/Gf7VXxL8FQ/Cz4jX/h7TvER%2BH%2BkQ%2BIvGHmWljcabDLpt5pjILmSS/S2S2gtreaZ1jUrE7MlAH2X/wAJhpP/AD6ar/4I7v8A%2BNUf8JhpP/Ppqv8A4I7v/wCNV8OftA/tV/t2/Aiw0P4i/F208U6Nd6V4E8FXs3hfwV4Hh1Hw/r%2BtXN2YvEVnf6i1tM1gIVMa24Fxa5LqyG7YmFfTPiL4u%2BOXgb9uCTw94X/a01%2B48LaB8Mtd8b%2BOvD3ivStDGi6THK5ttGt/OtdNivkhMkWpTl2uHcppZVi%2B9qAPpb/hMNJ/59NU/wDBHd//ABqr9hf2mp2iX1jOJIpBlWAI74IweQQcgg8givkP/gmV%2B0B%2B058TfGOteD/2l9b8Vi4l%2BGvhfxJpmneO9K0W3vZJ7xr9by6sjo0axf2WzQ26wxXX%2Bnxssn2hIw8W76t8H/8AIJm/7Cl9/wClctAGrRRRQAUUUUAFFFFABRRRQAUUUUAFFFFABRRRQAUUUUAFFFFABRRRQAUUUUAFeM/sv/8AJb/2jv8Ass1j/wCoV4Xr2avGf2X/APkt/wC0d/2Wax/9QrwvQB7NRRRQAUUUUAFFFFABRRRQAUUUUAFFFFABRRRQAUUUUAFFFFABRRRQAUUUUAFeM%2BOP%2BUhfwv8A%2ByM%2BPP8A07eEK9mrxnxx/wApC/hf/wBkZ8ef%2BnbwhQB7NRRRQAV55%2B0F%2Byh%2Bzl%2B1R4d/4Rn4/wDwg0bxLAsZS3uL2223VqD18m4QrLCfdGWvQ6Kzq0qVem6dSKlF7ppNfc7mVahQxNJ060VKL3TSafyaaPj%2BH9gr9sf9nJSP2Hf26NR/sSA5tPh/8XbD%2B2dPjXtFHeLi4t4h0CoCcHkk9cnx5%2B0j%2B1xpfhyXwR%2B3b/wSlbx9oI/4%2B9U%2BGc9r4itLrjBdNMuR5yY/22zX2tRXlyyeEIuOHqygv5dJw9OSfMreSaXkebQyqtl1WNXLMTVw8ou65ZNpNbWUm3G3TknG3Sx%2BVumah/wRwn8UzTfBr9pH4n/sw%2BMJpPMutLtb3U9DVZD2nhuUkttvYorqOO1e2/DzVP8AgoXbRJJ%2BzD/wUe%2BB3x309Rm3s/F1hFb3Jj/uedpUrl3xxufGT1x0r7Q8XeBPA/xA0w6L488G6Vrdmc5tNX06K5iP/AZFI/SvCviD/wAElf8AgnJ8SpHn1/8AZN8MWkjnd5nh5ZtKKt6j7FJEB%2BVeY8kxtB3oci/wOpR/CLqU/wDyQ%2B7h4l%2BJ6gqeZVMNmUFpbF0FOdu3tGnVWnat6WOTH7af/BQz4a/uvjh/wTA1fU7eL/Wax8M/G1nqgm9SlowWZfozZNKn/BZr9lfw4wj%2BOXgD4q/DFwcSr47%2BG17B5Z9zbrNTf%2BHP3wo8Nc/Bj9qn48%2BAAn%2BptvDHxOnFuvopjmSTcvsTQ37Cf7enhdSnwx/4KzeLY4lGFg8X/D7TdZ3j%2B6zyFTz64zR/xktDbml6%2Byn%2BP7mRX%2BuvD%2BJ/5GXCqi%2BssHjZ0/up11Wh%2BNvI9A8Ef8FPP%2BCfHxBCf8I9%2B174GjMn3E1fWk09j7bbryzn2xmvWvCfxQ%2BGfj1Fl8C/ETQtaVhlW0nV4bkEeo8tjXxR43/YD/4KA%2BIS7eJdU/Za%2BIzHOZfHvwe8h5D6lrZGKn3BryXxb/wSz/aEvnMviz/gmx%2BzZrcgOfM8CeOde0Pn1QNKgX8RR/a2e0vjw1/%2B3Zr8pVEL%2B1/CrEfHRzTCvzo4XExXzp1qMn9x%2Bp1FfkqP2JP2wfBA2%2BFf2DPi94cjT7tz8OP2uraHy/8AciuopGP50o0f/go/4G/5Bdh%2B2Zp%2Bzp9r8R6R4ox%2Bax7/AOtH%2BsuIh/Ewk16X/wDbqaC3hhW/h57Up%2BVfLcbD75UnWj91z9aaK/Jb/hqj/gqf4L4k8dftMPEnSLXf2RtMuIl/3riC83H8qP8Ah6f/AMFIPCf/AB/6naTbev8AwmXwD1uy/wC%2BvsbPj8KP9bsBH%2BJSqR/7dT/yD%2BzODan8HiXAv/G8XR%2B/22BSX3v1P1por8mR/wAF3f2rvDCbvG9j8GJdo%2BcQeG/F9mf/ACLauBVnT/8Ag4%2B8YwY%2B1/AvwHrGOv8AZ/ji8sN30%2B12Ix%2BNNcZ5B9qbXrF/o2C4fy6q7UM7yyfpmGHj/wCnVR/Q/V2ivzH0b/g47srlQ2ufsj2NsP4vsvxi0yYj8HijrftP%2BDjb4EQqG8Qfs/6/B/e%2BweLNHucfT/SFzW8eLeHZf8v0vVSX6FrhHHzdqWKwdT/Bj8BL8sWj9GaK/Pex/wCDkr9iCWYWupfC74nW8h6mLSdNnT80vyT%2BVdNpX/BwT%2BwXqYBl0z4hWoP/AD38I7sf9%2B5WraHE/D09sVD73/8AImsuBeKErqjGX%2BHEYSX/AKTjZfkfcVFfHdj/AMF2v%2BCdNyAb74heJLH1%2B1eCdQ4/74iatSy/4Lhf8EvrxvKb9psQP3S58H6wmPxNpj9a3Wf5HLbE0/8AwJfrYlcC8ZS%2BDAVZf4Yqf/pFSZ9YUV80WH/BYn/gmnqOPs/7WOhrn/nvYXsX/ocArZsf%2BCp3/BO7UcfZ/wBr/wAFLn/nvqnlf%2BhgVrHN8pltiIf%2BBx/%2BSE%2BBON1/zK8R8qFV/lCR79RXjNl/wUW/YHv8eR%2B2X8Mlz/z38a2UX/ocgrVs/wBuD9i3Ucf2f%2B178L589PJ8f6c38pq2jj8BLatD/wADj/8AJHLU4R4to/xMuxC9cPXX/uE9Rorg7P8Aal/Zj1D/AI8P2jPAc%2Benk%2BL7Jv5S1qWnxv8AgvqGPsHxe8Lz56eTr9s38nrVYjDy2nF/Nf5nDUybOaP8TC1Y%2BtOovzpo6iisq08deCL/AB9h8Y6VNnp5WoRN/Jq0be7tLpd1rcxyD1jcH%2BVaKUZbM4Z0a1L44teqa/NIkoooqjMKKKKACvGfHH/KQv4X/wDZGfHn/p28IV7NXjPjj/lIX8L/APsjPjz/ANO3hCgD2aiiigArN8Y%2BDPB/xE8LX/gf4geFNN13RNUtmt9T0fWLGO6tbyFhho5YpAUkQjqrAg1pUUAcdpv7O37P2jeEW8AaR8C/B1poL6EdEfRLbwxaR2jaYXdzYmFYwhty0kjeTjZl2OMk1b8F/BT4NfDj4fyfCb4efCXwzoPhWWOZJfDOi6Db2unus2fOU28SLGQ%2B5tw2/Nk5zmumooAg0vS9M0PTLbRdF06Czs7OBILS0tYVjigiRQqoiqAFUAAAAYAAAr86/wDgkN4fd/2hf2xfHcgLC6/aUutNiY/wi28R6k7KPTm4BNfo3XxH/wAEn/CzaP4H/aH8Rzx/vNa/bR8byo%2BOsUXiMQqPwZJPzrz8XT9pisO/5ZSf/kkl%2Bp9dw9jVg8gziN9atGlT%2B/FUpv8ACmj7cor5i8f/APBTX/hAvHet%2BBf%2BHfP7T2tf2Lq9zYf2xoHwn%2B02F/5MrR%2BfbS/aR5sL7d6PgblZTgZrI/4ew/8AWNT9rT/wzf8A91VnLOssjJxdTVf3Z/8Ays/OJcQ5NCTjKrqtPhqdNP8An0fWlYvxH%2BHngz4ufD7XPhV8RtBi1Xw/4l0i50vXNMnZlS6tLiJopoiUIYBkZhlSCM5BB5r588A/8FNf%2BE98d6L4F/4d8/tPaL/bWr21h/bGv/Cf7NYWHnSrH59zL9pPlQpu3u%2BDtVWODivZv2k/GHxO%2BHnwC8X/ABB%2BDPhy01nxPoOgXOpaPot7C7pqUkCGU2oCOhDyqjRo27Cu6sQwBU9eGxmGxkXKjK6W%2Bkl/6VGP6nbg8fg8wi5YeXMlo9JLz%2B1GP4XMaD9jX9nhfCvinwdqfhDUtXs/Gvhu30HxVL4i8V6nqd1qVhB9p8mOS5u7mSfen2ufEocSjcvz/Im3O8D/ALBX7LXw91Jdc8P%2BAtSm1IeLh4ol1bWvGOraleXGrjSJtGF3NcXl1LLOw0%2BeW3xIzLtKnG5EZfDfEf8AwUf%2BJvxI8LXPjH9lxtD1Ww8R%2BO5tI%2BFEsXhJdUbxBp1hpC3Wq3sjXOt6VbQxxXfnwB2uF2izcBJWkHl8T4N/bq%2BI3xc8R6J8eLL7Ta6d48%2BGX7O%2Bqx%2BFG1%2B9%2Bw6VP4i8Xa7bX8kH2aeLc5i8lGY5SdbWFZkliXyj0nYfYfhj9k74EeCbHRLDwd4TvdKXw54GtPB2iTad4j1CGa00W1eN4LVZUnDnaYo8yFjIwBDOwZgdH43/ALPXwp/aJ0TT9D%2BKWj6jMNI1E32kX%2BieIr7SL6xuDDLAzw3lhNDcRboZponCSAOkjKwKkivk34J/tU/tQfG79qT4QeMNT8VeEf7E8d/C3x/rfhz4e6VdXuntayWd/o0FtBq0pmuEupY/NKNcJbRG2ke4RYpM5Pt37b%2BreJJ9M%2BFHw3l8Var4d0jx38V7DQ/GepeG9duNPuobM6ff3SQQ3tu0U9v597a2dr5kbRyMtwVUqXFAHoUn7O/wsTwGPhho1jrGi6BF4csNCstM8M%2BK9R0qPT7GzJNulp9juIjZuoO0ywFJXRERnZY0VeL8S/8ABPX9lXxX4U8J%2BDtR8JeJLe28E69d654du9I%2BI%2BvWF9Fql0sq3F/NeW17Hc3dzIJ5g088kkh86T5vnbPA/CLUf2hfin/wTb8b6H8J/iTdz%2BNLPUvHfhzwD4s1jVS1xcW%2Bn69qmn6ZcSXkoctKbW2gH2tw5dsTtv3HPFfs%2B2fxV%2BLOnfG/4FnwX4%2BsLDwl4p0Y%2BCfD3jj9oTVrTVYb%2BXSop7vT7vxBpN1fXSRjcl0IVmutq3SblVWWKIA%2BlfEH7JfwU8XeIPDHiPxdaeJtWk8IW9hFo9lqvj/Wbmxd7KTzbW4urSS7a3v7qOXEourqOWfzERzIWRWHQWvwU%2BF1p4r8WeNv%2BEQgm1LxzZ2tn4rmvJZJ11C2t4pIoYGjkZkSJUll/doqqTNIxBZ2J/OSf41fFzxf%2BzRqWv8AjD9pLxlpmr/C79mvxF4p8NX%2Bl%2BLLu2F74n07WNRs5muHhmH9uwWb2FlbL9o82K7S8EskZe4Xb6z4K%2BPXxTuv22Nc8b/HDwh4jj0ew%2BM2n/D/AMOw6d8WL%2Byh0ma68O2d5Cr%2BHoAtpqUMkl1LK91cu88fmqUi8q3DgA%2Bo/gP%2ByX8CP2arm9vvhH4Y1K3ub/TrTTpbvWvFOpavPFY2vmfZrKGTULiZ7e1iM0pS3iKRIZGIQEmu08H/APIJm/7Ct9/6Vy1qVl%2BD/wDkEzf9hW%2B/9K5aANSiiigAooooAKKKKACiiigAooooAKKKKACiiigAooooAKKKKACiiigAooooAK8Z/Zf/AOS3/tHf9lmsf/UK8L17NXjP7L//ACW/9o7/ALLNY/8AqFeF6APZqKKKACiiigAooooAKKKKACiiigAooooAKKKKACiiigAooooAKKKKACiiigArxnxx/wApC/hf/wBkZ8ef%2BnbwhXs1fOH7R%2Br/ABr0f9vD4Tz/AAO%2BH/hbxFqTfCPx2t3aeK/GFzosEcH9qeEiXSW30%2B9Z33bRsMajBJ35AUgH0fRXjP8AwnH/AAUL/wCjX/gz/wCH41b/AOZej/hOP%2BChf/Rr/wAGf/D8at/8y9AHs1FeM/8ACcf8FC/%2BjX/gz/4fjVv/AJl6P%2BE4/wCChf8A0a/8Gf8Aw/Grf/MvQB7NRXzjpP7R37dusfGfX/gdb/sofCRdU8O%2BF9I128uX%2BOuqeRJBqNzqVvCiEeGNxdW0ucsCoADx4LEsF6j/AITj/goX/wBGv/Bn/wAPxq3/AMy9AHs1FeM/8Jx/wUL/AOjX/gz/AOH41b/5l6P%2BE4/4KF/9Gv8AwZ/8Pxq3/wAy9AHs1FeM/wDCcf8ABQv/AKNf%2BDP/AIfjVv8A5l65fwD%2B0d%2B3b8RPFfjfwho/7KHwkhuPAfiiLQtVkufjrqgSeeTStP1MPFt8MElPJ1GFSWCnejjGAGYA%2BjqK8Z/4Tj/goX/0a/8ABn/w/Grf/MvR/wAJx/wUL/6Nf%2BDP/h%2BNW/8AmXoA9morxn/hOP8AgoX/ANGv/Bn/AMPxq3/zL0f8Jx/wUL/6Nf8Agz/4fjVv/mXoA9mor5x%2BEX7R37dvxl8KXfi/w5%2Byh8JLa3s/FGt6FJHe/HXVFcz6Xqt1pk7jb4YYbGmtJGQ5yUZSQpyo6j/hOP8AgoX/ANGv/Bn/AMPxq3/zL0AezVT1Dw74f1YEarodnc56/aLVHz%2BYryX/AITj/goX/wBGv/Bn/wAPxq3/AMy9H/Ccf8FC/wDo1/4M/wDh%2BNW/%2BZek0nuJpNWZ31/8Efgvquf7U%2BEPhe5z1%2B0aBbPn80rGvv2TP2VtTz/aX7M/w%2BuM9fP8GWL5/OKua/4Tj/goX/0a/wDBn/w/Grf/ADL1y/wR/aO/bt%2BPHwY8IfHHwr%2Byh8JLXS/GfhfT9d0221D466os8MF3bR3EaSBPDDKHCyAMFZhkHBI5rKWGw0vihF/9ur/IwlhMJP4qcX6xi/zidvefsG/sO6hn7b%2Bxt8K5Cf4m%2BH2m5/Pyc1lXf/BNv9gC9z537Gvw3XP/ADx8I2sf/oKCpv8AhOP%2BChf/AEa/8Gf/AA/Grf8AzL0f8Jx/wUL/AOjX/gz/AOH41b/5l6yeX5fLejD/AMAj/wDImEsryuW%2BHpv/ALch/wDIGNd/8Er/APgnZeZ879kDwUM/88tL8v8A9BIrOuf%2BCQ//AATau8%2Bb%2ByT4bGf%2BeUlyn/oMorqv%2BE4/4KF/9Gv/AAZ/8Pxq3/zL1y/xu/aO/bt%2BA/wY8X/HHxV%2Byh8JLrS/BnhfUNd1K20/466o080FpbSXEiRh/DCqXKxkKGZRkjJA5rJ5TlUt8PD/AMAj/wDImUsjySW%2BFp/%2BC4f/ACJm3P8AwRi/4JkXX%2Bt/ZS0sZ/5561qKf%2Bg3Iqjcf8EP/wDglzc/6z9lqEZ/55%2BLtZT/ANBvBXpH/Ccf8FC/%2BjX/AIM/%2BH41b/5l6P8AhOP%2BChf/AEa/8Gf/AA/Grf8AzL1m8kyZ74an/wCAR/yMnw7w/LfCUv8AwXD/ACPKp/8AghP/AMEu5uI/2criL/rn401g/wDoV2apz/8ABBP/AIJjy/6v4J6pF/ueMdR/9mnNew/8Jx/wUL/6Nf8Agz/4fjVv/mXo/wCE4/4KF/8ARr/wZ/8AD8at/wDMvUPIMjf/ADC0/wDwBFQyDJKfwYaC9I2/Jo8Sm/4IA/8ABNSX/V/DPX4/9zxdd/1c1Vm/4N8f%2BCb8hzH4Q8Ux/wC54rm/qDXp/wAXf2jv27fg14UtPF/iP9lD4SXNveeKNE0KOOy%2BOuqM4n1TVbXTIHO7wwo2LNdxs5zkIrEBjhT1H/Ccf8FC/wDo1/4M/wDh%2BNW/%2BZepfDuQv/mFh/4CjpjlmBh8MLekpr8qiPn%2Bb/g3j/4J1Sfc0vxnH/ueKD/WM1Wk/wCDdX/gns53RT%2BPYj2MfiaPj84DX0T/AMJx/wAFC/8Ao1/4M/8Ah%2BNW/wDmXo/4Tj/goX/0a/8ABn/w/Grf/MvUPhrh9/8AMLD/AMB/4JtHDQh8Mpr0q1l%2BVdHzoP8Ag3f/AGG4Tmx8e/FK29PI8VwDH52pqaL/AIN%2Bv2TLb/jx%2BPPxqt/TyPGlsuP/ACTr6F/4Tj/goX/0a/8ABn/w/Grf/MvXL%2BPv2jv27fh34r8EeENY/ZQ%2BEk1x488US6FpUlt8ddUKQTx6VqGpl5d3hgEJ5OnTKCoY73QYwSyn%2BrWQLbDR%2B5//ACQ3QUt51P8AwdX/APmg8tg/4IPfs%2B2n/Hj%2B1h%2B0Bb%2Bnk%2BP7dcf%2BSVXrb/giV8MLL/jw/bj/AGlYPTyviZCv8rOvbP8AhOP%2BChf/AEa/8Gf/AA/Grf8AzL0f8Jx/wUL/AOjX/gz/AOH41b/5l6pcO5ItqC%2B%2BX/yZhPLsNU%2BJzf8A3Fr/APzQeOxf8EcdEtf%2BPH/gof8AtQQ46bfimo/lbCl%2BA/7Isv7K3/BQnwaj/tL/ABT%2BIi678GfGW0fEvxX/AGn/AGd5OreFv%2BPb5E8rzPN%2Bfru8qP8Au17D/wAJx/wUL/6Nf%2BDP/h%2BNW/8AmXqh4H8D/tWeMf2rPDnxu%2BN3w4%2BHvhnRvDPw98Q6HDD4V%2BId9rV1d3WpX2iXCMyXGkWKRRomlygsHdi0qALjJHTh8oy7C1VUpU7SXnL8nNr8CaOV4KhVVWEXzLvOo/wlUkvvTPdaKKK9E9AKKKKACiiigAr5y/Yh8Mab4W/Z48WXtj5hF7%2B0N4/1O%2BdhnB/4TzVN7cDoqRj8Fr6Nr5K/ZK8Wftnaf8PfFFn8MfgH8MNX0JPjT8Rf7P1HXvi7qOm3cy/8JnrJYyW0WgXKRENuAAmfIAOQTtCaTafYuNSpGEoJ6Stfzs7r7nqfUH/Cc%2BCf%2Bhw0v/wYR/8AxVL/AMJz4J/6HDSv/BhH/wDFV5b/AMJx/wAFC/8Ao1/4M/8Ah%2BNW/wDmXo/4Tj/goX/0a/8ABn/w/Grf/MvTIPUv%2BE58E/8AQ4aV/wCDCP8A%2BKo/4TnwT/0OGlf%2BDCP/AOKry3/hOP8AgoX/ANGv/Bn/AMPxq3/zL0f8Jx/wUL/6Nf8Agz/4fjVv/mXoA1L74GfsUap8ONJ%2BDup/B34W3HhHQL37ZoXhWfw9pr6bptzukbzoLYp5UMm6WU70UHMjnPzHOhp/w4/ZR0m1tbLSvAfw9tobK00m0sobfS7FFt4NLnkuNMiQBQES0nlllt1GBBJI7xhWYk%2BZ/BH9o79u348fBjwh8cfCv7KHwktdL8Z%2BF9P13TbbUPjrqizwwXdtHcRpIE8MMocLIAwVmGQcEjmuo/4Tj/goX/0a/wDBn/w/Grf/ADL0Aatj8D/2KtL8U63450z4QfC631vxLBdQ%2BI9Yg8P6al1qsd1j7SlzKE3zrLtXzA5IfA3ZxXQeN9K%2BAHxM8EXPwy%2BJGm%2BDvEHhu8hSK78Pa5DaXdjPGjKyI8EoaNlVlUgFcAqCOgriv%2BE4/wCChf8A0a/8Gf8Aw/Grf/MvR/wnH/BQv/o1/wCDP/h%2BNW/%2BZegDqh4J/ZhHh638Ijwj4DGk2nhufw9a6X9gsvs8OkTiNZtOSPbtW1kEMQeADy2ESAqdoxh3X7Pn7DF98LbX4HXvwQ%2BE83gqyvzfWfg%2BXw1pjaXBdHfmdLQx%2BSkn7x/nChvnbnk1xPxu/aO/bt%2BA/wAGPF/xx8VfsofCS60vwZ4X1DXdSttP%2BOuqNPNBaW0lxIkYfwwqlysZChmUZIyQOa6j/hOP%2BChf/Rr/AMGf/D8at/8AMvQBu%2BIPhN%2ByB4ssfDGl%2BKvhp8NtTtvBMscvgy31DRtPmj0B0CBGsldCLUqI0wYtpGxcdBVy68DfsvX3xUt/jpe%2BD/AM3je0szaWnjGXT7JtVhtyrKYkuyvnKmHcbQ2MMwxya5b/AITj/goX/wBGv/Bn/wAPxq3/AMy9H/Ccf8FC/wDo1/4M/wDh%2BNW/%2BZegD1H/AITnwT/0OGl/%2BDCP/wCKo8GHfoZnUHZNfXcsRIxuR7mRlb6FSCPY15d/wnH/AAUL/wCjX/gz/wCH41b/AOZeuX%2BLv7R37dvwa8KWni/xH%2Byh8JLm3vPFGiaFHHZfHXVGcT6pqtrpkDnd4YUbFmu42c5yEViAxwpAPo6ivGf%2BE4/4KF/9Gv8AwZ/8Pxq3/wAy9H/Ccf8ABQv/AKNf%2BDP/AIfjVv8A5l6APZqK8Z/4Tj/goX/0a/8ABn/w/Grf/MvR/wAJx/wUL/6Nf%2BDP/h%2BNW/8AmXoA9mor5x8fftHft2/DvxX4I8Iax%2Byh8JJrjx54ol0LSpLb466oUgnj0rUNTLy7vDAITydOmUFQx3ugxgll6j/hOP8AgoX/ANGv/Bn/AMPxq3/zL0AezUV4z/wnH/BQv/o1/wCDP/h%2BNW/%2BZej/AITj/goX/wBGv/Bn/wAPxq3/AMy9AHs1FeM/8Jx/wUL/AOjX/gz/AOH41b/5l65fVv2jv27dH%2BM%2BgfA64/ZQ%2BEjap4i8L6vrtncp8ddU8iODTrnTbeZHJ8Mbg7NqkBUBSCEkyVIUMAfR1FeM/wDCcf8ABQv/AKNf%2BDP/AIfjVv8A5l6P%2BE4/4KF/9Gv/AAZ/8Pxq3/zL0AezUV4z/wAJx/wUL/6Nf%2BDP/h%2BNW/8AmXo/4Tj/AIKF/wDRr/wZ/wDD8at/8y9AHs1FfOOk/tHft26x8Z9f%2BB1v%2Byh8JF1Tw74X0jXby5f466p5EkGo3OpW8KIR4Y3F1bS5ywKgAPHgsSwXqP8AhOP%2BChf/AEa/8Gf/AA/Grf8AzL0AezUV4z/wnH/BQv8A6Nf%2BDP8A4fjVv/mXo/4Tj/goX/0a/wDBn/w/Grf/ADL0AezUV4z/AMJx/wAFC/8Ao1/4M/8Ah%2BNW/wDmXrl/AP7R37dvxE8V%2BN/CGj/sofCSG48B%2BKItC1WS5%2BOuqBJ55NK0/Uw8W3wwSU8nUYVJYKd6OMYAZgD6Oorxn/hOP%2BChf/Rr/wAGf/D8at/8y9H/AAnH/BQv/o1/4M/%2BH41b/wCZegD2avGf2X/%2BS3/tHf8AZZrH/wBQrwvR/wAJx/wUL/6Nf%2BDP/h%2BNW/8AmXq3%2Byt8OfjT4P1j4oeO/jpoHhfSdU8ffEKLXLPSvCfiW51a3tbWLQdH0xVe4uLKzZpGk06Vyoi2hZEG5jnAB63RRRQAUUUUAFFFFABRRRQAUUUUAFFFFABRRRQAUUUUAFFFFABRRRQAUUUUAFfK/wC09%2B1p8XPhh8Y/FmteAfDvg%2BTwx8H/AA/4fvfGp1rSLibVdUt9Xv5UuYLC4juI0svItrOO4zJFOLmQpGRD5fmn6orxn4z/ALEPw4%2BN3xSPxM1zxz4q0uLUbXSLXxf4a0a6tU07xTBpd7Je2MV8stvJMFjmmlz9nlgMschimMsYVAAezUUUUAFFFFAHzH4c/aV%2BJkP7f/ij4P8AxG1jw94T8Nr4gtNE8GRaj8ItZS68YwDQINRxB4ja7XTmlju7nUALQQvJ5dpMAoLNIv05Xlfiz9lqDx/8ZNI%2BKfj343%2BNdX0rw9rsetaB4AuDpkWjWOoR27wRzhobJL2XZ5kkipNdSRiR92z5EC%2BqUAFFFFAHi/8AwUF%2BLvxw/Z%2B/ZH8afHr4BXvhSPWPBOhXeuXUHjDRbm%2Btru0tbaWZ7dEtrq2ZJXZEUSFyqAsSj8CvP/Hn7Wnxc8F/HjxbqfhTw74Qi%2BHnhD4x%2BEfh94ys5tIuDreq6rrsGipHqEN2lwsMccH9uaTGYpLeV5EhnxLHtQV7D%2B1j%2BzjZftafAjXv2fda%2BKvinwjpPieylsdcv/CC6d9rubKWJ4prbdf2l1GiOr8siLICo2uvOeLg/YB8HT/EWz%2BIvir44%2BPtdY6zpOueJtG1CXSorHxPrmmJGljq17HbWETLcRCC0wts0EDGxti8TGPJAPe6KKKACvF/2yfi78cPgla%2BAfGPwsvfCn9jah8TPDnh7xfY%2BINFubm6ubXVdZsdNBs5YbqFLaSNbmWTfIk6koi7OSa9oryr9q79lt/2qvDeheF5/j7438DW%2BheJLDXUbwXDo7Pd3tjeQXlm0p1LT7wbYri3jcLGEDcrJvU7QAecfs8/tK/EzW/2qvFvwR%2BKGr%2BHvCenQ%2BKdbt/BPhKT4Razplzr1tC6Sm/t9auLv7BqDsZJpZYraAvyXYrhifpyvJdJ/ZRD/GTRfjL8R/2gPHfjWbwvd3l34T0LxCNJhsNHurm3ktZLiJbDT7aWV/s808K%2BfJKqLO%2B0AkEetUAFFFFAHh/7d3xc%2BPH7P3wa1f46/Cjxj4FsdP8AC2i3N5e6L4s8M3t/c%2BIb3KLZ6ZZyW17B9nmuJSLdG8q6ZpZ4gsLH5W8/%2BCP7X3xn1z4l%2BCv7W8GeEtI%2BGnjf4n%2BKPht4V8Nadpc0er6Jf6BDq2%2Bee5Fw1vNBI3h/U0WGO3iMatbHzJMsB6f%2B0r%2ByDB%2B0l488EfECb9oHx34QufAN3c3ui2PhiLRp7OS9lQRreTQanp14jzwx%2BYsMgCmMTykfM2RV8B/sNfD3wH8Zbf4uw/EXxdqUGna7qevaJ4Q1K5sv7J0rW9RjePUNUgSK1Sfz5xPdlleZ4Ua%2BuTHFH5nAB7XRRRQAV8v/ALXPx4/aX%2BC3xE0/wppUPgDxro/jmHWrbRfhzF4PvpNYS1tNDuruS/uJxevFdWwuore2khFrED9vhQTGRkST6grw6b9ia4j/AGj/ABX%2B01on7VfxL07V/Fumw6dc6XDB4fntNPs4YGjhtrNrnSZbm3iWV3utizbXncu4cHbQAz9hD9oPxv8AHv4e3l18V/H2jX3i7ThZtr/huy%2BF2r%2BEbzQHntllEFzZavdT3Dgtv8u4ASORUO0NtJr3SvN/gd%2Bzdp3wZ8T%2BJPiHrHxS8U%2BOPFXiuKxt9Y8T%2BLmsFuXtLMTfZbVItPtbW2jija5uXG2EMzXEhZmyMekUAFFFFAHxz/wUE/bj%2BKn7GHjn%2B09c0XQPGPhF9G1HW7fwrL8OdTspbdNN0a%2B1JJP%2BEimun0ye7%2B16aNlisCXQjmWUDbC0jevfs0fF3456t8VPG/7PX7R1z4U1DxP4R0nQ9aj1rwVpFzYWNzY6oLyNIjBc3Ny6yxXGnXal/NxIhibZGSVFb46/sJeCP2nNaurX4/8Axb8a%2BKPBdzJcSL8MryTTYdFikmsZrJm329lHfSAR3EzBJbp0Dvu2/IgXp/2fP2ZtI%2BAd5r3iK7%2BKHizxx4j8SGzj1bxV41uLN76W2tIjFa2o%2Bx21vCsUQeVhiPezzyu7Ozk0AelUUUUAFfEf7U/7ZX7Wfwb%2BNXiD4UeDvDfhzxrqdhotxrvhgJ8D/EEcmigajplqhhb7c48TSCx1S487%2By/KeFoSsojEwjr7crw/Xv2LdT8S%2BPT8Tta/a5%2BKM2t6fBeReDbwpoAHhVbqaGSf7JGNJ2Ts0cC2%2B69W6ZYmcKVd2cgHVfssfFh/jJ8I4PFl78TNG8VX8Oo3Vlql9o3gy%2B8Oi2uIpWVrWbTdQuJ7qznjGFeOZw%2Bfm2qGAr0auG%2BAfwF8PfADwzqejaV4p1vxBqOv69ca34k8SeI5oGvdVv5giNPKLeKGBMRxQxKkMUcapEgCjBJ7mgAooooAKKKKACiiigAooooAo%2BKPENh4S8Naj4r1UObXTLGa7uREuW8uNC7YHc4U185/sTftJ/Gvx/4p0fwZ8bPD3gyzHjr4W2XxG8Mw%2BDNKuLQaZHeXBN3p92ZriUXc0b3Ns/2xBAJ2lmJgj2gv9LXdpa39rLY3tuk0M0bRzRSqGV1IwVIPBBHGK8h/Zm/Yr8Bfswaq%2Br6B8QfFviWW28MWPhnw6PFl7azDQNCs3ke3021Nvbwlo1MnzSzma4kEcXmTP5a4APYqKKKACuF/ag8efEX4Wfs0fET4nfB/wouveLfDngXV9U8LaG1jNdDUdRt7OWW2tjDAyyzCSVETy42DtuwpBINd1Wd4t0S/8S%2BGNQ8P6X4r1HQrm9tJIbfWtIWBrqxdlIE0QuIpYi6nkCSN0yPmVhkEA8u/Yp%2BLU/xQ%2BGd9Zat8QvD%2Bs6n4d1VdOvNM0T4Yan4OfQ0FtBJFZ3Glapcz3MLhHEiu3lo8UsWxMDe/sVeefAf9nbSfgdeeJfEdz8RPEnjHxJ4v1GG88ReKfFb2Yu7ow26W8EQjsba2tooo40AVY4UyWdmLMzMfQ6ACiiigD5c/ao/ax%2BKH7OHxe8cWXxK0bwl4i%2BF9h%2Bzv4v8AHttoVvolwmqu2iDS1ntri5kuXt5op1vpwEFshUImXfLCu3/Zn%2BL/AMfNU%2BLnjL9nX9pZ/CV54o8MeGPD3iWPVfBWk3NjZSWWrPqVutsYbm5uXMsNxpF2DKJAsiPE3lxnctQfGP8AYV8O/HT46t8ZfHnx28cy6bN4K1PwjffD2GDRf7Eu9G1Jbb7faSF9Na9Ina0gdnF0HUoQjIjMh6T9nf8AZd0P9n2%2B1rxHP8UPFvjfxDr9rYWV/wCJ/G1zaSXpsLFJFs7MfZLa3j8qIz3DglDI73Mru7s2aAPT6KKKACvkT41/tL/tbeDNd/aA8CW/hXwZ4svfAXh/wp4k%2BG1jpPw/1O/nWPUdV1KEJeWsV48uozwLpsc6m2FuS5IVflVq%2Bu68Ll/Yo8QxfHTxt8f9C/bQ%2BK2lat430ix0y5sbKz8MNaabbWVxcz2aWwl0V5P3RvLpQZnlLrORJ5hVCoB1f7Knxbm%2BMvwpHibUfido3inUbXVbmx1a60fwRf8Ahs2dxE3zWs%2BmajcT3VpOildyTMGIZW2qrCvSa4T4B/APQPgDoWs2On%2BLdc8R6r4m8QS654n8TeJJbdr3Vb%2BSGGDzZBbQwwRhYLe3hVIoo0VIUAXOSe7oAKKKKAPjb9pb9rv9pb9nj4zQfDbWU%2BGfjW%2B1uCCbwjDp3ha9tJfBd5qXiHTPD2kTanK99MLqKdtXnBaJbORxY3Sxhl8wxe4/sq/F/wCJHxGHj/4ffGI6JP4q%2BGnjxvDWs6r4a06azsNT8zS9O1a3uIbeaeeS3za6pbo8bTS4kjkwxBGOFtv%2BCavhJrr4hv4h/aX%2BJ2s2/wASdeOuaxb6kdC8yz1KK4hn0%2B5trqLS0ulNg9vbi0jeaSKJYUDI/OfWPgH8BdD%2BAfh7VtNsvF%2BueJNW8Ra9NrXifxR4le2N/q99JHFD50wtYIIF2QQW8CJFFGixwRqF4JIB3VFFFADLn7T9mk%2Bx7PO2HyvNzt3Y4zjnGa%2BIPit%2B1z%2B2n8NPiJrnw2t7bwH4z17wxe%2BGrfVvHXgj4K6/q0fhy31Zrx72wl0qz1Ke7uZo4bKxuiYp0/d3ULSwIDE0n29dwyXFrLbw3UkDyRsqzxBS8ZIwGXcCuR1GQR6g189/Bj9gLxB8BPhtcfDT4d/t1fGKKO61Z9Tm1m8svCc%2BoS3cryyXM80z6EftMk7y7pJJxI%2BY02FAMEA9Z%2BAnxDsvit8HfD/xCsPiBo3ipNT08SPr/h/SZrC0u5ASshS1nmmltirqyNDJI7xsrKx3KQOvrkvgX8F/CX7Pvwv074U%2BCrm/uLKwluria%2B1W5E11fXd1cy3V1dTOFUNLNcTzSvtVV3SHaqrhR1tABVHxPD4kufDeoW/g3U7Gy1eSylXS7zU7B7q2guChEcksMcsTTRq2CyLJGWAIDqTuF6s3xjoN/wCKPC1/4d0vxbqWg3N5avFBrWjiA3Vi5HE0QuIpYi6nkCSN0OPmVhkUAfD3w3/bs/a1%2BMHxT1v4JfCzTfh8njPTbXXb6Txn4r%2BF2taGuqaZpFrosqWMuiXl8moafK934h2JNPM8flQyXCQus6A/Y3wC%2BLWm/Hz4E%2BCvjro2my2dn418Jabr1pZzPueCK8tY7hY2IAyVEgBPqK8W1f8A4JkeB9a1y%2B%2BIt3%2B0p8U0%2BIGrJeWutfEm2vdIh1a/0y6trW2m0wommizhtillaMPItopVkgWVZQ5Zj9B%2BC/B/hr4eeDtJ8AeDNJi0/R9D0yDT9JsIc7La2hjWOKNc84VFVR9KANOiiigDl/jTqPjjRvhbrWt/DnxDY6Xq1hZm6hvtQ8H3viBEjjIeUDTrGeC5vJGiV1SKGQOXZcK5%2BRvi34S/8FEfj94k8aaHqfje48I%2BBPBmpTzr4g8cXnwM8RTW2sX8Ov3WkIlzKt9GnhmeS1tLX9xqjSSwPKsb52BK%2B2/iZ4M13x74Sm8OeG/ilr/g28kljeLX/DMVi93BtYEqq39tcwMGAKkPE3BOMHBHit1/wTm8Kah4PuPhtq37SHxNu/DGuahNf%2BPNAmuNHEXjC7nvGuria%2BlXTRcReaWWFo7OW1iEMSRqijduAPomiiigAooooAKKKKACiiigAooooAKKKKACiiigAooooAKKKKACiiigAooooAKKKKACiiigAooooAKKKKACiiigAooooAKKKKACiiigAooooAKKKKACiiigAooooAKKKKACiiigAooooAKKKKACiiigAooooAKKKKACiiigAooooAKKKKACiiigAooooAKKKKACiiigAooooAKKKKACiiigAooooAKKKKACiiigAooooAKKKKACiiigAooooAKKKKACiiigAooooAKKKKACiiigAooooAKKKKACiiigAooooAKKKKACiiigAooooAKKKKACiiigD//Z\">"
            ]
          },
          "metadata": {
            "tags": []
          }
        }
      ]
    },
    {
      "cell_type": "markdown",
      "metadata": {
        "id": "LmzcbXXLmlay",
        "colab_type": "text"
      },
      "source": [
        "# Submit a linear model"
      ]
    },
    {
      "cell_type": "code",
      "metadata": {
        "id": "K2C_KM14mlaz",
        "colab_type": "code",
        "colab": {}
      },
      "source": [
        "## GRADED PART, DO NOT CHANGE!\n",
        "# Testing shapes \n",
        "grader.set_answer(\"9XaAS\", grading_utils.get_tensors_shapes_string([W, b, input_X, input_y, logits, probas, classes]))\n",
        "# Validation loss\n",
        "grader.set_answer(\"vmogZ\", s.run(loss, {input_X: X_val_flat, input_y: y_val_oh}))\n",
        "# Validation accuracy\n",
        "grader.set_answer(\"RMv95\", accuracy_score(y_val, s.run(classes, {input_X: X_val_flat})))"
      ],
      "execution_count": 41,
      "outputs": []
    },
    {
      "cell_type": "code",
      "metadata": {
        "id": "TOghmTnKmla5",
        "colab_type": "code",
        "colab": {
          "base_uri": "https://localhost:8080/",
          "height": 35
        },
        "outputId": "5e669763-2423-4a14-df88-44ee8ae61a9c"
      },
      "source": [
        "# you can make submission with answers so far to check yourself at this stage\n",
        "grader.submit(COURSERA_EMAIL, COURSERA_TOKEN)"
      ],
      "execution_count": 43,
      "outputs": [
        {
          "output_type": "stream",
          "text": [
            "You used an invalid email or your token may have expired. Please make sure you have entered all fields correctly. Try generating a new token if the issue still persists.\n"
          ],
          "name": "stdout"
        }
      ]
    },
    {
      "cell_type": "markdown",
      "metadata": {
        "id": "gc_UyQKhmla-",
        "colab_type": "text"
      },
      "source": [
        "# MLP with hidden layers"
      ]
    },
    {
      "cell_type": "markdown",
      "metadata": {
        "id": "qC4cxPrbmla-",
        "colab_type": "text"
      },
      "source": [
        "Previously we've coded a dense layer with matrix multiplication by hand. \n",
        "But this is not convenient, you have to create a lot of variables and your code becomes a mess. \n",
        "In TensorFlow there's an easier way to make a dense layer:\n",
        "```python\n",
        "hidden1 = tf.layers.dense(inputs, 256, activation=tf.nn.sigmoid)\n",
        "```\n",
        "\n",
        "That will create all the necessary variables automatically.\n",
        "Here you can also choose an activation function (remember that we need it for a hidden layer!).\n",
        "\n",
        "Now define the MLP with 2 hidden layers and restart training with the cell above.\n",
        "\n",
        "You're aiming for ~0.97 validation accuracy here."
      ]
    },
    {
      "cell_type": "code",
      "metadata": {
        "id": "cwNfaQS3mla_",
        "colab_type": "code",
        "colab": {
          "base_uri": "https://localhost:8080/",
          "height": 308
        },
        "outputId": "08b68900-5108-49cf-b84e-23572650de96"
      },
      "source": [
        "# write the code here to get a new `step` operation and then run the cell with training loop above.\n",
        "# name your variables in the same way (e.g. logits, probas, classes, etc) for safety.\n",
        "### YOUR CODE HERE ###\n",
        "# write the code here to get a new `step` operation and then run the cell with training loop above.\n",
        "# name your variables in the same way (e.g. logits, probas, classes, etc) for safety.\n",
        "### YOUR CODE HERE ###\n",
        "\n",
        "hidden1 = tf.layers.dense(input_X, 256, activation=tf.nn.sigmoid)\n",
        "hidden2 = tf.layers.dense(hidden1, 256, activation=tf.nn.sigmoid)\n",
        "logits = tf.layers.dense(hidden2, 10)\n",
        "\n",
        "probas = tf.nn.softmax(logits)\n",
        "classes = tf.argmax(probas,1)\n",
        "\n",
        "loss = tf.reduce_mean(tf.nn.softmax_cross_entropy_with_logits(logits=logits,labels=input_y))\n",
        "\n",
        "step = tf.train.AdamOptimizer().minimize(loss)\n",
        "\n",
        "s.run(tf.global_variables_initializer())\n",
        "\n",
        "BATCH_SIZE = 512\n",
        "EPOCHS = 40\n",
        "\n",
        "# for logging the progress right here in Jupyter (for those who don't have TensorBoard)\n",
        "simpleTrainingCurves = matplotlib_utils.SimpleTrainingCurves(\"cross-entropy\", \"accuracy\")\n",
        "\n",
        "for epoch in range(EPOCHS):  # we finish an epoch when we've looked at all training samples\n",
        "    \n",
        "    batch_losses = []\n",
        "    for batch_start in range(0, X_train_flat.shape[0], BATCH_SIZE):  # data is already shuffled\n",
        "        _, batch_loss = s.run([step, loss], {input_X: X_train_flat[batch_start:batch_start+BATCH_SIZE], \n",
        "                                             input_y: y_train_oh[batch_start:batch_start+BATCH_SIZE]})\n",
        "        # collect batch losses, this is almost free as we need a forward pass for backprop anyway\n",
        "        batch_losses.append(batch_loss)\n",
        "\n",
        "    train_loss = np.mean(batch_losses)\n",
        "    val_loss = s.run(loss, {input_X: X_val_flat, input_y: y_val_oh})  # this part is usually small\n",
        "    train_accuracy = accuracy_score(y_train, s.run(classes, {input_X: X_train_flat}))  # this is slow and usually skipped\n",
        "    valid_accuracy = accuracy_score(y_val, s.run(classes, {input_X: X_val_flat}))  \n",
        "    simpleTrainingCurves.add(train_loss, val_loss, train_accuracy, valid_accuracy)"
      ],
      "execution_count": 44,
      "outputs": [
        {
          "output_type": "display_data",
          "data": {
            "text/html": [
              "<img src=\"data:image/jpeg;base64,/9j/4AAQSkZJRgABAQEASABIAAD/2wBDAAIBAQEBAQIBAQECAgICAgQDAgICAgUEBAMEBgUGBgYFBgYGBwkIBgcJBwYGCAsICQoKCgoKBggLDAsKDAkKCgr/2wBDAQICAgICAgUDAwUKBwYHCgoKCgoKCgoKCgoKCgoKCgoKCgoKCgoKCgoKCgoKCgoKCgoKCgoKCgoKCgoKCgoKCgr/wAARCAEgA2ADASIAAhEBAxEB/8QAHwAAAQUBAQEBAQEAAAAAAAAAAAECAwQFBgcICQoL/8QAtRAAAgEDAwIEAwUFBAQAAAF9AQIDAAQRBRIhMUEGE1FhByJxFDKBkaEII0KxwRVS0fAkM2JyggkKFhcYGRolJicoKSo0NTY3ODk6Q0RFRkdISUpTVFVWV1hZWmNkZWZnaGlqc3R1dnd4eXqDhIWGh4iJipKTlJWWl5iZmqKjpKWmp6ipqrKztLW2t7i5usLDxMXGx8jJytLT1NXW19jZ2uHi4%2BTl5ufo6erx8vP09fb3%2BPn6/8QAHwEAAwEBAQEBAQEBAQAAAAAAAAECAwQFBgcICQoL/8QAtREAAgECBAQDBAcFBAQAAQJ3AAECAxEEBSExBhJBUQdhcRMiMoEIFEKRobHBCSMzUvAVYnLRChYkNOEl8RcYGRomJygpKjU2Nzg5OkNERUZHSElKU1RVVldYWVpjZGVmZ2hpanN0dXZ3eHl6goOEhYaHiImKkpOUlZaXmJmaoqOkpaanqKmqsrO0tba3uLm6wsPExcbHyMnK0tPU1dbX2Nna4uPk5ebn6Onq8vP09fb3%2BPn6/9oADAMBAAIRAxEAPwD9/KKKKACiiigAooooAKKKKACiiigAooooAKKKKACiiigAooooAKKKKACiiigAooooAKKKKACiiigAooooAKKKKACiiigAooooAKKKKACiiigAooooAKKKKACiiigAooooAKKKKACiiigAooooAKKKKACiiigAooooAKKKKACiiigAooooAKKKKACiiigAooooAKKKKACiiigAooooAKKKKACiiigAooooAKKKKACiiigAooooAKKKKACiiigAooooAKKKKACiiigAooooAKKKKACiiigAooooAKKKKACiiigAooooAKKKKACiiigAooooAKKKKACiiigAooooAKKKKACiiigAooooAKKKKACuN%2BOP7QHwm/Zx8JW/jT4veJ5dPtL7U4dN0u2stLub%2B91K9lDGO1tLO0jluLudlR2EUMbvtR2xhWI7KvFv2u/gP8VPiX4h%2BGfxl%2BBd14fl8X/CrxjPrWmaJ4tu57bTdYhudLvdMubaW4ghmktH8q9aSOdYZtrR7TGyu2ACjpH/AAUr/Y71rxm3w8tvHviCDW7fSodU1bTtR%2BHOvWkmi2EhuAt3qXn2SDTIAbWcNLdmFEKYYqWUGbwn/wAFH/2NfGfg/wAQ%2BOtM%2BLFza6f4Y0e11fVBrnhPVdMuJNPuXMdreWtvd2sU19bzyAxwy2ySpM5CRlmIB86vP2GPjP8AHW0/aRP7Qt74V8My/tB/CPTvBskfgrWLrUzo7RWusWsr%2BbcWtqZ1VNRiZDsXeyygogxuy9Y/Y2/at%2BM%2Btaz8UP2lPh38G9X1e0%2BE6eBtB8E6d4n1QaRrSy6jaXt5fXd2bBJ9PYmyg%2BzxQw3BtnDP50hIwAeyX/7fP7N2k%2BAbH4h6tdeOLSHVPED6Jpeh3Xwj8SR67e3yW5uXjh0dtPGoShYAZTIluUCKzFsA49P8JeOfDfjbwTY/EPRbi5i0rULBbyCTVNPnsZY4iu7MsFykcsDAfeSRVZSCGAIIr41tv2Gf2tJfgpJ4W8feGPCnjS%2Bh%2BIcut%2BC9B1n9ofxXb3fgOxOmxWoi0/xbHp7atcSGUXcreZDGBHeGENsjGfUvB/7Bmq%2BKfgJo3hb9pz46%2BOPEfj5PhtdeFtf8Q6T8Q9at9Muhc2tzbyTPpa3SWN5MiXTBbq4tmmdoopWKuibADc8Mf8FJP2MvF/h7xJ4s0b4tXK6Z4W8GXni6/vr7wlqtpFe6BaruuNU09p7VBqtogK5nsvPQmSMAkyIG4n40f8FdP2YfAf7M/wATf2gfhW%2Bs%2BM7v4b%2BDYfEjeGW8L6xps2r2Nw7R2t3avNYFrixlkRh9vgjmtkVWdnCqSPHfC/8AwSh%2BNC/BPxf8LPFnh3w9J4h/4UL4j8A%2BC/Hmo/tD%2BNvECSXGpWEdp5h0jVUkttGtpDDE8scEl0yeVGqFggz6P%2B1L/wAE5vih%2B0BYeKtE0Pxj4d0q2179le%2B%2BGlrLM87GDVpLiOWGdo1iANqNhBIbzBnhO9AHqkv/AAUU/ZZt/E3hrwJeav41tvEni7TpdQ0HwpefCTxLDq8tnFd/Y5LmSwk08XNvCkxG6SaNEVGWUkRsrmXwN/wUT/Y7%2BJGqarpXhD4tyXB0rQ9Q1lbufw1qVvaapp1iwS8u9NuZrdYdVhhYqHeyedVLqCfmGcXwR8APjz4x/apsf2oPjn4f8HeH5JPg5f8Ag/VNE8J%2BK7vVTBcy6tHcpJDcz6fZl4mgiUsTGjJIdoV1USHwGb9hz9pf4bfs8%2BF/Cnxo1rwIPCP7N3wP8SaB4L1PwrfXcmpeKd2hHTLe4vbeW2ii04JZozSQxS3QknZXDxqgQgH0D4U/4Kl/sL%2BNPBus/ELQ/jLdrouheDj4tutRv/BmsWcdzoIKB9Vs/PtEN/ZxmRBJPbCWOLcPMZc167a/GD4c3vxcuPgVZ%2BIxN4qtPDUGv3emRWsrCHTp55beGd5QnlL5ksE6ohfe3kyEKQjEfFX7I/7P3xC8WfBL4Q/Hb9t/Uvhlovww%2BG/7L9z4fgk07W5wmr6bqmnaWby%2B1X7VBDDpkEVppyq0CS3CZleRplWNVrsP%2BCK3wr8d6P8As76n8evit4tbxFrHjW%2Bg03w54hlgaOS%2B8I6JF/ZWiXBD8/6VDDNqhPd9WcgKCFAB9lUUUUAFFFFABRRRQAUUUUAFFFFABRRRQAUUUUAFFFFABRRRQAUUUUAFFFFABRRRQAUUUUAFFFFABRRRQAUUUUAFFFFABRRRQAV4jpH/AAUY/Y91K716z1P4pXnh5vDnhy58QahJ418I6roMc2k27pHPf2smpWsC31ujyRK0tsZUBljGcuufab2K5ms5YbO6EEzxMsUxj3%2BWxHDbT1wecd6/MTV/%2BCOX7cvxf1bwvrnxu%2BOOhvrfhrwfqFnqHijUPit4m8TjxDrf2zSr611E6XfRQ2Wk20lzpi%2BfYWQCiOTassgVAoB9sv8At/8A7MNr8NG%2BLGseIPFWlaW2uQaNY2eufDLX7DVNTv5kMkMFlptxYpe37SIGdfs8MgZUdgSEYjovAf7VnwP%2BI%2Bv2XhPw54h1SHV7/wAKT%2BJIdI1rwrqWmXaabDd/ZJZZYby3ikgdZ/kMMirL32bea8m%2BJ3wc/bd%2BMTfD342654N%2BFWh/EP4UeOptY8P%2BGbXxxqV/ouuWdxpN3plzHcXz6VDNYzFL2SSN0tbgRmIKfMEjYq/En4Dftwa/8ZfDv7TXgfRvhXaeLL74Yar4L8Y6FqXivUpLDSFuL%2BG6tb%2ByuE04SagYhG6yW8sVoJS4xLFjkA7jSf8Ago3%2ByB4j17wL4W8K/EbVdZ1P4k%2BDdK8W%2BDdO0TwPrN7PeaHqL7LXUZEgtGa1t92PMknEa24ZTN5QYE7Hw1/bc/Zu%2BK/xGufhP4Z8X6tZ6/b6Xc6nDZeJ/BmraIt/Y28iRz3dlLqNrBHfwRvLEHltmkRfMQkgMpPlH7Cn7CXxY/Zh1/4caz488QeGrs%2BDv2UvCPwxv30i5nlZtW0t5muZovMgj3Wrb02MxV22/NGmBXjXw0/4JV/tjeJ/ij4X8TftTfGGz1SLT/AHivwv408TQfF/xJrV54il1exS2/tO10y%2Bhj0/QjlSxtLRSi5UCZxGq0AfUvhP/gov%2ByP410WPxVoPjvXP7DuNV0vT9P8AEt78P9btdK1GXUr2OyspLS%2Bns0tryCW5mijFxBI8IMqFnCsCfS/C3xd%2BHnjX4geKfhd4X8Q/a9c8FyWcfie0S0mC2Ml1B9ogjMrII3doSshRGZkWSMsFEibvmHxx4E%2BIvhX/AIJ7eNPgR/wUM8T/AAq8EeAtB%2BGkWgW3xM8O%2BLbsM06RpbWupPaXVnAmmzLMLeSGCO4umM5REcnaG7X/AIJX/D74seG/2RNK%2BKv7RVglv8TvixfS%2BOviJCtu0X2e/v1jMNpsb5k%2By2MdlZ7TkgWuDQB9G0UUUAFFFFABRRRQAUUUUAFFFFABRRRQAUUUUAFFFFABRRRQAUUUUAFFFFABRRRQAUUUUAFFFFABRRRQAUUUUAFFFFABRRRQAUVznxd8R/EDwj8N9W8S/CzwTpviPX7O3Emn6Nq%2BvNpltcncu7zLpLe4aJVTc2RDITtwF5rlvhT8cvG3xv8A2RfB/wC0d8OPhnYya5408C6T4g03wpqfiNre3hkvbWG4%2Bzy3q2zsEjEpBlWBiQmRHkhaAPTK8X%2BPXj/9ov8A4aL8C/Aj4C%2BM/BXh9Nf8FeJde1fU/F/gu71ok6dd6Hbwwwx2%2BpWPlhv7UlZmZnz5aABeSdr9mH4/eIPjtpni6w8a%2BArLw94h8C%2BNJ/DXiC00fXm1TT5bmO1tbvzLW7a3t2nj8u8iRt0MbJNHNGVzHk8z8RdaWz/4KVfCHRZFGL34J/ENkbvuj1bwacfkzH8KTaW5cISqO0ezf3asvf8ACD/8FC/%2BjoPgz/4YfVv/AJqKP%2BEH/wCChf8A0dB8Gf8Aww%2Brf/NRXs1FMg8Z/wCEH/4KF/8AR0HwZ/8ADD6t/wDNRR/wg/8AwUL/AOjoPgz/AOGH1b/5qK9mooA8Z/4Qf/goX/0dB8Gf/DD6t/8ANRR/wg//AAUL/wCjoPgz/wCGH1b/AOaivZqKAPGf%2BEH/AOChf/R0HwZ/8MPq3/zUUf8ACD/8FC/%2BjoPgz/4YfVv/AJqK9mooA8Z/4Qf/AIKF/wDR0HwZ/wDDD6t/81FH/CD/APBQv/o6D4M/%2BGH1b/5qK9mooA8Z/wCEH/4KF/8AR0HwZ/8ADD6t/wDNRR/wg/8AwUL/AOjoPgz/AOGH1b/5qK9mooA8Z/4Qf/goX/0dB8Gf/DD6t/8ANRR/wg//AAUL/wCjoPgz/wCGH1b/AOaivZq8%2B%2BIHj/4GfDQan4w%2BPvjjwp4f0861Fp9lqXjDVLa0g8w2kcqwRyXLKu8gSvtByQrHHBxM5wpxcptJLq3Zfe7I2w%2BHxGLrxo0ISnOTsoxTlJvsoxUpN6PRJvTY5r/hB/8AgoX/ANHQfBn/AMMPq3/zUUf8IP8A8FC/%2BjoPgz/4YfVv/moqv/w1/wD8E4P%2Bjovgj/4W2j//AB2j/hr/AP4Jwf8AR0XwR/8AC20f/wCO1zfX8B/z%2Bh/4HD/5I9r/AFS4s/6F2I/8J6//AMoLH/CD/wDBQv8A6Og%2BDP8A4YfVv/moo/4Qf/goX/0dB8Gf/DD6t/8ANRXYfDTxJ%2Bzl8aNCl8U/B3X/AAT4s0y3u2tZ9R8NXVnfwRzqqu0TSQFlDhXRipOQHU4wRXk/xB/bZ/ZO%2BEPxr%2BInwi%2BLHgfUNDtPhp4G07xT4h8WyfD%2B/uNKisrkXzMWuYLR4o/LSyJyz/vGdo49zwyqvTCcKkVKDTT6p3X3q6PFxGHxGEryo14ShOLs4yTjJPs4yUZJ6rRpPXY6j/hB/wDgoX/0dB8Gf/DD6t/81FH/AAg//BQv/o6D4M/%2BGH1b/wCaiom/ab/ZQtpvDceseE9e0qHxXcQ2%2BkX%2BufB/W7C0Waa9eyt47m5uLBIbJ5rhQkS3DxNL5sLIGWaJn5nXf26f2KfAVoT8SZrG3u2vfFaw2vhvwPq2sEWfh/VTpuo3Uot9N3wpBK0QmZl8pC7FJZolE7UYnV/8IP8A8FC/%2BjoPgz/4YfVv/moo/wCEH/4KF/8AR0HwZ/8ADD6t/wDNRXfaBH8GPFdxPaeF4/DGozW0ME1zDYrbyvDHOnmQu6rkqJE%2BZScbl5GRXh/7P37VWifGj4paN4X1z9m7RND8MeOdN13UPhn4kh1VLufVrfSr2G1mN3am0jFi0yTx3MCpLcboQ/mGF1EZAOy/4Qf/AIKF/wDR0HwZ/wDDD6t/81FH/CD/APBQv/o6D4M/%2BGH1b/5qK43xZ%2B1Vonhr48aj4Ht/2btDufAnh74iaL4D8T%2BNW1VI7y01/VbSzuLRItP%2ByFZ7XOpabC85uUZZLogROInaq4/aysvCPhf46%2BIPjJ%2By/oWkz/Bm8iSz07w/rcepSeII7iyiurNQ0lnbrbTymaOLyyZERmBMpGSADuv%2BEH/4KF/9HQfBn/ww%2Brf/ADUUf8IP/wAFC/8Ao6D4M/8Ahh9W/wDmoryf4p/ti%2BPfhT%2Bzj8ZPifq37F3gm48a/A21m1Pxj4Qh8eEafcaSmkf2qLu01E6T5krNEGhET2kZ8%2BKQFhGFlbrv2mv2pfh38DfjP4d%2BAPhnwN8MJvEet6YNRnf4h%2BOYPDNlHBJcfZ7aCCU2d093eXEiz%2BXAkYBW2lLSIdgcA6r/AIQf/goX/wBHQfBn/wAMPq3/AM1FH/CD/wDBQv8A6Og%2BDP8A4YfVv/mormfGP7RmkeAv2yPDH7KuufB/4cXg8YyTf2NHofjNbnxHa2sdhcXJ1K%2B0ZtPQWunmW1ktftS3Mg82W3XbmUhIfB3xo%2BLOtePPFfwM8S/se%2BALL4gaL4Q0zxHo%2Bl6b4%2BN5plza3t3c2qx3l42kxSWUqtayuQtvcK6q3ls5VlAB1n/CD/8ABQv/AKOg%2BDP/AIYfVv8A5qKP%2BEH/AOChf/R0HwZ/8MPq3/zUV4x49/4KDeG/hr8M/wDhIfHfwB%2BG/hzWrL4q3vgXxBqPin4gpYeD9LurbT2vjcSa62mswjkUJboHtEY3TNAwUpuMN9/wUd8IWnhjTviLdfsq6NpXhvT/AId%2BFPGPxEm8Ta9FY3%2Bi2WvXdxbW62dr9jcag8TW0rPvktQVMax75GMSgHtv/CD/APBQv/o6D4M/%2BGH1b/5qKP8AhB/%2BChf/AEdB8Gf/AAw%2Brf8AzUVxHwb/AGrvDfxd/aS%2BJHwNtfhT8LYYPhzq97Y3VhZePkuvFV2sEEEq3I0QacojgkacRq5ujyvQ5wPKfhz/AMFWfh748%2BCnjT4xJ%2Bzn4Dmh8KaP4av55NB8eRX%2Bn6QdYvzZtaa9d/2dH/Ytzp4H2m/i8u4%2By24eQl9oVgD6N/4Qf/goX/0dB8Gf/DD6t/8ANRR/wg//AAUL/wCjoPgz/wCGH1b/AOaivEfGP/BSb4d%2BEv2ENd/a/sP2cPDXiPWNOutet/D/AIa8K%2BJIbzS/Ey6THcT3V7YasbNRJYLbWtxKbk245haNUd2jEnc3X7VPhuX9uD/hjnTPhl8JrVofD%2Bj6tJceJfiElhrV/He/bC66dpQ02X7b5K2ZLn7RGP3gztxkgHa/8IP/AMFC/wDo6D4M/wDhh9W/%2Baij/hB/%2BChf/R0HwZ/8MPq3/wA1FZ/w4%2BKHiHxl8fPit8A9f/Zn8JaVe%2BBNE0rVvC17D4jFymvWuoS6pDbm5H2BP7PffpjFlQ3OFmU5JUqfKfC//BQHRfFek6po3h/9nz4a694ng%2BI%2BleC9IuvCPxDTUfCl5qN7byXBik1oaYjwywJDIs0K2kjrJJbIAzTgKAezf8IP/wAFC/8Ao6D4M/8Ahh9W/wDmoqh4H8cftWeDv2rPDnwR%2BN3xH%2BHvibRvE3w98Q65DN4V%2BHl9ot1aXWm32iW6Kz3Gr3ySxumqSkqERg0SENjIN34E/FXwH%2B0L%2Bz3ffFrQPBGk6Pqemahrmj6pb6XcR3KWOraVfXNhdLBcpHGZohcWrmOXYheMoxRCSgd44/5SF/C//sjPjz/07eEKAPZqKKKACuF/aJ/aR%2BEP7Kfw1n%2BL3xx1vUtN8PWsuy7vtN8N3%2BqNbgRvI0kkVjBNIkSpG7PKyiNApLMoruq8K/4KW%2BGfip8Qf2GviX8J/gt8HdZ8b%2BJPGXhDUdB0vSNF1DTbVopbq1ljWeWTUbu2iWFWKhtrtJ8w2o3OAD074vfGP4efAnwVJ8QPibrM9npyXdvaRLZaZc311dXM8qwwW9va2sck9zNJI6qsUSO7E8A15/4o/wCCgv7JHg3wNoHxI174oXC6R4ks7%2B8sZrXwvqdxLbWtjKsN/c3sMNs0unQWkrrFcy3awpbSMEmaNuKwf2iLT40fF/wd4D%2BJvhb9m/xRb6v8PviBpXiibwRq%2BraKl7qsBtrq1ubWGSLUJLUXECXbSgSzxxPJCqrLg7x4DP8AssftceBvDeveONB/Z4l8Q6v8UvCHxE0u%2B8Kx%2BI9MiPhK617xBNqmnm7kmuViltxFcst41o1w6yxAwx3CtuAB%2BgSOkiCSNwysMqwOQR6185fCbxV%2B3f8AHXR9e8d%2BF/jf8JNA0u3%2BIXirQ9L0q/8Ag/ql/cRWul69f6ZC0twniKBZZHjs1dmWKNdzkBQAK9g0f4Z6xo3wR034R6R8R9V0m907w9a6ZF4o0mC1a8iaGJI/PjS7hnhLHZnEkci/MeD1ryT9hzR7/RP2Ur3w5q/ii/1ueL40%2BOLS91fUkgS51DPjzVo5JZRbRRRB5AWLCOONMsQqqMAAHR/8IP8A8FC/%2BjoPgz/4YfVv/moo/wCEH/4KF/8AR0HwZ/8ADD6t/wDNRT9f/ag/4J%2B%2BFNdvfC3in9oj4Oabqem3clrqOnah4u0qGe1njYpJFJG8oZHVgVZWAIIIIyKqf8Nf/wDBOD/o6L4I/wDhbaP/APHa5XjsCnZ1Yf8Agcf/AJI96HCvFNSCnDL8Q00mmqFdpp6ppqg0000002mmmm00yx/wg/8AwUL/AOjoPgz/AOGH1b/5qKP%2BEH/4KF/9HQfBn/ww%2Brf/ADUU/QP2oP8Agn74r12y8LeFv2iPg5qWp6ldx2unadp/i3Spp7qeRgkcUcaSlndmIVVUEkkADJq9%2B1X8S/hV%2Byh%2Bzf41/aS8U/C5dW0/wV4euNVutN0jRBNcXKxLnYixxsRk4y5G1Fy7lVVmGtKvQrpunNSt2af5Nnn47K8zyucYY3D1KTkrpVITptra6U4QbV9LpNX0vfQzv%2BEH/wCChf8A0dB8Gf8Aww%2Brf/NRR/wg/wDwUL/6Og%2BDP/hh9W/%2BaiqGk/tZ/sf6543l%2BGul%2BGtfl8Q23hxde1DRf%2BFNa6t1p9g8d28Ut1G2nhrVpfsNysUcwSSZ4xHGru6KztM/ac/Zg8TSeHf%2BEV0ywQ6z46m8K3th4l8Jajo%2Bo2N9Ho11q5hayubATJKbW3WZVuFt43hk8xZWYxRzanCXf%2BEH/wCChf8A0dB8Gf8Aww%2Brf/NRR/wg/wDwUL/6Og%2BDP/hh9W/%2BaiqHwU/a/wD2F/2gtGm8R/DbxNpf9nReH9P11L/xF4Ru9FgudLvmZbW9gk1G2gW5t5HUoJYi6h8ISGIFXf2jfiI3wr1/wf8ADT4QfADw14u8Z%2BNr28TStL1rVV0ixgtbO1a4ubme6SzunQD9zEqrC5aS4jzsQO6gDv8AhB/%2BChf/AEdB8Gf/AAw%2Brf8AzUUf8IP/AMFC/wDo6D4M/wDhh9W/%2Baiue1/9qT4WwfsW%2BGv2v/CfwUsrweLx4dt9G8O6oYLPyL/WL%2B00%2BCC7uRHItvHFc3iLNKqybVjkKLIdqtxVr%2B24viK%2BsvhZ4J/Zm8BXnxKTxd4g0DxFo1945W20LTp9Htbe7udmqDTXknZoLy0dIzaRt803meUIHNAHq3/CD/8ABQv/AKOg%2BDP/AIYfVv8A5qKP%2BEH/AOChf/R0HwZ/8MPq3/zUV4Fr3/BVD4KPrnw0HgL4FeFr7S/iT4O8KeItEg13xLBp2tazDrl41sttotgLSZdXuLMKJbtBPCIUliO5g%2BR2tn%2B3B4A07xncar8Qv2fND0T4ZXOu%2BLdE8PeOk1JLi7ur/wANi9Ooi408Wii3hZdL1RoZEuJmkWzyyR%2BalAHpH/CD/wDBQv8A6Og%2BDP8A4YfVv/moo/4Qf/goX/0dB8Gf/DD6t/8ANRWV%2Bxn8b/D/AO1h4S1Hxvc/Df4YWNpA9uLay8I%2BO7fxDe2TSIXa11RIrOKOwvI1MYeBJbhQzMBIQoZvZvBg2aGYFJ2Q313FECc7US5kVV%2BgUAD2FAHl3/CD/wDBQv8A6Og%2BDP8A4YfVv/moo/4Qf/goX/0dB8Gf/DD6t/8ANRXs1FAHjP8Awg//AAUL/wCjoPgz/wCGH1b/AOaij/hB/wDgoX/0dB8Gf/DD6t/81FezUUAeM/8ACD/8FC/%2BjoPgz/4YfVv/AJqKP%2BEH/wCChf8A0dB8Gf8Aww%2Brf/NRXs1FAHjP/CD/APBQv/o6D4M/%2BGH1b/5qKP8AhB/%2BChf/AEdB8Gf/AAw%2Brf8AzUV7NRQB4z/wg/8AwUL/AOjoPgz/AOGH1b/5qKP%2BEH/4KF/9HQfBn/ww%2Brf/ADUV7NRQB4z/AMIP/wAFC/8Ao6D4M/8Ahh9W/wDmoo/4Qf8A4KF/9HQfBn/ww%2Brf/NRXs1FAHjP/AAg//BQv/o6D4M/%2BGH1b/wCaij/hB/8AgoX/ANHQfBn/AMMPq3/zUV7NRQB4z/wg/wDwUL/6Og%2BDP/hh9W/%2Baij/AIQf/goX/wBHQfBn/wAMPq3/AM1FezVV1bXdE0G3%2B165rFrZRf8APS7uFjX82IFJtJXZUYTnJRirt9Fq/wALnkf/AAg//BQv/o6D4M/%2BGH1b/wCaij/hB/8AgoX/ANHQfBn/AMMPq3/zUVueNP2zP2Rfh1E0vjn9p/wBpZUf6q88XWaSN7KnmbmPsAa8m8Q/8Fov%2BCZnhu5ayuf2obK6mDYCaV4f1K8Dn0DQ2zKfzxXFWzTLMO7Va8I%2Bso/5n1GW8C8b5xHmwOV4mqu8aFZr7/Zpfid7/wAIP/wUL/6Og%2BDP/hh9W/8Amoo/4Qf/AIKF/wDR0HwZ/wDDD6t/81FeY/8AD5j9lbV/l%2BG/w9%2BLHjJj9xPDHwzvZS/080R0D/gqF491X5/Cv/BMb9o%2B4jb/AFb6n4Iistw9cPOcVz/25lL%2BGqpf4VKX/pMGvxPW/wCIV%2BIMf42AlS/6%2BzoUn91XEU5f%2BSnp3/CD/wDBQv8A6Og%2BDP8A4YfVv/moo/4Qf/goX/0dB8Gf/DD6t/8ANRXmX/Dwr9rC950b/glJ8VHB%2B79u1axtvz3McUh/bR/4KQ60dnhH/gkhqoB/5ba58XtJswvuVKEn8KP7awL2536U6j/9sD/iGXFUf4jw8P8AFjcFH/3ZZ6d/wg//AAUL/wCjoPgz/wCGH1b/AOairf7K3xG%2BNPjDWPih4E%2BOmv8AhfVtU8A/EKLQ7PVfCfhq50m3urWXQdH1NWe3uL28ZZFk1GVCwl2lY0O1TnPkw%2BPH/BX/AFD5rT9gr4eaeG6Lf/FFJSv18pOfwrof%2BCdmrfGXXNc%2BPOq/tBeEtH0LxfL8ZoP7X0rQL9rq0gx4R8NiLZKwBbMIjY%2BjMw7V0YbH08VNxjCa0veUJRX3vr5Hj53wnjchwqr1sThql3y8tHE0q01o3dxp3tHSzle12l1PpOiiiu4%2BXCiiigAooooAKKKKACiiigAooooAKKKKACiiigAooooAKKKKAMD4o6J488S/D7VdA%2BGXinSNE128tTFYarr2hS6naW5JAZpLaK5tXlGzcABNHgkHJAKnxr4W/svftWfCj9ijTP2UvDP7V3hWy1zw98O7fwt4Y8e6b8LJkksHt4Y7aC%2Ba0m1aZJZFgj5QuFMuJOEHkn6EooA8y/ZG%2BBXif9m34K2Xwf8AEviTwzqo0y4lNld%2BGPDF3paSRyYkkkuRd6hfy3N3LO080t0826V5izLu3O/hvxW%2BH3wr%2BGX/AAWN%2BA/ivwR8NvD%2Bi6145%2BGvxHXxNq%2BlaNBb3WsSQy%2BGpY3upY1D3DIA%2B0yFiu9sYya%2Bv6%2BNv2w9XOl/8Fjf2MoC2FvvDHxQt3P/AG4aM4H5oK5sZP2dHm84/jKK/U9zh3D/AFvM/Zf9O6z/APAaFaX/ALafZNFFFdJ4YUUUUAFFFFABRRRQAUUUUAFFFFABXE%2BK/hF8J/jRBq/hb4xfDDw74s0y38QRXUGneJtFgv4I51soUWVY50ZQ4V3UMBkB2GcE121eT/Hf9q34BfsfeGtR%2BJf7Rfj3/hHdEvvFcOmWt7/Zd1d77p9PSVY9lrFI4ykMp3FQvy4zkgHHETw9OhKVdpQS15rWt530t6jWPllT%2BtxrOk6evOpODj0upKUXHfdSW%2B%2Bon/DA/wCwr/0ZZ8Jf/Dc6Z/8AGKP%2BGB/2Ff8Aoyz4S/8AhudM/wDjFeSf8Pzf%2BCWX/R0X/lk65/8AIVH/AA/N/wCCWX/R0X/lk65/8hV4v17hX/n5Q/8AKf8Akaf8RSxP/Q9n/wCFlX/5oPpL4afCL4T/AAX0KXwt8Hfhh4d8J6ZcXbXU%2BneGtFgsIJJ2VUaVo4EVS5VEUsRkhFGcAV4r%2B0r%2Bwv4r%2BPHi74lan4f%2BM%2Bm6Fo/xV%2BF9h4Q8S6de%2BEJL64hayl1OS2u7adb2FUGdTkEkTxSbxEm14yWJ9J/Zo/at%2BAX7YPgS7%2BJf7Onj3/hItEsdXk0y6vf7LurTZdJFFK0ey6ijc4SaI7gpX5sZyCBj/Er9sv4YfCvxZ4l8C%2BJdB159Y8OS%2BGI49PtbWBpNW/t%2B/fTtPa03TKHBu4ponLmPZ5LsfkAY%2B1h54epQjKg04NactrW8raW9DN4%2BWav63Ks6rqa87k5uXS7k5Sctt3J7b6HlX7X3/BMeX9qz49W/xlufil4ds4oZfDE1vHr/AMO01jUtHk0fVjqBGk3r3cY01LvIiuNsLu4UEOMBRseHf%2BCdi6Druq62fi%2BJv7T0H4mab5f/AAj23yv%2BEu8RQ6zvz9oOfsnleRt48/dvzFjYea%2BPX/BWP4d%2BDvDfx78DfDTSreP4l/CP4S%2BLfF%2Bk6ZretaTqFpqB0WH5zNDpepTXVsnnS2uYbpbSZ0mOwZSTy%2B81b9vDQfD/AMR/Enwp034deK/GviXT/iBc%2BH9L8M%2BE9Gs4Low22iaZql1cmW81BIZYYl1GEGVmgdnnjhSB2USS7CPVPgz8PvEfws8CaR8O9T8U2WqWGg%2BH9O0zTZINJe2mP2e2WGSSVjPIr72QMqqqbAdpMn3q8c%2BDv7Cvjn4P%2BNbPxBZfHTTNQ0zwVoXiLTfhFo114MdRoQ1a7iuWbUJFvgdTFuIIreJYxZnyPMDs8jCZey/Yg/aR1T9p79mX4efF3xZo5s9c8W%2BAdN8RajFY6JeW9hGbpCdkUkwZQwKtmEyNKgKlwAyk%2Bd%2BCf2xvjZr3x50GXVtN8LD4beMfjF4k%2BG2g6fb6bcrrVnf6PaapK%2Boz3TXJhlhln0S/iFutujIstu5lf51ABueKP2G/EHiP46X/AI3X4yW0HgfxB8QtE8eeKfBn/CMFru88QaVaWdvayQ3/ANqC29qTpumzPAbeR2ktSRMolcVj3v7B/wAYPHGt/HW2%2BLf7Q/hq98PfGa0QW1n4a%2BHVxp2o%2BH7q3t4LaxuVup9VuorkwxwI7KbdBJMAw8tAYjH%2B01%2B2N8bfhX8U/GL/AA80zws3g34TaL4b1Px3bazptzNqOsR6pfXEU0djNHcxx2jW1rb%2BeGkiuBPJKIsQhTIeZ%2BGf7eX7Q3xE/a91L9n6LS/C9paz674v0fSbW%2B8Hapbx2baSzJaXS629ybHWnnwjzafZolxaCSRZSGtZcgHR/Ez9gn44fE/9m741fC/Wf2lfC6%2BN/jvYT6V4u8Yj4Z3B0%2By0qTSf7LFvZacNWEkbrFvlEst3KPOmkJQoUjSb9of9gH4h/tFW8%2BueIPjX4SsPE/in4WX/AMPfiRrNt8NJJYNS0W6mMrf2dBNqTNp1wheXa8st3GS4LxPsQDk/G/7f/wAa/gd4U%2BJmkfEjU/BHijV/CXjPwt4V0Txl4X8J6ja6U2razNHFLZzaeLu8uJ7ixSWG4eG3nL3AuYYEEUrGt7xl%2B1j8etN/Zr8F/HH4bfFT4d%2BJyPixofhjx7Jc/DXV9IeSG/8AEtjo8ttDp9zqP2jSr2Bbti4umm%2BeIEwhXwAD0Hxb%2BzR8XvH/AMZfB/i3xh8b9Cbwh4A8SNrnhXQdO8EzQ6t9p/s65sUju9Tk1CRZ4Qt3MzLHbQvJhFZ9u8ScL8LP2K/2w/ht8HviT4W/4bP8IS/ED4h%2BZdS/Fey%2BD9xFqUGoyME%2B0yxTa1NFNHBbAQW1ughjgCRnEmHV%2Bk/aj%2BK37U3wv%2BN3ww8M/Cjxz8P7jS/iD8QLHQx4W1jwHfT6iljFBPfardi/i1aKOPZZ2lwYy1oyiZ4EbfvGcvwF%2B2J8V/i9%2B2VrfwX%2BH2h%2BHYfAX/CA61c%2BEfEV/bTyXOp6zpmoWdlcXGUlVDp4nu3gChBI72UsiyeXJGSAQaB%2Bwn8XvB/wy%2BG/h7wX8bfA2k%2BIfhbrt9eeHrm3%2BGV9Lo13Bd2U1tP9tsp9bkubm9Z7iec3321ZHklcur%2BZKXxvEn/BK7w94q%2BGPw3%2BBOveJvBWpeFPBGhWmm6hqGsfC%2BK58R3KJcedcxafqRugmk21yAIXhjtpCkJZY5EJV0pTft9/GLwH%2BxfB8Tvii/hSfx/ffGzWPhvZX%2Bi%2BFdSOlG4tfEl/paXg02K5uLyc/ZrJpRaRTNJPNthR4/MDJgfGj/gpJ8R/hr8N/C/iTRfjN8LZI7nwh4n1e/8AF3iHwJq2mWWvatpV5HAnhi00%2Ba/Fzp2puHlR45pLidZLaTZay4dIgD2v4hfslfEn4z/GjRfHXxW%2BNWjf8I34Rv8AWLzwjpPhLwZLpmrW8t/pl3prfadSe/nE6pBezMFit7fdMkEjZMQB810j/gmB8Qv%2BETjtPFH7S2jza7oXhvwjofgvUNG%2BHH2GxgtfD2qLqdp/aVmb%2BT%2B0WklRUkCS2qBC/kpCzl66Px1%2B0j%2B0ne/E74G6h8HfGXgWbwr8ZdYspYvCms%2BAb19XsNEXSn1HULttQj1ZIQyrGkKH7IVWW8gVg4yxxviT%2B1B%2B2P8AB74wfFXw3Prfwz8baP8ADr4F6n45msbLwpdaBPBqEks40bT57651e5g2TJYaiZpTFFsEUT/Kr8AFb4j/APBIf4f/ABr%2BCfjvwv8AFr4qau/xB8cWnipW8beD9Q1fw/YadLrkFvDOiaVZ6mqXNpmzs5HtrqaYTvC7O371q9F%2BJf7IHxB%2BIzeEPh1L8Z9Lg%2BG/hLXvDesRaVd%2BGLy/8SXF1ot3b3lvu1u61KQlZJ7WLzHe2edo2lXzsybx4Ppv/BS39om4%2BGWs3wi0O7vrL4laH4di8RN8F/EdjeW9pf6abx5j4PmuzrF26SKsSeVIvnJK86KY7WXd1Or/ALav7Vcn7EOg/tn%2BH9S%2BG0ZFnLFP4KufDF/Le%2BLtUGpy2Vrp1iy6gjaTdXRSKMW08V3Lb3E5hmG6B8gHqXh79m79pbw/%2B1L8Rv2h4f2hvBJsfG3hGx0PStCX4X3YuNJ/s%2BTUZdPnkujrJS6KvqUvnKIIhMI0CGD5ici5/Yq%2BKniTS/iNr3xL%2BJ3w08VeKviPHo1rqdvrvwdluPCy2WnGUxJJo8mrNJcTt58m6d7zP7u3AULCqmf4uftH/Gz4T/tneA/g2L3RtX8M%2BPdUa2g0ofDnVLKbTrddNvJ2mPiGS7bTbq5%2B0WZA05YY7kxTBwNsTSNxP7A//BQ/xd%2B0t8U9N%2BFnxH17wVeaz4h%2BGR8YS6D4R0y6trrwRcRXVtb3nh/VWnuZvNvoGvbdWYJbODHIWt0DxkgHsnwM/Z08Ofsrfsu3Hwd8N3kNyIIdX1HULu102Oyhnvb2e4vLlobaMlLaDzZ3WKBSRFEscYLBMmn44/5SF/C//sjPjz/07eEK9S8c/wDIk6x/2Crj/wBFtXlvjj/lIX8L/wDsjPjz/wBO3hCgD2aiiigAooooAKKKKACvBf2P/wDk3rV/%2By9%2BOf8A1YGq171Xgv7H/wDyb1q//Ze/HP8A6sDVaAOs1/8AYm/Yy8V67e%2BKfFP7I/wx1LU9Su5LrUdR1DwDp0091PIxeSWSR4SzuzEszMSSSSTk1U/4YH/YV/6Ms%2BEv/hudM/8AjFed%2BP8A/gsp/wAE3Phf471v4aeOv2jvsOt%2BHdXudM1iy/4RDWJfs91bytFLHvjtGR9row3KxU4yCRzWR/w/N/4JZf8AR0X/AJZOuf8AyFXgzxvDCm1KdG93e/s736303ve5p/xE3E0P3SzyceXS31uqrW0tb6wrWta1la1rK1l7NoH7E37GXhTXbLxT4W/ZH%2BGOm6npt3HdadqOn%2BAdOhntZ42DxyxyJCGR1YBlZSCCAQcitb9pr4J2X7Sf7Onjv9nvUNfl0mHxv4R1DQ31WCASvZ/ard4RMEJAcoXDbSQG24yM5rxrwD/wWU/4JufFDx3ovw08C/tHfbtb8RavbaZo9l/wiGsRfaLq4lWKKPfJaKibndRuZgozkkDmvcfjr8YfDn7Pvwe8R/G/xlpmo3WjeFdKl1PWU0qFJJ4rOIbp5grugZY4w8rDOdsbbQzYU%2Bhga2W1oSeDlBpPXk5bX8%2BVLW3cmXElTiT97PGvE8ml3VlV5b62vKpUtfeyavvbqeR%2BIv2JviF4/wBB%2BLsvj34%2B2sXiT4t/DvTfDN9rXhPwrNpsOmyWY1ELcxRSX08jI4vwGiMwOImxIPMGzhvgj/wSmi%2BEXiKHxND8SfCFht%2BLg8cvoPgL4Xx6BpEDDwjeeHDZ21ql5KYQ32oXbSs8jM6MpHzh09F%2BM/8AwUQ%2BDvwW0vxdrmqeG9T1Cx8FeLbPw3rGojxBoOlWj39xpsWohIbjV9Ss4ZNkE8AYB9%2B%2BYKivskKcja/8FHdJ8U%2BPo7/wTcWlx4C1zwZ8JNd8I6rFoUk95df8Jh4g1bTSsyPdwrHGIrOzKsAXgaSZ2S5wsFdxJ1fwN/Yo8Q/AKPwJd%2BEfi5ZXN/4G%2BBulfDq3l1Dwu7Q3f2OSBjfNGl2rLvWFgIQ52FwfMbbtbrP2jfgF44%2BKniDwf8TPg/8AE/TvCPjPwTe3j6VqmteGn1exntby1a3ubae1S6tXcH9zKrLMhWS3jzvQujeYeDf%2BCjR%2BJn7RXg/wR4Q%2BD/iay8A%2BI/BXizX7TxZqmhLO3iGHSbjToY59Ljsrmacxv9qlbyp7dJ5g0DQoQTn0n9qT40fED4e6N4F8LfBxNIh8UfEnxvb%2BHdC1DxPpc9xZabmyvNQnuZ7WOa3lm22thcBYhLETIyAsozQBT8O/ssax4C/Zdtf2VvBninwvqGh6Z4HsNCsf%2BE78EtrEd5PHuF3c6hAt5BHdx3CbcwIIdjmRt7q6onndn/wTXi8N/s8v8F/CN78JHvNW8ZTeJPEc/ib4Hw6joyXbwJbxHTNJF/FHpxt4IbaKAvJcbUg%2BcSs7Oeh0r9rr4pv%2BwT41/aPf4d2WseOPAv8AwlemX2iaPDcCz1DU9D1K%2B02WaGMGSdbeWSyM4iBklWN9mXcZPJ/BH9sz4j/Hrwf8TNH8FftNfCC6v/hhqFld6h8UtL8DXt94Z1HR59PN0zR2yayrJLDIk8byLezRjyDlQ7NHEAM1r/glmtlo9p8Mfhh8b49J8Bz%2BCfCXhbxDpGteFv7R1SSz8P3Mk9tJY34uoVsZpTKxkd4LgCT97Gsbkk7Sf8E34Na8V3mhfEH4sxav8Mota8X6z4e8EweHTb3tnqHiRb1dRefUPtLrcRKuqaosEa28RjW8AZ5PKSuN8Z/tO/8ABQLTP%2BCeXgj9qnT/ABD8LdK8d%2BKNF0wQeDdX%2BGWpzx6lq%2Bs3sNvpFmuzXI3sv%2BPu1S4DG5KMJnBCrtq/4o/bx%2BOPhz9u6P8AZwk0vw%2BNAi8f6V4ZaKTwdqWLyG60OPUZL/8At4XJ06yuFnd4U0eaNryZIkkQlbmNgAel/sl/sfeJ/wBnnxXqHjfx18U9J8SajL4G0DwdpaaB4O/sS2t9I0hrxrUzRfarjz7pjfS75VaOIKqLHDEN272Hwf8A8gmb/sK33/pXLWpWX4P/AOQTN/2Fb7/0rloA1KKKKACiiuP%2BK/7QXwK%2BBNgNT%2BM/xi8M%2BFoWTdGde1uC1aUf7CyMGc%2BygmoqVKdKDlOSSXVtJfe2kdGEweMx%2BIjQwtOVSctowjKUn6RjGTfyTOwor5P1T/gsj%2Byhq2pS6H8AvC/xG%2BLl/C2yW3%2BGvgO7vQj%2BhklESEf7Slhiq7/tif8ABSD4pD7L8Df%2BCaVx4fhm/wBVr/xT8a21lHB6GSyhBnb/AIC3FeY87y1u1KbqP%2B5GU/xjHl/8mPuI%2BF/GtOKljsPHCR3viatHD6d%2BWrVVT/yjd9Ez64qO8vLTT7Z72/uo4IYl3STTOFVB6kngCvkpf2Vf%2BCnPxmP2r4%2Bf8FA9P8E2sn%2Bt8O/BzwmsSrnrsv7v/SBjp90%2BtT2X/BGX9kTXLpNT%2BPOv/Eb4rXyMH%2B2fET4gXt02/wBdsDQr%2BBBFH13Mqv8ABwzS7zlGP4R55D/1Z4Ky/wD5GOeRnJbxwtCrX%2BXtKrw1J%2BquuzZ6p8R/2/f2JfhKJE8fftU%2BBbKaLPmWcfiOC4uV/wC2MLPJ/wCO15TP/wAFmv2TfEEz2vwL8HfE/wCKUqsVCfD74c3tzubpgGdYQee/SvXPhx%2Bwj%2Bxh8JDHL8Pf2W/AmnTxY8u9Xw1byXI/7bSK0n/j1erQQQW0K29tCkcaKFSNFAVQOgAHQUezzur8VSnD/DGUn985RX4B9d8LsD/CwWLxT71a9KhF/wDbtClVnb/uImfJg/bw/bn8afvPg9/wSd8azwP9yfxx4207QXUerRSh2/DOaP8AhZH/AAWj8YceHf2bfgh4O39D4s8YXuobPr9iUZ/CvrWij%2BzcTP8AiYqo/Tkj%2BUG/xF/rpkeH/wBzyDBx86n1mu/n7TEQi/8AwBeh8lf8Kb/4LH%2BL%2BfEX7Znwq8H7/vDwn8PJNQCf7v25hn8aUfsEftueIvm%2BI/8AwVn8e3Jb/Wf8Iz4M03Rx%2BHlb9tfWlFH9jYWXxzqS9ak/yTivwD/iJWf0v91w%2BEo/9e8FhU//AAKdOtL/AMmZ8lH/AIJK%2BHfEPPxV/bk/aK8WI3%2BsstS%2BJrxWp9cRRRLjP%2B9VvSf%2BCKX/AATbsLj%2B0NX%2BAE2t3p/1l9rvizVLmST/AHg1ztP/AHzX1VRTWR5Pe7oRl/iTl/6U5Ey8U/EZxcaeaVqa7UpRor7qFOivvueKeC/%2BCcH7BXgCZbnwz%2ByJ4AWVMbJr3w3BdyIfUNOrkH3BzXrPh3wd4Q8IWq2XhPwrpulwqMLDp1jHAoHoAgArSorto4TC4dfuqcY%2BkUvySPl8yz/Ps5lfMMXVrf8AXyrUn/6XOS/BBRRRXQeSFFFFABXjP7L/APyW/wDaO/7LNY/%2BoV4Xr2avGf2X/wDkt/7R3/ZZrH/1CvC9AHs1FFFABRRRQAUUUUAFFFFABRRRQAUUUUAFFFFABRRRQAUUUUAFFFFABRXOfF3xH8QPCPw31bxL8LPBOm%2BI9fs7cSafo2r682mW1ydy7vMukt7holVNzZEMhO3AXmvNo/2zLFP2C/Dv7bd58PZ/M8TeBtE1vTvCNtqKu732qxW32TTxcMiqd1xdRQ%2BcUUDO8qB8tAHtlfCf/BRnU/7E/wCCs/7EGp7sZufHFrn/AK7RaLFj/wAer6g/Zu%2BO/ij4wv4x8I/En4fWPhfxf4B8TroviTSdJ199Usi8thaahBPbXUltbPNE9vew5LwRssiyptIQM3x9/wAFdtSOi/8ABSP9hzVM4H/Cdavbk%2Bgmv/D0X/s1ebm8uTL5y7OP/pdM%2B18O6H1rjDD0f54119%2BFxf8AkfobRRRXpHxQUUUUAFFFFABRRRQAUUUUAFFFFABWV4f/AOQtrn/YUT/0kt61az73wxpF/dvfyC5ilkAEj2t/NBvwMAsI3UMQOMnnFAGhRWX/AMIfpP8Az96r/wCDy7/%2BO0f8IfpP/P3qv/g8u/8A47QBqV5T8Vf2PPhV8YP2jfh7%2B054ov8AWYtc%2BHIvP7P0%2Bxu40sNUM0ZWI30TRs0/2Zmklg2unlySM3zcY9C/4Q/Sf%2BfvVf8AweXf/wAdo/4Q/Sf%2BfvVf/B5d/wDx2gD5q1D/AIJJfBDWNL8Q%2BGdY%2BNHxJudD1v4e%2BM/BmnaE%2BpaattoOl%2BJ5optS%2BybLESPMJIUMc1y9wy8hzIMAdr4q/YJ8A6z4%2B1X4s%2BEvix438JeLNU8Z3PiI%2BIvDt3YGe2a50mw0q5so0urOaI2ssGm2jsrxvIssYdJEIUL7B/wh%2Bk/8/eq/%2BDy7/wDjtH/CH6T/AM/eq/8Ag8u//jtAHJ/s5fs8eH/2YvhX4W%2BCvgPxr4gvvDfhDwnZaDpFjrc1tM3l2wZVuZJUgSSSd1Kq5LeWRGpVFYszcvoH7D3w68O/HNfjVZ%2BPfFclvaeJNR8SaJ4KmurQ6NpGu39rJa3mqW6i2Fz58sVxdgpJO8KteXDLErSE16p/wh%2Bk/wDP3qv/AIPLv/47R/wh%2Bk/8/eq/%2BDy7/wDjtAHkPxI/YP8AAnxV8aWfjXxb8WfGrPNpWiaf430%2B2n0%2BK18ax6Tdvd2R1JFs8qVnlmZ/sZtVlWVopA0QWNamk/8ABPnwLoXjWTxZo3xs%2BIFta2mteItc8JeH0vNONl4W1nWxd/btSsi1kZ2mLX980aXUtxBEbqQLEF2qvtP/AAh%2Bk/8AP3qv/g8u/wD47R/wh%2Bk/8/eq/wDg8u//AI7QB4b8N/8AgnV4O%2BHn7Ozfs0z/AB/%2BIOvaPa6lp%2BqeHdV1iPQ01LQ9Us70X8eowzWumQi5unvFW4lkvFufOcN5gYSSiRnjX/gnV4e8YfBhPg7aftNfEzRmufH8HjTxH4o03%2BwpNS1/WYL%2B3v7ee5%2B06XNbxrHcWlqVjtoYE2wKhUpuU%2B6/8IfpP/P3qv8A4PLv/wCO0f8ACH6T/wA/eq/%2BDy7/APjtAHMD4A%2BHrz4veFPjf4m8V61rOu%2BDvCF9oGltfvbLC/22Sze6vpI4YY1%2B1P8AYYl3JsRUaVUjUSNXEeHP%2BCcf7H3w/wD2gYv2nfhH8EPDHgrxjB4a1LSIdT8JeEtLsyrXssUkt8SLUs12PKKLIxK7JpVZHDmvXv8AhD9J/wCfvVf/AAeXf/x2j/hD9J/5%2B9V/8Hl3/wDHaAPDPA3/AATu8P8Ag/4Qar8ItV/aY%2BJXiEXnjyXxpo3iLWE0FNR8P65Lqc2qTXdmbTSoYT5l3cSu0dxFPHscxBBGShv337BmhXHwhPwS079or4k6do%2Bq3usXXjuWwutKW68YyapOZr03szaeWt9xaRVNh9jMaSlYygWPZ7J/wh%2Bk/wDP3qv/AIPLv/47R/wh%2Bk/8/eq/%2BDy7/wDjtAHNW/7PfgG0%2BNei/HK3N2l/4b8E3Hhbw9pMbRrYabZXFxbTztDGEDLJIbO0QneVCWyBVX5i2Dr/AOxt8IvF2gfGDw54un1jUofjazL4vlnvlSWC3/syDTo7a0eJEMEUcUHmIPmYTTSybiX49D/4Q/Sf%2BfvVf/B5d/8Ax2j/AIQ/Sf8An71X/wAHl3/8doA8Mn/4J1%2BE9Quz421z9ov4lX/xAj8SWGtaf8TrifR11awms7C80%2BCKKGPTl08wi11HUY2R7R9322VmJfYy0Lv/AIJneFINS8C6x4N/af8Aij4eufAEms3umPZtoN4l5q%2BrXc13qOszx6hpVxH9vmlubkebEsYjS5mSJI0ldW%2Bgv%2BEP0n/n71X/AMHl3/8AHaP%2BEP0n/n71X/weXf8A8doA8%2B8U/ssQePPjFpPxR8e/HLxvrGleH9fTW9B8A3LaZHo9jqCW7wxzhobFL2XZ5kkixzXUkYdg235EC2vhT%2BzRZ/Dr4lal8YPFnxd8W%2BO/Et7pS6VZar4vOnqdK04TGY2ltHYWdrGqPJtZ5HV5pPKiDyMI0C9v/wAIfpP/AD96r/4PLv8A%2BO0f8IfpP/P3qv8A4PLv/wCO0AJ45/5EnWP%2BwXcf%2Bi2ry7xx/wApC/hf/wBkZ8ef%2BnbwhXqJ8GaG%2BFna%2BmTIJiuNWuZEb2ZWkKsPYgivLvHH/KQv4X/9kZ8ef%2BnbwhQB7NRRRQAVx3x4%2BNnhr9n74dS/ETxNpGp6pu1Kx0zTNF0SGOS91TUL26itLS0gWWSOPzJJ5o13SOkaAl3dEVmHY15f%2B1v8G/Gfxn%2BGFhY/DW80yLxN4a8YaL4l0CPW55IrK6uNPv4bk2s8kUcjxJNGkkPmrHIYjIJAkmzYwBmw/tsfDJf2d9V/aF1bwn4l09dE19vD%2Bq%2BD7qzt21iDW/7QTTo9M2RTvA00t1LDHG6zGBxPHIJfLbfWHe/8FBfBltpdlptv8DvHlz43u/HM/hKT4ZRf2OusWuqQ6X/a7xyzSaiunhf7OaK6Di7IZJowuXJQZfg79mD4rr8CfiL4H%2BLnwz8BeJ9T%2BI2uah4m1XRR4zv7fT01Ge4TyLFLpNP8%2BKOC3t7QrqCRib7QjSLbxYXHkZ/4JdfEC28Ci41r4b/DbxzJr3xbu/Gnjb4TfELxfqeqaBfl9Ch0e1WTVr6xu7q%2Bnt1tYbnzbm1YSSyy4WLZCyAH2L8EPjB4P/aB%2BD3hj44fD9ro6J4s0O21XS/t1v5UwgnjEih0ydrAHBwSMjgkYJ8t/Y//AOTetX/7L145/wDVgarXT/AP9njV/Af7Ivhf9mz4q%2BN9R1S70vwvb6Zqur6Drt9YTZRR8lvdwypdRrGAI0k8xZSiAsck1zP/AAT38H6Jov7Meo%2BCITe3NhZfFr4hWsLapqlxe3LpH401oK0lzcO800nAJlkdpGb5ixPNAHvVFZX/AAh%2Bk/8AP3qn/g8u/wD47S/8IfpP/P3qv/g8u/8A47QBqVU17QtH8UaHe%2BGfEWmxXmn6jaSWt9Z3Cbo54ZFKPGw7qykgj0NVv%2BEP0n/n71X/AMHl3/8AHaP%2BEP0n/n71X/weXf8A8doA%2BfvBP/BMH4UfDT4R%2BA/hh8PPjV8R9K1D4fa3qeqaX45XU9PudbvJb9JoroXUlzZSQSbopvKV1hSWNIYhG6bSTY8Df8ExPgH8P/DXh7wroni3xhJbeGvDXw80Owa71K2eR7bwbqt3qmltI32cbpJZ7yVbhuA6KgjELAu3vP8Awh%2Bk/wDP3qv/AIPLv/47R/wh%2Bk/8/eq/%2BDy7/wDjtAHiHw2/4J3eBfhT8RNL%2BIHhL46/ERV8L%2BG9d0LwHoVxeabJYeFrPVZraaZLRDY75TE9pB5JunuNipsO5Plr0j45/APRPjv4N0vw5q/jTXdE1TQNatdY8PeLNAe1XUdM1CAMq3MQnglt2LRyTROkkLxvHNIpTB46f/hD9J/5%2B9V/8Hl3/wDHaP8AhD9J/wCfvVf/AAeXf/x2gDi/ht%2BzbYfCL4YQ/Cv4e/FXxVYWqadq63Gok2E15dapqV015ca1I8toym9%2B0y3EwAUWxe5k3QOBGE5m5/YV8Aa78FfiD8HfHfxP8ZeI5viq23x/4u1S5sY9U1a38iK2Nofs1pFbQW5tYvs/lwwRjZLKwxLI8p9a/wCEP0n/AJ%2B9V/8AB5d//HaP%2BEP0n/n71X/weXf/AMdoAwPib8C/B/xX8ReBde8T3l%2BkXgDxR/b%2Bk6XaSRpa3V4tlc2kX2hShLpELp5UVWTEscTnOwCuE1f9hL4eax8abr4tT/ErxjHpuoeNrHxjqfgGK7s/7FvNfs7aC3t7982pvFZVtbV/JS5WBpIFdoixct61/wAIfpP/AD96r/4PLv8A%2BO1R8R2ngbwdod14n8XeK59K02yiMt5qGo%2BJ7iCCBB1Z5HmCqB6kgUm1FXZUITqzUIJtt2SSbbb2SSTbb6JJt9EdFWV4P/5BM3/YUvv/AErlr5J8Tf8ABRPTPiz4iufhv/wTw%2BCfiz4yazbSmG98TJr13p3hnTX7%2BbfzOBKR94JGPnH3XNSWH7BH7Xv7Rlog/bh/a/u9M0Fxl/hl8Gg%2Bl6dtJyY572TNzdK2fmV%2B%2BSH5zXkvNoVny4ODqvutIL1m9H/26pn6DDw%2BxGWwVbiTFU8vi1fkqXqYmSeq5cLTvUjdbOtKgtnax6f8fv8AgpX%2Bx3%2Bzrrg8FeK/ipHrXih5DFD4Q8H2z6rqbyj/AJZmG3DeU3HSUpXnn/DY3/BRD47Dy/2Xf%2BCfc3hXTpv9R4o%2BN%2BsjTQmehbTbcm5x3yGNe6fs%2B/sh/s0fsr6N/YvwB%2BDOieGw0YjnvLS133lwo7S3MhaaX/gbmvR6Pqua4jWvX5F/LTX/ALfNN/dFA894Cyb3csyx4qa/5e4ybs33WGw8qdNLsqleo%2B9z5F/4Yj/bz%2BN3739qb/govrOkWE3%2Bu8L/AAY0ePRo4x3Vb9w1w6nphl6fWuw%2BE/8AwSi/YN%2BE2oHxDD8BrDxNrUj%2BZc6946mk1q6nk/56H7WXRW90Ra%2BiqKunk2XQmpzhzy7zbm//ACZtL5RRzYvxJ4zxGHlhsPifq1F6OnhoQw0GuzVCNOUv%2B36s/v1dfSdI0nQdOi0jQ9Lt7K0gXbBa2kCxxxr6KqgAD6VYoor00klZHw8pSnJyk7t9XqworC8U/FL4ZeB4XuPGvxF0HR44/wDWPqmrw24X6mRhivLte/4KU/sAeG9Q/svVP2xPh6ZskEWvie3uFUjsWiZlB9iawq4vCUP4tSMfWUV%2BbRx18fgcN/Gqxj6yivzkj26ivGdM/wCCi/7A%2BrsEtP2zPhkpboLjxpZQ/wDoyRa6XTv2tf2VNYjE2kftNfD66Q9GtvGdi4P4rKamOOwU/hqxf/b0f/kiIZll1T4K8H6Tg/8A249BoriLv9pn9m%2BwtTfX/wC0F4IghHWabxXZqo/EyYrjfEv/AAUb/YH8JKzax%2B2L8OCU%2B9HZeLrW6ce22F3OfbFOeNwVNXnVivWUV/7cOpmOX0VepWgvWcV%2Bcj2mivlbW/8AgtV/wTc0u6/s3Sv2gJNcvTny7Lw/4W1O7eT/AHSlvsP/AH1VI/8ABW7wx4i%2BT4SfsRftD%2BL93%2BqutN%2BGbxWp9C0s0q7R77a43neUJ2VeLf8Adbl/6SpHC%2BI8hTtHExk%2B0W5v/wAkjM%2BtqK%2BSl/b2/bg1H/SvD3/BJXx3Jat/q31LxvptnMfrE4JX86D%2B21/wUZv/AN1oP/BIbXJJfTUPi7pFqn/fTIaP7ZwPRTf/AHDqf/IC/wBYMu6Ko/SjW/8AlZ9a0V8lf8NIf8FcdU%2Baw/4Js%2BEtKB6LqfxitJyv18mPmj/hZf8AwWj1g7dO/Zm%2BCOj56Nq3jK9uAPr5Cij%2B16L%2BGlVf/cKf62D%2B3sO/ho1n/wBwZ/ryn1rRXySfGP8AwW38On7drHwc/Z48RRHkWPh/xBq1pMo9C90ChPuOKP8Ahf8A/wAFf9f/AOJdpP8AwT98A%2BH5k%2BVtR134qxXdvIf7yx2yCQD2PNH9r0lvSqp/9e5fo2vxQf27QWkqFZPt7Gf6Nr72j62or5KHiH/guFZ/6Xc/D39mm9jblbSz1XXI5UH91mk%2BUn3HFH/Cff8ABazUv3Nl8AfgLpjDgz6j4p1KZD7gRDOKP7Wh1oVf/Bb/APkg/tyn1w1f/wAFP/5L9T61rxn9l/8A5Lf%2B0d/2Wax/9QrwvXl//CF/8FsfGPy698avgB4NRv4/DHhzU9QkUeuLwhSf0ro/%2BCdXhb4s%2BC9b%2BPPhr45fFODxr4qt/jNAdV8S22hx6bHdl/CPht4wtvESsYSJo4uD83l7jyxrow2MniZtexnFd5JL5W5m/wADqwmPni6jj7CpBWveaUV6W55Sv8reZ9J0UUV2nohRRRQAUUUUAFFFFABRRRQAUUUUAFFFFABRRRQAUUUUAFFFFAGB8UdE8eeJfh9qugfDLxTpGia7eWpisNV17QpdTtLckgM0ltFc2ryjZuAAmjwSDkgFT4d4J/Yf%2BKFp%2Bw7o/wCxT8Tfj3oWqW/hzwVpmi6D4n8O%2BA5tNuLa70xrdtNv2in1G6R2ia1gd48hZHUkGNTsH0hRQB5l%2Bzd8B/FPwefxj4u%2BJXxBsfFHi/x94nXWvEmraToD6XYq8VhaafBBbWslzcvDElvZQ5DzyM0jSvkBwq/CP/BY/wCEfwo%2BG/7a37PPxo8E/DHw9o2u3OvXuqeJdc0rRYLe71R4dd8LJG9zNGgecr5z4Lkkbzjqa/Tuvzl/4L1f6DqPgfxZ0/sHwLrmobv7u3xV4HTP/kSvJz3TJq77Rb%2B5xf6H6B4U6%2BJOVQ/nrRh/4MjVp/8AuQ/RqiiivWPz8KKKKACiiigAooooAKKKKACiiigAooooAKKKKACiiigAooooAKKKKACiiigAooooAKKKKACiiigAooooAKKKKACiiigArxnxx/ykL%2BF//ZGfHn/p28IV7NXjPjj/AJSF/C//ALIz48/9O3hCgD2aiiigAooooAKKKKACvGf2D/8AkiGuf9lm%2BI//AKmut17NXjP7B/8AyRDXP%2ByzfEf/ANTXW6APZqKKKACiiigAooooAKKKKACs7xb4v8KeAfDd54x8ceJbDR9J0%2BEzX%2Bp6pdpBb28Y6s8jkKo9ya8Z/as/4KCfBj9mHVbf4bWtpqHjf4kaqAug/DXwhD9q1O7dhlWkVQRbRdy787QxVX2kV5f4P/Yc%2BOP7Yviey%2BM//BTfXbebTrScXXhv4F%2BH7o/2LpRHKPfyKf8AT7gZ5BJjB3AFkYxjy6%2BZXqvD4SPtKi31tGH%2BOWtv8KvN9lufd5TwWo5fDNuIKzwmDlrC8eavXt0w9FuLkr6OtU5KEes6jXIS6t/wUK%2BNf7VGtT%2BAv%2BCZPwaTxHaQztBqPxf8bwzWXhqxYHDfZ1wJr5x6IBg4O11Oat%2BHf%2BCV9j8UtbtvH3/BQP4%2B%2BJPjTrMEomt9BvJDpvhyxk6jydPtyFYjoWc4cAbkrf8Aiz/wUn/ZY%2BA2uW3wC%2BCui3/xF8Y20Yt7D4efCfSVvZLNUwu2RosQWqJwGUtuQc7MVzf/AAsf/gsJ8fPl8CfAf4dfBHSJv%2BX/AMca62uaqsfZ44LQCFH77JRx0JryJPBVqjWJnLEzX2YRbpxfblTUNO9Scn3S2ODE%2BLmEyeUsHwhh3hkrxc6S9ti5dH7TFuKVNvrCg6EYp2vLd/Vnhfwr4V8CeHrXwr4M8Oafo%2BlWEQjs9O0y0S3t7dB/CkaAKg9gBXkHxp/4KS/sKfs%2BzvY/FL9p3wva3kTbZdN027bUbuM%2BjQWayyIf95RXmS/8Ep7/AOLxF7%2B3F%2B2V8SvisZDm58PW%2Bo/2DoUmeo%2BxWZH0yJBx2r3H4J/sa/sqfs5RRj4JfADwt4enjXaNQs9Jja8Yf7Vy4aZ/%2BBOa9RVM3rK1KlClH%2B8%2BZ/8AgMLRXpzH51UxfEePqOoqcafM7uVSTqTberbjB2u93zVG77t7niZ/4LE/A7xL8nwR/Z4%2BNvxFZ%2BIJPCXwzuWif0Jecx7V98cDtR/w1/8A8FLfiR8vwf8A%2BCZDaFav/q9X%2BJHxCtLTb/vWcSmYfga%2Bt6Kr6lmNT%2BJimv8ABCEfxfOyf7Ozar/GxrXlCnCH4v2jPkgeB/8AgtP8Qzv8QfHL4H/DuF/uJ4W8NX2rTxj/AGvtpCFvpxSj9gz9ubxT8/xR/wCCs/je4LfeTwl4I07RQvsDEXP419bUUf2PhpfxJ1J%2BtSf5RcV%2BAf2BhJ/xalWf%2BKrU/KLgvwPkr/h09FrPz%2BPf%2BChf7TGtZ%2B/bt8T/ACLc/wDbOOAY/Oj/AIcq/sTaoc%2BPP%2BE/8VZ%2B/wD8JD8RtRk3/Xy5Ur61oo/sPKH8VFP15pf%2BlSkH%2BreRP4sPGX%2BLml/6VOR8z%2BF/%2BCOf/BNHwhKk2lfsnaHM0f3RqmoXt8D9RczuD%2BNeo%2BH/ANjr9kjwpp50nw1%2By98PLG2I%2BaG18GWKK3u2IvmPua9HoropZbl1D%2BHRhH0jH/5E6qGUZThv4WHpx9IQX/tp5jqn7E37GetqV1j9kn4ZXQPX7R4D09/5w1zOo/8ABMn/AIJ8apIZbn9jn4fqT2tvDkMI/KMKK90oqpZfgJ/FRg/%2B3Y//ACJc8ryup8dCD9YQ/wDkTwG0/wCCWP8AwTtsroXkP7H/AIJZx0E2lCRP%2B%2BWJX9K7Hw3%2BxX%2Bx14OZZPCn7KXw30516S2fgiwjf6lhFkn8a9NopQy7L6bvCjBekY//ACIqeVZXRd4YemvSEP8A5EpaJ4b8O%2BGrb7F4c0Gy0%2BH/AJ5WVqkS/koAq7RRXWkkrI7klFWSCiiimMKKKKACiiigAooooAK8Z/Zf/wCS3/tHf9lmsf8A1CvC9ezV4z%2By/wD8lv8A2jv%2ByzWP/qFeF6APZqKKKACiiigAooooAKKKKACiiigAooooAKKKKACiiigAooooAKKKKACiud%2BLnxS8G/A/4W%2BIvjH8Q797XQvC2i3OqatPFC0si28ETSPsRctI5CkKigszEAAkiuI%2BHf7YHgjxh4J8c%2BLfG3gTxR4DvPhtE0/jTw34ttrV7/T7f7Et8lwBYXF1DNG8DblMUrnckkZCyRugAPWa/Pn/AILr6P8A254TmstudnwG8XXGP%2BuPijwNL/7JX1b%2BzT%2B114X/AGldU1jw5ZfDPxV4S1bRtG0nWJdL8VLYM8%2Bm6mtw1ldxyWF3dQlZPstwPLaRZU8vLxqHQt89/wDBXXR/7cOo2Wzds/Zd%2BJdxj/rlqXhCXP8A45XnZvD2mU4iPeE//SZH2Ph1ifqfiDk9f%2BXFYd/%2BVqX%2BZ9k%2BCNY/4SHwXpGv7t327S7e43eu%2BNW/rWpXBfsq6x/wkP7L/wAN9f37vt3gLR7jd677KFs/rXe12UJ%2B0oQn3Sf3pP8AU%2BczTDfU80xGH/kqVI/%2BAznH/wBtCiiitThCiiigAooooAKKKKACiiigAooooAKKKKACiiigAooooAKKKKACiiigAooooAKKKKACiiigAooooAKKKKACiiigArxnxx/ykL%2BF/wD2Rnx5/wCnbwhXs1eM%2BOP%2BUhfwv/7Iz48/9O3hCgD2aiiigArz/wDaX%2BONz8AfhrF4s0XwiviDWtV8Q6XoPhvQ5NR%2Bxx3uo6hexWkCyz%2BXIYIVaXzJZBHIyxRuVSRgqN6BXn37S/wOuvj98NYvCei%2BL18P61pXiHS9e8N65Jp32yOz1HT72K7gaW38yMzws0XlSxiSNmikcK8bFXUA8%2Buf26LrQv2XvFPxu8W/CmO08T%2BDvGJ8I634St/EQktI9YfUoLCDGoPAmLKQ3VrcG5aBWjglLPEGRo65DxZ/wVB0nwH4S1HSfG3hfwRo/j7R/ihJ4F1jTtW%2BJ62vhqwvo9Hi1prmbWpbJWS2FjcQAsbTzPtMq2/l5y47/wCH/wCyt8RvBHwj8Y%2BAdU%2BJng/xDqnjq61LVfEV9r3w7kn0%2B71W9mYyGSxOo4ewW2ENstoZfM2Q7nuXZia4Hwh/wTCsfhr4Z0LX/hl4v8FaJ8QtB%2BJlx42tNWs/hkIvDkN3Pop0N7WDRoL2Nre2XTxEiKl35gmhErSPvkRwD6W%2BHPiPU/GHgDRfFmswaRFdanpcF1OmgaydRsQ0iBv9HujFEbmHnKS%2BWm9cNtXOB5n%2Bwf8A8kQ1z/ss3xH/APU11utj4L/sr/D34Yfsv6P%2Byx4wsbDxloNlpbWmqwa7o8L2mpGSRppQ1owaJITI7bIfmWNAiAnaDXM/8E6fDHhrwV%2BzdfeD/Bvh6x0jSNL%2BLfxDtNM0vTLRLe2tII/GetLHFFEgCxoqgKFUAAAACgD3SiiigAooooAKKK%2Be/wBt7/gpf%2BzL%2BwporxfEfxIdV8Uy2/mab4L0R1kv5wR8ryDO22i/6aSEZAO0ORtrnxWKw2CoOtXmoxW7bt/XorvyMq1elQipTdrtJbttt2UYpJylJtpRjGMpSbSUW3Y938ReI/D/AIQ0G88U%2BK9ctNM0zTrZ7i/1C/uVhgtokGWkkdyFRQASSSABX5k/tYf8FmPH/wC0Z8QJf2Yf%2BCb/AIf8T6jG7mLWPHHhrw%2B95qU8edrDToG2rCnY3UxXALMgBVWbo/g78Gv2t/8AgsZJZ/GT9tu4vPAXwN89Lrwz8KNBuJLeXxEgYMk93NxI8JwuHO0vgtEsIIkb74%2BEvwU%2BEXwH8Kx%2BCPgx8NtF8MaVHj/QtF09IFdgMb32gGRz3diWPcmvAqSzPP6S%2BrydCg/tNfvJr%2B6tOSL7v3mtklv6uAzLOeH8bKSwVOFeOzxEVVdJ9/q1/ZuoukcROag/joOScI/CH7K3wE/4KDfCHSLlP2bP2JPh78NtU1olte%2BIPxm8dyeIdf1ZmOWmmexUFWJ%2BbyiAgbkrkkn1mT/gmx8efjkhl/bc/b%2B8d%2BKbScf6T4Q8Bxx%2BHNIdD1glWAF7mPHdirGvr6iuuhkGDpUlSnKU4r7LlaP/AIDDkT8781%2Bt%2BviZtQxvEePnjs8xdbF1Z/FKrUbT6JcsPZxsloo25YpJRikrHD/Aj9mz4D/sx%2BEV8D/AX4WaR4Y07C%2BcmnW2JblgMB5pWzJO/wDtSMze9dxRRXs06VOjBQpxSitklZL5I3o0aOHpqnSioxWySSS9ErIKKKKs0CiiigAooooAKKKKACiiigAooooAKKKKACiiigAooooAKKKKACiiigAooooAK8Z/Zf8A%2BS3/ALR3/ZZrH/1CvC9ezV4z%2By//AMlv/aO/7LNY/wDqFeF6APZqKKKACiiigAooooAKKKKACiiigAooooAKKKKACiiigAooooAKKKKAPP8A9qv4K3X7Rn7N3jb4Hadr0elXnifw5dWOnanNCZY7S6ZCYJnQEF0WUIzICCygjIzmvK/Cn7Pn7Vutw/F3xf451Pwj4Q8X/FnQTpVvf%2BD/ABHd6jH4UW10w21hcQtcWNub2U3M91cPuWARr5MY80qzn6UooA%2BZv%2BCf/wCxx4t/Zb8ReLdd1D4Y/Dn4eaRr2g6Dp9t4D%2BFmoXFzpjX1iLwXOtSvNZ2mLu7S4tonAiZtmnxGSaZiNnCfty/Bnw3p/wAbvE2raRqHiGe98XfspfFVb6DVfF2o39pEwm8Mqv2W1uZ5ILIfOcrbpEGwu4HauPtSvnX9pvR/%2BEh/au8M6Bs3fbv2dfiVb7fXffeE1x%2BtYYqHtMNUh3jJffFr9T1MjxH1PPMJiP5KtKX/AIDVpy/9tOj/AOCdGr/25%2BwR8Gr7dkr8NNGgJ94rOKI/%2BgV7PXzf/wAEhtY/tz/gm18Jb3fu2eHHt8/9crmaLH/jlfSFc%2BVT9pldCXeEP/SYnsce4f6px1m1D%2BXFYhf%2BV6v%2BYUUUV3nyYUUUUAFFFFABRRRQAUUUUAFFFFABRRRQAUUUUAFFFFABRRRQAUUUUAFFFFABRRRQAUUUUAFFFFABRRRQAUUUUAFeM%2BOP%2BUhfwv8A%2ByM%2BPP8A07eEK9mrxnxx/wApC/hf/wBkZ8ef%2BnbwhQB7NRRRQAUUUUAFFFFABXjP7B//ACRDXP8Ass3xH/8AU11uvZq8Z/YP/wCSIa5/2Wb4j/8Aqa63QB7NRRRQAUjukaGSRwqqMszHAA9aWvgn/gqH%2B2DZeM73X/2QvAnj%2BXQPCvh7S1v/AI/%2BPrAgvo%2BlucR6NanOHv7wkRLHno%2BCCPN2cGY5hRy3CutPV7JbXfbyWjbeyim3trhWqV%2BenQw1KVWvVlGnSpwV51Kk3aEIru29XsknJ6Iqftvf8FUL7X9F8R%2BCP2QvGdtpHhrw9L9k8d/HKe3FxZ6dMwONP0iPIGo6i/IUKdi/e3KuZo%2BP/wCCfP8AwSNsfiF4ot/2p/2t/BV/FYzXI1Dw54I8VXZvdT1OUncupa7M4zNM3DLa4EaZ%2BZctIH9G/YT/AGH734saj4W/aX/aF%2BGNt4V8KeF7dT8EPgsiZtvDtscMup3ykfv9Rl4kLOCysdzfPtWP7rr5/BZVWzeusdmPvJawg1ZevK9l2T96XxTteMI/oHscL4dKVKhVjiM5knGtiY%2B9TwiaalhsE9UppNxxGMV6knzUqE4U1Oc0REjQRxoFVRhVAwAPSloor68%2BGCiiigAooooAKKKKACiiigAooooAKKKKACiiigAooooAKKKKACiiigAooooAKKKKACiiigAooooAK8Z/Zf8A%2BS3/ALR3/ZZrH/1CvC9ezV4z%2By//AMlv/aO/7LNY/wDqFeF6APZqKKKACiiigAooooAKKKKACiiigAooooAKKKKACiiigAooooAKKKKACis3xn4x8K/Dvwfq3xA8c6/a6VomhabPqGsapeyhIbO1hjaSWaRjwqIisxPYA1zXwX/aL%2BEnx/8AD2p%2BJfhtrt80Oi332PWrTXvD99o97p83kR3AWe01CGG4h3QzRSqXjAeORXUlSDQB29eLfECCK5/4KCfDK2nTcknwW8eq6nuDq3hAEV1/wP8A2j/hT%2B0Zpt1rnwkvdbvdOtlhki1TUfCGp6baX8MoYxT2U95bxR38DhCyzWzSxlSpDYdSeT8cf8pC/hf/ANkZ8ef%2BnbwhQCbTujzT/giHPKn/AATX8CaHcOTNpF/rdlKT1ymr3hA/JhX1jXyX/wAEbP8AQf2ZPFXhPp/YPxf8T6ft/u7b0vj/AMiV9aV5WRf8ibDrtBL7rr9D7/xWS/4iXnE19vEVJ/8Agxxqf%2B5Aooor1T4AKKKKACiiigAooooAKKKKACiiigAooooAKKKKACiiigAooooAKKKKACiiigAooooAKKKKACiiigAooooAKKKKACvGfHH/ACkL%2BF//AGRnx5/6dvCFezV4z44/5SF/C/8A7Iz48/8ATt4QoA9mooooAK8h/bX%2BJHj74efCfSLL4ZeJW0LWPFnj/wAO%2BGIfESWkM76TFqGp29vPcxxzo8TTCF5BF5iPGJWjLo6go3r1c78WPhP4B%2BN/gK9%2BGfxN0NtQ0e/eCSaGK9mtpY5YZkngnhngdJYJopoo5Y5YnWSOSNHRlZQQAfOlh8Zf2qJ/2Q/ihYeDfEGo%2BKvHfw%2B%2BI134Zt/FFroNrLqV9pcV9atNfx2cMSW89/Bp1zLiJIhHNc2oAhAk8qvFvGn/AAVF174b/AT4kfD3W/j/AC%2BHfFVn8Sb3wp8P/iN8YtGsfD199gj8OaZrc%2Bo3VlcW9pALqIag1vb27WyGaRrIyQ7XmI%2Bz/C37KPwX8EfD26%2BF/hCz8SabpF7aTw3Qs/HmsR3Urz3Ul1Pdm6F39o%2B2yTyySPe%2BZ9pct80pAAGn4C/Z7%2BEnw1%2BGV/8ACHwl4bnTRNWN22sC/wBYu7y71GS5BE81zeXEr3NxM4ODLJI0mAo3YUYAOa/Zz/aE0fxz%2Bxb4G/aP1vxRL4oi1PwJpuparqnhTSpNVkvblreP7QYbbTYpHlfzvMBjhjJUhgFG0gYn/BOnxDYeLf2br7xTpVvfRW2o/Fv4h3NvFqelz2VyiP4z1pgJbe4RJoHAPMciK6nIZQQRXsXgzwh4d%2BHvg/SfAPhDTvsek6HpkGn6Xaec8nkW0MaxxpuclmwiqMsSTjJJPNeV/sH/APJENc/7LN8R/wD1NdboA9moormvjD8WvAnwH%2BF2u/GL4m60mn6D4d06S91K6bkhFHCqP4nZsIqjlmZVHJFTOcKcHOTslq32SIqVIUqbnN2STbb2SWrb9EeO/wDBQ79rbxB%2Bzx8P9M%2BGvwXtodS%2BLHxFu20nwBpUjLtgk2/vtRm3cJb2yHzGZvlzt3fLuI%2BS/wDgnz%2ByF4b/AGmfGNlq73M%2BtfBf4c%2BI5dQfW9RDM/xU8a5Iutan38y2cL7khVsggAEsWmWuB0TR/jj/AMFB/wBpi6sNTkudI8ZfFHRo5vFFxG27/hWvw5Zg0GnRnGF1DUVYM/fy5RlQs8oT9Xvhv8OfBfwi8A6R8Mfh1oEGl6HoVhHZ6XYW64WGFFwB6k9yxyWJJJJJNfHYWnPiLMXiaq/cw0in12dvnpKf/blPpNH2mQQnwdk0eI665cyx1NrCReksJg5pxliWt44jGLmjRekqWG5qitKrBm3RRRX2Z8cFFFFABRRRQAUUUUAFFFFABRRRQAUUUUAFFFFABRRRQAUUUUAFFFFABRRRQAUUUUAFFFFABRRRQAUUUUAFeM/sv/8AJb/2jv8Ass1j/wCoV4Xr2avGf2X/APkt/wC0d/2Wax/9QrwvQB7NRRRQAUUUUAFFFFABRRRQAUUUUAFFFFABRRRQAUUUUAFFFFABRRRQB5h%2B2p8IfFXx8/ZM%2BIfwd8CvajW/EHhS8tdHjvpSlvNdGMmKKVgCVidwqO2DhWY4OMHyLw58Ifjl8ah8eNX8b/BzXvh3J8afDA8P6Pbanqul3U2iJbaQ9st7eGxvJk3yz3cwjWBpiI7RGkMRcIPqyigD5e/4J3/Cv9o/4Y6hq%2Bn/ABP8NeNfD3heHwX4fsLXRPHnjqDXp5vEFuLtdTv7J4bq5FrYSxtYrHBuhUGFytrbDPmbV/4L8SeHv%2BCm3gvxFq3xc8Q67Z6t8HvHD2Gg6rbaclpooXVvCWUtmtrSKdw%2B4Z%2B0Szn5BtK/Nn6Hrxnxx/ykL%2BF//ZGfHn/p28IUAeY/8Eof%2BJaP2ivCbcf2b%2B094q8lfSGT7M6f1r60r5L/AOCdP/Eq/aZ/aq8J9PJ%2BMKaht/6%2BrNHz%2BO2vrSvJyTTLIR7Oa%2B6pUP0DxR97jjE1f%2BfkMPP/AMDwmEf6MKKKK9Y/PwooooAKKKKACiiigAooooAKKKKACiiigAooooAKKKKACiiigAooooAKKKKACiiigAooooAKKKKACiiigAooooAK8Z8cf8pC/hf/ANkZ8ef%2BnbwhXs1eM%2BOP%2BUhfwv8A%2ByM%2BPP8A07eEKAPZqKKKACiiigAooooAK8Z/YP8A%2BSIa5/2Wb4j/APqa63Xs1eM/sH/8kQ1z/ss3xH/9TXW6APZq/Mv/AIKh/tSWPxw8e6z4E0u0Or/DL4M6nbjxBp0QLx%2BNvG8pK6boCheZooXzLcIufljlUgMsbH7J/wCChn7SN3%2Byx%2ByX4q%2BJvh4NJ4juLddJ8HWkS7pLjV7tvJtlRf4yrN5pXusTV8gf8E%2BP2ZNM%2BIvx70DwQsaXvgL9moH%2B1dQDeZH4n%2BJF0iyahes5z5wtCQiM2WQpEVJVq%2BV4gr1cVWhltB6zs383on5JJzl3UYx%2B0z1uF8mwPEXEElmcb5dgYLE4tXt7SKmo0MKn0eKrKMH19lGq7WTZ9Zf8E%2Bv2Tbr9l34Mvd/EC9OqfEjxrdf258SvEExVpLvU5RuaEMOPKh3GNFGF4ZgBvIr3iiivo8LhqWDw8aNJWjFW/wCC%2B7bu2%2BrbYs8zrH8RZvWzLGy5qtWTk7KyXRRilpGEIqMIRVlGEYxSsgooorc8oKKKKACiiigAooooAKKKKACiiigAooooAKKKKACiiigAooooAKKKKACiiigAooooAKKKKACiiigAooooAK8Z/Zf/AOS3/tHf9lmsf/UK8L17NXjP7L//ACW/9o7/ALLNY/8AqFeF6APZqKKKACiiigAooooAKKKKACiiigAooooAKKKKACiiigAooooAKKKKACis3xn4x8K/Dvwfq3xA8c6/a6VomhabPqGsapeyhIbO1hjaSWaRjwqIisxPYA1znwQ/aE%2BFX7RGiahrvwt1jUZl0jUBY6tYa34dvtIvrG4MMU6pPZ38MNxFuhmhlQvGA6So6kqwNAHa14n4%2B1Gyt/8Agox8KNNmuFWe4%2BC/j9oI2PLhdW8H7se4yDj0z6Gu3%2BEn7RPwa%2BO2t%2BMPD3wm8bR6zdeAfE0nh7xWILSdEstSjijkktxJIipMVWRQzRF1VwyFg6Oq/Iv/AAUw%2BLF/8Cv%2BCmn7HfxQ8110r/isdF19h/q0tNRm8PWnmSHsiSyRPn1Va58XiI4Sg6stla/o2lf5XucmOxcMDhpV57K1/RyjG/y5r/I7v9jT/iU/8FLv2ufDJ4Vr7wXqEI/vedpEhc/99ACvrSvkv4Ff8Sb/AILA/HjTen9tfDrwvqGP73krJBn9cV9aVw5NphZx7VKq/wDKjf6n6X4k%2B/nmGrfz4PAy/wDLSnB/jTYUUUV6x%2BfhRRRQAUUUUAFFFFABRRRQAUUUUAFFFFABRRRQAUUUUAFFFFABRRRQAUUUUAFFFFABRRRQAUUUUAFFFFABRRRQAV4z44/5SF/C/wD7Iz48/wDTt4Qr2avGfHH/ACkL%2BF//AGRnx5/6dvCFAHs1FFFABXiH7f3iTxFoXwT0bSNE8V6loFp4k%2BJfhXw/r%2BuaPqElndWenX2tWltcCK5iZXtnmWT7MJkZXj%2B0bkZHCsPb6zfGPgzwf8RPC1/4H%2BIHhTTdd0TVLZrfU9H1ixjurW8hYYaOWKQFJEI6qwINAHyn4Qi/aB8cfsa/Ff4X/Bfx/r2q6j4X%2BK%2BpaB4S1m98VSf2rqOi2uqW7XdhHqlw5k%2B1iI3%2BmxXcsnmJJFGzy70aSuB8BfEnTL74J/FTTPj8vxj0zS/Bvxubw58J/BumfGHUX8U6zczaFpc6aQ2p6dqLSX84v7q/G17yaG3WNhNIEs3aP7Ht/wBmv9nO08Fv8N7X4A%2BCovDsmh/2LJoEfhWzWybTfMaT7EYBH5Zt97u/lY2bnY4ySazfEP7HP7Ivi7wDonwp8V/sr/DjU/C/hmd5vDfhvUfA9hPYaVI4YO9tbvCY4GYO4JRVJDtnqaAE%2BD6fG/4V/so%2BE7b4wWN/49%2BIeh%2BCtOh8UxaBPaLcazqsdvGty0Ml1JbQEtKHbc7xK3XC5C1yf/BOnVr/AF79m6%2B1vVfDF9olzefFv4hzXGj6nJA9zYu3jPWiYZWt5ZYS6E7SY5HTIO1mGCfZPCnhPwr4D8NWPgvwP4Z0/RtH0u1S20zSdJskt7a0gQYSKKKMBI0UAAKoAA6CvHf2Mdd07wt%2Bzh4r8TavN5dpp3xa%2BJl1dSf3Y4/GeuOx/AA0m0ldibUU29j5F/4K0/tFT6x%2B0SNB0BmutM%2BAHhxPEU1tEu8XXjTU8WuhW2wZ3SQeZ9sAHVFlHavtH9hb9m%2Bz/ZP/AGVfB/wWEKf2lY6Wlx4juVO5rrVJv3t1KzdXzKzAEknaqjoBX50fsK%2BFtS/a9/aJ%2BG7%2BLk%2B1XWt%2BIdS%2BOHxWJG5EnFzJZaBp4J/hiCmZYyP9XctgYFfrlXyfD0Xj8XWzKf2naPktG/ujyR9eY%2BqipZN4dYHDPSvmcnmFZdVSalRwNN/4aEatez%2B1XTtfUKKKK%2BtPlgooooAKKKKACiiigAooooAKKKKACiiigAooooAKKKKACiiigAooooAKKKKACiiigAooooAKKKKACiiigAooooAK8Z/Zf/5Lf%2B0d/wBlmsf/AFCvC9ezV4z%2By/8A8lv/AGjv%2ByzWP/qFeF6APZqKKKACiiigAooooAKKKKACiiigAooooAKKKKACiiigAooooAKKKKAPMP21PhD4q%2BPn7JnxD%2BDvgV7Ua34g8KXlro8d9KUt5roxkxRSsASsTuFR2wcKzHBxg%2BYfDXwJ%2B0t458S/Gb4izfD/AF34Ra18VNJt9L8KX2pyaRqs/heSx0swxandw2l%2B8UzvdXMpjhikkDR2aGVoTJtX6eooA%2BW/%2BCdX7Kv7Qf7LXjj4s6N8VdY8IXXhnU9Z0MeDJPC3hafTRdQ2ug2FlJOVn1W/lA3W/lFZSJHkhlmLssyqvk//AAU//Zd8V/GD4oanoL/FbxJr9xqX7P8A471fwroN/backGiXlhrHhC7ijsntbSG4JleNUJuJZm6bSoLZ%2B/K8Y8dKr/8ABQn4YI6gg/Bjx4CCOv8AxNvCFYYrDwxWGnRntJNP5pr%2BvQ5sZhaeNwlTD1PhnFxfzTX63%2BR8v/Cb4/rY/td/Az9uLxG8TeFv2h/hLZ%2BDNR1BPlTS/E0MnnpE56ESyiSBBjO5GPAWv0Hr86PgL%2BzNZfGD9mb9of8A4Jf3l2LHV/hb8Rrm9%2BHV0XKPpcF2TqOjzqw5TMnm7iv8EjAda%2Bqv%2BCfH7Td9%2B1T%2BzJpHjbxZbG08X6NNLoPj3S5FCyWWtWhEdyrKPubjtlC9llA6g18/kWIqQl7KrvUTmv8AHF8lWPylFTXlJ9j7yeIlxf4bZbnv/MRg4xwWJS/ue0%2Br1bdpJVqEn/PTh1me20UUV9OfGBRRRQAUUUUAFFFFABRRRQAUUUUAFFFFABRRRQAUUUUAFFFFABRRRQAUUUUAFFFFABRRRQAUUUUAFFFFABRRRQAV4z44/wCUhfwv/wCyM%2BPP/Tt4Qr2avGfHH/KQv4X/APZGfHn/AKdvCFAHs1FFFABRRRQAUUUUAFfEnxH%2BI3/Cqv8Agkh8ePGCz%2BVJ/wAJj8UrC3lzgpLeeM9atIyPcPOuPfFfbdfln/wUd%2BIqeDf%2BCUOq%2BFCplHin9p7xrZ3NunJe3g8a6/fSEj0BtUz9RXl55iPquTYir2hL72rL8zhzOnia%2BAqUMOr1KiVOC7zquNKC%2Bc6sUevf8ECfgu3h79la9/aM1wibUviBexWunzsgDpo%2Bkx/2dZxsOzZhnY44O5Tivu6vDv8Agmj4K/4V/wDsAfCDw4YfLZvAWn3kqYwVe5iFywPvumOfevcaWR4ZYTJ6FNfyRb9WlJ/iz7zjyvTrcYY2nRf7qjN0KflSw6WHpJdLKnQjt1cn1CiiivVPkQooooAKKKKACiiigAooooAKKKKACiiigAooooAKKKKACiiigAooooAKKKKACiiigAooooAKKKKACiiigAooooAK8Z/Zf/5Lf%2B0d/wBlmsf/AFCvC9ezV4z%2By/8A8lv/AGjv%2ByzWP/qFeF6APZqKKKACiiigAooooAKKKKACiiigAooooAKKKKACiiigAooooAKKKKACio729s9Os5dQ1C7igt4ImknnmkCpGijLMzHgAAEknpXM%2BAfjp8Efit4Cn%2BKnwu%2BMfhXxJ4XtjMLnxJoHiG2vLCLyRmXdcQu0a7By2W%2BUdcUAdVXjPjj/AJSF/C//ALIz48/9O3hCu%2B%2BE/wAcPgt8etAm8V/Az4v%2BF/Gml290ba41Lwn4gttRt4pgqsYmkt3dVcKynaTnDA9xXA%2BOP%2BUhfwv/AOyM%2BPP/AE7eEKAPJ/2wfh/8Z/2VP2hpv%2BCj/wCzz4dl8UabcaFb6X8YvANvEPtN/ptuSY9Ssz1NxAhwUPDIvb5iOGufHWufArxtqf8AwU8/Yosk%2BJHwX%2BKMFtffFPwfosZGo6bcQqUfVbSMnmVRu%2B0QMA24MW4%2BeL73r5A%2BIf7F/wC0N%2By38Sdc/aE/4Jta/pMVtr939u8YfBTxCBHpGsXGMPPZSgj7DcMO3EbHG4hVCV81mOX1qM3Woczjzc1o6yhPrOCfxRktKlPrvHW6NeHc/wAdwNmdbEUsOsVgsSnHE4Z396Lak5QaakpKUVNOD56dSKqU1K9SnU%2BlPgp8bvhb%2B0T8NtN%2BLnwa8Y2muaBqsW%2B1vbRuh/ijdT80cinhkYBlPBArq6/MHwB4x8N3nxo1bxd%2BxH8Qj%2Bz38bru7Enjj9nT4pw%2BRofiS6x963GFUSSclZrfDMMHZEGZj9PfBL/gp98NtY8XxfAz9rfwlefBb4mIRG/h/wAXyhbDUWzjzLG/4huI2OAuWUknau/Ga2wOe4erFRxDUZbcy%2BCT7JuzjLvCajJPRc259rPhXAcR4KebcG1/ruGV3Okv97w63ca1FLmlGGzrUoyg0k5wottH1BRSKyuodGBBGQQeCKWvfPhQooooAKKKKACiiigAooooAKKKKACiiigAooooAKKKKACiiigAooooAKKKKACiiigAooooAKKKKACiiigArxnxx/ykL%2BF//ZGfHn/p28IV7NXjPjj/AJSF/C//ALIz48/9O3hCgD2aiiigAr5%2B/wCClx0wfs12v/CaeX/whX/CwvC//CyPtH/Hv/wj39s2n237Vnj7H5f/AB87v3f2bz/M/d76%2BgaKAPgvwRafC/x9%2BwF8Wvhf8P8A4y%2BCvC3gSPx3qWreAm1bWo7XRD4Rh1iKR4nZG/c6HdTwahZiaMGEWsx8oNGEU%2BTfDqX4YXel6Zqv7TugfC3Sf2Ybz9obWJNF03S72O58AQWw8H2qWwjnuIILefTzq6auySvDHA9%2BytGu425P6m0UAeDfsQ3fxisv%2BCe3w8vLXQRqnidPBVsdH0/xnq1xYNPb4/0Nby4%2Bz3E8Un2byd7NDJJvzvXdur8uf%2BCkfjzxrq/wC8B/DzWdGsrbV7b4gfF7WfEmkaVqL3kEM9z401HTYVhmkihaZFmuJgrtFGWAzsU8D9v6/C/xs0nxt/byuPA0RM0Ol/tA3Hge7gzlUS/%2BIfiHWJHI9kgXPtivluMZSeSujHepKMfvd/8AI9/g2hSxfH%2BSUKivB4yjOS6OGHdTFzv5cuF/E/bj4e%2BFLfwH4B0PwPaY8rRtHtrGLb02wxLGMfgtbFFFfURioRUVsjxK1WpiK0qtR3lJtt92223822FFFFMzCiiigAooooAKKKKACiiigAooooAKKKKACiiigAooooAKKKKACiiigAooooAKKKKACiiigAooooAKKKKACiiigArxn9l//kt/7R3/AGWax/8AUK8L17NXjP7L/wDyW/8AaO/7LNY/%2BoV4XoA9mooooAKKKKACiiigAooooAKKKKACiiigAooooAKKKKACiiigAooooA8i/b7%2BH3jT4rfsUfFP4cfDzRpdT1nWfA2o2tlpEDhX1MtA26zUsQoM67oRuIX95yQMmvOP2d/GulTfFL41/HGb4Q%2BO9N8GeL47CXR9G1T4Y6ta3eqvpmjxx31wbCW1WZGkRreziSVEe5NiVhWRVQn6kooA%2BY/%2BCeXiPUPjH4k%2BIf7UPjfwH4t8J%2BKfHEulx3PhDxL8P9W0P%2BwtKtI7hNPtGk1C1gW/vMS3ElzLAZI43mSFWaOKKSXVv9N%2BK9p/wU28F3njbxp4e1DQrj4PeOD4a07SvDE9nd2CDVvCXmLc3Ml7Ml2TlMFIbcLtOQ24bfoevGfHH/KQv4X/APZGfHn/AKdvCFAHs1FFFAHnn7Qv7J/7Ov7Vnhn/AIRT4/8Awl0jxJbohW2uLuDbdWmephuEKywn/cYZ75r5T%2BL/APwTD/aU8MeDJvAXwU%2BNmh/FTwEpLW/ws%2BP%2BnHUEtRjpZ6pDi5t2A%2BWMLsCcZY8mvu%2BivNxmU4HHNyqRtJq3NHRtdnbSS8pKSOP6lTp46GOw050cRBpxq0pypVYtbNTg4vTpfmR%2BPtt8Y/21P%2BCczfZtL0D4g/DPQLN/n8H/ABHsJfF/gpEH8NprFkDdWaY5WEI/3vnkOK%2BivgF/wX2/Z48WQRaZ%2B0d4PvfBN0Nqz6/otyuuaISxwpae1Blty3Xy5IsqCNxr73dEkUo6hlYYIIyCK8H%2BNX/BMP8AYN%2BP1xLqXxA/Zp8OpqMzb31bQoG0u7MnaRpbRo2dh6vu9814iybO8u/5F%2BJTj/JUWnys3b5cvofZz40zfMFy8Q4WjmL/AOfzTwmL9ZV8PCVKs/PEYWUm9ZVHqz1P4W/Gf4R/HDw6ni34O/EvQ/E%2BmsB/pmh6nFcohP8AC2xjsb1VsEdxXTV%2BdHiz/g3e%2BGnh3xGfHH7K37WnxA%2BHmtI7Pb3byLdmFic4SSBraYDI6l2Pfmtzw/8ACj/gvX%2BzXAYfCvxu%2BGnxp0m2XbbWHitJLe/dR/012wksfWS4fnrxXXSzXNqGmNwcv8VNqovuvGS%2B5ngY3F5Hfmw8cRT/ALtSnCpb0qYebTXnKjD0uffdFfEzf8FRf2sPhBKbX9rD/glf8TNJhtbcPfa38PriLxDaggcvmILHGvsZmx6mr/gj/gvV/wAE3fFbra%2BIfibrnhS6LbXtPEfhS7Dxt3VmtkmRSPdse9dMeIMn5uWdVQfaalB/%2BTxj%2BbPGnmuX06bqVJ8sV1lGcI67XlKnGKv2ck/I%2ByqK8W8F/wDBRv8AYL%2BIAQeGf2vfh8zyf6uC98T29pK3sI52RifbFeqeGfHfgjxrB9q8G%2BMtK1aIjIk0zUYp1x65RjXpUcVhcR/CqRl6ST/Js6KGNwWKX7mrGf8AhlF/lJmrRRRW50hRRRQAUUUUAFFFFABRRRQAUUUUAFFFFABRRRQAUUUUAFFFFABRRRQAUUUUAFeM%2BOP%2BUhfwv/7Iz48/9O3hCvZq8Z8cf8pC/hf/ANkZ8ef%2BnbwhQB7NRRRQAUUVm%2BMPGXhD4eeF7/xx4/8AFem6Houl2zXGp6xrF9HbWtnCoy0ksshCRoB1ZiAKANKiuc034w/CPWfhkPjXo/xT8OXfgw6e9%2BPFttrlvJpn2RAS9x9qVzF5ShWy%2B7aNpyeK566/a8/ZOsfhdB8cL39p/wCHcPgq6vjZW3i%2BXxrYLpc1yNwMC3Zl8ppBsf5A275W44NAHolfjN%2Bxl4EbxJ/wU%2BEk9vxq/wC2F8V9Su8jpDostx9lk%2Bhnu5lHoVNfsjpWq6Xrul22t6JqVveWV5bpPZ3lpMskU8TqGSRHUkMrKQQQcEEEV%2Bbf7AXhXSdS/wCCpGsw6XGzQ%2BGrT4oazeSMQcajf/EjWLcjgcf6PEmO%2BFrwc%2BoKusMn/wA/Yfr%2BkWfbcAYZf25XzF/8wmEx1Vf4pYZ4eL9VLE6H6WUUUV7x8SFFFFABRRRQAUUUUAFFFFABRRRQAUUUUAFFFFABRRRQAUUUUAFFFFABRRRQAUUUUAFFFFABRRRQAUUUUAFFFFABRRRQAV4z%2By//AMlv/aO/7LNY/wDqFeF69mrxn9l//kt/7R3/AGWax/8AUK8L0AezUUUUAFFFFABRRRQAUUUUAFFFFABRRRQAUUUUAFFFFABRRRQAUUUUAFFFFABXjPjj/lIX8L/%2ByM%2BPP/Tt4Qr2avGfHH/KQv4X/wDZGfHn/p28IUAezUUUUAFFFFABRRRQAUUUUAFcZ8U/2c/gD8cLc23xj%2BCnhXxQCu0Prug2906D/ZeRCyn3BBFdnRUVKdOrDlnFNdmk19zTOjC4vF4Gsq2GqSpzW0oylF/fFxf4/efGfxU/4IJ/8E4viUJZdH%2BG%2Bs%2BELiYlmn8LeIZlAb1EVz50S/RUA9q8D8df8G2Gj218mrfCL9phMWzbrfTfE/hRRuPbddWE0Eg%2BoSv1IorwsRwtw/iXeWHin3jeP5NL8D21xRmVRWxlOhil2xGFwtf/AMmqYf2nz9rfs1ufkrJ/wSy/4KXfB%2BQt4T1S61W2i/1CfCn49aroVyVHTP8AaiTRq30yKTf/AMFCvhONvjW7/bR0Dy/vy6cdK8dxRe7Ogh3KO5x0r9a6K5P9U8NS/wB3rTh87r84v8Svr/A2J/33hzDX74epjMI/kqOJqU1/4K/DQ/JrTv28/i34Yu00zxL/AMFi9c8M3LHbFpPxR/ZdW0cH0aaBX/EkivTfBX7Yf7XviXYngD/gqT%2ByZ4jlb/VW3iOGXTZpP%2B2ayK/5Cv0Sv9O0/VbR7DVLGG5gkGJIbiIOjD0IPBrzPxr%2Bw9%2Bxp8Rd7%2BNv2Vfh7qMsn3rmbwhZib8JBGHH4Gj%2BxM1pfw8Rf1lVj%2BUpr8A/szwjxO9HMsK/%2BneNp14r0WIpQlb/ALeb8zw3w/8AEL/gs3qlp9v0K1/ZV8WWw6TeHtc1pdw7fMxKg/pV8/Gf/gsdpX/H/wDsW/CvVcdf7L%2BIzwbvp5yVoeIP%2BCLv/BN3W7v%2B1LD9noaLeg5jvPD3iXUbJ4/91Y7gIP8AvmqH/Do3wNoPzfCz9s79obwft/1dvovxQkMA9mjlifcPbNH1PPafWb/w1ov/ANOUV%2BYf6neHWI/3fiPG0fKthVO3zo1JX9eVegn/AA1X/wAFXNN/4/v%2BCUmmaiB1OnfHPS4vyEsVH/DcH/BQ2y/5DX/BInxHHjr9h%2BK2k3P5bUGaX/hgr9t/w1/yTT/grP47ttv%2BrHinwVpus/mZSmaP%2BFKf8FifC/8AyAv22vhh4p2/d/4Sb4btY7/r9jc4/Ci%2BbQ%2BL269Fh5/lysP%2BIcZdV/3Ti6i/KpCrSfz58FKK/wDAmJ/w8J/a5tP%2BQt/wSg%2BKCY6/Y9csLj/0EjNH/Dyr4523/IS/4JZ/HZfX7LpdtN/KQUv9u/8ABbrw1/yEfAn7OHiaNen9k6nrNnK49/PBUH6cUH9pj/grN4d/5Df/AATM8N%2BIAv3n8P8AxksrbPuBcxk/hR9axcfiq1164eL/APSbh/xCniWf%2B7Z9g6vpicGv/TsaH6Cf8PRfHkH/AB/f8Ewv2lF9fs/gSKX%2BU4pf%2BHrd9D/x%2Bf8ABND9qxfXyfhKJP5XNH/Df37ZWi/8jt/wSd%2BI1vj7/wDYXijT9Tx9PL25o/4eq6ppPy%2BMv%2BCb37TWn4%2B9Na/DRbqFfq6T/wBKPr8l8WNkv8WHt/7aH/EIPE6X8GvCp/gnl8/yxkfyE/4e1aSn/H1/wTx/apg/66/B5h/K5NH/AA9y8HL/AK/9hf8Aaai/66fCKQf%2B16X/AIfIfs22H/I3fB/4yeH8fe/tn4YXibfrs3U6P/gt5/wTbgkEPiD426no8hOBHqvgbV4zn0%2BW1YfrR/aVNb5lBetOC/NoP%2BIN%2BM32MLXn/gwtOp/6bq1Bv/D3n4cL/rv2Nv2jo/8Af%2BEs3/x2j/h8B8I1/wBd%2Byl%2B0HH/AL/won/%2BOVu6V/wWI/4Jp6xj7J%2B1joaZ6farC9g/9GwLiuj0z/gpt/wT51fH2X9sTwAmen2rxFDB/wCjCtbRxjn8OY03/wBu0/8A5YedX8MfFvC/xcJiY%2BuBqfpFnn//AA%2BH%2BBy/679m/wCO8f8Av/Cu5/8AiqT/AIfIfs6p/wAfHwS%2BNUX/AF0%2BF12P5GvYdO/bo/Ym1fA0v9sH4XTk/wAMXj/Tify87Nbun/tMfs4avj%2Byv2gfBF1np9n8V2b5/KQ10RljJ/Djab/7ch%2BlU8mtwh4gYb%2BLGrH/ABYOovzijwH/AIfMfstr/r/hv8W4v%2Bunwyvf6Cj/AIfPfsjLxL4T%2BKCH0b4a3/8A8RX0zYfE34b6rg6X8QdDuc9Ps%2BrQvn8mrXtr2zvU8yzu4pl/vRSBh%2BlbRo5rL4cTB/8AcNfpUPMq5ZxPQdqmIUfWhb85o%2BT/APh9B%2ByF28M/E4nsB8Nb/wD%2BIo/4fNfspt/qPAPxXlPYR/DO%2B5/Na%2BtaKr6vnH/QRH/wUv8A5Mx%2BqZ//ANBcP/BK/wDlh8lf8Pj/ANnWT/j0%2BCXxquPTyfhddnP5kUv/AA%2BB%2BD8nFn%2Byx%2B0Bcenk/Ci4OfzcV9aUUfVs3/6CV/4Kj/8AJh9Tz1/8xkf/AATH9ah8lf8AD3TwRJ/x6fsP/tLXHp5PwjkOfzmFVPgn%2B1tZftS/8FC/Bhsv2e/in4EGhfBnxllviX4POki/87VvCv8Ax7ZkfzdnlfP02%2BZH13cfYFeM%2BOP%2BUhfwv/7Iz48/9O3hCtaGHzCFVSq1%2BaPb2cY3%2Bak2jfDYXNadZSrYpTj1j7KEb/NSbXfY9mooor0D1ArxD9v7w34i134J6Nq2ieFNS1%2B08N/Evwrr/iDQ9H06S8urzTbHWrS5uDFbRK0ly8Kx/aRCitJJ9n2oruVU%2B30UAfCXiPwr408YfsM/Gnw/ovwe8axHxr8SbzxV4a0F/CF/bajp%2BjT65bGTUYbaSFSb5Wgu9Wj05x58jPGssOZmQ%2Bcw/Db4qWt/D8R7y8%2BOWnaNJ8d9c1i1%2BNmmfCiSbxrdwzeErKxS4ufD/wDZMkcUck63FgJf7KjUQ6dbv5aNObtv0zooA8Q/Y58DfFrwb/wT8%2BGnw4sdB0rwH4u0n4caVYQ6dq%2BkT31tpM0VtHGEmthdxyuQq/NH9p3KxIMjYyfkz/giTo3i/Vv2uv2qvFvxA1Ox1DU9A%2BJGp%2BHzqOmac9pbXEreItburpooJJZmhQysrCNpZCoYAuxGT%2BkVfFv/AARm8IPpcH7TPja6ixNrf7XHj%2BON8fegt9XmjT/x8yivOxtN1cVhuym5fdCVvxZ9lwzjYYHIs6b%2BKph6dNf9v4qi5f8AktNp%2BR9pUUUV6J8aFFFFABRRRQAUUUUAFFFFABRRRQAUUUUAFFFFABRRRQAUUUUAFFFFABRRRQAUUUUAFFFFABRRRQAUUUUAFFFFABRRRQAV4z%2By/wD8lv8A2jv%2ByzWP/qFeF69mrxn9l/8A5Lf%2B0d/2Wax/9QrwvQB7NRRRQAUUUUAFFFFABRRRQAUUUUAFFFFABRRRQAUUUUAFFFFABRRRQB49/wAFBz45H7DnxYPw3/tP%2B2P%2BEC1P7P8A2Jv%2B3bPs7%2Bb9m8v5/P8AK8zy9nz79u35sV82fCLxL8PNO%2BGP7T3hr/gnJr/hqDw7qXhaZ/grYeBbq3WwuvEsXh3N4dJSE%2BW4SV9NMpgBVblpd%2BJTLX3pRQB8b/8ABMs/s%2BH4x%2BPf%2BGLTpH/Cp/8AhW/grzP%2BEc2/Yf8AhKt%2Bs/2l5mzj%2B0fsf9kfa9373d5PmfvN9eg3%2BpfFe7/4KbeC7Pxt4L8PafoVv8HvHA8NajpXiee8u79Dq3hLzGubaSyhS0IwmAk1wG3HJXaN30PXzh%2B0fq/xr0f9vD4Tz/A74f8AhbxFqTfCPx2t3aeK/GFzosEcH9qeEiXSW30%2B9Z33bRsMajBJ35AUgH0fRXjP/Ccf8FC/%2BjX/AIM/%2BH41b/5l6P8AhOP%2BChf/AEa/8Gf/AA/Grf8AzL0AezUV4z/wnH/BQv8A6Nf%2BDP8A4fjVv/mXo/4Tj/goX/0a/wDBn/w/Grf/ADL0AezUV846T%2B0d%2B3brHxn1/wCB1v8AsofCRdU8O%2BF9I128uX%2BOuqeRJBqNzqVvCiEeGNxdW0ucsCoADx4LEsF6j/hOP%2BChf/Rr/wAGf/D8at/8y9AHs1FeM/8ACcf8FC/%2BjX/gz/4fjVv/AJl6P%2BE4/wCChf8A0a/8Gf8Aw/Grf/MvQB7NRXjP/Ccf8FC/%2BjX/AIM/%2BH41b/5l65fwD%2B0d%2B3b8RPFfjfwho/7KHwkhuPAfiiLQtVkufjrqgSeeTStP1MPFt8MElPJ1GFSWCnejjGAGYA%2BjqK8Z/wCE4/4KF/8ARr/wZ/8AD8at/wDMvR/wnH/BQv8A6Nf%2BDP8A4fjVv/mXoA9morxn/hOP%2BChf/Rr/AMGf/D8at/8AMvR/wnH/AAUL/wCjX/gz/wCH41b/AOZegD2aivnH4RftHft2/GXwpd%2BL/Dn7KHwktrez8Ua3oUkd78ddUVzPpeq3WmTuNvhhhsaa0kZDnJRlJCnKjqP%2BE4/4KF/9Gv8AwZ/8Pxq3/wAy9AHs1FeM/wDCcf8ABQv/AKNf%2BDP/AIfjVv8A5l6P%2BE4/4KF/9Gv/AAZ/8Pxq3/zL0AezUV4z/wAJx/wUL/6Nf%2BDP/h%2BNW/8AmXrl/gj%2B0d%2B3b8ePgx4Q%2BOPhX9lD4SWul%2BM/C%2Bn67pttqHx11RZ4YLu2juI0kCeGGUOFkAYKzDIOCRzQB9HUV4z/AMJx/wAFC/8Ao1/4M/8Ah%2BNW/wDmXo/4Tj/goX/0a/8ABn/w/Grf/MvQB7NRXjP/AAnH/BQv/o1/4M/%2BH41b/wCZeuX%2BN37R37dvwH%2BDHi/44%2BKv2UPhJdaX4M8L6hrupW2n/HXVGnmgtLaS4kSMP4YVS5WMhQzKMkZIHNAH0dTZIo5kMU0aurDBVhkGvG/%2BE4/4KF/9Gv8AwZ/8Pxq3/wAy9H/Ccf8ABQv/AKNf%2BDP/AIfjVv8A5l6A2PSdV%2BF3wz1zP9t/DrQrzd1%2B1aRDJn/vpTXOan%2Byd%2Byxref7Z/Zp%2BH93nr9q8G2Mmf8AvqI1zP8AwnH/AAUL/wCjX/gz/wCH41b/AOZej/hOP%2BChf/Rr/wAGf/D8at/8y9Yyw%2BHn8UE/VJ/mmejQzfN8L/AxNSH%2BGpUj/wCk1Ik2pf8ABPn9hDVc/bP2NPhdk9Wi8CWEZP4pEDWFqH/BLP8A4J36nn7T%2ByB4JXP/AD76UIf/AEWRWd8Xf2jv27fg14UtPF/iP9lD4SXNveeKNE0KOOy%2BOuqM4n1TVbXTIHO7wwo2LNdxs5zkIrEBjhT1H/Ccf8FC/wDo1/4M/wDh%2BNW/%2BZesJZZls/ioQf8A25H/AORPWo8b8a4f%2BFmmJj6Yiv8A/Lmcbf8A/BHT/gmjqOftH7J%2BiLn/AJ4ahexf%2BgTisi5/4Igf8Ev7h/NT9mQQP2e28Y6zGR%2BAvMV6T/wnH/BQv/o1/wCDP/h%2BNW/%2BZej/AITj/goX/wBGv/Bn/wAPxq3/AMy9YSyTJpb4an/4BH/I9Ol4oeJdFWhnWLX/AHM1v/k2eZf8OSv%2BCfcHGk%2BAfE%2Bn%2Bgs/H%2Bqrj/vq4NA/4Ix/siwf8grxT8T7H0%2ByfEq/GPzc16b/AMJx/wAFC/8Ao1/4M/8Ah%2BNW/wDmXrl/H37R37dvw78V%2BCPCGsfsofCSa48eeKJdC0qS2%2BOuqFIJ49K1DUy8u7wwCE8nTplBUMd7oMYJZZ/sLJemHh8lb8mjb/iK3iW/izjEP/FU5v8A0qMjmv8Ahzx8B4f%2BQb%2B0J8crP0%2By/FO6GPzU0n/DovwFF/yD/wBtX9pK09BbfFuUY/OE16d/wnH/AAUL/wCjX/gz/wCH41b/AOZej/hOP%2BChf/Rr/wAGf/D8at/8y9H9h5R/z5X3yX5TQf8AEVPER75jN%2BsaMv8A0rDSPMf%2BHTdrF/x4/wDBRr9qy39Fi%2BMBx%2BRtqp/BX9lW8/Zk/wCChfgtbr9pj4p/EVda%2BDPjLZ/wszxSNTOn%2BTq3hXP2ciNPL8zzRv67vKj6befWv%2BE4/wCChf8A0a/8Gf8Aw/Grf/MvVDwP4H/as8Y/tWeHPjd8bvhx8PfDOjeGfh74h0OGHwr8Q77Wrq7utSvtEuEZkuNIsUijRNLlBYO7FpUAXGSNqGVZfhqqqUoWkv703%2BDm1%2BB5%2BacfcX53gZ4PHYrnpztdeyw8b2aa96GGpzWqW012d1dP3WiiivQPjwooooAKKKKACvB/%2BCdvhbTPDPwV8XTacG36p8ePiVfXTPjmVvGesL27BUUfhXvFfJX7JXiz9s7T/h74os/hj8A/hhq%2BhJ8afiL/AGfqOvfF3UdNu5l/4TPWSxktotAuUiIbcABM%2BQAcgnaE4ptN9C41KkYSgnpK113s7r7nqfWtFeM/8Jx/wUL/AOjX/gz/AOH41b/5l6P%2BE4/4KF/9Gv8AwZ/8Pxq3/wAy9Mg9morxn/hOP%2BChf/Rr/wAGf/D8at/8y9H/AAnH/BQv/o1/4M/%2BH41b/wCZegD2aivnH4I/tHft2/Hj4MeEPjj4V/ZQ%2BElrpfjPwvp%2Bu6bbah8ddUWeGC7to7iNJAnhhlDhZAGCswyDgkc11H/Ccf8ABQv/AKNf%2BDP/AIfjVv8A5l6APZqK8Z/4Tj/goX/0a/8ABn/w/Grf/MvR/wAJx/wUL/6Nf%2BDP/h%2BNW/8AmXoA9mor5x%2BN37R37dvwH%2BDHi/44%2BKv2UPhJdaX4M8L6hrupW2n/AB11Rp5oLS2kuJEjD%2BGFUuVjIUMyjJGSBzXUf8Jx/wAFC/8Ao1/4M/8Ah%2BNW/wDmXoA9morxn/hOP%2BChf/Rr/wAGf/D8at/8y9H/AAnH/BQv/o1/4M/%2BH41b/wCZegD2aivGf%2BE4/wCChf8A0a/8Gf8Aw/Grf/MvXL/F39o79u34NeFLTxf4j/ZQ%2BElzb3nijRNCjjsvjrqjOJ9U1W10yBzu8MKNizXcbOc5CKxAY4UgH0dRXjP/AAnH/BQv/o1/4M/%2BH41b/wCZej/hOP8AgoX/ANGv/Bn/AMPxq3/zL0AezUV4z/wnH/BQv/o1/wCDP/h%2BNW/%2BZej/AITj/goX/wBGv/Bn/wAPxq3/AMy9AHs1FfOPj79o79u34d%2BK/BHhDWP2UPhJNcePPFEuhaVJbfHXVCkE8elahqZeXd4YBCeTp0ygqGO90GMEsvUf8Jx/wUL/AOjX/gz/AOH41b/5l6APZqK8Z/4Tj/goX/0a/wDBn/w/Grf/ADL0f8Jx/wAFC/8Ao1/4M/8Ah%2BNW/wDmXoA9morxn/hOP%2BChf/Rr/wAGf/D8at/8y9cvq37R37duj/GfQPgdcfsofCRtU8ReF9X12zuU%2BOuqeRHBp1zptvMjk%2BGNwdm1SAqApBCSZKkKGAPo6ivGf%2BE4/wCChf8A0a/8Gf8Aw/Grf/MvR/wnH/BQv/o1/wCDP/h%2BNW/%2BZegD2aivGf8AhOP%2BChf/AEa/8Gf/AA/Grf8AzL0f8Jx/wUL/AOjX/gz/AOH41b/5l6APZqK%2BcdJ/aO/bt1j4z6/8Drf9lD4SLqnh3wvpGu3ly/x11TyJINRudSt4UQjwxuLq2lzlgVAAePBYlgvUf8Jx/wAFC/8Ao1/4M/8Ah%2BNW/wDmXoA9morxn/hOP%2BChf/Rr/wAGf/D8at/8y9H/AAnH/BQv/o1/4M/%2BH41b/wCZegD2aivGf%2BE4/wCChf8A0a/8Gf8Aw/Grf/MvXL%2BAf2jv27fiJ4r8b%2BENH/ZQ%2BEkNx4D8URaFqslz8ddUCTzyaVp%2Bph4tvhgkp5OowqSwU70cYwAzAH0dRXjP/Ccf8FC/%2BjX/AIM/%2BH41b/5l6P8AhOP%2BChf/AEa/8Gf/AA/Grf8AzL0AezV4z%2By//wAlv/aO/wCyzWP/AKhXhej/AITj/goX/wBGv/Bn/wAPxq3/AMy9W/2Vvhz8afB%2BsfFDx38dNA8L6Tqnj74hRa5Z6V4T8S3OrW9raxaDo%2BmKr3FxZWbNI0mnSuVEW0LIg3Mc4APW6KKKACiiigAooooAKKKKACiiigAooooAKKKKACiiigAooooAKKKKACiiigAr5X/ae/a0%2BLnww%2BMfizWvAPh3wfJ4Y%2BD/AIf8P3vjU61pFxNquqW%2Br38qXMFhcR3EaWXkW1nHcZkinFzIUjIh8vzT9UV4z8Z/2Ifhx8bvikfiZrnjnxVpcWo2ukWvi/w1o11app3imDS72S9sYr5ZbeSYLHNNLn7PLAZY5DFMZYwqAA9mooooAKKKKAPmPw5%2B0r8TIf2//FHwf%2BI2seHvCfhtfEFpongyLUfhFrKXXjGAaBBqOIPEbXa6c0sd3c6gBaCF5PLtJgFBZpF%2BnK8r8WfstQeP/jJpHxT8e/G/xrq%2BleHtdj1rQPAFwdMi0ax1CO3eCOcNDZJey7PMkkVJrqSMSPu2fIgX1SgAooooA8X/AOCgvxd%2BOH7P37I/jT49fAK98KR6x4J0K71y6g8YaLc31td2lrbSzPboltdWzJK7IiiQuVQFiUfgV5/48/a0%2BLngv48eLdT8KeHfCEXw88IfGPwj8PvGVnNpFwdb1XVddg0VI9Qhu0uFhjjg/tzSYzFJbyvIkM%2BJY9qCvYf2sf2cbL9rT4Ea9%2Bz7rXxV8U%2BEdJ8T2Utjrl/4QXTvtdzZSxPFNbbr%2B0uo0R1flkRZAVG115zxcH7APg6f4i2fxF8VfHHx9rrHWdJ1zxNo2oS6VFY%2BJ9c0xI0sdWvY7awiZbiIQWmFtmggY2NsXiYx5IB73RRRQAV4v%2B2T8Xfjh8ErXwD4x%2BFl74U/sbUPiZ4c8PeL7HxBotzc3Vza6rrNjpoNnLDdQpbSRrcyyb5EnUlEXZyTXtFeVftXfstv%2B1V4b0LwvP8AH3xv4Gt9C8SWGuo3guHR2e7vbG8gvLNpTqWn3g2xXFvG4WMIG5WTep2gA84/Z5/aV%2BJmt/tVeLfgj8UNX8PeE9Oh8U63b%2BCfCUnwi1nTLnXraF0lN/b61cXf2DUHYyTSyxW0BfkuxXDE/TleS6T%2ByiH%2BMmi/GX4j/tAeO/Gs3he7vLvwnoXiEaTDYaPdXNvJayXES2Gn20sr/Z5p4V8%2BSVUWd9oBII9aoAKKKKAPD/27vi58eP2fvg1q/wAdfhR4x8C2On%2BFtFuby90XxZ4Zvb%2B58Q3uUWz0yzktr2D7PNcSkW6N5V0zSzxBYWPyt5/8Ef2vvjPrnxL8Ff2t4M8JaR8NPG/xP8UfDbwr4a07S5o9X0S/0CHVt889yLhreaCRvD%2BposMdvEY1a2PmSZYD0/8AaV/ZBg/aS8eeCPiBN%2B0D478IXPgG7ub3RbHwxFo09nJeyoI1vJoNT068R54Y/MWGQBTGJ5SPmbIq%2BA/2Gvh74D%2BMtv8AF2H4i%2BLtSg07XdT17RPCGpXNl/ZOla3qMbx6hqkCRWqT%2BfOJ7ssrzPCjX1yY4o/M4APa6KKKACvl/wDa5%2BPH7S/wW%2BImn%2BFNKh8AeNdH8cw61baL8OYvB99JrCWtpod1dyX9xOL14rq2F1Fb20kItYgft8KCYyMiSfUFeHTfsTXEf7R/iv8Aaa0T9qv4l6dq/i3TYdOudLhg8Pz2mn2cMDRw21m1zpMtzbxLK73WxZtrzuXcODtoAZ%2Bwh%2B0H43%2BPfw9vLr4r%2BPtGvvF2nCzbX/Ddl8LtX8I3mgPPbLKILmy1e6nuHBbf5dwAkciodobaTXuleb/A79m7Tvgz4n8SfEPWPil4p8ceKvFcVjb6x4n8XNYLcvaWYm%2By2qRafa2ttHFG1zcuNsIZmuJCzNkY9IoAKKKKAPjn/goJ%2B3H8VP2MPHP9p65ougeMfCL6NqOt2/hWX4c6nZS26abo19qSSf8ACRTXT6ZPd/a9NGyxWBLoRzLKBthaRvXv2aPi78c9W%2BKnjf8AZ6/aOufCmoeJ/COk6HrUeteCtIubCxubHVBeRpEYLm5uXWWK4067Uv5uJEMTbIySorfHX9hLwR%2B05rV1a/H/AOLfjXxR4LuZLiRfhleSabDosUk1jNZM2%2B3so76QCO4mYJLdOgd9235EC9P%2Bz5%2BzNpHwDvNe8RXfxQ8WeOPEfiQ2cereKvGtxZvfS21pEYrW1H2O2t4ViiDysMR72eeV3Z2cmgD0qiiigAr4j/an/bK/az%2BDfxq8QfCjwd4b8OeNdTsNFuNd8MBPgf4gjk0UDUdMtUMLfbnHiaQWOqXHnf2X5TwtCVlEYmEdfbleH69%2BxbqfiXx6fidrX7XPxRm1vT4LyLwbeFNAA8KrdTQyT/ZIxpOydmjgW33Xq3TLEzhSruzkA6r9lj4sP8ZPhHB4svfiZo3iq/h1G6stUvtG8GX3h0W1xFKytazabqFxPdWc8YwrxzOHz821QwFejVw3wD%2BAvh74AeGdT0bSvFOt%2BINR1/XrjW/EniTxHNA17qt/MERp5RbxQwJiOKGJUhijjVIkAUYJPc0AFFFFABRRRQAUUUUAFFFFAFHxR4hsPCXhrUfFeqhza6ZYzXdyIly3lxoXbA7nCmvnP9ib9pP41%2BP/ABTo/gz42eHvBlmPHXwtsviN4Zh8GaVcWg0yO8uCbvT7szXEou5o3ubZ/tiCATtLMTBHtBf6Wu7S1v7WWxvbdJoZo2jmilUMrqRgqQeCCOMV5D%2BzN%2BxX4C/Zg1V9X0D4g%2BLfEstt4YsfDPh0eLL21mGgaFZvI9vptqbe3hLRqZPmlnM1xII4vMmfy1wAexUUUUAFcL%2B1B48%2BIvws/Zo%2BInxO%2BD/hRde8W%2BHPAur6p4W0NrGa6Go6jb2csttbGGBllmEkqInlxsHbdhSCQa7qs7xbol/4l8Mah4f0vxXqOhXN7aSQ2%2BtaQsDXVi7KQJohcRSxF1PIEkbpkfMrDIIB5d%2BxT8Wp/ih8M76y1b4heH9Z1Pw7qq6deaZonww1Pwc%2BhoLaCSKzuNK1S5nuYXCOJFdvLR4pYtiYG9/Yq88%2BA/7O2k/A688S%2BI7n4ieJPGPiTxfqMN54i8U%2BK3sxd3Rht0t4IhHY21tbRRRxoAqxwpks7MWZmY%2Bh0AFFFFAHy5%2B1R%2B1j8UP2cPi944sviVo3hLxF8L7D9nfxf49ttCt9EuE1V20QaWs9tcXMly9vNFOt9OAgtkKhEy75YV2/7M/xf%2BPmqfFzxl%2Bzr%2B0s/hK88UeGPDHh7xLHqvgrSbmxspLLVn1K3W2MNzc3LmWG40i7BlEgWRHiby4zuWoPjH%2Bwr4d%2BOnx1b4y%2BPPjt45l02bwVqfhG%2B%2BHsMGi/2Jd6NqS232%2B0kL6a16RO1pA7OLoOpQhGRGZD0n7O/wCy7of7Pt9rXiOf4oeLfG/iHX7Wwsr/AMT%2BNrm0kvTYWKSLZ2Y%2ByW1vH5URnuHBKGR3uZXd3Zs0Aen0UUUAFfInxr/aX/a28Ga7%2B0B4Et/CvgzxZe%2BAvD/hTxJ8NrHSfh/qd/Oseo6rqUIS8tYrx5dRngXTY51NsLclyQq/KrV9d14XL%2BxR4hi%2BOnjb4/6F%2B2h8VtK1bxvpFjplzY2Vn4Ya0022sri5ns0thLoryfujeXSgzPKXWciTzCqFQDq/2VPi3N8ZfhSPE2o/E7RvFOo2uq3Njq11o/gi/wDDZs7iJvmtZ9M1G4nurSdFK7kmYMQyttVWFek1wnwD%2BAegfAHQtZsdP8W654j1XxN4gl1zxP4m8SS27Xuq38kMMHmyC2hhgjCwW9vCqRRRoqQoAuck93QAUUUUAfG37S37Xf7S37PHxmg%2BG2sp8M/Gt9rcEE3hGHTvC17aS%2BC7zUvEOmeHtIm1OV76YXUU7avOC0S2cjixuljDL5hi9x/ZV%2BL/AMSPiMPH/wAPvjEdEn8VfDTx43hrWdV8NadNZ2Gp%2BZpenatb3ENvNPPJb5tdUt0eNppcSRyYYgjHC23/AATV8JNdfEN/EP7S/wATtZt/iTrx1zWLfUjoXmWepRXEM%2Bn3NtdRaWl0psHt7cWkbzSRRLCgZH5z6x8A/gLofwD8Patptl4v1zxJq3iLXpta8T%2BKPEr2xv8AV76SOKHzphawQQLsggt4ESKKNFjgjULwSQDuqKKKAGXP2n7NJ9j2edsPlebnbuxxnHOM18QfFb9rn9tP4afETXPhtb23gPxnr3hi98NW%2BreOvBHwV1/Vo/DlvqzXj3thLpVnqU93czRw2VjdExTp%2B7uoWlgQGJpPt67hkuLWW3hupIHkjZVniCl4yRgMu4FcjqMgj1Br57%2BDH7AXiD4CfDa4%2BGnw7/bq%2BMUUd1qz6nNrN5ZeE59Qlu5XlkuZ5pn0I/aZJ3l3SSTiR8xpsKAYIB6z8BPiHZfFb4O%2BH/iFYfEDRvFSanp4kfX/AA/pM1haXcgJWQpazzTS2xV1ZGhkkd42VlY7lIHX1yXwL%2BC/hL9n34X6d8KfBVzf3FlYS3VxNfarcia6vru6uZbq6upnCqGlmuJ5pX2qq7pDtVVwo62gAqj4nh8SXPhvULfwbqdjZavJZSrpd5qdg91bQXBQiOSWGOWJpo1bBZFkjLAEB1J3C9Wb4x0G/wDFHha/8O6X4t1LQbm8tXig1rRxAbqxcjiaIXEUsRdTyBJG6HHzKwyKAPh74b/t2fta/GD4p638EvhZpvw%2BTxnptrrt9J4z8V/C7WtDXVNM0i10WVLGXRLy%2BTUNPle78Q7EmnmePyoZLhIXWdAfsb4BfFrTfj58CfBXx10bTZbOz8a%2BEtN160s5n3PBFeWsdwsbEAZKiQAn1FeLav8A8EyPA%2Bta5ffEW7/aU%2BKafEDVkvLXWviTbXukQ6tf6ZdW1rbTaYUTTRZw2xSytGHkW0UqyQLKsocsx%2Bg/Bfg/w18PPB2k%2BAPBmkxafo%2Bh6ZBp%2Bk2EOdltbQxrHFGuecKiqo%2BlAGnRRRQBy/xp1Hxxo3wt1rW/hz4hsdL1awszdQ32oeD73xAiRxkPKBp1jPBc3kjRK6pFDIHLsuFc/I3xb8Jf%2BCiPx%2B8SeNND1PxvceEfAngzUp518QeOLz4GeIprbWL%2BHX7rSES5lW%2BjTwzPJa2lr%2B41RpJYHlWN87AlfbfxM8Ga7498JTeHPDfxS1/wbeSSxvFr/hmKxe7g2sCVVb%2B2uYGDAFSHibgnGDgjxW6/4JzeFNQ8H3Hw21b9pD4m3fhjXNQmv/HmgTXGjiLxhdz3jXVxNfSrpouIvNLLC0dnLaxCGJI1RRu3AH0TRRRQAUUUUAFFFFABRRRQAUUUUAFFFFABRRRQAUUUUAFFFFABRRRQAUUUUAFFFFABRRRQAUUUUAFFFFABRRRQAUUUUAFFFFABRRRQAUUUUAFFFFABRRRQAUUUUAFFFFABRRRQAUUUUAFFFFABRRRQAUUUUAFFFFABRRRQAUUUUAFFFFABRRRQAUUUUAFFFFABRRRQAUUUUAFFFFABRRRQAUUUUAFFFFABRRRQAUUUUAFFFFABRRRQAUUUUAFFFFABRRRQAUUUUAFFFFABRRRQAUUUUAFFFFABRRRQAUUUUAFFFFABRRRQAUUUUAFFFFABRRRQB//Z\">"
            ]
          },
          "metadata": {
            "tags": []
          }
        }
      ]
    },
    {
      "cell_type": "markdown",
      "metadata": {
        "id": "c6p5_U4MmlbE",
        "colab_type": "text"
      },
      "source": [
        "# Submit the MLP with 2 hidden layers\n",
        "Run these cells after training the MLP with 2 hidden layers"
      ]
    },
    {
      "cell_type": "code",
      "metadata": {
        "id": "g4K2QDTEmlbF",
        "colab_type": "code",
        "colab": {}
      },
      "source": [
        "## GRADED PART, DO NOT CHANGE!\n",
        "# Validation loss for MLP\n",
        "grader.set_answer(\"i8bgs\", s.run(loss, {input_X: X_val_flat, input_y: y_val_oh}))\n",
        "# Validation accuracy for MLP\n",
        "grader.set_answer(\"rE763\", accuracy_score(y_val, s.run(classes, {input_X: X_val_flat})))"
      ],
      "execution_count": 45,
      "outputs": []
    },
    {
      "cell_type": "code",
      "metadata": {
        "id": "BgwrJKWLmlbK",
        "colab_type": "code",
        "colab": {
          "base_uri": "https://localhost:8080/",
          "height": 35
        },
        "outputId": "f47cdf2a-0cdf-45a5-fdfd-73b9272eb7c0"
      },
      "source": [
        "# you can make submission with answers so far to check yourself at this stage\n",
        "grader.submit(COURSERA_EMAIL, COURSERA_TOKEN)"
      ],
      "execution_count": 46,
      "outputs": [
        {
          "output_type": "stream",
          "text": [
            "You used an invalid email or your token may have expired. Please make sure you have entered all fields correctly. Try generating a new token if the issue still persists.\n"
          ],
          "name": "stdout"
        }
      ]
    },
    {
      "cell_type": "code",
      "metadata": {
        "id": "Z18ypIIfmlbO",
        "colab_type": "code",
        "colab": {}
      },
      "source": [
        ""
      ],
      "execution_count": null,
      "outputs": []
    }
  ]
}